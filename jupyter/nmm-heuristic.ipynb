{
 "cells": [
  {
   "cell_type": "markdown",
   "metadata": {},
   "source": [
    "## Heuristik\n",
    "\n",
    "Da die Rechenleistung nicht ausreicht um vor jedem Zug den gesamten Spielbaum abzusuchen, gibt es eine maximale Rekursionstiefe, bei der die Suche abgebrochen wird. Wenn diese Rekusionstiefe erreicht wird, muss der Wert des aktuellen Zustands geschätzt werden. Hierfür wird die in diesem Kapitel beschriebene Heuristik verwendet."
   ]
  },
  {
   "cell_type": "code",
   "execution_count": null,
   "metadata": {},
   "outputs": [],
   "source": [
    "import os.path\n",
    "css = \"\"\n",
    "if os.path.isfile(\"style.html\"):\n",
    "    from IPython.core.display import HTML\n",
    "    with open(\"style.html\", \"r\") as file:\n",
    "        css = file.read()\n",
    "HTML(css)"
   ]
  },
  {
   "cell_type": "code",
   "execution_count": null,
   "metadata": {},
   "outputs": [],
   "source": [
    "%run ./nmm-game.ipynb"
   ]
  },
  {
   "cell_type": "markdown",
   "metadata": {},
   "source": [
    "Die Klasse `HeuristicWeights` ist eine Hilfsklasse, dessen Instanzen beim Aufruf von der später definierten Funktion `heuristic` übergeben werden können. In dieser Klasse werden alle Gewichtungen für die einzelnen Eigenschaften eines Zustandes gespeichert. Dadurch wird es ermöglicht künstliche Intelligenzen mit verschiedenen Heuristiken gegeneinander antreten zu lassen, um herauszufinden welche Heuristik den Wert eines Zustandes am genausten abbildet.\n",
    "\n",
    "Eine Instanz der Klasse `HeuristicWeights` besteht aus vier Gewichtungen, eine für jede Eigenschaft:\n",
    "* `stones`: Diese Eigenschaft zählt, wie viele Steine der Spieler auf dem Spielbrett hat.\n",
    "* `stash`: Die Steine auf dem Stapel werden ebenfalls gezählt.\n",
    "* `mills`: Die Anzahl der Mühlen, die ein Spieler auf dem Spielbrett hat, wird durch diese Eigenschaft gezählt.\n",
    "* `possible_mills`: Die Anzahl der möglichen Mühlen, dh. Mühlen bei denen eine Zelle noch frei ist, werden ebenfalls gezählt. (Siehe `findPossibleMills` im Kapitel *Hilfsfunktionen für die Spielimplementierung* für eine genauere Beschreibung einer möglichen Mühle.)"
   ]
  },
  {
   "cell_type": "code",
   "execution_count": null,
   "metadata": {},
   "outputs": [],
   "source": [
    "class HeuristicWeights():\n",
    "    def __init__(self, stones=1, stash=1, mills=4, possible_mills=2):\n",
    "        self.stones = stones\n",
    "        self.stash = stash\n",
    "        self.mills = mills\n",
    "        self.possible_mills = possible_mills"
   ]
  },
  {
   "cell_type": "markdown",
   "metadata": {},
   "source": [
    "Die Funktion `heuristic` berechnet für einen Spieler den geschätzten Wert eines Zuststandes anhand der oben aufgeführten Eigenschaften. Die Funktion hat drei Argumente:\n",
    "\n",
    "* `state` $\\in States$;\n",
    "* `player` $\\in Players$;\n",
    "* optional: `weights` ist eine Instanz der Klasse `HeuristicWeights`. \n",
    "\n",
    "Für die Implementierung werden alle gewichteten Werte der Eigenschaften für die Spieler weiß `w` und schwarz `b`, sowie der maximale Wert für die Eigenschaft errechnet. Damit die Schätzung des Wertes nicht außerhalb des Wertebereiches, gegeben durch die tatsächlichen Werte für gewinnende (`1.0`) und verlierende (`-1.0`) Zustände, liegt, wird das Maximum um eins erhöht und der errechnete Wert durch das Maximum skaliert. Zum Schluss wird das Vorzeichen angepasst, damit der gegebene Spieler berücksichtigt wird."
   ]
  },
  {
   "cell_type": "code",
   "execution_count": null,
   "metadata": {},
   "outputs": [],
   "source": [
    "def heuristic(state, player, weights=HeuristicWeights()):\n",
    "    ((stash_white, stash_black), board) = state\n",
    "    \n",
    "    # Count the stones on the board\n",
    "    white = weights.stones * countStones(state, 'w')\n",
    "    black = weights.stones * countStones(state, 'b')\n",
    "    # Count the stones in the stash\n",
    "    white += weights.stash * stash_white\n",
    "    black += weights.stash * stash_black\n",
    "    # There can be at maximum 9 stones per player, so the maximum is the maximum of the weights times the stones\n",
    "    maximum = 9 * max(weights.stones, weights.stash)\n",
    "    \n",
    "    # Count the mills the player currently has\n",
    "    white += weights.mills * len(findMills(board, 'w'))\n",
    "    black += weights.mills * len(findMills(board, 'b'))\n",
    "    # There can be at maximum 4 mills for each player\n",
    "    maximum += 4 * weights.mills\n",
    "    \n",
    "    # Count the possible mills the player currently has\n",
    "    white += weights.possible_mills * len(findPossibleMills(board, 'w'))\n",
    "    black += weights.possible_mills * len(findPossibleMills(board, 'b'))\n",
    "    # There can be at maximum 8 possible mills for each player\n",
    "    maximum += 8 * weights.possible_mills\n",
    "    \n",
    "    # Substract the player scores and clamp them into (-1;+1)\n",
    "    score = (white - black) / (maximum + 1)\n",
    "\n",
    "    # Select the correct player\n",
    "    return score if player == 'w' else -score"
   ]
  }
 ],
 "metadata": {
  "kernelspec": {
   "display_name": "Python 3",
   "language": "python",
   "name": "python3"
  },
  "language_info": {
   "codemirror_mode": {
    "name": "ipython",
    "version": 3
   },
   "file_extension": ".py",
   "mimetype": "text/x-python",
   "name": "python",
   "nbconvert_exporter": "python",
   "pygments_lexer": "ipython3",
   "version": "3.8.5"
  }
 },
 "nbformat": 4,
 "nbformat_minor": 4
}
