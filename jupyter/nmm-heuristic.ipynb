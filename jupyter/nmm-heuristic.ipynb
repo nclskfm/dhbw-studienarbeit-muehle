{
 "cells": [
  {
   "cell_type": "markdown",
   "metadata": {},
   "source": [
    "## Heuristik"
   ]
  },
  {
   "cell_type": "code",
   "execution_count": null,
   "metadata": {},
   "outputs": [],
   "source": [
    "import os.path\n",
    "css = \"\"\n",
    "if os.path.isfile(\"style.html\"):\n",
    "    from IPython.core.display import HTML\n",
    "    with open(\"style.html\", \"r\") as file:\n",
    "        css = file.read()\n",
    "HTML(css)"
   ]
  },
  {
   "cell_type": "code",
   "execution_count": null,
   "metadata": {},
   "outputs": [],
   "source": [
    "%run ./nmm-game.ipynb"
   ]
  },
  {
   "cell_type": "markdown",
   "metadata": {},
   "source": [
    "Die Funktion `heuristic(s, p)` dient zu einer hilfsweisen Berechnung von Siegwahrscheinlichkeiten anhand der Gegebenheiten. \n",
    "Je höher der Wert ist, umso besser stehen die Siegwahrscheinlichkeiten von `p`.\n",
    "\n",
    "Vorhandene Steine zählen einfach in die Berechnung, vorhandene Mühlen vierfach und mögliche Mühlen doppelt.\n",
    "\n",
    "Der schlechteste mögliche Wert ist -0.9, der beste 0.9."
   ]
  },
  {
   "cell_type": "code",
   "execution_count": null,
   "metadata": {},
   "outputs": [],
   "source": [
    "def heuristic(s, p):\n",
    "    ((sw, sb), board) = s\n",
    "    \n",
    "    # Count stones on the board as well as on the stash\n",
    "    w = countStones(s, 'w') + sw\n",
    "    b = countStones(s, 'b') + sb\n",
    "    # maximal 9 points can be aquired here\n",
    "    maximum = 9\n",
    "    \n",
    "    # adding all score parameters\n",
    "    w += len(findMills(board, 'w')) * 4\n",
    "    b += len(findMills(board, 'b')) * 4\n",
    "    # maximal 4 mills can be placed on one board\n",
    "    maximum += 4 * 4\n",
    "    \n",
    "    # substract the player scores and clamp them into (-1;+1)\n",
    "    score = (w - b) / (maximum + 1)\n",
    "\n",
    "    # select the correct player\n",
    "    return score if p == 'w' else -score"
   ]
  }
 ],
 "metadata": {
  "kernelspec": {
   "display_name": "Python 3",
   "language": "python",
   "name": "python3"
  },
  "language_info": {
   "codemirror_mode": {
    "name": "ipython",
    "version": 3
   },
   "file_extension": ".py",
   "mimetype": "text/x-python",
   "name": "python",
   "nbconvert_exporter": "python",
   "pygments_lexer": "ipython3",
   "version": "3.8.5"
  }
 },
 "nbformat": 4,
 "nbformat_minor": 4
}
