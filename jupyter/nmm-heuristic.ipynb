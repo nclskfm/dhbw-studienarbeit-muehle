{
 "cells": [
  {
   "cell_type": "markdown",
   "metadata": {},
   "source": [
    "## Heuristik"
   ]
  },
  {
   "cell_type": "code",
   "execution_count": null,
   "metadata": {},
   "outputs": [],
   "source": [
    "import os.path\n",
    "css = \"\"\n",
    "if os.path.isfile(\"style.html\"):\n",
    "    from IPython.core.display import HTML\n",
    "    with open(\"style.html\", \"r\") as file:\n",
    "        css = file.read()\n",
    "HTML(css)"
   ]
  },
  {
   "cell_type": "code",
   "execution_count": null,
   "metadata": {},
   "outputs": [],
   "source": [
    "%run ./nmm-game.ipynb"
   ]
  },
  {
   "cell_type": "markdown",
   "metadata": {},
   "source": [
    "Die Funktion `heuristic(s, p)` dient zu einer hilfsweisen Berechnung von Siegwahrscheinlichkeiten anhand der Gegebenheiten. \n",
    "Je höher der Wert ist, umso besser stehen die Siegwahrscheinlichkeiten von `p`.\n",
    "\n",
    "Vorhandene Steine zählen einfach in die Berechnung, vorhandene Mühlen vierfach und mögliche Mühlen doppelt.\n",
    "\n",
    "Der schlechteste mögliche Wert ist -0.9, der beste 0.9."
   ]
  },
  {
   "cell_type": "code",
   "execution_count": null,
   "metadata": {},
   "outputs": [],
   "source": [
    "def heuristic(s, p):\n",
    "    op = opponent(p)\n",
    "    (_, board) = s\n",
    "    # finding possible mills in next states\n",
    "    pPossMills = sum(len(findMills(nB, p)) for (_, nB) in nextStates(s, p))\n",
    "    opPossMills = sum(len(findMills(nB, op)) for (_, nB) in nextStates(s, op))\n",
    "    # adding all score parameters\n",
    "    pScore = countStones(s, p) + len(findMills(board, p)) * 4 + pPossMills * 2\n",
    "    opScore = countStones(s, op) + len(findMills(board, op)) * 4 + opPossMills * 2\n",
    "    # subtracting opponent score from own players score\n",
    "    result = pScore - opScore\n",
    "    # limeting the score to not overwrite real value score\n",
    "    if result > 90:\n",
    "        result = 90\n",
    "    if result < -90:\n",
    "        result = -90\n",
    "    return result / 100"
   ]
  }
 ],
 "metadata": {
  "kernelspec": {
   "display_name": "Python 3",
   "language": "python",
   "name": "python3"
  },
  "language_info": {
   "codemirror_mode": {
    "name": "ipython",
    "version": 3
   },
   "file_extension": ".py",
   "mimetype": "text/x-python",
   "name": "python",
   "nbconvert_exporter": "python",
   "pygments_lexer": "ipython3",
   "version": "3.8.5"
  }
 },
 "nbformat": 4,
 "nbformat_minor": 4
}
