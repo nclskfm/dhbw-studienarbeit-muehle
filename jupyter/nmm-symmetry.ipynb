{
 "cells": [
  {
   "cell_type": "markdown",
   "metadata": {},
   "source": [
    "# Symmetrie\n",
    "Um das Caching noch effektiver zu gestalten, sollen neben Transpositionen auch Symmetrien erkannt werden. In diesem Kapitel werden alle Funktionen, die für die Symmetrieerkennung nötig sind, vorgestellt und implementiert.\n",
    "\n",
    "Zunächst werden Hilfsfunktion definiert, die auf den gegebenen Spielbrettern (`boards`) eine bestimmte Symmetrie anwenden und alle resultierenden Spielbretter in einer Menge (`Set`) zurück geben. Schlussendlich werden alle Symmetrien nacheinander angewandt, damit auch zusammengesetzte Symetrien wie beispielsweise `Rotation um 90°` dann `Spiegelung an der horizontalen Achse` errechnet werden."
   ]
  },
  {
   "cell_type": "code",
   "execution_count": null,
   "metadata": {},
   "outputs": [],
   "source": [
    "from IPython.core.display import HTML\n",
    "with open(\"style.html\", \"r\") as file:\n",
    "    css = file.read()\n",
    "HTML(css)"
   ]
  },
  {
   "cell_type": "code",
   "execution_count": null,
   "metadata": {},
   "outputs": [],
   "source": [
    "%run ./nmm-game-utils.ipynb"
   ]
  },
  {
   "cell_type": "markdown",
   "metadata": {},
   "source": [
    "## Rotation\n",
    "Ein Spielbrett kann um 90°, 180° oder 270° gedreht werden, die resultierenden Spielbretter sind rotationssymmetrisch.\n",
    "\n",
    "Die Eingabe besteht aus einer Menge von Spielbrettern (`boards`), die Ausgabe ist ebenfalls eine Menge, die alle Spielbretter enthält, die rotationssymmetrisch zu der Eingabe sind.\n",
    "Berechnet wird die Ausgabe indem alle Ringe um $k \\in {2, 4, 6}$ Zellen rotiert werden. Durch Aneinanderreihung der letzten $8-k$ Zellen und der ersten $k$ Zellen kommt die Rotation zustande."
   ]
  },
  {
   "cell_type": "code",
   "execution_count": null,
   "metadata": {},
   "outputs": [],
   "source": [
    "def symmetryRotation(boards):\n",
    "    return {\n",
    "        tuple(\n",
    "            board[ring][rotation:] + board[ring][:rotation]\n",
    "            for ring in range(3)\n",
    "        )\n",
    "        for rotation in range(2, 6+1, 2)\n",
    "        for board in boards\n",
    "    }"
   ]
  },
  {
   "cell_type": "markdown",
   "metadata": {},
   "source": [
    "## Spiegelung\n",
    "Bei den Spiegelungen wird an vier Achsen gespiegelt:\n",
    "\n",
    "* die *horizontale* und *vertikale* Achse, sowie\n",
    "* die Diagonale von oben links nach unten rechts (*negative Diagonale*) und die Diagonale von unten links nach oben rechts (*positive Diagonale*).\n",
    "\n",
    "Diese Spiegelungen können einzelnd pro Ring vorgenommen werden, da der äußere Ring bleibt nach der Spiegelung weiterhin der äußere Ring. Gleiches gilt für die anderen Ringe. Alle Spiegelungen lassen sich durch eine Invertierung der Ringe und eine Rotation von $k \\in {0, 2, 4, 6}$ darstellen."
   ]
  },
  {
   "cell_type": "code",
   "execution_count": null,
   "metadata": {},
   "outputs": [],
   "source": [
    "def symmetryHorizontal(boards):\n",
    "    return {\n",
    "        tuple(\n",
    "            tuple(\n",
    "                board[ring][(8-(cell+2))%8]\n",
    "                for cell in range(8)\n",
    "            )\n",
    "            for ring in range(3)\n",
    "        )\n",
    "        for board in boards\n",
    "    }"
   ]
  },
  {
   "cell_type": "code",
   "execution_count": null,
   "metadata": {},
   "outputs": [],
   "source": [
    "def symmetryVertical(boards):\n",
    "    return {\n",
    "        tuple(\n",
    "            tuple(\n",
    "                board[ring][(8-(cell+6))%8]\n",
    "                for cell in range(8)\n",
    "            )\n",
    "            for ring in range(3)\n",
    "        )\n",
    "        for board in boards\n",
    "    }"
   ]
  },
  {
   "cell_type": "code",
   "execution_count": null,
   "metadata": {},
   "outputs": [],
   "source": [
    "def symmetryDiagonalPositive(boards):\n",
    "    return {\n",
    "        tuple(\n",
    "            tuple(\n",
    "                board[ring][(8-(cell+4))%8]\n",
    "                for cell in range(8)\n",
    "            )\n",
    "            for ring in range(3)\n",
    "        )\n",
    "        for board in boards\n",
    "    }"
   ]
  },
  {
   "cell_type": "code",
   "execution_count": null,
   "metadata": {},
   "outputs": [],
   "source": [
    "def symmetryDiagonalNegative(boards):\n",
    "    return {\n",
    "        tuple(\n",
    "            tuple(\n",
    "                board[ring][(8-cell)%8]\n",
    "                for cell in range(8)\n",
    "            )\n",
    "            for ring in range(3)\n",
    "        )\n",
    "        for board in boards\n",
    "    }"
   ]
  },
  {
   "cell_type": "markdown",
   "metadata": {},
   "source": [
    "## Ring-Tausch\n",
    "Da der innere und der äußere Ring über symmetrische Kanten mit dem mittleren Ring verbunden ist, können der äußere und der innere Ringe getauscht werden. Dies funktioniert indem rückwärts über die Ringe iteriert wird."
   ]
  },
  {
   "cell_type": "code",
   "execution_count": null,
   "metadata": {},
   "outputs": [],
   "source": [
    "def symmetryRing(boards):\n",
    "    return {\n",
    "        tuple(\n",
    "            board[ring]\n",
    "            for ring in reversed(range(3))\n",
    "        )\n",
    "        for board in boards\n",
    "    }"
   ]
  },
  {
   "cell_type": "markdown",
   "metadata": {},
   "source": [
    "## Zusammenführung\n",
    "Damit alle möglichen Symmetrien gefunden werden, wird jede Hilfsfunktion einzelnd auf alle vorherigen Spielbretter (`boards`) oder Zustände (`states`) angewandt. Dadurch sind auch zusammengesetzte Symmetrien wie beispielsweise `Rotation um 90°` dann `Spiegelung an der horizontalen Achse` möglich. Mit Hilfe einer Menge wird sichergestellt, dass keine Duplikate zurück gegeben werden."
   ]
  },
  {
   "cell_type": "code",
   "execution_count": null,
   "metadata": {},
   "outputs": [],
   "source": [
    "def findSymmetries(state):\n",
    "    stash, board = state\n",
    "    \n",
    "    boards = { board }\n",
    "    boards |= symmetryRotation(boards)\n",
    "    boards |= symmetryHorizontal(boards)\n",
    "    boards |= symmetryVertical(boards)\n",
    "    boards |= symmetryDiagonalPositive(boards)\n",
    "    boards |= symmetryDiagonalNegative(boards)\n",
    "    boards |= symmetryRing(boards)\n",
    "    \n",
    "    return {\n",
    "        (stash, board)\n",
    "        for board in boards\n",
    "    }"
   ]
  }
 ],
 "metadata": {
  "kernelspec": {
   "display_name": "Python 3",
   "language": "python",
   "name": "python3"
  },
  "language_info": {
   "codemirror_mode": {
    "name": "ipython",
    "version": 3
   },
   "file_extension": ".py",
   "mimetype": "text/x-python",
   "name": "python",
   "nbconvert_exporter": "python",
   "pygments_lexer": "ipython3",
   "version": "3.8.6"
  }
 },
 "nbformat": 4,
 "nbformat_minor": 5
}
