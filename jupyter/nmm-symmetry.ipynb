{
 "cells": [
  {
   "cell_type": "markdown",
   "id": "demonstrated-delivery",
   "metadata": {},
   "source": [
    "# Symmetrie\n",
    "Um das Caching noch effektiver zu gestalten, sollen neben Transpositionen auch Symmetrien erkannt werden. In diesem Kapitel werden alle Funktionen, die für die Symmetrieerkennung nötig sind, vorgestellt und implementiert.\n",
    "\n",
    "Zunächst werden Hilfsfunktion definiert, die auf ein gegebenen Spielbrettern (`boards`) eine bestimmte Symmetrie anwenden alle resultierenden Spielbretter in einer Menge (`Set`) zurück geben. Eine weitere Hilfsfunktion wendet auf Zustände (`states`) eine weitere Symmetrie an.\n",
    "Schlussendlich werden alle Symmetrien nacheinander angewandte, damit auch zusammengesetzte Symetrien wie beispielsweise `Rotation um 90°` dann `Spiegelung an der horizontalen Achse` errechnet werden."
   ]
  },
  {
   "cell_type": "code",
   "execution_count": null,
   "id": "elder-enlargement",
   "metadata": {},
   "outputs": [],
   "source": [
    "import os.path\n",
    "css = \"\"\n",
    "if os.path.isfile(\"style.html\"):\n",
    "    from IPython.core.display import HTML\n",
    "    with open(\"style.html\", \"r\") as file:\n",
    "        css = file.read()\n",
    "HTML(css)"
   ]
  },
  {
   "cell_type": "code",
   "execution_count": null,
   "id": "peaceful-smooth",
   "metadata": {},
   "outputs": [],
   "source": [
    "%run ./nmm-game-utils.ipynb"
   ]
  },
  {
   "cell_type": "markdown",
   "id": "british-mount",
   "metadata": {},
   "source": [
    "## Rotation\n",
    "Ein Spielbrett kann um 90°, 180° oder 270° gedreht werden, die resultierenden Spielbretter sind rotationssymmetrisch.\n",
    "\n",
    "Die Eingabe besteht aus einem einzelnen Spielbrett (`board`), die Ausgabe ist eine Menge, die maximal aus drei Spielbrettern besteht, die rotationssymmetrisch zu der Eingabe sind.\n",
    "Berechnet wird die Ausgabe indem alle Ringe um `k ∈ {2, 4, 6}` Zellen rotiert werden. Durch Aneinanderreihung der letzten `8-k` Zellen und der ersten `k` Zellen kommt die Rotation zustande."
   ]
  },
  {
   "cell_type": "code",
   "execution_count": null,
   "id": "electronic-interview",
   "metadata": {},
   "outputs": [],
   "source": [
    "def symmetryRotation(boards):\n",
    "    return {\n",
    "        tuple(\n",
    "            board[ring][rotation:] + board[ring][:rotation]\n",
    "            for ring in range(3)\n",
    "        )\n",
    "        for rotation in range(2, 6+1, 2)\n",
    "        for board in boards\n",
    "    }"
   ]
  },
  {
   "cell_type": "markdown",
   "id": "simplified-lawrence",
   "metadata": {},
   "source": [
    "## Spiegelung\n",
    "Bei den Spiegelungen wird an vier Achsen gespiegelt:\n",
    "* die *horizontale* und *vertikale* Achse, sowie\n",
    "* die Diagonale von oben links nach unten rechts (*negative Diagonale*) und die Diagonale von unten links nach oben rechts (*positive Diagnonale*).\n",
    "\n",
    "Diese Spiegelungen können einzelnt pro Ring vorgenommen werden, da der äußere Ring bleibt nach der Spiegelung weiterhin der äußere Ring. Gleiches gilt für die anderen Ringe. Alle Spiegelungen lassen sich durch eine Invertierung der Ringe und eine Rotation von `k ∈ {0, 2, 4, 6}` darstellen."
   ]
  },
  {
   "cell_type": "code",
   "execution_count": null,
   "id": "formal-commerce",
   "metadata": {},
   "outputs": [],
   "source": [
    "def symmetryHorizontal(boards):\n",
    "    return {\n",
    "        tuple(\n",
    "            tuple(\n",
    "                board[ring][(8-(cell+2))%8]\n",
    "                for cell in range(8)\n",
    "            )\n",
    "            for ring in range(3)\n",
    "        )\n",
    "        for board in boards\n",
    "    }"
   ]
  },
  {
   "cell_type": "code",
   "execution_count": null,
   "id": "italian-breast",
   "metadata": {},
   "outputs": [],
   "source": [
    "def symmetryVertical(boards):\n",
    "    return {\n",
    "        tuple(\n",
    "            tuple(\n",
    "                board[ring][(8-(cell+6))%8]\n",
    "                for cell in range(8)\n",
    "            )\n",
    "            for ring in range(3)\n",
    "        )\n",
    "        for board in boards\n",
    "    }"
   ]
  },
  {
   "cell_type": "code",
   "execution_count": null,
   "id": "persistent-webcam",
   "metadata": {},
   "outputs": [],
   "source": [
    "def symmetryDiagonalPositive(boards):\n",
    "    return {\n",
    "        tuple(\n",
    "            tuple(\n",
    "                board[ring][(8-(cell+4))%8]\n",
    "                for cell in range(8)\n",
    "            )\n",
    "            for ring in range(3)\n",
    "        )\n",
    "        for board in boards\n",
    "    }"
   ]
  },
  {
   "cell_type": "code",
   "execution_count": null,
   "id": "forty-longitude",
   "metadata": {},
   "outputs": [],
   "source": [
    "def symmetryDiagnoalNegative(boards):\n",
    "    return {\n",
    "        tuple(\n",
    "            tuple(\n",
    "                board[ring][(8-cell)%8]\n",
    "                for cell in range(8)\n",
    "            )\n",
    "            for ring in range(3)\n",
    "        )\n",
    "        for board in boards\n",
    "    }"
   ]
  },
  {
   "cell_type": "markdown",
   "id": "changed-opposition",
   "metadata": {},
   "source": [
    "## Ring-Tausch\n",
    "Da der innere und der äußere Ring über symmetrische Kanten mit dem mittleren Ring verbunden ist, können der äußere und der innere Ringe getauscht werden. Dies funktioniert indem rückwärts über die Ringe iteriert wird."
   ]
  },
  {
   "cell_type": "code",
   "execution_count": null,
   "id": "constant-association",
   "metadata": {},
   "outputs": [],
   "source": [
    "def symmetryRing(boards):\n",
    "    return {\n",
    "        tuple(\n",
    "            board[ring]\n",
    "            for ring in reversed(range(3))\n",
    "        )\n",
    "        for board in boards\n",
    "    }"
   ]
  },
  {
   "cell_type": "markdown",
   "id": "hollow-onion",
   "metadata": {},
   "source": [
    "## Spieler-Tausch\n",
    "Die Spieler können ebenfalls vertauscht werden. Wichtig hierbei ist allerdings, dass auch die Steine im `Stash` getauscht werden. Deshalb muss benötigt diese Hilfsfunktion den gesamten Zustand und nicht nur ein einzelnes Spielbrett.\n",
    "\n",
    "Durch einfaches tauschen des `Stash` und Iteration über alle Zellen, bei der jeder Stein mit dem gegnerischen Stein ausgetauscht wird, lässt sich diese Funktion implementieren."
   ]
  },
  {
   "cell_type": "code",
   "execution_count": null,
   "id": "pleasant-definition",
   "metadata": {},
   "outputs": [],
   "source": [
    "def symmetryPlayer(states):\n",
    "    return {\n",
    "        (\n",
    "            (stash[1], stash[0]),\n",
    "            tuple(\n",
    "                tuple(\n",
    "                    ' ' if cell == ' ' else opponent(cell)\n",
    "                    for cell in ring\n",
    "                )\n",
    "                for ring in board\n",
    "            )\n",
    "        )\n",
    "        for stash, board in states\n",
    "    }"
   ]
  },
  {
   "cell_type": "markdown",
   "id": "increasing-neutral",
   "metadata": {},
   "source": [
    "## Zusammenführung\n",
    "Damit alle möglichen Symmetrien gefunden werden, wird jede Hilfsfunktion einzelnt auf alle vorherigen Spielbretter (`boards`) oder Zustände (`states`) angewandt. Dadurch sind auch zusammengesetzte Symmetrien wie beispielsweise `Rotation um 90°` dann `Spiegelung an der horizontalen Achse` möglich. Mit Hilfe einer Menge wird sichergestellt, dass keine Duplikate zurück gegeben werden.\n",
    "\n",
    "Da nicht alle Symmetrie-Hilfsfunktionen den gesamten Zustand brauchen, werden zunächst einmal alle Funktionen angewandt, die nur das Spielbrett benötigen. Daraufhin wird die letzte Symmetrie angewandt, die Zustände als Eingabe benötigt."
   ]
  },
  {
   "cell_type": "code",
   "execution_count": null,
   "id": "continent-jefferson",
   "metadata": {},
   "outputs": [],
   "source": [
    "def findSymmetries(state):\n",
    "    stash, board = state\n",
    "    \n",
    "    boards = { board }\n",
    "    boards |= symmetryRotation(boards)\n",
    "    boards |= symmetryHorizontal(boards)\n",
    "    boards |= symmetryVertical(boards)\n",
    "    boards |= symmetryDiagonalPositive(boards)\n",
    "    boards |= symmetryDiagnoalNegative(boards)\n",
    "    boards |= symmetryRing(boards)\n",
    "    \n",
    "    states = {\n",
    "        (stash, board)\n",
    "        for board in boards\n",
    "    }\n",
    "    states |= symmetryPlayer(states)\n",
    "    return states"
   ]
  }
 ],
 "metadata": {
  "kernelspec": {
   "display_name": "Python 3",
   "language": "python",
   "name": "python3"
  },
  "language_info": {
   "codemirror_mode": {
    "name": "ipython",
    "version": 3
   },
   "file_extension": ".py",
   "mimetype": "text/x-python",
   "name": "python",
   "nbconvert_exporter": "python",
   "pygments_lexer": "ipython3",
   "version": "3.8.5"
  }
 },
 "nbformat": 4,
 "nbformat_minor": 5
}
