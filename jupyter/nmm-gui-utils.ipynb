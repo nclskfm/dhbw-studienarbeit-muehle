{
 "cells": [
  {
   "cell_type": "code",
   "execution_count": null,
   "metadata": {},
   "outputs": [],
   "source": [
    "import os.path\n",
    "css = \"\"\n",
    "if os.path.isfile(\"style.html\"):\n",
    "    from IPython.core.display import HTML\n",
    "    with open(\"style.html\", \"r\") as file:\n",
    "        css = file.read()\n",
    "HTML(css)"
   ]
  },
  {
   "cell_type": "markdown",
   "metadata": {},
   "source": [
    "# Hilfsfunktionen für die grafische Oberfläche\n",
    "\n",
    "In diesem Notebook werden Hilfsfunktionen und Konstanten definiert, die für das Zeichnen und Spielen auf der grafischen Oberfläche benötigt werden."
   ]
  },
  {
   "cell_type": "code",
   "execution_count": null,
   "metadata": {},
   "outputs": [],
   "source": [
    "import math"
   ]
  },
  {
   "cell_type": "markdown",
   "metadata": {},
   "source": [
    "Da das Spiel in der GUI in einem seperatem Thread läuft, werden Fehler oder Warnungen nicht in der Jupyter-Notebook geloggt. Deswegen wird zu Debugzwecken ein Datei-Logger implementiert. Dieser wird im Rahmen der Arbeit aber nicht weiter erläutert."
   ]
  },
  {
   "cell_type": "code",
   "execution_count": null,
   "metadata": {},
   "outputs": [],
   "source": [
    "import logging\n",
    "\n",
    "logger = logging.getLogger('GUI')\n",
    "logger.setLevel(logging.DEBUG)\n",
    "fh = logging.FileHandler('log.txt')\n",
    "fh.setLevel(logging.DEBUG)\n",
    "formatter = logging.Formatter('%(asctime)s - %(levelname)s - %(message)s')\n",
    "fh.setFormatter(formatter)\n",
    "logger.addHandler(fh)"
   ]
  },
  {
   "cell_type": "markdown",
   "metadata": {},
   "source": [
    "## Konstanten\n",
    "\n",
    "Um eine einheitliche GUI zur Verfügung zu stellen, die auch leicht zu warten ist, werden im Folgenden einige Konstanten definiert."
   ]
  },
  {
   "cell_type": "markdown",
   "metadata": {},
   "source": [
    "### Spieler\n",
    "\n",
    "Die Konstanten dienen dazu, die Strings der Spieler bzw. des leeren Feldes zu definieren."
   ]
  },
  {
   "cell_type": "code",
   "execution_count": null,
   "metadata": {},
   "outputs": [],
   "source": [
    "NO_PLAYER = ' '\n",
    "PLAYER_1 = 'w'\n",
    "PLAYER_2 = 'b'"
   ]
  },
  {
   "cell_type": "markdown",
   "metadata": {},
   "source": [
    "### Brett\n",
    "\n",
    "In der Abbildung sind alle Konstanten für die Zeichenfläche angegeben, um die Bedeutung der einzelnen Konstanten besser zeigen zu können. Zusätzlich sind in der Abbildung alle Farbkonstanten rotmarkiert.\n",
    "\n",
    "![](../images/nmm-constants.svg)"
   ]
  },
  {
   "cell_type": "code",
   "execution_count": null,
   "metadata": {},
   "outputs": [],
   "source": [
    "BOARD_SIZE = 500\n",
    "CANVAS_PADDING = 30\n",
    "ROW_WIDTH = 60\n",
    "PLAYER_PIECE_RADIUS = 12\n",
    "DEFAULT_PIECE_RADIUS = 5\n",
    "\n",
    "DEFAULT_STONE_LINE_WIDTH = 1\n",
    "SELECTED_STONE_LINE_WIDTH = 3\n",
    "POUNDED_STONE_LINE_WIDTH = 5\n",
    "\n",
    "STASH_STONES_SPACING = 5\n",
    "\n",
    "STASH_HEIGHT = ((PLAYER_PIECE_RADIUS * 2 ) * 2) + (STASH_STONES_SPACING) + (CANVAS_PADDING * 2)\n",
    "STASH_WIDTH = ((PLAYER_PIECE_RADIUS * 2 ) * 9) + (STASH_STONES_SPACING * 8) + (CANVAS_PADDING * 2)\n",
    "\n",
    "CANVAS_HEIGHT = BOARD_SIZE\n",
    "CANVAS_WIDTH = 1500\n",
    "\n",
    "STASH_STARTING_POINT_X = BOARD_SIZE\n",
    "STASH_STARTING_POINT_Y = CANVAS_HEIGHT - STASH_HEIGHT\n"
   ]
  },
  {
   "cell_type": "markdown",
   "metadata": {},
   "source": [
    "### Farben\n",
    "\n",
    "Die Farben für das Spiel werden im Folgenden definiert. In der Obigen Abbildung sind diese auch genauer erklärt."
   ]
  },
  {
   "cell_type": "code",
   "execution_count": null,
   "metadata": {},
   "outputs": [],
   "source": [
    "CANVAS_BACKGROUND_COLOR = '#ffffff'\n",
    "BOARD_FOREGROUND_COLOR = '#191919'\n",
    "BOARD_BACKGROUND_COLOR = '#ffffcb'\n",
    "STASH_BACKGROUND_COLOR = '#dedede'\n",
    "PLAYER_1_FILL_COLOR = '#E8E8E8'\n",
    "PLAYER_1_STROKE_COLOR = '#191919'\n",
    "PLAYER_2_FILL_COLOR = '#5c5c5c'\n",
    "PLAYER_2_STROKE_COLOR = '#191919'\n",
    "LAST_MOVED_COLOR = '#61aced'"
   ]
  },
  {
   "cell_type": "markdown",
   "metadata": {},
   "source": [
    "### Text\n",
    "\n",
    "In der GUI gibt es drei verschiedene Textarten:\n",
    "- Spielnachricht (wer spielt gerade oder ob das Spiel beendet ist),\n",
    "- Hinweise (falls zum Beispiel eine ungültige Aktion ausgeführt worden ist) und\n",
    "- Informationen über den letzten Zug der künstlichen Intelligenz.\n",
    "\n",
    "Diese Textarten haben eine eigene Schriftart, -größe und -farbe."
   ]
  },
  {
   "cell_type": "code",
   "execution_count": null,
   "metadata": {},
   "outputs": [],
   "source": [
    "TEXT_X = BOARD_SIZE + CANVAS_PADDING\n",
    "TEXT_Y = CANVAS_PADDING\n",
    "TEXT_MAX_WIDTH = CANVAS_WIDTH - BOARD_SIZE - 2 * CANVAS_PADDING\n",
    "TEXT_VERTICAL_PADDING = 30\n",
    "TEXT_MSG_FONT = '18px sans-serif'\n",
    "TEXT_MSG_COLOR = '#333333'\n",
    "TEXT_HINT_FONT = '14px sans-serif'\n",
    "TEXT_HINT_COLOR = '#c75528'\n",
    "TEXT_INFO_FONT = '14px mono'\n",
    "TEXT_INFO_COLOR = '#333333'"
   ]
  },
  {
   "cell_type": "markdown",
   "metadata": {},
   "source": [
    "### Schatten\n",
    "\n",
    "Um das Spiel dynamischer zu gestalten, haben Spielsteine einen Schatten."
   ]
  },
  {
   "cell_type": "code",
   "execution_count": null,
   "metadata": {},
   "outputs": [],
   "source": [
    "SHADOW_COLOR_ENABLED = '#000000'\n",
    "SHADOW_OFFSET_X_ENABLED = 2\n",
    "SHADOW_OFFSET_Y_ENABLED = 2\n",
    "SHADOW_BLUR_ENABLED = 2\n",
    "\n",
    "SHADOW_COLOR_DISABLED = 'rgba(0, 0, 0, 0)'\n",
    "SHADOW_OFFSET_X_DISABLED = 0\n",
    "SHADOW_OFFSET_Y_DISABLED = 0\n",
    "SHADOW_BLUR_DISABLED = 0"
   ]
  },
  {
   "cell_type": "markdown",
   "metadata": {},
   "source": [
    "### Berechnete Werte\n",
    "\n",
    "Die Koordinaten für die Knoten lassen sich aus den obrigen Konstanten berechnen. Da das Mühlespielbrett horizontal und vertikal identisch ist, werden für die Koordinaten auf der x- und y-Achse die gleichen Werte benötigt, die mit $av$ (für _available values_) bezeichnet werden. Es werden insgesamt sieben Werte $av_0$ bis $av_6$ benötigt, die in der folgenden Abbildung dargestellt werden.\n",
    "\n",
    "![](../images/nmm-av.png)\n",
    "\n",
    "Die Werte lassen sich wie folgt berechnen.\n",
    "\n",
    "$$ av_0 =  CANVAS\\_PADDING $$\n",
    "$$ av_1 =  CANVAS\\_PADDING + ROW\\_WIDTH $$\n",
    "$$ av_2 =  CANVAS\\_PADDING + 2 \\cdot ROW\\_WIDTH $$\n",
    "$$ av_3 =  \\frac{BOARD\\_SIZE}{2}$$\n",
    "$$ av_4 =  BOARD\\_SIZE - (CANVAS\\_PADDING + 2 \\cdot ROW\\_WIDTH) $$\n",
    "$$ av_5 =  BOARD\\_SIZE - (CANVAS\\_PADDING + ROW\\_WIDTH)$$\n",
    "$$ av_6 =  BOARD\\_SIZE - CANVAS\\_PADDING $$"
   ]
  },
  {
   "cell_type": "code",
   "execution_count": null,
   "metadata": {},
   "outputs": [],
   "source": [
    "av = (\n",
    "    math.floor(CANVAS_PADDING),\n",
    "    math.floor(CANVAS_PADDING + ROW_WIDTH),\n",
    "    math.floor(CANVAS_PADDING + 2 * ROW_WIDTH),\n",
    "    math.floor(BOARD_SIZE / 2),\n",
    "    math.floor(BOARD_SIZE - (CANVAS_PADDING + 2 * ROW_WIDTH)),\n",
    "    math.floor(BOARD_SIZE - (CANVAS_PADDING + ROW_WIDTH)),\n",
    "    math.floor(BOARD_SIZE - CANVAS_PADDING)\n",
    ")\n"
   ]
  },
  {
   "cell_type": "markdown",
   "metadata": {},
   "source": [
    "### Koordinaten\n",
    "\n",
    "Die Koordinaten der Knoten sind in dem zweidimensionalen Tupel `coords` definiert. Zuerst wird der Ring definiert, von außen nach innen. Danach die Position im Ring, beginnend von oben links und dann im Uhrzeigersinn. In der Abbildung sind die Knoten mit den Koordinaten dargestellt. Die Werte von den Koordinaten sind die x- und y-Werte auf der Zeichenfläche, definiert in `av`.\n",
    "\n",
    "![](images/nmm-coords.png)"
   ]
  },
  {
   "cell_type": "code",
   "execution_count": null,
   "metadata": {},
   "outputs": [],
   "source": [
    "coords = (\n",
    "    (\n",
    "        (av[0], av[0]),\n",
    "        (av[3], av[0]),\n",
    "        (av[6], av[0]),\n",
    "        (av[6], av[3]),\n",
    "        (av[6], av[6]),\n",
    "        (av[3], av[6]),\n",
    "        (av[0], av[6]),\n",
    "        (av[0], av[3])\n",
    "    ),\n",
    "    (\n",
    "        (av[1], av[1]),\n",
    "        (av[3], av[1]),\n",
    "        (av[5], av[1]),\n",
    "        (av[5], av[3]),\n",
    "        (av[5], av[5]),\n",
    "        (av[3], av[5]),\n",
    "        (av[1], av[5]),\n",
    "        (av[1], av[3])\n",
    "    ),\n",
    "    (\n",
    "        (av[2], av[2]),\n",
    "        (av[3], av[2]),\n",
    "        (av[4], av[2]),\n",
    "        (av[4], av[3]),\n",
    "        (av[4], av[4]),\n",
    "        (av[3], av[4]),\n",
    "        (av[2], av[4]),\n",
    "        (av[2], av[3])\n",
    "    )\n",
    ") "
   ]
  },
  {
   "cell_type": "markdown",
   "metadata": {},
   "source": [
    "## Funktionen zum Zeichnen\n",
    "\n",
    "Die grafische Oberfläche (englisch _graphical user interface_, GUI) wird mit dem Python-Modul ipycanvas aufgebaut. Dieses Modul ermöglicht die Verwendung einer interaktiven Zeichenfläche zum Zeichnen von 2D-Objekten in IPython. Es bringt eine Reihe von Funktionen mit, um einfache Formen zeichnen zu können. Gezeichnet wird auf einem 2D-Canvas-Objekt mit den Startkoordinaten `(0,0)` oben links."
   ]
  },
  {
   "cell_type": "code",
   "execution_count": null,
   "metadata": {},
   "outputs": [],
   "source": [
    "import ipycanvas"
   ]
  },
  {
   "cell_type": "markdown",
   "metadata": {},
   "source": [
    "Die Funktion `toggleShadow` schaltet den Schatten auf einem gegebenen Canvas ein und aus. Sie hat folgende Eingabeparameter:\n",
    "\n",
    "- `c` ist eine Referenz auf ein Canvas-Objekt.\n",
    "- `enable` ist ein boolischer Wert, der angibt, ob Schatten auf dem Canvas `c` ein oder ausgeschaltet werden soll.\n",
    "\n",
    "Wird der Schatten eingeschaltet, werden die Schatteneigenschaften des Canvas mit den oben definierten Konstanten gesetzt. Andernfalls werden die Standardwerte von _ipycanvas_ gesetzt, was bedeutet, der Schatten wird deaktiviert. "
   ]
  },
  {
   "cell_type": "code",
   "execution_count": null,
   "metadata": {},
   "outputs": [],
   "source": [
    "def toggleShadow(c, enable):\n",
    "    c.shadow_color    = SHADOW_COLOR_ENABLED    if enable else SHADOW_COLOR_DISABLED\n",
    "    c.shadow_offset_x = SHADOW_OFFSET_X_ENABLED if enable else SHADOW_OFFSET_X_DISABLED\n",
    "    c.shadow_offset_y = SHADOW_OFFSET_Y_ENABLED if enable else SHADOW_OFFSET_Y_DISABLED\n",
    "    c.shadow_blur     = SHADOW_BLUR_ENABLED     if enable else SHADOW_BLUR_DISABLED"
   ]
  },
  {
   "cell_type": "markdown",
   "metadata": {},
   "source": [
    "Die Funktion `drawCircle` dient zum Zeichnen eines Kreises auf einem Zeichenfeld. Die Funktion hat vier Argumente und drei optionale Parameter:\n",
    "\n",
    "- `c` ist eine Referenz auf ein Canvas-Objekt, auf dem der Kreis gezeichnet werden soll.\n",
    "- `coords` ist die Koordinate des Mittelpunktes des Kreies.\n",
    "- `radius` ist der Radius des Kreises.\n",
    "- `color` gibt die Farbe des Kreises an.\n",
    "- `strokeColor` ist ein optionaler Parameter, der die Farbe der Umrandung angibt. Der Standardwert ist `None`. In dem Fall wird der Kreis nicht umrandet.\n",
    "- `lineWidth` ist ein optionaler Parameter, der die Liniendicke angibt. Der Standardwert ist in der Kontante `DEFAULT_STONE_LINE_WIDTH` definiert.\n",
    "- `useShadow` ist ein optionaler, boolischer Wert. Wenn er gesetzt ist, wird ein Schatten von dem Kreis gemalt. Standardmäßig ist der Wert `False`."
   ]
  },
  {
   "cell_type": "code",
   "execution_count": null,
   "metadata": {},
   "outputs": [],
   "source": [
    "def drawCircle(\n",
    "        c,\n",
    "        coords,\n",
    "        radius,\n",
    "        color,\n",
    "        strokeColor = None,\n",
    "        lineWidth = DEFAULT_STONE_LINE_WIDTH,\n",
    "        useShadow = False):\n",
    "    if useShadow:\n",
    "        toggleShadow(c, True)\n",
    "    c.fill_style = color\n",
    "    c.fill_arc(coords[0], coords[1], radius, 0, 2 * math.pi)\n",
    "    if useShadow:\n",
    "        toggleShadow(c, False)\n",
    "    if strokeColor is not None:\n",
    "        c.line_width = lineWidth\n",
    "        c.stroke_style = strokeColor\n",
    "        c.stroke_arc(coords[0], coords[1], radius, 0, 2 * math.pi)"
   ]
  },
  {
   "cell_type": "markdown",
   "metadata": {},
   "source": [
    "Die Funktion `drawStone` dient zum Zeichnen eines Steines auf einem Zeichenfeld mit Hilfe der Funktion `drawCircle`. Ein Spielstein besteht aus zwei Kreisen und ein leerer Knoten (also wo sich kein Spieler befinden) aus einem Kreis.\n",
    "\n",
    "Die Funktion hat drei Argumente und zwei optionale Parameter:\n",
    "\n",
    "- `c` ist eine Referenz auf ein Canvas-Objekt, auf dem der Stein gezeichnet werden soll;\n",
    "- `coords` ist die Koordinate des Mittelpunktes des Steines;\n",
    "- `player` gibt  den Spieler an;\n",
    "- `selected` ist ein optionaler, boolischer Wert, der angibt, ob ein Spielerstein ausgewählt ist oder nicht. Der Standardwert ist `False`;\n",
    "- `lastMoved` ist ein optionaler, boolischer Wert, der angibt ob der zu zeichnende Spielerstein zuletzt bewegt worden ist. Der Standardwert ist `False`."
   ]
  },
  {
   "cell_type": "code",
   "execution_count": null,
   "metadata": {},
   "outputs": [],
   "source": [
    "def drawStone(c, coords, player, selected = False, lastMoved = False):\n",
    "    if player == NO_PLAYER:\n",
    "        drawCircle(c, coords, DEFAULT_PIECE_RADIUS, BOARD_FOREGROUND_COLOR)\n",
    "    else:\n",
    "        color       = PLAYER_1_FILL_COLOR   if player == PLAYER_1 else PLAYER_2_FILL_COLOR\n",
    "        strokeColor = PLAYER_1_STROKE_COLOR if player == PLAYER_1 else PLAYER_2_STROKE_COLOR\n",
    "        \n",
    "        lineWidth = SELECTED_STONE_LINE_WIDTH if selected else DEFAULT_STONE_LINE_WIDTH\n",
    "        drawCircle(\n",
    "            c,\n",
    "            coords,\n",
    "            PLAYER_PIECE_RADIUS,\n",
    "            LAST_MOVED_COLOR if lastMoved else color,\n",
    "            strokeColor,\n",
    "            lineWidth,\n",
    "            useShadow = True)\n",
    "        drawCircle(\n",
    "            c,\n",
    "            coords,\n",
    "            math.floor(PLAYER_PIECE_RADIUS / 2),\n",
    "            color,\n",
    "            strokeColor,\n",
    "            lineWidth)"
   ]
  },
  {
   "cell_type": "markdown",
   "metadata": {},
   "source": [
    "Die Funktion `drawPoundedStone` dient zum Zeichnen eines geschlagenden Steines auf einem Zeichenfeld. Ein geschlagender Stein wird durch ein Kreuz in der GUI dargestellt.\n",
    "\n",
    "Die Funktion hat drei Argumente:\n",
    "\n",
    "- `c` ist eine Referenz auf ein Canvas-Objekt, auf dem der geschlagende Stein gezeichnet werden soll;\n",
    "- `coords` ist die Koordinate des Mittelpunktes des geschlagenden Steines;\n",
    "- `player` gibt  den Spieler des Steines an."
   ]
  },
  {
   "cell_type": "code",
   "execution_count": null,
   "metadata": {},
   "outputs": [],
   "source": [
    "def drawPoundedStone(c, coords, player):\n",
    "    x, y = coords\n",
    "    offset = int(math.sin(0.25*math.pi) * PLAYER_PIECE_RADIUS)\n",
    "    c.line_width = POUNDED_STONE_LINE_WIDTH\n",
    "    c.stroke_style = PLAYER_1_FILL_COLOR   if player == PLAYER_1 else PLAYER_2_FILL_COLOR\n",
    "    with ipycanvas.hold_canvas(c):\n",
    "        c.stroke_line(x - offset, y - offset, x + offset, y + offset)\n",
    "        c.stroke_line(x - offset, y + offset, x + offset, y - offset)\n",
    "    "
   ]
  },
  {
   "cell_type": "markdown",
   "metadata": {},
   "source": [
    "Die Funktion `drawText` zeichnet einen Text auf einer Zeichenfläche. Die Funktion hat zwei Argumente und zwei optionale Parameter:\n",
    "\n",
    "- `c` ist eine Referenz auf ein Canvas-Objekt, auf dem der Text gezeichnet werden soll.\n",
    "- `msg` ist die Nachricht, die auf dem Canvas geschrieben werden soll.\n",
    "- `hint` ist ein optionaler String, der ein Hinweis oder eine Warnung ist. Standardmäßig ist die Variable auf `None` gesetzt.\n",
    "- `information` ist ein optionales Dictionary. Alle Einträge des Dictionaries werden als Information auf dem Zeichenfeld ausgegeben.\n",
    "\n",
    "Bei jedem Funktionsaufruf wird am Anfang der Inhalt der Zeichenfläche gelöscht, sodass sich immer nur eine Version der Texte auf der Zeichenfläche befindet.  "
   ]
  },
  {
   "cell_type": "code",
   "execution_count": null,
   "metadata": {},
   "outputs": [],
   "source": [
    "def drawText(c, msg, hint = None, information = None):\n",
    "    with ipycanvas.hold_canvas(c):\n",
    "        c.clear()\n",
    "        y = TEXT_Y\n",
    "        c.font = TEXT_MSG_FONT\n",
    "        c.fill_style = TEXT_MSG_COLOR\n",
    "        c.fill_text(msg, TEXT_X, y, max_width = TEXT_MAX_WIDTH)\n",
    "        y += TEXT_VERTICAL_PADDING\n",
    "        if hint is not None:\n",
    "            c.font = TEXT_HINT_FONT\n",
    "            c.fill_style = TEXT_HINT_COLOR\n",
    "            c.fill_text('Hint: ' + hint, TEXT_X, y, max_width = TEXT_MAX_WIDTH)\n",
    "            y += TEXT_VERTICAL_PADDING\n",
    "        if information is not None:\n",
    "            c.font = TEXT_INFO_FONT\n",
    "            c.fill_style = TEXT_INFO_COLOR\n",
    "            c.fill_text('Information from last move:', TEXT_X, y, max_width = TEXT_MAX_WIDTH)\n",
    "            y += TEXT_VERTICAL_PADDING\n",
    "            for (key, value) in information.items():\n",
    "                c.fill_text(f'   {key.ljust(16)} {value}', TEXT_X, y, max_width = TEXT_MAX_WIDTH)\n",
    "                y += TEXT_VERTICAL_PADDING"
   ]
  },
  {
   "cell_type": "markdown",
   "metadata": {},
   "source": [
    "Die Funktion `constructLine` dient zum Konstruieren einer Linie auf einem Zeichenfeld. Die Funktion hat drei Eingabeparameter:\n",
    "\n",
    "- `c` ist eine Referenz auf ein Canvas-Objekt, auf dem die Linie gezeichnet werden soll.\n",
    "- `start` ist die Koordinate des Startpunktes der Linie.\n",
    "- `end` ist die Koordinate des Endpunktes der Linie.\n",
    "\n",
    "Die Funktion aktualisiert einen Pfad auf dem Zeichenfeld, aber sie zeichnet noch nicht den aktualisierten Pfad."
   ]
  },
  {
   "cell_type": "code",
   "execution_count": null,
   "metadata": {},
   "outputs": [],
   "source": [
    "def constructLine(c, start, end):\n",
    "    c.move_to(start[0], start[1])\n",
    "    c.line_to(end[0], end[1])"
   ]
  },
  {
   "cell_type": "markdown",
   "metadata": {},
   "source": [
    "Die Funktion `constructSquare` konstruiert ein Quadrat auf einer Zeichenfläche und lässt es mit Hilfe der Funktion `constructLine` zeichnen. Die Funktion hat zwei Eingabeargumente:\n",
    "\n",
    "- `c` ist eine Referenz auf ein Canvas-Objekt, auf dem das Quadrat gezeichnet werden soll.\n",
    "- `ring` ist ein Acht-Tupel, das die Koordinaten eines Ringes enthält."
   ]
  },
  {
   "cell_type": "code",
   "execution_count": null,
   "metadata": {},
   "outputs": [],
   "source": [
    "def constructSquare(c, ring):\n",
    "    for i in range(4):\n",
    "        start = i * 2\n",
    "        end = (i * 2 + 2) if (i * 2 + 2 <= 6) else 0 \n",
    "        constructLine(c, ring[start], ring[end])"
   ]
  },
  {
   "cell_type": "markdown",
   "metadata": {},
   "source": [
    "Die Funktion `constructCrossLines` konstruiert die Querlinien des Mühlespiels auf einer Zeichenfläche und lässt es mit Hilfe der Funktion `constructLine` zeichnen. Die Funktion hat zwei Eingabeargumente:\n",
    "\n",
    "- `c` ist eine Referenz auf ein Canvas-Objekt, auf dem die Querlinien gezeichnet werden sollen.\n",
    "- `coords` ist ein zweidimensionales Tupel, welches alle Koordinaten des Spielbrettes enthält (vgl. das Kapitel _Koordinaten_ in der GUI)."
   ]
  },
  {
   "cell_type": "code",
   "execution_count": null,
   "metadata": {},
   "outputs": [],
   "source": [
    "def constructCrossLines(c, coords):\n",
    "    for i in range(4):\n",
    "        k = i * 2 + 1\n",
    "        constructLine(c, coords[0][k], coords[2][k])"
   ]
  },
  {
   "cell_type": "markdown",
   "metadata": {},
   "source": [
    "Die Funktion `setupCanvas` erstellt das Canvas-Objekt und zeichnet den Hintergrund des Spielfeldes. Die Funktion hat keine Eingabeparameter und gibt eine Referenz auf das erstellte Canvas-Objekt zurück.\n",
    "\n",
    "Die Zeichenfläche besteht aus einem MultiCanvas-Objekt mit drei Ebenen:\n",
    "\n",
    "- Der Hintergrund, der das Spielbrett mit den Linien darstellt;\n",
    "- Auf der zweiten Ebene wird der Text für das Spiel geschrieben;\n",
    "- Die Spielsteine werden auf der obersten Ebene gezeichnet. "
   ]
  },
  {
   "cell_type": "code",
   "execution_count": null,
   "metadata": {},
   "outputs": [],
   "source": [
    "def setupCanvas():\n",
    "    canvas = ipycanvas.MultiCanvas(3, width = CANVAS_WIDTH, height = CANVAS_HEIGHT)\n",
    "    with ipycanvas.hold_canvas(canvas[0]):\n",
    "        \n",
    "        canvas[0].fill_style = CANVAS_BACKGROUND_COLOR\n",
    "        canvas[0].fill_rect(0, 0, CANVAS_WIDTH, CANVAS_HEIGHT)\n",
    "        \n",
    "        canvas[0].fill_style = BOARD_BACKGROUND_COLOR\n",
    "        canvas[0].fill_rect(0, 0, BOARD_SIZE, BOARD_SIZE)\n",
    "\n",
    "        canvas[0].fill_style = STASH_BACKGROUND_COLOR\n",
    "        canvas[0].fill_rect(STASH_STARTING_POINT_X, STASH_STARTING_POINT_Y, STASH_WIDTH, STASH_HEIGHT)\n",
    "\n",
    "\n",
    "        canvas[0].stroke_style = BOARD_FOREGROUND_COLOR\n",
    "        canvas[0].begin_path()\n",
    "\n",
    "        for i in range(3):\n",
    "            constructSquare(canvas[0], coords[i])\n",
    "\n",
    "        constructCrossLines(canvas[0], coords)\n",
    "        canvas[0].stroke()\n",
    "    \n",
    "    return canvas"
   ]
  },
  {
   "cell_type": "markdown",
   "metadata": {},
   "source": [
    "Die Funktion `updateGui` dient zum Aktualisieren der Zeichenfläche für einen gegebenen Spielzustand. Die Funktion hat zwei Argumente und drei optionale Parameter:\n",
    "\n",
    "- `c` ist eine Referenz auf ein Canvas-Objekt;\n",
    "- `state` ist der Spielzustand, der in der GUI angezeigt werden soll;\n",
    "- `selectedStone` ist eine Koordinate von einem selektierten Stein. Der Standardwert ist `None`. Ist in der Phase 2 oder 3 ein Stein auswählt, kann er mit diesem optionalen Parameter auf der Zeichenfläche hervorgehoben werden;\n",
    "- `movedStone` ist die Koordinate des zuletzt bewegten Steins, um diesen in der GUI entsprechend zu markieren. Der Standardwert ist `None`, was bedeutet, das kein Stein bewegt worden ist;\n",
    "- `poundedStones` ist eine Menge von den geschlagenden Steinen des Gegenspielers. Diese werden in der GUI als ein Kreuz dargestellt. Standardmäßig ist `poundedStones` eine leere Menge, was bedeutet, das kein Stein geschlagen worden ist. "
   ]
  },
  {
   "cell_type": "code",
   "execution_count": null,
   "metadata": {},
   "outputs": [],
   "source": [
    "def updateGui(c, state, selectedStone = None, movedStone = None, poundedStones = set()):\n",
    "    with ipycanvas.hold_canvas(c):\n",
    "        c.clear()\n",
    "        ((stashP1, stashP2), squares) = state\n",
    "\n",
    "        # update pieces on the board\n",
    "        for i in range(len(squares)):\n",
    "            for j in range(len(squares[i])):\n",
    "                drawStone(\n",
    "                    c,\n",
    "                    coords[i][j],\n",
    "                    squares[i][j],\n",
    "                    selected = selectedStone == (i, j),\n",
    "                    lastMoved = movedStone == (i, j))\n",
    "\n",
    "        for (player, (i, j)) in poundedStones:\n",
    "            drawPoundedStone(c, coords[i][j], player)\n",
    "            \n",
    "        # update pieces on the stash\n",
    "\n",
    "        # player 1\n",
    "\n",
    "        x = STASH_STARTING_POINT_X + PLAYER_PIECE_RADIUS\n",
    "        y = STASH_STARTING_POINT_Y + CANVAS_PADDING + PLAYER_PIECE_RADIUS\n",
    "\n",
    "        for i in range(stashP1):\n",
    "            x += 2 * PLAYER_PIECE_RADIUS + STASH_STONES_SPACING\n",
    "            drawStone(c, (x, y), PLAYER_1)\n",
    "\n",
    "        # player 2\n",
    "\n",
    "        x = STASH_STARTING_POINT_X + PLAYER_PIECE_RADIUS\n",
    "        y = STASH_STARTING_POINT_Y + CANVAS_PADDING + 3 * PLAYER_PIECE_RADIUS + STASH_STONES_SPACING\n",
    "\n",
    "        for i in range(stashP2):\n",
    "            x += 2 * PLAYER_PIECE_RADIUS + STASH_STONES_SPACING\n",
    "            drawStone(c, (x, y), PLAYER_2)\n",
    "    "
   ]
  },
  {
   "cell_type": "markdown",
   "metadata": {},
   "source": [
    "## Hilfsfunktionen für das Spielen in der GUI\n",
    "\n",
    "In diesem Kapitel werden Funktionen deklariert, die Hilfsfunktionen für die GUI darstellen, aber unabhängig von dem eigentlichen Spielzustand sind.\n",
    "\n",
    "Zusätzlich werden die Jupyter-Notebooks von dem Minimax- und Alpha-Beta-Pruning-Algorithmus benötigt und hier ausführt."
   ]
  },
  {
   "cell_type": "code",
   "execution_count": null,
   "metadata": {},
   "outputs": [],
   "source": [
    "%run ./nmm-minimax.ipynb\n",
    "%run ./nmm-alpha-beta-pruning.ipynb"
   ]
  },
  {
   "cell_type": "markdown",
   "metadata": {},
   "source": [
    "Die Funktion `getClickedStone` dient zum Ermitteln, ob auf der Zeichenfläche eine Ecke angeklickt worden ist, auf dem ein Stein stehen kann. Die Funktion hat zwei Argumente:\n",
    "\n",
    "- `x` für den Wert auf der horizontalen Achse;\n",
    "- `y` für den Wert auf der vertikalen Achse.\n",
    "\n",
    "Es müssen nicht die genauen Werte für x und y angeklickt werden, sondern es gibt einen Puffer in Höhe des Radius von einem Spielerstein. Falls eine Position für einen Stein angeklickt worden ist, für die jeweilige Koordinate aus dem `coords`-Tupel zurückgegeben. Falls keine Position gefunden worden ist, wird `None` zurückgegeben."
   ]
  },
  {
   "cell_type": "code",
   "execution_count": null,
   "metadata": {},
   "outputs": [],
   "source": [
    "def getClickedStone(x, y):\n",
    "    for value in av:\n",
    "        if value - PLAYER_PIECE_RADIUS <= x <= value + PLAYER_PIECE_RADIUS:\n",
    "            x = value\n",
    "        if value - PLAYER_PIECE_RADIUS <= y <= value + PLAYER_PIECE_RADIUS:\n",
    "            y = value\n",
    "\n",
    "    for i in range(len(coords)):\n",
    "        for j in range(len(coords[i])):\n",
    "            if coords[i][j] == (x, y):\n",
    "                return (i, j)\n",
    "    return None"
   ]
  },
  {
   "cell_type": "markdown",
   "metadata": {},
   "source": [
    "Die Funktion `getChangedStones` ermittelt den zuletzt bewegten Stein eines Spielers und alle geschlagenden Steine des Gegenspielers zwischen zwei Zuständen. Die Funktion hat drei Argumente:\n",
    "\n",
    "- `oldState` ist der Ausgangszustand;\n",
    "- `newState` ist der neue Zustand;\n",
    "- `player` ist der Spieler, den den Zug gespielt hat.\n",
    "\n",
    "Die Funktion gibt ein Zwei-Tupel der Form `<movedStone, poundedStones>` mit\n",
    "- `movedStone` ist die Koordinate des bewegten Steins des Spielers;\n",
    "- `poundedStones` ist eine Menge von Zwei-Tupeln der Form `<op, coord>` mit \n",
    "    - `op` ist der Gegenspieler;\n",
    "    - `coord` ist die Koordinate des geschlagenden Steines;\n",
    "\n",
    "zurück."
   ]
  },
  {
   "cell_type": "code",
   "execution_count": null,
   "metadata": {},
   "outputs": [],
   "source": [
    "def getChangedStones(oldState, newState, player):\n",
    "    (_, oldBoard) = oldState\n",
    "    (_, newBoard) = newState\n",
    "    op = opponent(player)\n",
    "    movedStone = None;\n",
    "    poundedStones = set()\n",
    "    \n",
    "    for i in range(len(oldBoard)):\n",
    "        for j in range(len(oldBoard[i])):\n",
    "            if oldBoard[i][j] != newBoard[i][j]:\n",
    "                if newBoard[i][j] == player:\n",
    "                    movedStone = (i, j)\n",
    "                if oldBoard[i][j] == op:\n",
    "                    poundedStones |= { (op, (i, j)) }\n",
    "    return (movedStone, poundedStones)"
   ]
  }
 ],
 "metadata": {
  "kernelspec": {
   "display_name": "Python 3",
   "language": "python",
   "name": "python3"
  },
  "language_info": {
   "codemirror_mode": {
    "name": "ipython",
    "version": 3
   },
   "file_extension": ".py",
   "mimetype": "text/x-python",
   "name": "python",
   "nbconvert_exporter": "python",
   "pygments_lexer": "ipython3",
   "version": "3.8.5"
  }
 },
 "nbformat": 4,
 "nbformat_minor": 4
}
