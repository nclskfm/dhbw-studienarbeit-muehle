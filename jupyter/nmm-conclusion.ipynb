{
 "cells": [
  {
   "cell_type": "markdown",
   "id": "1891d9ab",
   "metadata": {},
   "source": [
    "# Fazit\n",
    "\n",
    "Das Ziel der Studienarbeit, eine künstliche Intelligenz für das Brettspiel Mühle zu entwickeln, wurde erreicht. Es wurden zwei Algorithmen mit verschiedenen Verbesserungen implementiert, die ein interessantes Spiel gegen Menschen ermöglichen.\n",
    "\n",
    "## Bewertung\n",
    "\n",
    "Um eine möglichst objektive Bewertung der Algorithmen durchzuführen, sollen in diesem Kapitel die Algorithmen *Minimax* und *α-β-Pruning*, sowie mehrere Heuristiken ausprobiert werden. Die dazu benötigten Implementierungen wurden bereits im Kapitel *Turnier* vorgenommen."
   ]
  },
  {
   "cell_type": "code",
   "execution_count": null,
   "id": "de128554",
   "metadata": {},
   "outputs": [],
   "source": [
    "import os.path, struct\n",
    "css = \"\"\n",
    "if os.path.isfile(\"style.html\"):\n",
    "    from IPython.core.display import HTML\n",
    "    with open(\"style.html\", \"r\") as file:\n",
    "        css = file.read()\n",
    "HTML(css)"
   ]
  },
  {
   "cell_type": "markdown",
   "id": "90b08b2d",
   "metadata": {},
   "source": [
    "Das zuvor beschriebene Modul *Turnier* muss geladen werden. Durch das Laden des Moduls werden bereits alle anderen nötigen Module wie *Minimax*, *α-β-Pruning* oder die *Game*-Definition geladen."
   ]
  },
  {
   "cell_type": "code",
   "execution_count": null,
   "id": "c8f65f1f",
   "metadata": {},
   "outputs": [],
   "source": [
    "%run nmm-tournament.ipynb"
   ]
  },
  {
   "cell_type": "markdown",
   "id": "56e99c88",
   "metadata": {},
   "source": [
    "### Minimax vs. α-β-Pruning\n",
    "In dem ersten Experiment sollen die Algorithmen *Minimax* und *α-β-Pruning* gegeneinander antreten. Beide verwenden die selbe Heuristik, welche zufällig ausgewählt wurde. Insgesamt werden zwei Runden à vier Spiele gespielt. Jeder Algorithmus beginnt einmal als der *weiße* Spieler.\n",
    "\n",
    "* *α-β-Pruning* betrachtet 25.000 Zustande pro Zug. Dies dauert in jeder Phase des Spiels ca. 10 Sekunden.\n",
    "* *Minimax* hingegen durchsucht einen Baum mit der Tiefe drei und schaut somit drei Spielzüge in die Zukunft. Dies dauert zu beginn des Spiels ca. 35 Sekunden, in der zweiten Phase hingegen ca. 1-2 Sekunden.\n",
    "\n",
    "Zu erwarten ist, dass *α-β-Pruning* besser als *Minimax* abschneidet, da es die Möglichkeit besitzt Teilbäume abzuschneiden, welche nicht mehr in Frage kommen würden. Außerdem kann *α-β-Pruning* in der zweiten Phase des Spiels aufgrund der *iterativen Tiefensuche* eine größere Rekursionstiefe erreichen."
   ]
  },
  {
   "cell_type": "code",
   "execution_count": null,
   "id": "3724893f",
   "metadata": {},
   "outputs": [],
   "source": [
    "Tournament(\n",
    "    [\n",
    "        lambda: Minimax(\n",
    "            weights    = HeuristicWeights(stones=1, stash=1, mills=4, possible_mills=2),\n",
    "            limit      = 3\n",
    "        ),\n",
    "        lambda: AlphaBetaPruning(\n",
    "            weights    = HeuristicWeights(stones=1, stash=1, mills=4, possible_mills=2),\n",
    "            max_states = 25_000\n",
    "        )\n",
    "    ],\n",
    "    instances_per_round = 4,\n",
    "    name                = \"mm-vs-ab\"\n",
    ").play()"
   ]
  },
  {
   "cell_type": "markdown",
   "id": "610e0ff9",
   "metadata": {},
   "source": [
    "![](images/nmm-mm-vs-ab.png)\n",
    "\n",
    "Die vorherige Vermutung lässt sich mit diesem Ergebnis bestätigen: *α-β-Pruning* schneidet besser ab als *Minimax*. Dennoch ist es überraschend, dass zwei der Spiele im Remis enden und weitere zwei Spiele sogar von Minimax gewonnen werden.\n",
    "\n",
    "Zu dem Gesamtsieg von *α-β-Pruning* hat einerseits der Algorithmus selbst beigetragen, da dadurch weite Teile des Suchbaumes übersprungen werden konnten. Die Verwendung der *iterativen Tiefensuche* hat mit einer festen Suchgröße dazu beigetragen, dass bei gleichbleibender Rechenzeit dynamisch die richtige Rekursionstiefe gewählt werden konnte. Die Erkennung von symmetrischen Zuständen hilft besonders in den ersten Zügen eine große Rekursionstiefe zu erreichen, da hier viele Symmetrien auftauchen. Auch in der letzten fliegenden Phase können ein paar Rechnung damit eingespaart werden."
   ]
  },
  {
   "cell_type": "markdown",
   "id": "280b934b",
   "metadata": {},
   "source": [
    "### Heuristik vs. Heuristik (α-β-Pruning)\n",
    "In dem zweiten Experiment soll unter Verwendung des α-β-Pruning Algorithmus herausgefunden werden, welche Heuristik am besten geeignet ist.\n",
    "Die Anzahl der möglichen Heuristiken ist unendlich groß, da jeder der vier Parameter eine reelle Zahl ist. Aus diesem Grund soll nur ein kleines Experiment durchgeführt werden.\n",
    "Es treten sechs Konfigurationen in 3 Spielen pro Runde an. Dadurch ergibt sich eine Rundenanzahl von 30.\n",
    "\n",
    "Bei diesem Experiment soll die Wichtigkeit der Parameter festgestellt werden, indem alle möglichen Heuristiken mit den Permutationen der Zahlen $1, 2, 3$ gegeneinander antreten. Die Parameter `stones` und `stash` erhalten jedoch immer den gleichen Wert, da sich während der Entwicklung gezeigt hat, dass die Algorithmen besonders in der ersten Phase falsche Entscheidungen treffen, sollten sich diese Parameter unterscheiden. Als positiver Nebeneffekt verringert sich die Größe des Experimentes."
   ]
  },
  {
   "cell_type": "code",
   "execution_count": null,
   "id": "a8bd7484",
   "metadata": {},
   "outputs": [],
   "source": [
    "Tournament(\n",
    "    [\n",
    "        lambda: AlphaBetaPruning(weights=HeuristicWeights(stones=1, stash=1, mills=2, possible_mills=3)),\n",
    "        lambda: AlphaBetaPruning(weights=HeuristicWeights(stones=2, stash=2, mills=1, possible_mills=3)),\n",
    "        lambda: AlphaBetaPruning(weights=HeuristicWeights(stones=3, stash=3, mills=2, possible_mills=1)),\n",
    "        lambda: AlphaBetaPruning(weights=HeuristicWeights(stones=1, stash=1, mills=3, possible_mills=2)),\n",
    "        lambda: AlphaBetaPruning(weights=HeuristicWeights(stones=2, stash=2, mills=3, possible_mills=1)),\n",
    "        lambda: AlphaBetaPruning(weights=HeuristicWeights(stones=3, stash=3, mills=1, possible_mills=2)),\n",
    "    ],\n",
    "    instances_per_round = 3,\n",
    "    name                = \"hr-vs-hr\",\n",
    ").play()"
   ]
  },
  {
   "cell_type": "markdown",
   "id": "c53274f6",
   "metadata": {},
   "source": [
    "Die Rechenzeit für dieses Experiment betrug ca. 12 Stunden. Dabei reichte zwischenzeitlich der Arbeitsspeicher von 32GB nicht aus und das Experiment brach kurzzeitig ab.\n",
    "\n",
    "Die aggregierten Ergebnisse sind in der folgenden Tabelle dargstellt. Die detaillierten Ergebnisse sind in den Dateien `round-hr-vs-hr-{1-30}.txt` zu finden. Die Spalten stellen die *weißen* Spieler dar und die Zeilen die *schwarzen* Spieler. Jede Heuristik hat einmal als *weiß* und einmal als *schwarz* gegen jede andere Heuristik gespielt. Gegen sich selbst wurde nicht gespielt (siehe Diagonale ohne Daten).\n",
    "\n",
    "Der Bezeichner für jede Heurisik ist als Tupel aufgeschrieben, die folgender Definition entspricht:\n",
    "$$\\langle stones, stash, mills, possible\\_mills \\rangle$$\n",
    "Eine Zelle in der Tabelle stellt eine Runde dar und zählt die Anzahl der Spiele in drei Kategorien:\n",
    "$$Weiß\\ gewinnt\\ |\\ Remis\\ |\\ Schwarz\\ gewinnt$$\n",
    "\n",
    "\n",
    "![](images/nmm-hr-vs-hr-rounds.png)\n",
    "\n",
    "Aggregiert ergibt sich aus den Rundenergebnissen folgende Tabelle. Alle Spiele der Heuristiken wurden aufgeschlüsselt in\n",
    "$$Gewonnen\\ |\\ Remis\\ |\\ Verloren $$\n",
    "Für die Punkteberechnung wurde jedes Gewinnen mit $+1$ und jedes Verlieren mit $-1$ bewertet. Ein Remis hat eine Wertung von $0$.\n",
    "\n",
    "![](images/nmm-hr-vs-hr-total.png)\n",
    "\n",
    "Als klare Verlierer sind die Heuristiken zu bewerten, welche den Parameter $possible\\_mills$ größer als die anderen Parameter gewählt haben. Beide haben mehr als die Hälfte der 30 gespielten Spiele verloren und haben somit auch eine sehr negative Punktwertung.\n",
    "\n",
    "Mit einem Punkt Vorsprung gewinnt die Heuristik $\\langle 3,3,2,1 \\rangle$ in der Gesamtwertung. Diese gewichtet $stones$ und $stash$ höher als $mills$, welche wiederum höher als $possible\\_mills$ gewichtet werden. Der zweite Platz $\\langle 2,2,3,1 \\rangle$ verliert nur mit einem Punkt. Auch im direkten Vergleich gewann der erste Platz nur einmal öfter gegen den zweiten Platz.\n",
    "\n",
    "Da diese Werte sehr nah aneinander liegen, können diese kleinen Abweichungen auch durch Zufall entstanden sein. Bei gleich bewerteten Zügen wählt der Algorithmus einen Spielzug zufällig aus."
   ]
  },
  {
   "cell_type": "markdown",
   "id": "78a1e071",
   "metadata": {},
   "source": [
    "## Verbesserungsmöglichkeiten\n",
    "\n",
    "Die Implementierung benötig sehr viel Arbeitsspeicher, was jedoch beim normalen Spielen kein Problem darstellen sollte. Erst wenn zu Testzwecken mehrere Spiele gleichzeitig gespielt werden, macht sich der große Arbeitsspeicherverbrauch bemerkbar. Durch die Verwendung einer Bitmaske könnte der Arbeitsspeicher um ein Vielfaches verringert werden. Diese Änderungen wären jedoch sehr gravierend gewesen.\n",
    "\n",
    "Die Rechenzeit der Algorithmen ist sehr hoch. Dies hängt stark mit dem Arbeitsspeicherverbrauch zusammen, da hierdurch mehr Daten kopiert werden müssen und Berechnungen auf Grund der größeren Datenmengen länger brauchen. Eine Verringerung der Rechenzeit könnte die Algorithmen aus Sicht des Anwenders besser werden lassen, da in der gleichen Zeit mehr Zustände in einer größeren Rekursionstiefe, und damit weitere Züge in der Zukunft, betrachtet werden.\n",
    "\n",
    "Das Lösen dieser Probleme würde eine komplette Neuimplementierung der Algorithmen nötig machen. Im gleichen Zuge könnte dann jedoch eine schnellere, kompilierte Sprache für die Implementierung gewählt werden, beispielsweise *C*, *C++* oder *Rust*."
   ]
  }
 ],
 "metadata": {
  "kernelspec": {
   "display_name": "Python 3",
   "language": "python",
   "name": "python3"
  },
  "language_info": {
   "codemirror_mode": {
    "name": "ipython",
    "version": 3
   },
   "file_extension": ".py",
   "mimetype": "text/x-python",
   "name": "python",
   "nbconvert_exporter": "python",
   "pygments_lexer": "ipython3",
   "version": "3.8.5"
  }
 },
 "nbformat": 4,
 "nbformat_minor": 5
}
