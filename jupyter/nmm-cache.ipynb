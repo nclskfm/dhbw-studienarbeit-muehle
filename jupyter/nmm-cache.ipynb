{
 "cells": [
  {
   "cell_type": "markdown",
   "id": "1891d9ab",
   "metadata": {},
   "source": [
    "# Persistent Cache"
   ]
  },
  {
   "cell_type": "code",
   "execution_count": null,
   "id": "de128554",
   "metadata": {},
   "outputs": [],
   "source": [
    "import os.path, struct, tqdm\n",
    "css = \"\"\n",
    "if os.path.isfile(\"style.html\"):\n",
    "    from IPython.core.display import HTML\n",
    "    with open(\"style.html\", \"r\") as file:\n",
    "        css = file.read()\n",
    "HTML(css)"
   ]
  },
  {
   "cell_type": "markdown",
   "id": "56e99c88",
   "metadata": {},
   "source": [
    "## Cache\n",
    "Die Klasse `Cache` implementiert eine Transpositionstabelle die persistiert werden kann."
   ]
  },
  {
   "cell_type": "code",
   "execution_count": null,
   "id": "69e69230",
   "metadata": {},
   "outputs": [],
   "source": [
    "class Cache:\n",
    "    \n",
    "    def __init__(self, min_limit = 0):\n",
    "        self.min_limit = min_limit\n",
    "        self.max_size = 100_000\n",
    "        self.cache = {}"
   ]
  },
  {
   "cell_type": "markdown",
   "id": "d66c280c",
   "metadata": {},
   "source": [
    "Die Methode `convert_state_to_bytes(state)` konvertiert einen Zustand in ein Byte-Array der Länge 7."
   ]
  },
  {
   "cell_type": "code",
   "execution_count": null,
   "id": "63b87e79",
   "metadata": {},
   "outputs": [],
   "source": [
    "def convert_state_to_bytes(state):\n",
    "    byte_data = ((state[0][0] << 4) | state[0][1]).to_bytes(1,'big')\n",
    "    for player in ['w','b']:\n",
    "        for ring in range(2,-1,-1):\n",
    "            ring_byte = 0\n",
    "            for cell in range(7,-1,-1):\n",
    "                ring_byte <<= 1\n",
    "                if state[1][ring][cell] is player:\n",
    "                    ring_byte |= 1\n",
    "            byte_data += ring_byte.to_bytes(1,'big')\n",
    "    return byte_data"
   ]
  },
  {
   "cell_type": "markdown",
   "id": "67898816",
   "metadata": {},
   "source": [
    "Die Methode `write(...)` schreibt einen Zustand in den Cache. Dabei werden folgende Argumente erwartet:\n",
    "- `state` $\\in States$;\n",
    "- `player` $\\in Player$.\n",
    "- `limit` $\\in \\mathbb{N}_0$;\n",
    "- `value` $\\in \\mathopen[-1.0,1.0\\mathclose]$;\n",
    "- `alpha` $\\in \\mathopen[-1.0,1.0\\mathclose]$;\n",
    "- `beta` $\\in \\mathopen[-1.0,1.0\\mathclose]$;"
   ]
  },
  {
   "cell_type": "code",
   "execution_count": null,
   "id": "147ee6b0",
   "metadata": {},
   "outputs": [],
   "source": [
    "def write(self, state, player: str, limit: int, value: float, alpha: float, beta: float) -> None:\n",
    "    if limit < self.min_limit:\n",
    "        return\n",
    "    state = convert_state_to_bytes(state)\n",
    "    key = state + (player == 'w').to_bytes(1,'big') + limit.to_bytes(1,'big')\n",
    "    value = struct.pack(\"d\", value) + struct.pack(\"d\",alpha) + struct.pack(\"d\",beta)\n",
    "    self.cache[key] = value\n",
    "\n",
    "Cache.write = write\n",
    "del write"
   ]
  },
  {
   "cell_type": "markdown",
   "id": "7989ea94",
   "metadata": {},
   "source": [
    "Die Methode `read(...)` liest einen vorher gespeicherten Zustand aus dem Cache aus. Falls der Zustand nicht vorhanden ist wird `None` zurück gegeben. Folgende Argumente werden erwartet:\n",
    "- `state` $\\in States$;\n",
    "- `player` $\\in Player$.\n",
    "- `limit` $\\in \\mathbb{N}_0$;\n",
    "\n",
    "Zurückgegeben wird ein Tripel bestehend aus:\n",
    "1. `value` $\\in \\mathopen[-1.0,1.0\\mathclose]$;\n",
    "2. `alpha` $\\in \\mathopen[-1.0,1.0\\mathclose]$;\n",
    "3. `beta` $\\in \\mathopen[-1.0,1.0\\mathclose]$;"
   ]
  },
  {
   "cell_type": "code",
   "execution_count": null,
   "id": "149c7728",
   "metadata": {},
   "outputs": [],
   "source": [
    "def read(self, state, player: str, limit: int) -> (float,float,float):\n",
    "    state = convert_state_to_bytes(state)\n",
    "    key = state + (player == 'w').to_bytes(1,'big') + limit.to_bytes(1,'big')\n",
    "    value = self.cache.get(key)\n",
    "    return (\n",
    "        struct.unpack(\"d\", value[:8])[0],\n",
    "        struct.unpack(\"d\", value[8:16])[0],\n",
    "        struct.unpack(\"d\", value[16:24])[0],\n",
    "    ) if value else None\n",
    "\n",
    "Cache.read = read\n",
    "del read"
   ]
  },
  {
   "cell_type": "markdown",
   "id": "1e0a1e14",
   "metadata": {},
   "source": [
    "Die Methode `clean()` prüft ob der Cache seine maximale Größe überschritten hat. Ist dies der Fall wird das minimale Limit um eins erhöht und alle Einträge, deren Limit geringer ist, werden aus dem Cache entfernt."
   ]
  },
  {
   "cell_type": "code",
   "execution_count": null,
   "id": "e3e4e408",
   "metadata": {},
   "outputs": [],
   "source": [
    "def clean(self):\n",
    "    while len(self.cache) > self.max_size:\n",
    "        self.min_limit += 1\n",
    "        pre_len = len(self.cache)\n",
    "        to_delete = []\n",
    "        for key,value in self.cache.items():\n",
    "            limit = int(str(key[8]),16)\n",
    "            if limit < self.min_limit:\n",
    "                to_delete.append(key)\n",
    "        for key in to_delete:\n",
    "            self.cache.pop(key)\n",
    "        print(f\"Increased min_limit to {self.min_limit} and deleted {len(to_delete)} entries. Cache is now {len(self.cache)} entries big.\")\n",
    "\n",
    "Cache.clean = clean\n",
    "del clean"
   ]
  },
  {
   "cell_type": "markdown",
   "id": "78a1b737",
   "metadata": {},
   "source": [
    "Die Methode `save(...)` persistiert den Cache auf dem Dateisystem des Computers. Dafür wird folgender Paramter erwartet:\n",
    "- `path` beschreibt den Pfad zur Cache-Datei im Dateisystem;"
   ]
  },
  {
   "cell_type": "code",
   "execution_count": null,
   "id": "a7b1c3df",
   "metadata": {},
   "outputs": [],
   "source": [
    "def save(self, path: str):\n",
    "    with open(path, \"wb\") as file:\n",
    "        for key,value in tqdm.tqdm(self.cache.items()):\n",
    "            file.write(key)\n",
    "            file.write(value)\n",
    "Cache.save = save\n",
    "del save"
   ]
  },
  {
   "cell_type": "markdown",
   "id": "94be9231",
   "metadata": {},
   "source": [
    "Die Methode `load(...)` lädt einen vorhandenen Cache basierend auf einer Cache-Datei, die sich auf dem Dateisystem des Computers befindet. Dafür wird folgender Paramter erwartet:\n",
    "- `path` beschreibt den Pfad zur Cache-Datei im Dateisystem;"
   ]
  },
  {
   "cell_type": "code",
   "execution_count": null,
   "id": "7bac085b",
   "metadata": {},
   "outputs": [],
   "source": [
    "def load(self, path: str):\n",
    "    if not os.path.isfile(path):\n",
    "        return\n",
    "    with open(path, \"rb\") as file:\n",
    "        while True:\n",
    "            key = file.read(9)\n",
    "            value = file.read(24)\n",
    "            if not key or not value:\n",
    "                break\n",
    "            self.cache[key] = value\n",
    "\n",
    "Cache.load = load\n",
    "del load"
   ]
  }
 ],
 "metadata": {
  "kernelspec": {
   "display_name": "Python 3",
   "language": "python",
   "name": "python3"
  },
  "language_info": {
   "codemirror_mode": {
    "name": "ipython",
    "version": 3
   },
   "file_extension": ".py",
   "mimetype": "text/x-python",
   "name": "python",
   "nbconvert_exporter": "python",
   "pygments_lexer": "ipython3",
   "version": "3.8.5"
  }
 },
 "nbformat": 4,
 "nbformat_minor": 5
}
