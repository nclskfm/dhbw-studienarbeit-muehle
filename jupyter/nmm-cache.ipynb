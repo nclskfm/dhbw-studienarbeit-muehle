{
 "cells": [
  {
   "cell_type": "markdown",
   "id": "1891d9ab",
   "metadata": {},
   "source": [
    "# Persistent Cache"
   ]
  },
  {
   "cell_type": "code",
   "execution_count": null,
   "id": "de128554",
   "metadata": {},
   "outputs": [],
   "source": [
    "import os.path\n",
    "css = \"\"\n",
    "if os.path.isfile(\"style.html\"):\n",
    "    from IPython.core.display import HTML\n",
    "    with open(\"style.html\", \"r\") as file:\n",
    "        css = file.read()\n",
    "HTML(css)"
   ]
  },
  {
   "cell_type": "markdown",
   "id": "56e99c88",
   "metadata": {},
   "source": [
    "## Evaluation der Implementierung\n",
    "Die Klasse `Cache` implementiert eine Transpositionstabelle die persistiert werden kann. Um zu ermitteln wie der Cache implementiert werden soll, wurde ein Geschwindigkeitsvergleich erstellt. Dieser ist im Noteboot `nmm-rote-performance-testing` zu finden. Das Ergebnis dieses Vergleichs hat ergeben, dass ein Python-Dictionary sich gut als Cache eignet.\n",
    "\n",
    "\n",
    "## Cache\n",
    "Die Klasse `Cache` implementiert eine Transpositionstabelle die persistiert werden kann.\n",
    "Der Konstruktor erhält folgenden Parameter: \n",
    "- `max_size` gibt an, wie viele Einträge sich maximal im Cache befinden dürfen, bevor Einträge mit dem geringsten Rekursionslimit entfernt werden.\n",
    "- `path` gibt an, aus welcher Datei der Cache wiederhergestellt werden soll. Ist dieser nicht gesetzt wird ein neuer leerer Cache initiiert."
   ]
  },
  {
   "cell_type": "code",
   "execution_count": null,
   "id": "69e69230",
   "metadata": {},
   "outputs": [],
   "source": [
    "class Cache:\n",
    "    def __init__(self, max_size = 1_000_000, path: str = None):\n",
    "        self.max_size = max_size\n",
    "        self.cache = {}\n",
    "        if path:\n",
    "            self.load(path)"
   ]
  },
  {
   "cell_type": "markdown",
   "id": "0862cd21",
   "metadata": {},
   "source": [
    "Für Entwicklungszwecke wird eine Stringdarstellung für die Klasse `Cache` implementiert. Hierzu wird durch die Funktion `__repr__` ein String zurückgegeben, der alle Parameter der Klasse beinhaltet."
   ]
  },
  {
   "cell_type": "code",
   "execution_count": null,
   "id": "a872b937",
   "metadata": {},
   "outputs": [],
   "source": [
    "def __repr__(self: Cache) -> str:\n",
    "    return f\"Cache(size={len(self.cache)}, max_size={self.max_size})\"\n",
    "\n",
    "Cache.__repr__ = __repr__\n",
    "del __repr__"
   ]
  },
  {
   "cell_type": "markdown",
   "id": "709deb5d",
   "metadata": {},
   "source": [
    "Damit die Zustände und die Werte direkt als Bytes gespeichert und wieder ausgelesen werden können, ist das Paket `struct` nötig. Das Paket `tqdm` ermöglicht eine simple Fortschrittsanzeige."
   ]
  },
  {
   "cell_type": "code",
   "execution_count": null,
   "id": "07f7e210",
   "metadata": {},
   "outputs": [],
   "source": [
    "import struct\n",
    "from tqdm.notebook import tqdm"
   ]
  },
  {
   "cell_type": "markdown",
   "id": "d66c280c",
   "metadata": {},
   "source": [
    "Die Methode `convert_state_to_bytes` konvertiert einen Zustand in ein Byte-Array der Länge 7. Der Zustand wird dabei immer auf den weißen Spieler normiert. Durch die Normierung müssen die Zustände nur noch für einen Spieler gespeichert werden, worduch für die gleiche Menge an effektiv verwendbaren Zuständen nur noch die Hälfte des Speichers benötigt wird.\n",
    "Dabei werden folgende Argumente erwartet:\n",
    "- `state` $\\in States$;\n",
    "- `player` $\\in Player$."
   ]
  },
  {
   "cell_type": "code",
   "execution_count": null,
   "id": "63b87e79",
   "metadata": {},
   "outputs": [],
   "source": [
    "def convert_state_to_bytes(state, player):\n",
    "    players = ['w','b']\n",
    "    if player == 'b':\n",
    "        players = ['b','w']\n",
    "        state = (state[0][::-1],state[1])\n",
    "    byte_data = ((state[0][0] << 4) | state[0][1]).to_bytes(1,'big')\n",
    "    for player in players:\n",
    "        for ring in range(2,-1,-1):\n",
    "            ring_byte = 0\n",
    "            for cell in range(7,-1,-1):\n",
    "                ring_byte <<= 1\n",
    "                if state[1][ring][cell] is player:\n",
    "                    ring_byte |= 1\n",
    "            byte_data += ring_byte.to_bytes(1,'big')\n",
    "    return byte_data"
   ]
  },
  {
   "cell_type": "markdown",
   "id": "67898816",
   "metadata": {},
   "source": [
    "Die Methode `write` schreibt einen Zustand in die Transpositionstabelle. Dabei wird der Zustand auf den weißen Spieler normiert. Es werden folgende Argumente erwartet:\n",
    "- `state` $\\in States$;\n",
    "- `player` $\\in Player$;\n",
    "- `limit` $\\in \\mathbb{N}_0$;\n",
    "- `value` $\\in \\mathopen[-1.0,1.0\\mathclose]$;\n",
    "- `alpha` $\\in \\mathopen[-1.0,1.0\\mathclose]$;\n",
    "- `beta` $\\in \\mathopen[-1.0,1.0\\mathclose]$."
   ]
  },
  {
   "cell_type": "code",
   "execution_count": null,
   "id": "147ee6b0",
   "metadata": {},
   "outputs": [],
   "source": [
    "def write(self: Cache, state, player: str, limit: int, value: float, alpha: float, beta: float) -> None:\n",
    "    state = convert_state_to_bytes(state, player)\n",
    "    key = state + limit.to_bytes(1,'big')\n",
    "    if player == 'b':\n",
    "        value, alpha, beta = -value, -beta, -alpha\n",
    "    value = struct.pack(\"d\", value) + struct.pack(\"d\",alpha) + struct.pack(\"d\",beta)\n",
    "    self.cache[key] = value\n",
    "\n",
    "Cache.write = write\n",
    "del write"
   ]
  },
  {
   "cell_type": "markdown",
   "id": "7989ea94",
   "metadata": {},
   "source": [
    "Die Methode `read` liest einen vorher gespeicherten Zustand aus der Transpositionstabelle aus. Falls der Zustand nicht vorhanden ist wird `None` zurück gegeben. Dabei wird die Normierung auf den weißen Spieler rückgängig gemacht. Folgende Argumente werden erwartet:\n",
    "- `state` $\\in States$;\n",
    "- `player` $\\in Player$;\n",
    "- `limit` $\\in \\mathbb{N}_0$.\n",
    "\n",
    "Zurückgegeben wird ein Tripel bestehend aus:\n",
    "1. `value` $\\in \\mathopen[-1.0,1.0\\mathclose]$;\n",
    "2. `alpha` $\\in \\mathopen[-1.0,1.0\\mathclose]$;\n",
    "3. `beta` $\\in \\mathopen[-1.0,1.0\\mathclose]$."
   ]
  },
  {
   "cell_type": "code",
   "execution_count": null,
   "id": "149c7728",
   "metadata": {},
   "outputs": [],
   "source": [
    "def read(self: Cache, state, player: str, limit: int) -> (float,float,float):\n",
    "    state = convert_state_to_bytes(state, player)\n",
    "    key = state + limit.to_bytes(1,'big')\n",
    "    result = self.cache.get(key)\n",
    "    if not result:\n",
    "        return None\n",
    "    value = struct.unpack(\"d\", result[:8])[0]\n",
    "    alpha = struct.unpack(\"d\", result[8:16])[0]\n",
    "    beta = struct.unpack(\"d\", result[16:24])[0]\n",
    "    if player == 'b':\n",
    "        value, alpha, beta = -value, -beta, -alpha\n",
    "    return (value, alpha, beta)\n",
    "\n",
    "Cache.read = read\n",
    "del read"
   ]
  },
  {
   "cell_type": "markdown",
   "id": "385ef884",
   "metadata": {},
   "source": [
    "Die Methode `clean` prüft ob der Cache seine maximale Größe überschritten hat. Ist dies der Fall werden Einträge beginnend mit dem Rekursionslimit $limit = 0$ aus dem Cache entfernt. Solange die Transpositionstabelle weiterhin ihre maximale Größe überschreitet, wird das minimale Rekursionslimit erhöht und die unterschreitenden Einträge gelöscht."
   ]
  },
  {
   "cell_type": "code",
   "execution_count": null,
   "id": "58cd2b2d",
   "metadata": {},
   "outputs": [],
   "source": [
    "def clean(self: Cache):\n",
    "    min_limit = 0\n",
    "    \n",
    "    while len(self.cache) > self.max_size:\n",
    "        min_limit += 1\n",
    "        \n",
    "        pre_len = len(self.cache)\n",
    "        self.cache = {\n",
    "            key: value\n",
    "            for key, value in self.cache.items()\n",
    "            if key[7] > min_limit\n",
    "        }\n",
    "        \n",
    "        print(f\"Increased min_limit to {min_limit} and deleted {pre_len - len(self.cache)} entries. \" + \\\n",
    "              f\"Cache is now {len(self.cache)} entries big.\")\n",
    "    \n",
    "    return min_limit != 0\n",
    "\n",
    "Cache.clean = clean\n",
    "del clean"
   ]
  },
  {
   "cell_type": "markdown",
   "id": "78a1b737",
   "metadata": {},
   "source": [
    "Die Methode `save` persistiert den Cache auf dem Dateisystem des Computers. Dafür wird folgendes Argument erwartet:\n",
    "- `path` beschreibt den Pfad zur Cache-Datei im Dateisystem."
   ]
  },
  {
   "cell_type": "code",
   "execution_count": null,
   "id": "a7b1c3df",
   "metadata": {},
   "outputs": [],
   "source": [
    "def save(self: Cache, path: str):\n",
    "    with open(path, \"wb\") as file:\n",
    "        for key,value in tqdm(self.cache.items()):\n",
    "            file.write(key)\n",
    "            file.write(value)\n",
    "\n",
    "Cache.save = save\n",
    "del save"
   ]
  },
  {
   "cell_type": "markdown",
   "id": "94be9231",
   "metadata": {},
   "source": [
    "Die Methode `load` lädt einen vorhandenen Cache basierend auf einer Cache-Datei, die sich auf dem Dateisystem des Computers befindet. Dafür wird folgendes Argument erwartet:\n",
    "- `path` beschreibt den Pfad zur Cache-Datei im Dateisystem."
   ]
  },
  {
   "cell_type": "code",
   "execution_count": null,
   "id": "7bac085b",
   "metadata": {},
   "outputs": [],
   "source": [
    "def load(self: Cache, path: str):\n",
    "    if not os.path.isfile(path):\n",
    "        print(f'Failed to load cache from file {path}!')\n",
    "        return\n",
    "    with open(path, \"rb\") as file:\n",
    "        while True:\n",
    "            key = file.read(8)\n",
    "            value = file.read(24)\n",
    "            if not key or not value:\n",
    "                break\n",
    "            self.cache[key] = value\n",
    "    print(f'Successfully loaded cache from file {path}!')\n",
    "Cache.load = load\n",
    "del load"
   ]
  },
  {
   "cell_type": "code",
   "execution_count": null,
   "id": "4618a964",
   "metadata": {},
   "outputs": [],
   "source": [
    "cache = Cache()\n",
    "\n",
    "state1 = s0 = ((9, 9), (\n",
    "    (' ', ' ', ' ', ' ', ' ', ' ', ' ', ' '),\n",
    "    (' ', ' ', ' ', ' ', ' ', ' ', ' ', ' '),\n",
    "    (' ', ' ', ' ', ' ', ' ', ' ', ' ', ' ')\n",
    "))\n",
    "\n",
    "state2  = ((7, 6), (\n",
    "    (' ', 'w', ' ', ' ', ' ', ' ', ' ', ' '),\n",
    "    (' ', ' ', ' ', 'b', ' ', ' ', ' ', 'b'),\n",
    "    (' ', ' ', ' ', ' ', ' ', 'w', ' ', ' ')\n",
    "))\n",
    "\n",
    "state2_2  = ((6, 7), (\n",
    "    (' ', 'b', ' ', ' ', ' ', ' ', ' ', ' '),\n",
    "    (' ', ' ', ' ', 'w', ' ', ' ', ' ', 'w'),\n",
    "    (' ', ' ', ' ', ' ', ' ', 'b', ' ', ' ')\n",
    "))\n",
    "\n",
    "cache.write(state = state1, player = 'w', limit = 0, value = 0.3, alpha = 0.7, beta = -0.4)\n",
    "cache.write(state = state2, player = 'b', limit = 2, value = 0.6, alpha = 0.8, beta = -0.6)\n",
    "\n",
    "cache.save(path = 'test.cache')\n",
    "\n",
    "del cache\n",
    "\n",
    "cache2 = Cache(path = 'test.cache')\n",
    "\n",
    "print(cache2.read(state = state1, player = 'w', limit = 0))\n",
    "print(cache2.read(state = state2, player = 'b', limit = 2))\n",
    "print(cache2.read(state = state2_2, player = 'w', limit = 2))\n"
   ]
  }
 ],
 "metadata": {
  "kernelspec": {
   "display_name": "Python 3",
   "language": "python",
   "name": "python3"
  },
  "language_info": {
   "codemirror_mode": {
    "name": "ipython",
    "version": 3
   },
   "file_extension": ".py",
   "mimetype": "text/x-python",
   "name": "python",
   "nbconvert_exporter": "python",
   "pygments_lexer": "ipython3",
   "version": "3.8.5"
  }
 },
 "nbformat": 4,
 "nbformat_minor": 5
}
