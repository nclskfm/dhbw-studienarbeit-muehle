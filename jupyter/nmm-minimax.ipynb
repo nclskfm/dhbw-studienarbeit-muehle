{
 "cells": [
  {
   "cell_type": "code",
   "execution_count": null,
   "metadata": {},
   "outputs": [],
   "source": [
    "from IPython.core.display import HTML\n",
    "with open(\"style.html\", \"r\") as file:\n",
    "    css = file.read()\n",
    "HTML(css)"
   ]
  },
  {
   "cell_type": "code",
   "execution_count": null,
   "metadata": {},
   "outputs": [],
   "source": [
    "%run ./nmm-game.ipynb\n",
    "%run ./nmm-artificial-intelligence.ipynb\n",
    "%run ./nmm-heuristic.ipynb\n",
    "import time"
   ]
  },
  {
   "cell_type": "markdown",
   "metadata": {},
   "source": [
    "## Minimax\n",
    "\n",
    "Der *Minimax* Algorithmus bietet eine einfache Möglichkeit, um den perfekten Spielzug in einem Nullsummenspiel zu berechnen. Um diesen zu finden, wird der komplette Spielbaum vollständig per Tiefensuche durchsucht.\n",
    "Für einen Spielbaum mit der Tiefe `h` und dem Verzweigungsgrad `b` bedeutet das für die Zeit `t` und den Speicher `m`:\n",
    "<font size=\"4\">\n",
    "$$ t_{Minimax} \\in \\mathcal{O}(b^h) $$\n",
    "$$ m_{Minimax} \\in \\mathcal{O}(b\\cdot h) $$\n",
    "</font>\n",
    "Logischerweise ist *Minimax* somit nicht für die komplette Berechnung des Spiels geeignet, weil dies die üblicherweise zur Verfügung stehenden Ressourcen überschreitet. Aus diesem Grund wird die Tiefensuche auf eine maximale Tiefe `limit` beschränkt. Dies hat jedoch zur Folge, dass bei der maximalen Tiefe häufig noch kein eindeutiges Ergebnis *Mini* dem Wert `-1` (sichere Niederlage für `player`) oder *Max* mit dem Wert `1` (sicherer Sieg für `player`) erkannt werden konnte. Somit ist die Funktion `heuristic(state, player)` notwendig die in einem solchen Fall eine einfache heuristische Bewertung des `state` für den `player` durchführt und einen Wert $ -1 < value < 1 $ berechnet."
   ]
  },
  {
   "cell_type": "markdown",
   "metadata": {},
   "source": [
    "Für die Implementierung des *Minimax* Algorithmus wird nun eine Klasse `Minimax` implementiert, die von der zuvor definierten Klasse `ArtificialIntelligence` erbt. Hierzu wird die Funktion `bestMoves` überschrieben, die später genauer definiert wird, und der Konstruktor `__init__` implementiert. Der Konstruktor besitzt zwei optionale Parameter, die den Algorithmus konfigurieren können:\n",
    "\n",
    "* Die `limit` Einstellung setzt die maximale Rekursionstiefe;\n",
    "* Durch den `weights` Parameter können die Gewichtungen der zuvor definierten Heuristik bestimmt werden.\n",
    "\n",
    "Zusätzlich initialisiert der Konstruktor das Attribut `cache` mit einem leeren `dict`. Dieses wird später als Transpositionstabelle verwendet."
   ]
  },
  {
   "cell_type": "code",
   "execution_count": null,
   "metadata": {},
   "outputs": [],
   "source": [
    "class Minimax(ArtificialIntelligence):\n",
    "    def __init__(self, limit=2, weights=None):\n",
    "        self.cache = {}\n",
    "        \n",
    "        self.limit = limit\n",
    "        self.weights = weights\n",
    "        if self.weights is None:\n",
    "            self.weights = HeuristicWeights()\n",
    "    \n",
    "    def bestMoves(self, state, player):\n",
    "        pass"
   ]
  },
  {
   "cell_type": "markdown",
   "metadata": {},
   "source": [
    "Für Debuggingzwecke wird eine `__repr__` Funktion implementiert, die eine String-Repräsentation aus einer `Minimax` Instanz mit allen Einstelungen erstellt."
   ]
  },
  {
   "cell_type": "code",
   "execution_count": null,
   "metadata": {},
   "outputs": [],
   "source": [
    "def __repr__(self: Minimax):\n",
    "    return f\"Minimax(limit={self.limit}, weights={self.weights})\"\n",
    "\n",
    "Minimax.__repr__ = __repr__\n",
    "del __repr__"
   ]
  },
  {
   "cell_type": "markdown",
   "metadata": {},
   "source": [
    "Die Funktion `memoize` erwartet eine Funktion `f` als Parameter und überprüft, ob diese bereits mit den gleichen Parametern aufgerufen wurde. Falls ja, wird der gespeicherte Wert zurückgegeben. Falls nicht, werden die Parameter und das Ergebnis nach der Errechnung in die Transpositionstabelle gespeichert."
   ]
  },
  {
   "cell_type": "code",
   "execution_count": null,
   "metadata": {},
   "outputs": [],
   "source": [
    "def memoize(f):\n",
    "    def f_memoized(self, state, player, limit):\n",
    "        key = (state, player, limit)\n",
    "        \n",
    "        if key in self.cache:\n",
    "            self.cache_hit += 1\n",
    "            return self.cache[key]\n",
    "\n",
    "        result = f(self, state, player, limit)\n",
    "        self.cache[key] = result\n",
    "\n",
    "        self.cache_miss += 1\n",
    "        return result\n",
    "\n",
    "    return f_memoized"
   ]
  },
  {
   "cell_type": "markdown",
   "metadata": {},
   "source": [
    "Die Funktion `value` nimmt einen Spielzustand `state` und liefert bei Ende des Spiels den Wert `value` mit Hilfe der `utility` Funktion für den Spieler `player`. \n",
    "Mit `limit` wird die Rekursionstiefe begrenzt. Beim Erreichen dieser wird die Funktion `heuristic` aufgerufen.\n",
    "In allen weiteren Fällen wird rekursiv in den nächsten möglichen Schritten nach dem maximal zu erreichenden Wert `value` gesucht. Zusammengefasst bedeutet das für die Funktion:\n",
    "\n",
    "$$ value(state, player, limit) = \\begin{cases}\n",
    "utility(state, player) & falls & finished(state, player) = true \\\\\n",
    "heuristic(state, player) & falls & limit = 0 \\\\\n",
    "max( \\{-value(ns, opponent(player), limit) \\vert ns \\in nextStates(state, player)\\} ) & sonst\n",
    "\\end{cases}\n",
    "$$"
   ]
  },
  {
   "cell_type": "code",
   "execution_count": null,
   "metadata": {},
   "outputs": [],
   "source": [
    "@memoize\n",
    "def value(self, state, player, limit):\n",
    "    if finished(state, player):\n",
    "        return utility(state, player)\n",
    "    if limit == 0:\n",
    "        return heuristic(state, player, self.weights)\n",
    "    return max([-self.value(ns, opponent(player), limit-1) for ns in nextStates(state, player)])\n",
    "\n",
    "Minimax.value = value\n",
    "del value"
   ]
  },
  {
   "cell_type": "markdown",
   "metadata": {},
   "source": [
    "Die Funktion `bestMoves` berechnet den geschätzten Wert aller möglichen Züge für einen Spieler `player` und wählt die Züge mit dem besten Wert aus. Dieser Wert wird innerhalb der maximalen Rekursionstiefe `limit` mit dem gegebenen Ausgangszustand `state` gesucht.\n",
    "\n",
    "Zusätzlich werden Informationen gesammelt, die die genaueren Abläufe im Algorithmus abbilden:\n",
    "* `runtime` ist die Rechendauer der Funktion in Sekunden;\n",
    "* `limit` beschreibt die verwendete maximale Rekursionstiefe;\n",
    "* `cache_hit` ist die Anzahl der Berechnungen, die durch die Transpositionstabelle (`cache`) eingespart werden konnten;\n",
    "* `cache_miss` hingegen ist die Anzahl der Berechnungen, die trotz der Transpositionstablle durchgeführt werden mussten."
   ]
  },
  {
   "cell_type": "code",
   "execution_count": null,
   "metadata": {},
   "outputs": [],
   "source": [
    "def bestMoves(self, state, player) -> BestMoves:\n",
    "    # Start clock\n",
    "    start = time.time()\n",
    "    \n",
    "    # Reset debug counter\n",
    "    self.cache_hit = 0\n",
    "    self.cache_miss = 0\n",
    "    \n",
    "    # Compute all expected values\n",
    "    moves = [\n",
    "        (-self.value(state, opponent(player), self.limit), state)\n",
    "        for state in nextStates(state, player)\n",
    "    ]\n",
    "    \n",
    "    maximum = max(value for (value, state) in moves)\n",
    "    bestMoves = [state for (value, state) in moves if value == maximum]\n",
    "    \n",
    "    end = time.time()\n",
    "    return BestMoves(\n",
    "        bestMoves,\n",
    "        maximum,\n",
    "        # Collect debug information\n",
    "        {   \"runtime\": end - start,\n",
    "            \"limit\": self.limit,\n",
    "            \"cache_hit\": self.cache_hit,\n",
    "            \"cache_miss\": self.cache_miss,   }\n",
    "    )\n",
    "\n",
    "Minimax.bestMoves = bestMoves\n",
    "del bestMoves"
   ]
  }
 ],
 "metadata": {
  "kernelspec": {
   "display_name": "Python 3",
   "language": "python",
   "name": "python3"
  },
  "language_info": {
   "codemirror_mode": {
    "name": "ipython",
    "version": 3
   },
   "file_extension": ".py",
   "mimetype": "text/x-python",
   "name": "python",
   "nbconvert_exporter": "python",
   "pygments_lexer": "ipython3",
   "version": "3.8.5"
  }
 },
 "nbformat": 4,
 "nbformat_minor": 4
}
