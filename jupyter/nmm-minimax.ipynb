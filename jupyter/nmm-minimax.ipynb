{
 "cells": [
  {
   "cell_type": "code",
   "execution_count": null,
   "metadata": {},
   "outputs": [],
   "source": [
    "import os.path\n",
    "css = \"\"\n",
    "if os.path.isfile(\"style.html\"):\n",
    "    from IPython.core.display import HTML\n",
    "    with open(\"style.html\", \"r\") as file:\n",
    "        css = file.read()\n",
    "HTML(css)"
   ]
  },
  {
   "cell_type": "code",
   "execution_count": null,
   "metadata": {},
   "outputs": [],
   "source": [
    "%run ./nmm-game.ipynb\n",
    "%run ./nmm-heuristic.ipynb"
   ]
  },
  {
   "cell_type": "markdown",
   "metadata": {},
   "source": [
    "## Minimax\n",
    "\n",
    "Der *Minimax* Algorithmus bietet eine einfache Möglichkeit, um den perfekten Weg in einem Nullsummenspiel zu berechnen. Um diesen zu finden, wird der komplette Spielbaum vollständig per Tiefensuche durchsucht.\n",
    "Für einen Spielbaum mit der Tiefe `h` und dem Verzweigungsgrad `b` bedeutet das für die Zeit `t` und den Speicher `m`:\n",
    "<font size=\"4\">\n",
    "$$ t_{Minimax} \\in \\mathcal{O}(b^h) $$\n",
    "$$ m_{Minimax} \\in \\mathcal{O}(b\\cdot h) $$\n",
    "</font>\n",
    "Logischerweise ist *Minimax* somit nicht für die komplette Berechnung des Spiels geeignet, weil dies die üblicherweise zur Verfügung stehenden Ressourcen überschreitet. Aus diesem Grund wird die Tiefensuche auf eine maximale Tiefe `limit` beschränkt. Dies hat jedoch zur Folge, dass bei der maximalen Tiefe häufig noch kein eindeutiges Ergebnis *Mini* dem Wert `-1` (sichere Niederlage für `player`) oder *Max* mit dem Wert `1` (sicherer Sieg für `player`) erkannt werden konnte. Somit ist die Funktion `heuristic(state, player)` notwendig die in einem solchen Fall eine einfache heuristische Bewertung des `state` für den `player` durchführt und einen Wert $ -1 < value < 1 $ berechnet."
   ]
  },
  {
   "cell_type": "markdown",
   "metadata": {},
   "source": [
    "Die Funktion `memoize(f)` nimmt eine Funktion `f` und überprüft, ob diese bereits mit den beiden gleichen Haupt-Parametern `state` und `player` aufgerufen wurde und liefert den gespeicherten Antwortwert. Wenn die Funktion bisher nicht aufgerufen wurde, werden die Parameter und das entsprechende Ergebnis in den Cache gespeichert."
   ]
  },
  {
   "cell_type": "code",
   "execution_count": null,
   "metadata": {},
   "outputs": [],
   "source": [
    "Cache = {}\n",
    "\n",
    "def memoize(f):\n",
    "    global Cache\n",
    "\n",
    "    def f_memoized(*args):\n",
    "        key = (args[0], args[1])\n",
    "        if key in Cache:\n",
    "            return Cache[key]\n",
    "        result = f(*args)\n",
    "        Cache[key] = result\n",
    "        return result\n",
    "\n",
    "    return f_memoized"
   ]
  },
  {
   "cell_type": "markdown",
   "metadata": {},
   "source": [
    "Die Funktion `value_MM` nimmt einen Spielzustand `state` und liefert bei Ende des Spiels den Wert `value` mit Hilfe der `utility(state, player)`-Funktion für den Spieler `player`. \n",
    "Mit `limit` wird die Rekursionstiefe begrenzt. Beim Erreichen dieser wird die Funktion `heuristic(state, player)` aufgerufen.\n",
    "In allen weiteren Fällen wird rekursiv in den nächsten möglichen Schritten nach dem maximal zu erreichenden Wert `value` gesucht. Zusammengefasst bedeutet das für die Funktion:\n",
    "\n",
    "$$ value\\_MM(state, player, limit) = \\begin{cases}\n",
    "utility(state, player) & falls & finished(state, player) = true \\\\\n",
    "heuristic(state, player) & falls & limit = 0 \\\\\n",
    "max(-value\\_MM(ns, \\neg{player}, limit))  \\forall  ns \\in nextStates(state, player) & sonst\n",
    "\\end{cases}\n",
    "$$"
   ]
  },
  {
   "cell_type": "code",
   "execution_count": null,
   "metadata": {},
   "outputs": [],
   "source": [
    "@memoize\n",
    "def value_MM(state, player, limit):\n",
    "    if finished(state, player):\n",
    "        return utility(state, player)\n",
    "    if limit == 0:\n",
    "        return heuristic(state, player)\n",
    "    return max([-value_MM(ns, opponent(player), limit-1) for ns in nextStates(state, player)])"
   ]
  },
  {
   "cell_type": "markdown",
   "metadata": {},
   "source": [
    "Die Funktion `bestMove` berechnet den günstigsten Zug für einen Spieler `player` um das Spiel zu gewinnen. Dieser wird innerhalb der maximalen Rekursionstiefe `limit` mit dem gegebenen Ausgangszustand `state` gesucht\n",
    "\n",
    "$$ bestMove\\_MM(state, player, limit) = max(-value\\_MM(ns, \\neg{player}, limit))  \\forall  ns \\in nextStates(state, player) $$"
   ]
  },
  {
   "cell_type": "code",
   "execution_count": null,
   "metadata": {},
   "outputs": [],
   "source": [
    "def bestMove_MM(state, player, limit = None):\n",
    "    if limit is None:\n",
    "        limit = 2\n",
    "    # Clear cache\n",
    "    global Cache\n",
    "    Cache = {}\n",
    "\n",
    "    moves = [\n",
    "        (-value_MM(state, opponent(player), limit), state)\n",
    "        for state in nextStates(state, player)\n",
    "    ]\n",
    "    return max(moves, key=lambda m: m[0])"
   ]
  }
 ],
 "metadata": {
  "kernelspec": {
   "display_name": "Python 3",
   "language": "python",
   "name": "python3"
  },
  "language_info": {
   "codemirror_mode": {
    "name": "ipython",
    "version": 3
   },
   "file_extension": ".py",
   "mimetype": "text/x-python",
   "name": "python",
   "nbconvert_exporter": "python",
   "pygments_lexer": "ipython3",
   "version": "3.8.5"
  }
 },
 "nbformat": 4,
 "nbformat_minor": 4
}
