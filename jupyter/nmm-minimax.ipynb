{
 "cells": [
  {
   "cell_type": "markdown",
   "metadata": {},
   "source": [
    "## Minimax"
   ]
  },
  {
   "cell_type": "code",
   "execution_count": null,
   "metadata": {},
   "outputs": [],
   "source": [
    "import os.path\n",
    "css = \"\"\n",
    "if os.path.isfile(\"style.html\"):\n",
    "    from IPython.core.display import HTML\n",
    "    with open(\"style.html\", \"r\") as file:\n",
    "        css = file.read()\n",
    "HTML(css)"
   ]
  },
  {
   "cell_type": "code",
   "execution_count": null,
   "metadata": {},
   "outputs": [],
   "source": [
    "%run ./nmm-game.ipynb\n",
    "%run ./nmm-heuristic.ipynb"
   ]
  },
  {
   "cell_type": "markdown",
   "metadata": {},
   "source": [
    "`memoize(f)` takes a function and checks if the function was already called with the same two main arguments and returns the saved return value. If it is not yet in the Cache, the arguments and it's return values will be saved to the Cache\n",
    "\n",
    "Die Funktion `memoize(f)` nimmt eine Funktion `f` und überprüft ob diese bereits mit den beiden gleichen Haupt-Parametern aufgerufen wurde und liefert den gespeicherten Antwortwert. Wenn die Funktion bisher nicht aufgerufen wurde, werden die Parameter und die Antwortwerte in den Cache gespeichert"
   ]
  },
  {
   "cell_type": "code",
   "execution_count": null,
   "metadata": {},
   "outputs": [],
   "source": [
    "Cache = {}\n",
    "\n",
    "def memoize(f):\n",
    "    global Cache\n",
    "\n",
    "    def f_memoized(*args):\n",
    "        key = (args[0], args[1])\n",
    "        if key in Cache:\n",
    "            return Cache[key]\n",
    "        result = f(*args)\n",
    "        Cache[key] = result\n",
    "        return result\n",
    "\n",
    "    return f_memoized"
   ]
  },
  {
   "cell_type": "markdown",
   "metadata": {},
   "source": [
    "The `value(s, p, limit)` function takes the current state and the player and returns the value (see `utility(s, p)`) of the winner if every move is optimal\n",
    "the `limit` variable is used to limit the recursion depth.\n",
    "\n",
    "Die `value(s, p, limit)` Funktion nimmt einen Spielzustand und einen Spieler und liefert den Wert (siehe `utility(s, p)`) des Gewinners wenn dieser alle Züge optimal ausführt.\n",
    "Die Variable `limit` wird dafür genutzt die Rekursionstiefe zu bestimmen."
   ]
  },
  {
   "cell_type": "code",
   "execution_count": null,
   "metadata": {},
   "outputs": [],
   "source": [
    "@memoize\n",
    "def value_MM(s, p, limit):\n",
    "    if finished(s, p):\n",
    "        return utility(s, p)\n",
    "    if limit == 0:\n",
    "        return heuristic(s, p)\n",
    "    return max([-value_MM(ns, opponent(p), limit-1) for ns in nextStates(s, p)])"
   ]
  },
  {
   "cell_type": "markdown",
   "metadata": {},
   "source": [
    "`bestMove(s, p)` calculates the best move to win the game for the given state and player\n",
    "\n",
    "Die Funktion `bestMove(s, p)` berechnet den günstigsten Zug für einen Spieler um das Spiel zu gewinnen, mit dem gegeben Ausgangszustand"
   ]
  },
  {
   "cell_type": "code",
   "execution_count": null,
   "metadata": {},
   "outputs": [],
   "source": [
    "def bestMove_MM(s, p, limit = 1):\n",
    "    # Clear cache\n",
    "    global Cache\n",
    "    Cache = {}\n",
    "\n",
    "    moves = [\n",
    "        (-value_MM(s, opponent(p), limit), s)\n",
    "        for s in nextStates(s, p)\n",
    "    ]\n",
    "    return max(moves, key=lambda m: m[0])"
   ]
  }
 ],
 "metadata": {
  "kernelspec": {
   "display_name": "Python 3",
   "language": "python",
   "name": "python3"
  },
  "language_info": {
   "codemirror_mode": {
    "name": "ipython",
    "version": 3
   },
   "file_extension": ".py",
   "mimetype": "text/x-python",
   "name": "python",
   "nbconvert_exporter": "python",
   "pygments_lexer": "ipython3",
   "version": "3.8.5"
  }
 },
 "nbformat": 4,
 "nbformat_minor": 4
}
