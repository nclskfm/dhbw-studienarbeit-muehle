{
 "metadata": {
  "language_info": {
   "codemirror_mode": {
    "name": "ipython",
    "version": 3
   },
   "file_extension": ".py",
   "mimetype": "text/x-python",
   "name": "python",
   "nbconvert_exporter": "python",
   "pygments_lexer": "ipython3",
   "version": "3.7.6-final"
  },
  "orig_nbformat": 2,
  "kernelspec": {
   "name": "Python 3.7.6 64-bit ('base': conda)",
   "display_name": "Python 3.7.6 64-bit ('base': conda)",
   "metadata": {
    "interpreter": {
     "hash": "98b0a9b7b4eaaa670588a142fd0a9b87eaafe866f1db4228be72b4211d12040f"
    }
   }
  }
 },
 "nbformat": 4,
 "nbformat_minor": 2,
 "cells": [
  {
   "source": [
    "# Mühle GUI"
   ],
   "cell_type": "markdown",
   "metadata": {}
  },
  {
   "cell_type": "code",
   "execution_count": 98,
   "metadata": {},
   "outputs": [],
   "source": [
    "import ipycanvas\n",
    "import ipywidgets\n",
    "import math"
   ]
  },
  {
   "cell_type": "code",
   "execution_count": 99,
   "metadata": {},
   "outputs": [],
   "source": [
    "CANVAS_SIZE = 500\n",
    "CANVAS_PADDING = 30\n",
    "ROW_WIDTH = 60\n",
    "PLAYER_PIECE_RADIUS = 12\n",
    "DEFAULT_PIECE_RADIUS = 5\n",
    "BOARD_SIZE = CANVAS_SIZE - 2 * CANVAS_PADDING\n",
    "\n",
    "# colors\n",
    "BOARD_FOREGROUND_COLOR = '#3d3d3d'\n",
    "BOARD_BACKGROUND_COLOR = '#ffffcb'\n",
    "PLAYER_1_COLOR = '#ffffff'\n",
    "PLAYER_2_COLOR = '#000000'\n",
    "\n",
    "def COLOR_DICTIONARY(x):\n",
    "    return {\n",
    "        'w': PLAYER_1_COLOR,\n",
    "        'b': PLAYER_2_COLOR,\n",
    "        ' ': BOARD_FOREGROUND_COLOR\n",
    "    }[x]"
   ]
  },
  {
   "cell_type": "code",
   "execution_count": 100,
   "metadata": {},
   "outputs": [],
   "source": [
    "# all available values for x and y, beginning left to right and top to bottom\n",
    "av = [\n",
    "    math.floor(CANVAS_PADDING),\n",
    "    math.floor(CANVAS_PADDING + ROW_WIDTH),\n",
    "    math.floor(CANVAS_PADDING + 2 * ROW_WIDTH),\n",
    "    math.floor((BOARD_SIZE / 2) + CANVAS_PADDING),\n",
    "    math.floor(CANVAS_SIZE - (CANVAS_PADDING + 2 * ROW_WIDTH)),\n",
    "    math.floor(CANVAS_SIZE - (CANVAS_PADDING + ROW_WIDTH)),\n",
    "    math.floor(CANVAS_SIZE - CANVAS_PADDING)\n",
    "]\n"
   ]
  },
  {
   "cell_type": "code",
   "execution_count": 101,
   "metadata": {},
   "outputs": [],
   "source": [
    "# All coordinates. The first tuple is the outer square, the second tuple is the middle square and the third tuple is the inner square. It always starts from top left and then clockwise.\n",
    "coords = (\n",
    "    (\n",
    "        (av[0], av[0]),\n",
    "        (av[3], av[0]),\n",
    "        (av[6], av[0]),\n",
    "        (av[6], av[3]),\n",
    "        (av[6], av[6]),\n",
    "        (av[3], av[6]),\n",
    "        (av[0], av[6]),\n",
    "        (av[0], av[3])\n",
    "    ),\n",
    "    (\n",
    "        (av[1], av[1]),\n",
    "        (av[3], av[1]),\n",
    "        (av[5], av[1]),\n",
    "        (av[5], av[3]),\n",
    "        (av[5], av[5]),\n",
    "        (av[3], av[5]),\n",
    "        (av[1], av[5]),\n",
    "        (av[1], av[3])\n",
    "    ),\n",
    "    (\n",
    "        (av[2], av[2]),\n",
    "        (av[3], av[2]),\n",
    "        (av[4], av[2]),\n",
    "        (av[4], av[3]),\n",
    "        (av[4], av[4]),\n",
    "        (av[3], av[4]),\n",
    "        (av[2], av[4]),\n",
    "        (av[2], av[3])\n",
    "    )\n",
    ") "
   ]
  },
  {
   "cell_type": "code",
   "execution_count": 102,
   "metadata": {},
   "outputs": [],
   "source": [
    "# Function to draw a line on a canvas c, from start to end. Start and end are tuples with x and y values.\n",
    "def draw_line(c, start, end):\n",
    "    c.move_to(start[0], start[1])\n",
    "    c.line_to(end[0], end[1])"
   ]
  },
  {
   "cell_type": "code",
   "execution_count": 103,
   "metadata": {},
   "outputs": [],
   "source": [
    "# Function do draw a circle on a canvas c with given coords, radius and color\n",
    "def draw_circle(c, coords, radius, color):\n",
    "    c.fill_style = color\n",
    "    c.fill_arc(coords[0], coords[1], radius, 0, 2 * math.pi)"
   ]
  },
  {
   "cell_type": "code",
   "execution_count": 104,
   "metadata": {},
   "outputs": [],
   "source": [
    "# Function to construct a square on a canvas c.\n",
    "def construct_square(c, square):\n",
    "    for i in range(4):\n",
    "        start = i * 2\n",
    "        end = (i * 2 + 2) if (i * 2 + 2 <= 6) else 0 \n",
    "        draw_line(c, square[start], square[end])"
   ]
  },
  {
   "cell_type": "code",
   "execution_count": 105,
   "metadata": {},
   "outputs": [],
   "source": [
    "# Function to construct the cross lines on a canvas c\n",
    "def construct_cross_lines(c, coords):\n",
    "    for i in range(4):\n",
    "        k = i * 2 + 1\n",
    "        draw_line(c, coords[0][k], coords[2][k])"
   ]
  },
  {
   "cell_type": "code",
   "execution_count": 106,
   "metadata": {},
   "outputs": [
    {
     "output_type": "display_data",
     "data": {
      "text/plain": "MultiCanvas(width=500)",
      "application/vnd.jupyter.widget-view+json": {
       "version_major": 2,
       "version_minor": 0,
       "model_id": "a067ec3242a04960a0e799dfcf0f991c"
      }
     },
     "metadata": {}
    }
   ],
   "source": [
    "# Initialize the canvas and draw the game board \n",
    "canvas = ipycanvas.MultiCanvas(2, width = CANVAS_SIZE, height = CANVAS_SIZE)\n",
    "canvas[0].fill_style = BOARD_BACKGROUND_COLOR\n",
    "canvas[0].stroke_style = BOARD_FOREGROUND_COLOR\n",
    "canvas[0].fill_rect(0, 0, CANVAS_SIZE, CANVAS_SIZE)\n",
    "\n",
    "\n",
    "canvas[0].begin_path()\n",
    "\n",
    "for i in range(3):\n",
    "    construct_square(canvas[0], coords[i])\n",
    "\n",
    "construct_cross_lines(canvas[0], coords)\n",
    "\n",
    "canvas[0].stroke()\n",
    "\n",
    "canvas"
   ]
  },
  {
   "cell_type": "code",
   "execution_count": 107,
   "metadata": {},
   "outputs": [],
   "source": [
    "def update_gui(state):\n",
    "    # TODO: ADD INTERACTIVITY\n",
    "    canvas[1].clear()\n",
    "    squares = state[1]\n",
    "    \n",
    "    for i in range(len(squares)):\n",
    "        for j in range(len(squares[i])):\n",
    "            radius = DEFAULT_PIECE_RADIUS if squares[i][j] == ' ' else PLAYER_PIECE_RADIUS\n",
    "            color = COLOR_DICTIONARY(squares[i][j])\n",
    "            draw_circle(canvas[1], coords[i][j], radius, color)\n",
    "    "
   ]
  },
  {
   "cell_type": "code",
   "execution_count": 108,
   "metadata": {},
   "outputs": [],
   "source": [
    "# Test States\n",
    "s1 = ((9, 9), (\n",
    "    (' ', ' ', ' ', ' ', ' ', ' ', ' ', ' '),\n",
    "    (' ', ' ', ' ', ' ', ' ', ' ', ' ', ' '),\n",
    "    (' ', ' ', ' ', ' ', ' ', ' ', ' ', ' ')\n",
    "))\n",
    "s2 = ((0, 0), (\n",
    "    ('w', 'w', ' ', 'b', 'w', 'b', 'w', 'w'),\n",
    "    ('b', 'w', ' ', 'b', 'w', ' ', ' ', 'w'),\n",
    "    ('b', 'b', 'b', 'b', ' ', ' ', 'b', 'w'),\n",
    "))\n",
    "s3 = ((7, 7), (\n",
    "    ('w', 'w', ' ', ' ', ' ', ' ', ' ', ' '),\n",
    "    (' ', ' ', ' ', 'b', ' ', ' ', ' ', ' '),\n",
    "    (' ', ' ', ' ', ' ', ' ', 'b', ' ', ' ')\n",
    "))"
   ]
  },
  {
   "cell_type": "code",
   "execution_count": 109,
   "metadata": {},
   "outputs": [
    {
     "output_type": "display_data",
     "data": {
      "text/plain": "MultiCanvas(width=500)",
      "application/vnd.jupyter.widget-view+json": {
       "version_major": 2,
       "version_minor": 0,
       "model_id": "a067ec3242a04960a0e799dfcf0f991c"
      }
     },
     "metadata": {}
    }
   ],
   "source": [
    "update_gui(s1)\n",
    "canvas"
   ]
  },
  {
   "cell_type": "code",
   "execution_count": 110,
   "metadata": {},
   "outputs": [
    {
     "output_type": "display_data",
     "data": {
      "text/plain": "MultiCanvas(width=500)",
      "application/vnd.jupyter.widget-view+json": {
       "version_major": 2,
       "version_minor": 0,
       "model_id": "a067ec3242a04960a0e799dfcf0f991c"
      }
     },
     "metadata": {}
    }
   ],
   "source": [
    "update_gui(s2)\n",
    "canvas"
   ]
  },
  {
   "cell_type": "code",
   "execution_count": 111,
   "metadata": {},
   "outputs": [
    {
     "output_type": "display_data",
     "data": {
      "text/plain": "MultiCanvas(width=500)",
      "application/vnd.jupyter.widget-view+json": {
       "version_major": 2,
       "version_minor": 0,
       "model_id": "a067ec3242a04960a0e799dfcf0f991c"
      }
     },
     "metadata": {}
    }
   ],
   "source": [
    "update_gui(s3)\n",
    "canvas"
   ]
  }
 ]
}