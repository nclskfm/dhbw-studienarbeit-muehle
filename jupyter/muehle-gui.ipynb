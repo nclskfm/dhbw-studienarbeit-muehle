{
 "cells": [
  {
   "cell_type": "markdown",
   "metadata": {},
   "source": [
    "# Mühle GUI"
   ]
  },
  {
   "cell_type": "code",
   "execution_count": null,
   "metadata": {},
   "outputs": [],
   "source": [
    "import ipycanvas\n",
    "import ipywidgets\n",
    "import math"
   ]
  },
  {
   "cell_type": "code",
   "execution_count": null,
   "metadata": {},
   "outputs": [],
   "source": [
    "# TODO: create schema to visualize following constants\n",
    "\n",
    "BOARD_SIZE = 500\n",
    "CANVAS_PADDING = 30\n",
    "ROW_WIDTH = 60\n",
    "PLAYER_PIECE_RADIUS = 12\n",
    "DEFAULT_PIECE_RADIUS = 5\n",
    "\n",
    "STASH_STONES_SPACING = 5\n",
    "\n",
    "STASH_HEIGHT = ((PLAYER_PIECE_RADIUS * 2 ) * 2) + (STASH_STONES_SPACING) + (CANVAS_PADDING * 2)\n",
    "STASH_WIDTH = ((PLAYER_PIECE_RADIUS * 2 ) * 9) + (STASH_STONES_SPACING * 8) + (CANVAS_PADDING * 2)\n",
    "\n",
    "CANVAS_HEIGHT = BOARD_SIZE\n",
    "CANVAS_WIDTH = BOARD_SIZE + STASH_WIDTH\n",
    "\n",
    "STASH_STARTING_POINT_X = BOARD_SIZE\n",
    "STASH_STARTING_POINT_Y = CANVAS_HEIGHT - STASH_HEIGHT\n",
    "\n",
    "NO_PLAYER = ' '\n",
    "PLAYER_1 = 'w'\n",
    "PLAYER_2 = 'b'\n",
    "\n",
    "\n",
    "# colors\n",
    "BOARD_FOREGROUND_COLOR = '#191919'\n",
    "BOARD_BACKGROUND_COLOR = '#ffffcb'\n",
    "STASH_BACKGROUND_COLOR = '#dedede'\n",
    "PLAYER_1_FILL_COLOR = '#E8E8E8'\n",
    "PLAYER_1_STROKE_COLOR = '#191919'\n",
    "PLAYER_2_FILL_COLOR = '#3D3D3D'\n",
    "PLAYER_2_STROKE_COLOR = '#191919'\n",
    "\n",
    "# shadows\n",
    "SHADOW_COLOR = '#000000'\n",
    "SHADOW_OFFSET_X = 2\n",
    "SHADOW_OFFSET_Y = 2\n",
    "SHADOW_BLUR = 2\n",
    "\n",
    "# default shadows\n",
    "SHADOW_COLOR_DEFAULT = 'rgba(0, 0, 0, 0)'\n",
    "SHADOW_OFFSET_X_DEFAULT = 0\n",
    "SHADOW_OFFSET_Y_DEFAULT = 0\n",
    "SHADOW_BLUR_DEFAULT = 0\n"
   ]
  },
  {
   "cell_type": "code",
   "execution_count": null,
   "metadata": {},
   "outputs": [],
   "source": [
    "# all available values for x and y, beginning left to right and top to bottom\n",
    "av = [\n",
    "    math.floor(CANVAS_PADDING),\n",
    "    math.floor(CANVAS_PADDING + ROW_WIDTH),\n",
    "    math.floor(CANVAS_PADDING + 2 * ROW_WIDTH),\n",
    "    math.floor(BOARD_SIZE / 2),\n",
    "    math.floor(BOARD_SIZE - (CANVAS_PADDING + 2 * ROW_WIDTH)),\n",
    "    math.floor(BOARD_SIZE - (CANVAS_PADDING + ROW_WIDTH)),\n",
    "    math.floor(BOARD_SIZE - CANVAS_PADDING)\n",
    "]\n"
   ]
  },
  {
   "cell_type": "code",
   "execution_count": null,
   "metadata": {},
   "outputs": [],
   "source": [
    "# All coordinates. The first tuple is the outer square, the second tuple is the middle square and the third tuple is the inner square. It always starts from top left and then clockwise.\n",
    "coords = (\n",
    "    (\n",
    "        (av[0], av[0]),\n",
    "        (av[3], av[0]),\n",
    "        (av[6], av[0]),\n",
    "        (av[6], av[3]),\n",
    "        (av[6], av[6]),\n",
    "        (av[3], av[6]),\n",
    "        (av[0], av[6]),\n",
    "        (av[0], av[3])\n",
    "    ),\n",
    "    (\n",
    "        (av[1], av[1]),\n",
    "        (av[3], av[1]),\n",
    "        (av[5], av[1]),\n",
    "        (av[5], av[3]),\n",
    "        (av[5], av[5]),\n",
    "        (av[3], av[5]),\n",
    "        (av[1], av[5]),\n",
    "        (av[1], av[3])\n",
    "    ),\n",
    "    (\n",
    "        (av[2], av[2]),\n",
    "        (av[3], av[2]),\n",
    "        (av[4], av[2]),\n",
    "        (av[4], av[3]),\n",
    "        (av[4], av[4]),\n",
    "        (av[3], av[4]),\n",
    "        (av[2], av[4]),\n",
    "        (av[2], av[3])\n",
    "    )\n",
    ") "
   ]
  },
  {
   "cell_type": "code",
   "execution_count": null,
   "metadata": {},
   "outputs": [],
   "source": [
    "# Function to draw a line on a canvas c, from start to end. Start and end are tuples with x and y values.\n",
    "def draw_line(c, start, end):\n",
    "    c.move_to(start[0], start[1])\n",
    "    c.line_to(end[0], end[1])"
   ]
  },
  {
   "cell_type": "code",
   "execution_count": null,
   "metadata": {},
   "outputs": [],
   "source": [
    "# Function to draw a circle on a canvas c with given coords, radius and color\n",
    "def draw_circle(c, coords, radius, color, stroke_color = None, use_shadow = False):\n",
    "    if use_shadow == True:\n",
    "        c.shadow_color = SHADOW_COLOR\n",
    "        c.shadow_offset_x = SHADOW_OFFSET_X\n",
    "        c.shadow_offset_y = SHADOW_OFFSET_Y\n",
    "        c.shadow_blur = SHADOW_BLUR\n",
    "    c.fill_style = color\n",
    "    c.fill_arc(coords[0], coords[1], radius, 0, 2 * math.pi)\n",
    "    if use_shadow == True:\n",
    "        c.shadow_color = SHADOW_COLOR_DEFAULT\n",
    "        c.shadow_offset_x = SHADOW_OFFSET_X_DEFAULT\n",
    "        c.shadow_offset_y = SHADOW_OFFSET_Y_DEFAULT\n",
    "        c.shadow_blur = SHADOW_BLUR_DEFAULT\n",
    "    if stroke_color is not None:\n",
    "        c.stroke_color = stroke_color\n",
    "        c.stroke_arc(coords[0], coords[1], radius, 0, 2 * math.pi)"
   ]
  },
  {
   "cell_type": "code",
   "execution_count": null,
   "metadata": {},
   "outputs": [],
   "source": [
    "# Function to draw a (player) stone with given coords and for a given player (or the the default )\n",
    "def draw_stone(c, coords, player):\n",
    "    if player == PLAYER_1:\n",
    "        draw_circle(c, coords, PLAYER_PIECE_RADIUS, PLAYER_1_FILL_COLOR, stroke_color = PLAYER_1_STROKE_COLOR, use_shadow = True)\n",
    "        draw_circle(c, coords, math.floor(PLAYER_PIECE_RADIUS / 2), PLAYER_1_FILL_COLOR, stroke_color = PLAYER_1_STROKE_COLOR)\n",
    "    elif player == PLAYER_2:\n",
    "        draw_circle(c, coords, PLAYER_PIECE_RADIUS, PLAYER_2_FILL_COLOR, stroke_color = PLAYER_2_STROKE_COLOR, use_shadow = True)\n",
    "        draw_circle(c, coords, math.floor(PLAYER_PIECE_RADIUS / 2), PLAYER_2_FILL_COLOR, stroke_color = PLAYER_2_STROKE_COLOR)\n",
    "    else:\n",
    "        draw_circle(c, coords, DEFAULT_PIECE_RADIUS, BOARD_FOREGROUND_COLOR)"
   ]
  },
  {
   "cell_type": "code",
   "execution_count": null,
   "metadata": {},
   "outputs": [],
   "source": [
    "# Function to construct a square on a canvas c.\n",
    "def construct_square(c, square):\n",
    "    for i in range(4):\n",
    "        start = i * 2\n",
    "        end = (i * 2 + 2) if (i * 2 + 2 <= 6) else 0 \n",
    "        draw_line(c, square[start], square[end])"
   ]
  },
  {
   "cell_type": "code",
   "execution_count": null,
   "metadata": {},
   "outputs": [],
   "source": [
    "# Function to construct the cross lines on a canvas c\n",
    "def construct_cross_lines(c, coords):\n",
    "    for i in range(4):\n",
    "        k = i * 2 + 1\n",
    "        draw_line(c, coords[0][k], coords[2][k])"
   ]
  },
  {
   "cell_type": "code",
   "execution_count": null,
   "metadata": {},
   "outputs": [],
   "source": [
    "# Initialize the canvas and draw the game board \n",
    "canvas = ipycanvas.MultiCanvas(2, width = CANVAS_WIDTH, height = CANVAS_HEIGHT)\n",
    "canvas[0].fill_style = BOARD_BACKGROUND_COLOR\n",
    "canvas[0].fill_rect(0, 0, BOARD_SIZE, BOARD_SIZE)\n",
    "\n",
    "canvas[0].fill_style = STASH_BACKGROUND_COLOR\n",
    "canvas[0].fill_rect(STASH_STARTING_POINT_X, STASH_STARTING_POINT_Y, CANVAS_WIDTH, CANVAS_HEIGHT)\n",
    "\n",
    "\n",
    "canvas[0].stroke_style = BOARD_FOREGROUND_COLOR\n",
    "canvas[0].begin_path()\n",
    "\n",
    "for i in range(3):\n",
    "    construct_square(canvas[0], coords[i])\n",
    "    \n",
    "    \n",
    "\n",
    "construct_cross_lines(canvas[0], coords)\n",
    "\n",
    "canvas[0].stroke()\n",
    "\n",
    "canvas"
   ]
  },
  {
   "cell_type": "code",
   "execution_count": null,
   "metadata": {},
   "outputs": [],
   "source": [
    "def update_gui(state):\n",
    "    # TODO: ADD INTERACTIVITY\n",
    "    canvas[1].clear()\n",
    "    ((stash_p1, stash_p2), squares) = state\n",
    "    \n",
    "    # update pieces on the board\n",
    "    for i in range(len(squares)):\n",
    "        for j in range(len(squares[i])):\n",
    "            draw_stone(canvas[1], coords[i][j], squares[i][j])\n",
    "\n",
    "    # update pieces on the stash\n",
    "\n",
    "    # player 1\n",
    "\n",
    "    x = STASH_STARTING_POINT_X + PLAYER_PIECE_RADIUS\n",
    "    y = STASH_STARTING_POINT_Y + CANVAS_PADDING + PLAYER_PIECE_RADIUS\n",
    "\n",
    "    for i in range(stash_p1):\n",
    "        x += 2 * PLAYER_PIECE_RADIUS + STASH_STONES_SPACING\n",
    "        draw_stone(canvas[1], (x, y), PLAYER_1)\n",
    "\n",
    "    # player 2\n",
    "\n",
    "    x = STASH_STARTING_POINT_X + PLAYER_PIECE_RADIUS\n",
    "    y = STASH_STARTING_POINT_Y + CANVAS_PADDING + 3 * PLAYER_PIECE_RADIUS + STASH_STONES_SPACING\n",
    "\n",
    "    for i in range(stash_p2):\n",
    "        x += 2 * PLAYER_PIECE_RADIUS + STASH_STONES_SPACING\n",
    "        draw_stone(canvas[1], (x, y), PLAYER_2)\n",
    "    "
   ]
  },
  {
   "cell_type": "code",
   "execution_count": null,
   "metadata": {},
   "outputs": [],
   "source": [
    "# Test States\n",
    "s1 = ((9, 9), (\n",
    "    (' ', ' ', ' ', ' ', ' ', ' ', ' ', ' '),\n",
    "    (' ', ' ', ' ', ' ', ' ', ' ', ' ', ' '),\n",
    "    (' ', ' ', ' ', ' ', ' ', ' ', ' ', ' ')\n",
    "))\n",
    "s2 = ((0, 0), (\n",
    "    ('w', 'w', ' ', 'b', 'w', 'b', 'w', 'w'),\n",
    "    ('b', 'w', ' ', 'b', 'w', ' ', ' ', 'w'),\n",
    "    ('b', 'b', 'b', 'b', ' ', ' ', 'b', 'w'),\n",
    "))\n",
    "s3 = ((7, 7), (\n",
    "    ('w', 'w', ' ', ' ', ' ', ' ', ' ', ' '),\n",
    "    (' ', ' ', ' ', 'b', ' ', ' ', ' ', ' '),\n",
    "    (' ', ' ', ' ', ' ', ' ', 'b', ' ', ' ')\n",
    "))\n",
    "s4 = ((2, 8), (\n",
    "    ('w', 'w', ' ', ' ', ' ', ' ', ' ', ' '),\n",
    "    (' ', ' ', ' ', 'b', ' ', ' ', ' ', ' '),\n",
    "    (' ', ' ', ' ', ' ', ' ', 'b', ' ', ' ')\n",
    "))"
   ]
  },
  {
   "cell_type": "code",
   "execution_count": null,
   "metadata": {},
   "outputs": [],
   "source": [
    "update_gui(s1)\n",
    "canvas"
   ]
  },
  {
   "cell_type": "code",
   "execution_count": null,
   "metadata": {},
   "outputs": [],
   "source": [
    "update_gui(s2)"
   ]
  },
  {
   "cell_type": "code",
   "execution_count": null,
   "metadata": {},
   "outputs": [],
   "source": [
    "update_gui(s3)"
   ]
  },
  {
   "cell_type": "code",
   "execution_count": null,
   "metadata": {},
   "outputs": [],
   "source": [
    "update_gui(s4)"
   ]
  },
  {
   "cell_type": "code",
   "execution_count": null,
   "metadata": {},
   "outputs": [],
   "source": []
  }
 ],
 "metadata": {
  "kernelspec": {
   "display_name": "Python 3",
   "language": "python",
   "name": "python3"
  },
  "language_info": {
   "codemirror_mode": {
    "name": "ipython",
    "version": 3
   },
   "file_extension": ".py",
   "mimetype": "text/x-python",
   "name": "python",
   "nbconvert_exporter": "python",
   "pygments_lexer": "ipython3",
   "version": "3.9.0"
  }
 },
 "nbformat": 4,
 "nbformat_minor": 4
}
