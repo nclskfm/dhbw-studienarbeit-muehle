{
 "cells": [
  {
   "cell_type": "markdown",
   "metadata": {},
   "source": [
    "# Künstliche Intelligenz\n",
    "\n",
    "Diese Studienarbeit implementiert zwei verschiedene Algorithmen als künstliche Intelligenz: Minimax und α-β-Pruning. Damit diese Algorithmen leichter wiederverwendet und mit verschiedenen Einstellungen ausgeführt werden können, wird eine abstrakte Superklasse angelegt. Diese bescheibt welche Funktionen nötig sind, damit eine Implementierung den Ansprüchen einer künstlichen Intelligenz für Mühle entspricht."
   ]
  },
  {
   "cell_type": "code",
   "execution_count": null,
   "metadata": {},
   "outputs": [],
   "source": [
    "import os.path\n",
    "css = \"\"\n",
    "if os.path.isfile(\"style.html\"):\n",
    "    from IPython.core.display import HTML\n",
    "    with open(\"style.html\", \"r\") as file:\n",
    "        css = file.read()\n",
    "HTML(css)"
   ]
  },
  {
   "cell_type": "markdown",
   "metadata": {},
   "source": [
    "## BestMoves"
   ]
  },
  {
   "cell_type": "markdown",
   "metadata": {},
   "source": [
    "Die Klasse `BestMoves` beschreibt das Ergebnis, welches eine künstliche Intelligenz für Mühle erzeugen soll. Diese Klasse beschreibt den Rückgabewert der später definierten Funktion `bestMoves`. Sie hat drei Attribute:\n",
    "\n",
    "* `states` $\\subset States$;\n",
    "* `value` $\\in \\mathopen[-1.0,1.0\\mathclose]$;\n",
    "* `debugInformation` ist ein `dict`, welches weitere Informationen, wie beispielsweise die erreichte Rekursionstiefe oder die besuchten Zustände, beinhalten kann."
   ]
  },
  {
   "cell_type": "code",
   "execution_count": null,
   "metadata": {},
   "outputs": [],
   "source": [
    "class BestMoves():\n",
    "    def __init__(self, states, value, debugInformation):\n",
    "        self.states = states\n",
    "        self.value = value\n",
    "        self.debugInformation = debugInformation"
   ]
  },
  {
   "cell_type": "markdown",
   "metadata": {},
   "source": [
    "Für Entwicklungszwecke wird eine Stringdarstellung für die Klasse `BestMoves` implementiert. Hierzu wird durch die Funktion `__repr__` ein String zurückgegeben, der alle Parameter der Klasse beinhaltet."
   ]
  },
  {
   "cell_type": "code",
   "execution_count": null,
   "metadata": {},
   "outputs": [],
   "source": [
    "def __repr__(self):\n",
    "    return f\"BestMoves(states={self.states}, value={self.value}, debugInformation={self.debugInformation})\"\n",
    "\n",
    "BestMoves.__repr__ = __repr__\n",
    "del __repr__"
   ]
  },
  {
   "cell_type": "markdown",
   "metadata": {},
   "source": [
    "## ArtificialIntelligence"
   ]
  },
  {
   "cell_type": "markdown",
   "metadata": {},
   "source": [
    "Für die Definition der abstrakten Superklasse müssen zunächst aus dem Paket `abc` *Abstract Base Classes* Hilfsklassen und -funktionen importiert werden. Diese werden benötigt um eine abstrakte Klassen in Python darstellen zu können."
   ]
  },
  {
   "cell_type": "code",
   "execution_count": null,
   "metadata": {},
   "outputs": [],
   "source": [
    "from abc import ABC, abstractmethod"
   ]
  },
  {
   "cell_type": "markdown",
   "metadata": {},
   "source": [
    "Die abstrakte Superklasse `ArtificialIntelligence` ist selbst eine Unterklasse von `ABC`, dadurch wird die Klasse als abstrakt markiert. `ArtificialIntelligence` hat eine abstrakte Funktion `bestMoves`, die für einen Zustand und einen Spieler alle besten Züge errechnen soll und diese in Form einer `BestMoves` Instanz zurückgeben soll. Sie hat zwei Argumente:\n",
    "\n",
    "* `states` $\\in States$;\n",
    "* `player` $\\in Players$."
   ]
  },
  {
   "cell_type": "code",
   "execution_count": null,
   "metadata": {},
   "outputs": [],
   "source": [
    "class ArtificialIntelligence(ABC):\n",
    "    @abstractmethod\n",
    "    def bestMoves(self, state, player) -> BestMoves:\n",
    "        pass"
   ]
  },
  {
   "cell_type": "markdown",
   "metadata": {},
   "source": [
    "Die Hilfsfunktion `bestMove` nimmt die gleichen Parameter wie `bestMoves` entgegen und wählt zufällig einen der möglichen besten Züge aus. Dadurch wird sichergestellt, dass nicht immer der gleiche Zug durch die künstliche Intelligenz gespielt wird."
   ]
  },
  {
   "cell_type": "code",
   "execution_count": null,
   "metadata": {},
   "outputs": [],
   "source": [
    "import random\n",
    "def bestMove(self, state, player) -> (tuple, BestMoves):\n",
    "    bestMoves = self.bestMoves(state, player)\n",
    "    return random.choice(bestMoves.states), bestMoves\n",
    "\n",
    "ArtificialIntelligence.bestMove = bestMove\n",
    "del bestMove"
   ]
  }
 ],
 "metadata": {
  "kernelspec": {
   "display_name": "Python 3",
   "language": "python",
   "name": "python3"
  },
  "language_info": {
   "codemirror_mode": {
    "name": "ipython",
    "version": 3
   },
   "file_extension": ".py",
   "mimetype": "text/x-python",
   "name": "python",
   "nbconvert_exporter": "python",
   "pygments_lexer": "ipython3",
   "version": "3.8.5"
  }
 },
 "nbformat": 4,
 "nbformat_minor": 4
}
