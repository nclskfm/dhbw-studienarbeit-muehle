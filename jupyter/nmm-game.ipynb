{
 "cells": [
  {
   "cell_type": "markdown",
   "metadata": {},
   "source": [
    "# Spiel Definition\n",
    "In diesem Kapitel werden Funktionen diskutiert, die nötig sind um das Spiel Mühle nach\n",
    "\n",
    "$$G_{Nine Men's Morris} = 〈States,s0,Players,nextStates,finished,utility〉$$\n",
    "\n",
    "zu definieren."
   ]
  },
  {
   "cell_type": "code",
   "execution_count": null,
   "metadata": {},
   "outputs": [],
   "source": [
    "import os.path\n",
    "css = \"\"\n",
    "if os.path.isfile(\"style.html\"):\n",
    "    from IPython.core.display import HTML\n",
    "    with open(\"style.html\", \"r\") as file:\n",
    "        css = file.read()\n",
    "HTML(css)"
   ]
  },
  {
   "cell_type": "code",
   "execution_count": null,
   "metadata": {},
   "outputs": [],
   "source": [
    "%run ./nmm-game-utils.ipynb"
   ]
  },
  {
   "cell_type": "markdown",
   "metadata": {},
   "source": [
    "## Spieler\n",
    "\n",
    "Zunächst soll die Menge der Spieler definiert werden. Da Mühle mit zwei Spielern gespielt wird, die jeweils weiße oder schwarze Steine legen, werden die Spieler äquivalent benannt.\n",
    "* Der beginnende Spieler weiß wird als `w` dargestellt,\n",
    "* der gegnerische Spieler als `b`.\n",
    "\n",
    "Für die Implementierung der Funktionen ist diese Menge nicht nötig. Aus Gründen der Vollständigkeit soll diese hier dennoch definiert werden."
   ]
  },
  {
   "cell_type": "code",
   "execution_count": null,
   "metadata": {},
   "outputs": [],
   "source": [
    "Player = {'w', 'b'}"
   ]
  },
  {
   "cell_type": "markdown",
   "metadata": {},
   "source": [
    "## Zustände\n",
    "Die Menge aller Zustände ist aufwendig zu berechnen und wird ebenfalls nicht für die Implementierung benötigt. da die Zustände berechnet werden, sobald diese benötigt werden. Deswegen wird hier auf eine Definition von $States$ verzichtet.\n",
    "\n",
    "Der Startzustand $s_0$ hingegen wird zu Beginn des Spiel benötigt und ist im folgenden Definiert. Er bezeichnet ein leeres Spielbrett, bei dem beide Spieler noch alle ihre Steine legen müssen.\n",
    "Ein Zustand (`state`) ist eine Tupel die\n",
    "1. den Stapel (`stash`) von zu legenden Steinen und\n",
    "2. das Spielbrett (`board`) selbst\n",
    "beinhaltet.\n",
    "\n",
    "Der Stapel ist eine Tupel $\\langle w, b \\rangle$, die die Anzahl der zu legenden Steine von Weiß $w$ und Schwarz $b$ beinhaltet. Diese werden in der genannten Reihenfolge als Zahlen dargestellt.\n",
    "$$w, b \\in \\{0...9\\}$$\n",
    "Weiß $w$ und Schwarz $b$ müssen zu Beginn des Spiels alle ihre Steine legen. Weiß $w$ beginnt hierbei, daraus folgt\n",
    "$$ (w = b) \\lor (w+1 = b)$$\n",
    "\n",
    "Das Spielbrett wird durch eine Tripel beschrieben, die die Ringe des Spielbretts beinhaltet. Alle zusammengehörigen Spielbrettpositionen, die sich auf dem gleichen Ring befinden, sind in der folgenden Abbilung durch eine Farbe markiert. Der äußere Ring ist $rot$, der mittlere $grün$ und der innere $blau$ dargestellt, damit gilt für einen Index $r$ der einen Ringe bezeichnet $r \\in \\{0...2\\}$.\n",
    "\n",
    "![](images/nmm-rings.png)\n",
    "\n",
    "Die Spielpositionen (`cells`) $c$ auf den Ringen sind beginnend mit $c=0$ ab der oberen linken Ecke im Uhrzeigersinn durch nummeriert. Dadurch ergibt sich, dass $c \\in \\{0...7\\}$. In der Abbilung sind die Koordinaten der Spielpositionen eingezeichnet, so liegt beispielsweise $\\langle r,c \\rangle = \\langle 2,4 \\rangle$ auf dem inneren Ring in der unteren rechten Ecke. An diesen Spielpositionen wird der Spieler $p$ oder eine leere Spielposition gespeichert, für diese gilt $p \\in Player \\cup \\{'\\ '\\}$\n",
    "\n",
    "Damit folgt die formale Definition\n",
    "$$\n",
    "\\langle \\langle w, b \\rangle, \\langle \\langle p_{r, c} | \\forall c \\in \\{0...7\\} \\rangle | \\forall r \\in \\{0..2\\} \\rangle \\rangle\n",
    "$$\n",
    "und der Startzustande $s_0$:"
   ]
  },
  {
   "cell_type": "code",
   "execution_count": null,
   "metadata": {},
   "outputs": [],
   "source": [
    "s0 = ((9, 9), (\n",
    "    (' ', ' ', ' ', ' ', ' ', ' ', ' ', ' '),\n",
    "    (' ', ' ', ' ', ' ', ' ', ' ', ' ', ' '),\n",
    "    (' ', ' ', ' ', ' ', ' ', ' ', ' ', ' ')\n",
    "))"
   ]
  },
  {
   "cell_type": "markdown",
   "metadata": {},
   "source": [
    "## Folgezustände\n",
    "Für die Definition des Spieles Mühle $G_{Nine Men's Morris}$ wird die Funktion `nextStates` benötigt. Diese nimmt einen Zustand `s` und einen Spieler `p` entgegen und errechnet mit diesen alle Folgezustände, die entstehen, wenn der gegebene Spieler einen legalen Zug spielt.\n",
    "\n",
    "Da das Spiel in drei Phasen aufgeteilt ist, ist auch die Implementierung aus Gründen der Übersicht in die folgenden Phasen unterteilt:\n",
    "1. Die erste Phase des Spiels heißt _placing_ Phase, in der die Spieler alle ihre Steine aus dem Stapel auf das Spielbrett legen müssen. Hierbei dürfen bereits Mühlen gelegt und geschlagen werden. Es muss ein Stein plaziert werden.\n",
    "2. Die zweite Phase heißt _moving_ Phase und beginnt sobald der Stapel des Spielers leer ist. Beide Spieler kommen gleichzeitig in die zweite Phase in der die eigenen Steine nur noch entlang der Linien auf die nächste Spielposition geschoben werden dürfen. Es muss ein Stein bewegt werden.\n",
    "3. Die letzte Phase heißt _flying_ Phase. Diese Phase beginnt für einen Spieler, sobald dieser nur noch $3$ Steine auf dem Spielbrett liegen hat und sein Stapel leer ist. Der Eintritt in die dritte Phase ist nicht vom gegnerischen Spieler abhängig, somit können Spieler für mehrere Züge alleine in der dritten Phase sein. Hierbei können die verbleibenden Steine nun von jeder Position aufgehoben werden und auf jede freie Position bewegt werden, ohne dass diese direkt nebeneinander liegen müssen. Es muss ein Stein bewegt werden."
   ]
  },
  {
   "cell_type": "markdown",
   "metadata": {},
   "source": [
    "In der ersten Phase, der _playing_ Phase, wird ein Stein vom Stapel genommen und auf ein freies Feld gelegt. Diese Züge werden in der Funktion `nextStatesPlace` implementiert, hierbei wird ein Spieler `p` und ein Zustand `s` erwartet, für angenommen wird, dass sich der aktuelle Zustand in der ersten Phase befindet.\n",
    "\n",
    "1. Zunächst werden die Mühlen aus dem aktuellen Zustand mit Hilfe der Funktion `findMills` gespeichert.\n",
    "2. Daraufhin wird auf jede freie Spielposition ein neuer Stein des Spielers `p` gelegt.\n",
    "3. Nun werden unter Verwendung von dem Ergebnis aus _1.)_ und der Funktion `countNewMills` alle neu entstandenen Mühlen gezählt. Für diese Anzahl gilt $a \\in \\{0,1,2\\}$.\n",
    "4. Um für die neu entstandenen Mühlen die entsprechende Anzahl an Steinen zu schlagen, wird die Hilfsfunktion `poundMills` verwendet.\n",
    "5. Zum Schluss wird vom Stapel des Spielers `p` ein Stein weg genommen und der Stapel mit den Spielbrettern wieder zu Zuständen vereint."
   ]
  },
  {
   "cell_type": "code",
   "execution_count": null,
   "metadata": {},
   "outputs": [],
   "source": [
    "def nextStatesPlace(s, p):\n",
    "    # Extract the count of the stones and the board\n",
    "    ((cw, cb), board) = s\n",
    "    # Calculate all current mills the player has\n",
    "    mills = findMills(board, p)\n",
    "\n",
    "    # Place a stone in any empty cell\n",
    "    placeBoards = {\n",
    "        place(board, (r, c), p)\n",
    "        for (r, c) in findEmptyCells(board)\n",
    "    }\n",
    "    # Calculate how many new mills were created\n",
    "    boardMills = {\n",
    "        board: countNewMills(board, mills, p)\n",
    "        for board in placeBoards\n",
    "    }\n",
    "\n",
    "    # Here all final boards will be collected\n",
    "    boards = {\n",
    "        result\n",
    "        for (b, count) in boardMills.items() \n",
    "        for result in poundMills(b, count, p)\n",
    "    }\n",
    "\n",
    "    # Remove one stone from the players stache\n",
    "    (cw, cb) = (cw-1, cb) if p == 'w' else (cw, cb-1)\n",
    "\n",
    "    # Return all possible states\n",
    "    return { ((cw, cb), board) for board in boards }"
   ]
  },
  {
   "cell_type": "markdown",
   "metadata": {},
   "source": [
    "In der _moving_ Phase (2) wird ein Stein des aktuellen Spielers entlang der Linien zu einer benachbarten leeren Spielposition geschoben. Die Implementierung `nextStatesMove` wird wieder eine Zustand `s` und ein Spieler `p` erwartet, die sich in der zweiten Phase befinden."
   ]
  },
  {
   "cell_type": "code",
   "execution_count": null,
   "metadata": {},
   "outputs": [],
   "source": [
    "def nextStatesMove(s, p):\n",
    "    # Extract the count of the stones and the board\n",
    "    ((cw, cb), board) = s\n",
    "    # Calculate all current mills the player has\n",
    "    mills = findMills(board, p)\n",
    "\n",
    "    # Choose any stone of the player and move it to an empty neighbor\n",
    "    moveBoards = {\n",
    "        move(board, src, des)\n",
    "        for src in findCellsOf(board, p)\n",
    "        for des in findNeighboringEmptyCells(board, src)\n",
    "    }\n",
    "\n",
    "    # Calculate how many new mills were created\n",
    "    boardMills = {\n",
    "        b: countNewMills(b, mills, p)\n",
    "        for b in moveBoards\n",
    "    }\n",
    "\n",
    "    # Here all final boards will be collected\n",
    "    boards = {\n",
    "        result\n",
    "        for (b, count) in boardMills.items() \n",
    "        for result in poundMills(b, count, p)\n",
    "    }\n",
    "\n",
    "    return { ((cw, cb), board) for board in boards }"
   ]
  },
  {
   "cell_type": "markdown",
   "metadata": {},
   "source": [
    "Die letzte Hilfsfunktion `nextStatesFly` wird in der Phase 3 verwendet und erwartet äquivalent zu den anderen Hilfsmethoden einen Zustand `s` und Spieler `p` in der Phase 3. Hier wird ein Stein des Spieler `p` an eine andere Position auf dem Spielbrett bewegt. Diese Position muss keine Nachbarposition sein und Steine können übersprungen werden."
   ]
  },
  {
   "cell_type": "code",
   "execution_count": null,
   "metadata": {},
   "outputs": [],
   "source": [
    "def nextStatesFly(s, p):\n",
    "    # Extract the count of the stones and the board\n",
    "    ((cw, cb), board) = s\n",
    "    # Calculate all current mills the player has\n",
    "    mills = findMills(board, p)\n",
    "\n",
    "    # Choose any stone of the player and move it to an empty neighbor\n",
    "    moveBoards = {\n",
    "        move(board, src, des)\n",
    "        for src in findCellsOf(board, p)\n",
    "        for des in findEmptyCells(board)\n",
    "    }\n",
    "\n",
    "    # Calculate how many new mills were created\n",
    "    boardMills = {\n",
    "        b: countNewMills(b, mills, p)\n",
    "        for b in moveBoards\n",
    "    }\n",
    "\n",
    "    # Here all final boards will be collected\n",
    "    boards = {\n",
    "        result\n",
    "        for (b, count) in boardMills.items() \n",
    "        for result in poundMills(b, count, p)\n",
    "    }\n",
    "\n",
    "    return { ((cw, cb), board) for board in boards }"
   ]
  },
  {
   "cell_type": "markdown",
   "metadata": {},
   "source": [
    "Die Implementierung der `nextStates` Funktion führt nun die vorher definierten Funktionen zusammen. Die aktuelle Phase für den gegebenen Zustand `s` und Spieler `p` wird mit der Hilfsfunktion `playerPhase` errechnet und auf Grund dessen eine Fallunterscheidung ausgeführt, sodass gilt\n",
    "\n",
    "$$\n",
    "nextStates(s, p) = \\begin{cases}\n",
    "nextStatesPlace(s, p) & falls & playerPhase(s, p) = 1 \\\\\n",
    "nextStatesMove(s, p) & falls & playerPhase(s, p) = 2 \\\\\n",
    "nextStatesFly(s, p) & falls & playerPhase(s, p) = 3\n",
    "\\end{cases}\n",
    "$$"
   ]
  },
  {
   "cell_type": "code",
   "execution_count": null,
   "metadata": {},
   "outputs": [],
   "source": [
    "def nextStates(s, p):\n",
    "    phase = playerPhase(s, p)\n",
    "    if phase == 1:\n",
    "        return nextStatesPlace(s, p)\n",
    "    elif phase == 2:\n",
    "        return nextStatesMove(s, p)\n",
    "    else:\n",
    "        return nextStatesFly(s, p)"
   ]
  },
  {
   "cell_type": "markdown",
   "metadata": {},
   "source": [
    "## Game Progess"
   ]
  },
  {
   "cell_type": "code",
   "execution_count": null,
   "metadata": {},
   "outputs": [],
   "source": [
    "def finished(s, p, ns=None):\n",
    "    if not ns:\n",
    "        ns = nextStates(s, p);\n",
    "    return not hasEnoughStones(s, 'w') or \\\n",
    "           not hasEnoughStones(s, 'b') or \\\n",
    "           len(ns) == 0"
   ]
  },
  {
   "cell_type": "markdown",
   "metadata": {},
   "source": [
    "Die Funktion `utility(s, p)` nimmt als Parameter einen Zustand `s`, für den gilt `finished(s) = true`, und einen Spieler `p`. Das Resultat ist ein Element der Menge `{-1, 0, 1}` und ist wie folgt zu interpretieren:\n",
    " * `-1`: Der Spieler `p` hat bei gegebenem Zustand `s` verloren.\n",
    " * `0`: Weder Spieler `p` noch sein Gegner haben gewonnen, es handlet sich um ein Unentschieden.\n",
    " * `1`: Der Spieler `p` hat bei gegebenem Zustand `s` gewonnen."
   ]
  },
  {
   "cell_type": "code",
   "execution_count": null,
   "metadata": {},
   "outputs": [],
   "source": [
    "def utility(s, p):\n",
    "    utility  = -1 if not hasEnoughStones(s, p) else 0\n",
    "    utility +=  1 if not hasEnoughStones(s, opponent(p)) else 0\n",
    "    if utility != 0:\n",
    "        return utility\n",
    "    utility  = -1 if len(nextStates(s, p)) == 0 else 0\n",
    "    utility +=  1 if len(nextStates(s, opponent(p))) == 0 else 0\n",
    "    return utility"
   ]
  }
 ],
 "metadata": {
  "kernelspec": {
   "display_name": "Python 3",
   "language": "python",
   "name": "python3"
  },
  "language_info": {
   "codemirror_mode": {
    "name": "ipython",
    "version": 3
   },
   "file_extension": ".py",
   "mimetype": "text/x-python",
   "name": "python",
   "nbconvert_exporter": "python",
   "pygments_lexer": "ipython3",
   "version": "3.8.5"
  }
 },
 "nbformat": 4,
 "nbformat_minor": 4
}
