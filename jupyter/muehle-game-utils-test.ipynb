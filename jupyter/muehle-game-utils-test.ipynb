{
 "metadata": {
  "language_info": {
   "codemirror_mode": {
    "name": "ipython",
    "version": 3
   },
   "file_extension": ".py",
   "mimetype": "text/x-python",
   "name": "python",
   "nbconvert_exporter": "python",
   "pygments_lexer": "ipython3",
   "version": "3.7.6-final"
  },
  "orig_nbformat": 2,
  "kernelspec": {
   "name": "Python 3.7.6 64-bit ('base': conda)",
   "display_name": "Python 3.7.6 64-bit ('base': conda)",
   "metadata": {
    "interpreter": {
     "hash": "98b0a9b7b4eaaa670588a142fd0a9b87eaafe866f1db4228be72b4211d12040f"
    }
   }
  }
 },
 "nbformat": 4,
 "nbformat_minor": 2,
 "cells": [
  {
   "source": [
    "# Muehle Game Utils - Unit Tests"
   ],
   "cell_type": "markdown",
   "metadata": {}
  },
  {
   "cell_type": "code",
   "execution_count": 1,
   "metadata": {},
   "outputs": [],
   "source": [
    "# Import utils\n",
    "%run ./muehle-test-utils.ipynb\n",
    "# Import Test Notebook\n",
    "%run ./muehle-game-utils.ipynb"
   ]
  },
  {
   "cell_type": "code",
   "execution_count": 2,
   "metadata": {},
   "outputs": [],
   "source": [
    "TESTCOUNT = 100"
   ]
  },
  {
   "source": [
    "## Player"
   ],
   "cell_type": "markdown",
   "metadata": {}
  },
  {
   "cell_type": "code",
   "execution_count": 3,
   "metadata": {},
   "outputs": [],
   "source": [
    "class TestOpponent(unittest.TestCase):\n",
    "    def test_white(self):\n",
    "        result = opponent('w')\n",
    "        self.assertEquals(result, 'b')\n",
    "    def test_black(self):\n",
    "        result = opponent('b')\n",
    "        self.assertEquals(result, 'w')"
   ]
  },
  {
   "source": [
    "## Stones"
   ],
   "cell_type": "markdown",
   "metadata": {}
  },
  {
   "cell_type": "code",
   "execution_count": 4,
   "metadata": {},
   "outputs": [],
   "source": [
    "class TestHasPlaceableStones(unittest.TestCase):\n",
    "    def test_true_white(self):\n",
    "        for _ in range(TESTCOUNT):\n",
    "            white = random.randint(0,8)\n",
    "            black = random.randint(0,9)\n",
    "            state = generateState(white, black)\n",
    "            result = hasPlaceableStones(state, 'w')\n",
    "            self.assertEqual(result, True)\n",
    "    def test_false_white(self):\n",
    "        for _ in range(TESTCOUNT):\n",
    "            white = 9\n",
    "            black = random.randint(0,9)\n",
    "            state = generateState(white, black)\n",
    "            result = hasPlaceableStones(state, 'w')\n",
    "            self.assertEqual(result, False)\n",
    "    def test_true_black(self):\n",
    "        for _ in range(TESTCOUNT):\n",
    "            white = random.randint(0,9)\n",
    "            black = random.randint(0,8)\n",
    "            state = generateState(white, black)\n",
    "            result = hasPlaceableStones(state, 'b')\n",
    "            self.assertEqual(result, True)\n",
    "    def test_false_black(self):\n",
    "        for _ in range(TESTCOUNT):\n",
    "            white = random.randint(0,9)\n",
    "            black = 9\n",
    "            state = generateState(white, black)\n",
    "            result = hasPlaceableStones(state, 'b')\n",
    "            self.assertEqual(result, False)"
   ]
  },
  {
   "cell_type": "code",
   "execution_count": 5,
   "metadata": {},
   "outputs": [],
   "source": [
    "class TestCountStones(unittest.TestCase):\n",
    "    def test_sum(self):\n",
    "        for _ in range(TESTCOUNT):\n",
    "            white = random.randint(0,9)\n",
    "            black = random.randint(0,9)\n",
    "            state = generateState(white, black)\n",
    "\n",
    "            cWhite = countStones(state, 'w')\n",
    "            cBlack = countStones(state, 'b')\n",
    "            cEmpty = countStones(state, ' ')\n",
    "\n",
    "            sum = cWhite + cBlack + cEmpty\n",
    "            self.assertEqual(sum, 3*8)\n",
    "    \n",
    "    def test_correct(self):\n",
    "        for _ in range(TESTCOUNT):\n",
    "            white = random.randint(0,9)\n",
    "            black = random.randint(0,9)\n",
    "            state = generateState(white, black)\n",
    "\n",
    "            cWhite = countStones(state, 'w')\n",
    "            cBlack = countStones(state, 'b')\n",
    "            cEmpty = countStones(state, ' ')\n",
    "\n",
    "            self.assertEqual(white, cWhite)\n",
    "            self.assertEqual(black, cBlack)\n",
    "            self.assertEqual(3*8-white-black, cEmpty)"
   ]
  },
  {
   "cell_type": "code",
   "execution_count": 6,
   "metadata": {},
   "outputs": [],
   "source": [
    "class TestIsAllowedToJump(unittest.TestCase):\n",
    "    def test_true_white(self):\n",
    "        for _ in range(TESTCOUNT):\n",
    "            white = random.randint(0,3)\n",
    "            black = random.randint(0,9)\n",
    "            state = generateState(white, black)\n",
    "            result = isAllowedToJump(state, 'w')\n",
    "            if result != True:\n",
    "                print(state)\n",
    "            self.assertEqual(result, True)\n",
    "    def test_false_white(self):\n",
    "        for _ in range(TESTCOUNT):\n",
    "            white = random.randint(4,9)\n",
    "            black = random.randint(0,9)\n",
    "            state = generateState(white, black)\n",
    "            result = isAllowedToJump(state, 'w')\n",
    "            self.assertEqual(result, False)\n",
    "    def test_true_black(self):\n",
    "        for _ in range(TESTCOUNT):\n",
    "            white = random.randint(0,9)\n",
    "            black = random.randint(0,3)\n",
    "            state = generateState(white, black)\n",
    "            result = isAllowedToJump(state, 'b')\n",
    "            self.assertEqual(result, True)\n",
    "    def test_false_black(self):\n",
    "        for _ in range(TESTCOUNT):\n",
    "            white = random.randint(0,9)\n",
    "            black = random.randint(4,9)\n",
    "            state = generateState(white, black)\n",
    "            result = isAllowedToJump(state, 'b')\n",
    "            self.assertEqual(result, False)"
   ]
  },
  {
   "source": [
    "## Cells"
   ],
   "cell_type": "markdown",
   "metadata": {}
  },
  {
   "cell_type": "code",
   "execution_count": 7,
   "metadata": {},
   "outputs": [],
   "source": [
    "class TestFindCellsOf(unittest.TestCase):\n",
    "    def test_white(self):\n",
    "        for _ in range(TESTCOUNT):\n",
    "            white = random.randint(0,9)\n",
    "            black = random.randint(0,9)\n",
    "            (board, wCells, bCells, eCells) = generateBoardAndCells(white, black)\n",
    "            result = findCellsOf(board, 'w')\n",
    "            self.assertEqual(white, len(result))\n",
    "            self.assertEqual(wCells, result)\n",
    "    def test_black(self):\n",
    "        for _ in range(TESTCOUNT):\n",
    "            white = random.randint(0,9)\n",
    "            black = random.randint(0,9)\n",
    "            (board, wCells, bCells, eCells) = generateBoardAndCells(white, black)\n",
    "            result = findCellsOf(board, 'b')\n",
    "            self.assertEqual(black, len(result))\n",
    "            self.assertEqual(bCells, result)\n",
    "    def test_empty(self):\n",
    "        for _ in range(TESTCOUNT):\n",
    "            white = random.randint(0,9)\n",
    "            black = random.randint(0,9)\n",
    "            (board, wCells, bCells, eCells) = generateBoardAndCells(white, black)\n",
    "            result = findCellsOf(board, ' ')\n",
    "            self.assertEqual(3*8-white-black, len(result))\n",
    "            self.assertEqual(eCells, result)"
   ]
  },
  {
   "cell_type": "code",
   "execution_count": 8,
   "metadata": {},
   "outputs": [],
   "source": [
    "class TestFindEmptyCells(unittest.TestCase):\n",
    "    def test_empty(self):\n",
    "        for _ in range(TESTCOUNT):\n",
    "            white = random.randint(0,9)\n",
    "            black = random.randint(0,9)\n",
    "            (board, wCells, bCells, eCells) = generateBoardAndCells(white, black)\n",
    "            result = findEmptyCells(board)\n",
    "            self.assertEqual(3*8-white-black, len(result))\n",
    "            self.assertEqual(eCells, result)"
   ]
  },
  {
   "source": [
    "## Run Tests"
   ],
   "cell_type": "markdown",
   "metadata": {}
  },
  {
   "cell_type": "code",
   "execution_count": 9,
   "metadata": {},
   "outputs": [
    {
     "output_type": "stream",
     "name": "stderr",
     "text": [
      "test_correct (__main__.TestCountStones) ... ok\n",
      "test_sum (__main__.TestCountStones) ... ok\n",
      "test_black (__main__.TestFindCellsOf) ... ok\n",
      "test_empty (__main__.TestFindCellsOf) ... ok\n",
      "test_white (__main__.TestFindCellsOf) ... ok\n",
      "test_empty (__main__.TestFindEmptyCells) ... ok\n",
      "test_false_black (__main__.TestHasPlaceableStones) ... ok\n",
      "test_false_white (__main__.TestHasPlaceableStones) ... ok\n",
      "test_true_black (__main__.TestHasPlaceableStones) ... ok\n",
      "test_true_white (__main__.TestHasPlaceableStones) ... ok\n",
      "test_false_black (__main__.TestIsAllowedToJump) ... ok\n",
      "test_false_white (__main__.TestIsAllowedToJump) ... ok\n",
      "test_true_black (__main__.TestIsAllowedToJump) ... ok\n",
      "test_true_white (__main__.TestIsAllowedToJump) ... ok\n",
      "test_black (__main__.TestOpponent) ... ok\n",
      "test_white (__main__.TestOpponent) ... ok\n",
      "\n",
      "----------------------------------------------------------------------\n",
      "Ran 16 tests in 0.415s\n",
      "\n",
      "OK\n"
     ]
    },
    {
     "output_type": "execute_result",
     "data": {
      "text/plain": [
       "<unittest.main.TestProgram at 0x7f9688cd0c90>"
      ]
     },
     "metadata": {},
     "execution_count": 9
    }
   ],
   "source": [
    "unittest.main(argv=[''], verbosity=2, exit=False)"
   ]
  }
 ]
}