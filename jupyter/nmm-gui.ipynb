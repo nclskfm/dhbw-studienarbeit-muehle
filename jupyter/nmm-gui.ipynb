{
 "cells": [
  {
   "cell_type": "markdown",
   "metadata": {},
   "source": [
    "# Nine men's morris GUI"
   ]
  },
  {
   "cell_type": "code",
   "execution_count": null,
   "metadata": {},
   "outputs": [],
   "source": [
    "import os.path\n",
    "css = \"\"\n",
    "if os.path.isfile(\"style.html\"):\n",
    "    from IPython.core.display import HTML\n",
    "    with open(\"style.html\", \"r\") as file:\n",
    "        css = file.read()\n",
    "HTML(css)"
   ]
  },
  {
   "cell_type": "code",
   "execution_count": null,
   "metadata": {},
   "outputs": [],
   "source": [
    "import math"
   ]
  },
  {
   "cell_type": "code",
   "execution_count": null,
   "metadata": {},
   "outputs": [],
   "source": [
    "import logging\n",
    "\n",
    "# create logger with ''\n",
    "logger = logging.getLogger('GUI')\n",
    "logger.setLevel(logging.DEBUG)\n",
    "# create file handler which logs even debug messages\n",
    "fh = logging.FileHandler('log.txt')\n",
    "fh.setLevel(logging.DEBUG)\n",
    "# create console handler with a higher log level\n",
    "ch = logging.StreamHandler()\n",
    "ch.setLevel(logging.ERROR)\n",
    "# create formatter and add it to the handlers\n",
    "formatter = logging.Formatter('%(asctime)s - %(levelname)s - %(message)s')\n",
    "fh.setFormatter(formatter)\n",
    "# add the handlers to the logger\n",
    "logger.addHandler(fh)"
   ]
  },
  {
   "cell_type": "markdown",
   "metadata": {},
   "source": [
    "## Konstanten\n",
    "\n",
    "(TODO: Konstanten erklären und Schema erstellen)"
   ]
  },
  {
   "cell_type": "code",
   "execution_count": null,
   "metadata": {},
   "outputs": [],
   "source": [
    "# Board constants\n",
    "BOARD_SIZE = 500\n",
    "CANVAS_PADDING = 30\n",
    "ROW_WIDTH = 60\n",
    "PLAYER_PIECE_RADIUS = 12\n",
    "DEFAULT_PIECE_RADIUS = 5\n",
    "\n",
    "DEFAULT_STONE_LINE_WIDTH = 1\n",
    "SELECTED_STONE_LINE_WIDTH = 3\n",
    "\n",
    "STASH_STONES_SPACING = 5\n",
    "\n",
    "STASH_HEIGHT = ((PLAYER_PIECE_RADIUS * 2 ) * 2) + (STASH_STONES_SPACING) + (CANVAS_PADDING * 2)\n",
    "STASH_WIDTH = ((PLAYER_PIECE_RADIUS * 2 ) * 9) + (STASH_STONES_SPACING * 8) + (CANVAS_PADDING * 2)\n",
    "\n",
    "CANVAS_HEIGHT = BOARD_SIZE\n",
    "CANVAS_WIDTH = 1500\n",
    "\n",
    "STASH_STARTING_POINT_X = BOARD_SIZE\n",
    "STASH_STARTING_POINT_Y = CANVAS_HEIGHT - STASH_HEIGHT\n",
    "\n",
    "# text\n",
    "TEXT_X = BOARD_SIZE + CANVAS_PADDING\n",
    "TEXT_Y = CANVAS_PADDING\n",
    "TEXT_MAX_WIDTH = CANVAS_WIDTH - BOARD_SIZE - 2 * CANVAS_PADDING\n",
    "TEXT_FONT = '14px sans-serif'\n",
    "TEXT_VERTICAL_PADDING = 40\n",
    "\n",
    "\n",
    "# players\n",
    "NO_PLAYER = ' '\n",
    "PLAYER_1 = 'w'\n",
    "PLAYER_2 = 'b'\n",
    "\n",
    "\n",
    "# color constants\n",
    "CANVAS_BACKGROUND_COLOR = '#ffffff'\n",
    "BOARD_FOREGROUND_COLOR = '#191919'\n",
    "BOARD_BACKGROUND_COLOR = '#ffffcb'\n",
    "STASH_BACKGROUND_COLOR = '#dedede'\n",
    "PLAYER_1_FILL_COLOR = '#E8E8E8'\n",
    "PLAYER_1_STROKE_COLOR = '#191919'\n",
    "PLAYER_2_FILL_COLOR = '#3D3D3D'\n",
    "PLAYER_2_STROKE_COLOR = '#191919'\n",
    "TEXT_COLOR = '#000000'\n",
    "\n",
    "# enabled shadow constants\n",
    "SHADOW_COLOR_ENABLED = '#000000'\n",
    "SHADOW_OFFSET_X_ENABLED = 2\n",
    "SHADOW_OFFSET_Y_ENABLED = 2\n",
    "SHADOW_BLUR_ENABLED = 2\n",
    "\n",
    "# disabled shadow constants\n",
    "SHADOW_COLOR_DISABLED = 'rgba(0, 0, 0, 0)'\n",
    "SHADOW_OFFSET_X_DISABLED = 0\n",
    "SHADOW_OFFSET_Y_DISABLED = 0\n",
    "SHADOW_BLUR_DISABLED = 0\n"
   ]
  },
  {
   "cell_type": "markdown",
   "metadata": {},
   "source": [
    "### Berechnete Werte\n",
    "\n",
    "Die Koordinaten für die Knoten lassen sich aus den obrigen Konstanten berechnen. Da das Mühlespielbrett horizontal und vertikal identisch ist, werden für die Koordinaten auf der x- und y-Achse die gleichen Werte benötigt, die mit $av$ (für _available values_) bezeichnet werden. Es werden insgesamt sieben Werte $av_0$ bis $av_6$ benötigt, die in der folgenden Abbildung dargestellt werden.\n",
    "\n",
    "![](images/nmm-av.png)\n",
    "\n",
    "Die Werte lassen sich wie folgt berechnen.\n",
    "\n",
    "$$ av_0 =  CANVAS\\_PADDING $$\n",
    "$$ av_1 =  CANVAS\\_PADDING + ROW\\_WIDTH $$\n",
    "$$ av_2 =  CANVAS\\_PADDING + 2 \\cdot ROW\\_WIDTH $$\n",
    "$$ av_3 =  \\frac{BOARD\\_SIZE}{2}$$\n",
    "$$ av_4 =  BOARD\\_SIZE - (CANVAS\\_PADDING + 2 \\cdot ROW\\_WIDTH) $$\n",
    "$$ av_5 =  BOARD\\_SIZE - (CANVAS\\_PADDING + ROW\\_WIDTH)$$\n",
    "$$ av_6 =  BOARD\\_SIZE - CANVAS\\_PADDING $$"
   ]
  },
  {
   "cell_type": "code",
   "execution_count": null,
   "metadata": {},
   "outputs": [],
   "source": [
    "av = (\n",
    "    math.floor(CANVAS_PADDING),\n",
    "    math.floor(CANVAS_PADDING + ROW_WIDTH),\n",
    "    math.floor(CANVAS_PADDING + 2 * ROW_WIDTH),\n",
    "    math.floor(BOARD_SIZE / 2),\n",
    "    math.floor(BOARD_SIZE - (CANVAS_PADDING + 2 * ROW_WIDTH)),\n",
    "    math.floor(BOARD_SIZE - (CANVAS_PADDING + ROW_WIDTH)),\n",
    "    math.floor(BOARD_SIZE - CANVAS_PADDING)\n",
    ")\n"
   ]
  },
  {
   "cell_type": "markdown",
   "metadata": {},
   "source": [
    "### Koordinaten\n",
    "(TODO: Erklärung)\n",
    "\n",
    "Die Koordinaten der Knoten sind in dem zweidimensionalen Tupel `coords` definiert. Zuerst wird der Ring definiert, von außen nach innen. Danach die Position im Ring, beginnend von oben links und dann im Uhrzeigersinn. In der Abbildung sind die Knoten mit den Koordinaten dargestellt. Die Werte von den Koordinaten sind die x- und y-Werte auf der Zeichenfläche, definiert in `av`.\n",
    "\n",
    "![](images/nmm-coords.png)"
   ]
  },
  {
   "cell_type": "code",
   "execution_count": null,
   "metadata": {},
   "outputs": [],
   "source": [
    "coords = (\n",
    "    (\n",
    "        (av[0], av[0]),\n",
    "        (av[3], av[0]),\n",
    "        (av[6], av[0]),\n",
    "        (av[6], av[3]),\n",
    "        (av[6], av[6]),\n",
    "        (av[3], av[6]),\n",
    "        (av[0], av[6]),\n",
    "        (av[0], av[3])\n",
    "    ),\n",
    "    (\n",
    "        (av[1], av[1]),\n",
    "        (av[3], av[1]),\n",
    "        (av[5], av[1]),\n",
    "        (av[5], av[3]),\n",
    "        (av[5], av[5]),\n",
    "        (av[3], av[5]),\n",
    "        (av[1], av[5]),\n",
    "        (av[1], av[3])\n",
    "    ),\n",
    "    (\n",
    "        (av[2], av[2]),\n",
    "        (av[3], av[2]),\n",
    "        (av[4], av[2]),\n",
    "        (av[4], av[3]),\n",
    "        (av[4], av[4]),\n",
    "        (av[3], av[4]),\n",
    "        (av[2], av[4]),\n",
    "        (av[2], av[3])\n",
    "    )\n",
    ") "
   ]
  },
  {
   "cell_type": "markdown",
   "metadata": {},
   "source": [
    "## Funktionen zum Zeichnen\n",
    "\n",
    "Die grafische Oberfläche (englisch _graphical user interface_, GUI) wird mit dem Python-Modul ipycanvas aufgebaut. Dieses Modul ermöglicht die Verwendung einer interaktiven Zeichenfläche zum Zeichnen von 2D-Objekten in IPython. Es bringt eine Reihe von Funktionen mit, um einfache Formen zeichnen zu können. Gezeichnet wird auf einem 2D-Canvas-Objekt mit den Startkoordinaten `(0,0)` oben links."
   ]
  },
  {
   "cell_type": "code",
   "execution_count": null,
   "metadata": {},
   "outputs": [],
   "source": [
    "import ipycanvas"
   ]
  },
  {
   "cell_type": "markdown",
   "metadata": {},
   "source": [
    "### drawLine\n",
    "\n",
    "Die Funktion `drawLine` dient zum Zeichnen einer Linie auf einem Zeichenfeld. Die Funktion hat drei Eingabeparameter:\n",
    "\n",
    "- `c` ist eine Referenz auf ein Canvas-Objekt, auf dem die Linie gezeichnet werden soll.\n",
    "- `start` ist die Koordinate des Startpunktes der Linie.\n",
    "- `end` ist die Koordinate des Endpunktes der Linie."
   ]
  },
  {
   "cell_type": "code",
   "execution_count": null,
   "metadata": {},
   "outputs": [],
   "source": [
    "def drawLine(c, start, end):\n",
    "    c.move_to(start[0], start[1])\n",
    "    c.line_to(end[0], end[1])"
   ]
  },
  {
   "cell_type": "markdown",
   "metadata": {},
   "source": [
    "### toggleShadow\n",
    "\n",
    "Die Funktion `toggleShadow` schaltet den Schatten auf einem gegebenen Canvas ein und aus. Sie hat folgende Eingabeparameter:\n",
    "\n",
    "- `c` ist eine Referenz auf ein Canvas-Objekt.\n",
    "- `enable` ist ein Booleanwert, der angibt, ob Schatten auf dem Canvas `c` ein oder ausgeschaltet werden soll.\n",
    "\n",
    "Wird der Schatten eingeschaltet, werden die Schatteneigenschaften des Canvas mit den oben definierten Konstanten gesetzt. Andernfalls werden die Standardwerte von _ipycanvas_ gesetzt, was bedeutet, der Schatten wird deaktiviert. "
   ]
  },
  {
   "cell_type": "code",
   "execution_count": null,
   "metadata": {},
   "outputs": [],
   "source": [
    "def toggleShadow(c, enable):\n",
    "    c.shadow_color    = SHADOW_COLOR_ENABLED    if enable else SHADOW_COLOR_DISABLED\n",
    "    c.shadow_offset_x = SHADOW_OFFSET_X_ENABLED if enable else SHADOW_OFFSET_X_DISABLED\n",
    "    c.shadow_offset_y = SHADOW_OFFSET_Y_ENABLED if enable else SHADOW_OFFSET_Y_DISABLED\n",
    "    c.shadow_blur     = SHADOW_BLUR_ENABLED     if enable else SHADOW_BLUR_DISABLED"
   ]
  },
  {
   "cell_type": "markdown",
   "metadata": {},
   "source": [
    "### drawCircle\n",
    "\n",
    "Die Funktion `drawCircle` dient zum Zeichnen eines Kreises auf einem Zeichenfeld. Die Funktion hat vier Argumente und drei optionale Parameter:\n",
    "\n",
    "- `c` ist eine Referenz auf ein Canvas-Objekt, auf dem der Kreis gezeichnet werden soll.\n",
    "- `coords` ist die Koordinate des Mittelpunktes des Kreies.\n",
    "- `radius` ist der Radius des Kreises.\n",
    "- `color` gibt die Farbe des Kreises an.\n",
    "- `strokeColor` ist ein optionaler Parameter, der die Farbe der Umrandung angibt. Der Standardwert ist `None`. In dem Fall wird der Kreis nicht umrandet.\n",
    "- `lineWidth` ist ein optionaler Parameter, der die Liniendicke angibt. Der Standardwert ist in der Kontante `DEFAULT_STONE_LINE_WIDTH` definiert.\n",
    "- `useShadow` ist ein optionaler Booleanwert. Wenn er gesetzt ist, wird ein Schatten von dem Kreis gemalt. Standardmäßig ist der Wert `False`."
   ]
  },
  {
   "cell_type": "code",
   "execution_count": null,
   "metadata": {},
   "outputs": [],
   "source": [
    "def drawCircle(c, coords, radius, color, strokeColor = None, lineWidth = DEFAULT_STONE_LINE_WIDTH, useShadow = False):\n",
    "    if useShadow:\n",
    "        toggleShadow(c, True)\n",
    "    c.fill_style = color\n",
    "    c.fill_arc(coords[0], coords[1], radius, 0, 2 * math.pi)\n",
    "    if useShadow:\n",
    "        toggleShadow(c, False)\n",
    "    if strokeColor is not None:\n",
    "        c.line_width = lineWidth\n",
    "        c.strokeColor = strokeColor\n",
    "        c.stroke_arc(coords[0], coords[1], radius, 0, 2 * math.pi)"
   ]
  },
  {
   "cell_type": "markdown",
   "metadata": {},
   "source": [
    "### drawStone\n",
    "\n",
    "Die Funktion `drawStone` dient zum Zeichnen eines Steines auf einem Zeichenfeld mit Hilfe der Funktion `drawCircle`. Ein Spielstein besteht aus zwei Kreisen und ein leerer Knoten (also wo sich kein Spieler befinden) aus einem Kreis.\n",
    "\n",
    "Die Funktion hat drei Argumente und einen optionalen Parameter:\n",
    "\n",
    "- `c` ist eine Referenz auf ein Canvas-Objekt, auf dem der Stein gezeichnet werden soll.\n",
    "- `coords` ist die Koordinate des Mittelpunktes des Steines.\n",
    "- `player` gibt  den Spieler an.\n",
    "- `selected` ist ein optionaler Booleanwert, der angibt, ob ein Spielerstein ausgewählt ist oder nicht. Der Standardwert ist `False`."
   ]
  },
  {
   "cell_type": "code",
   "execution_count": null,
   "metadata": {},
   "outputs": [],
   "source": [
    "def drawStone(c, coords, player, selected = False):\n",
    "    if player == NO_PLAYER:\n",
    "        drawCircle(c, coords, DEFAULT_PIECE_RADIUS, BOARD_FOREGROUND_COLOR)\n",
    "    else:\n",
    "        color       = PLAYER_1_FILL_COLOR   if player == PLAYER_1 else PLAYER_2_FILL_COLOR\n",
    "        strokeColor = PLAYER_1_STROKE_COLOR if player == PLAYER_1 else PLAYER_2_STROKE_COLOR\n",
    "        \n",
    "        lineWidth = SELECTED_STONE_LINE_WIDTH if selected else DEFAULT_STONE_LINE_WIDTH\n",
    "        \n",
    "        drawCircle(c, coords, PLAYER_PIECE_RADIUS                , color, strokeColor = strokeColor, lineWidth = lineWidth, useShadow = True)\n",
    "        drawCircle(c, coords, math.floor(PLAYER_PIECE_RADIUS / 2), color, strokeColor = strokeColor, lineWidth = lineWidth)"
   ]
  },
  {
   "cell_type": "markdown",
   "metadata": {},
   "source": [
    "### drawText\n",
    "\n",
    "Die Funktion `drawText` zeichnet einen Text auf einer Zeichenfläche. Die Funktion hat zwei Argumente und einen optionalen Parameter:\n",
    "\n",
    "- `c` ist eine Referenz auf ein Canvas-Objekt, auf dem der Text gezeichnet werden soll.\n",
    "- `msg` ist die Nachricht, die auf dem Canvas geschrieben werden soll.\n",
    "- `hint` ist ein optionaler String, der ein Hinweis oder eine Warnung ist. Standardmäßig ist die Variable auf `None` gesetzt.\n",
    "\n",
    "Bei jedem Funktionsaufruf wird am Anfang der Inhalt der Zeichenfläche gelöscht, sodass sich immer nur eine Version des Textes auf der Zeichenfläche befindet.  "
   ]
  },
  {
   "cell_type": "code",
   "execution_count": null,
   "metadata": {},
   "outputs": [],
   "source": [
    "def drawText(c, msg, hint = None):\n",
    "    c.clear()\n",
    "    c.fill_text(msg, TEXT_X, TEXT_Y, max_width = TEXT_MAX_WIDTH)\n",
    "    if hint is not None:\n",
    "        c.fill_text('hint: ' + hint, TEXT_X, TEXT_Y + TEXT_VERTICAL_PADDING, max_width = TEXT_MAX_WIDTH)"
   ]
  },
  {
   "cell_type": "markdown",
   "metadata": {},
   "source": [
    "### constructSquare\n",
    "\n",
    "Die Funktion `constructSquare` konstruiert ein Quadrat auf einer Zeichenfläche und lässt es mit Hilfe der Funktion `drawLine` zeichnen. Die Funktion hat zwei Eingabeargumente:\n",
    "\n",
    "- `c` ist eine Referenz auf ein Canvas-Objekt, auf dem das Quadrat gezeichnet werden soll.\n",
    "- `ring` ist ein Acht-Tupel, das die Koordinaten eines Ringes enthält."
   ]
  },
  {
   "cell_type": "code",
   "execution_count": null,
   "metadata": {},
   "outputs": [],
   "source": [
    "# Function to construct a square on a canvas c.\n",
    "def constructSquare(c, ring):\n",
    "    for i in range(4):\n",
    "        start = i * 2\n",
    "        end = (i * 2 + 2) if (i * 2 + 2 <= 6) else 0 \n",
    "        drawLine(c, ring[start], ring[end])"
   ]
  },
  {
   "cell_type": "markdown",
   "metadata": {},
   "source": [
    "### constructCrossLines\n",
    "\n",
    "Die Funktion `constructCrossLines` konstruiert die Querlinien des Mühlespiels auf einer Zeichenfläche und lässt es mit Hilfe der Funktion `drawLine` zeichnen. Die Funktion hat zwei Eingabeargumente:\n",
    "\n",
    "- `c` ist eine Referenz auf ein Canvas-Objekt, auf dem die Querlinien gezeichnet werden sollen.\n",
    "- `coords` ist ein zweidimensionales Tupel, welches alle Koordinaten des Spielbrettes enthält (vgl. das Kapitel _Koordinaten_ in der GUI)."
   ]
  },
  {
   "cell_type": "code",
   "execution_count": null,
   "metadata": {},
   "outputs": [],
   "source": [
    "def constructCrossLines(c, coords):\n",
    "    for i in range(4):\n",
    "        k = i * 2 + 1\n",
    "        drawLine(c, coords[0][k], coords[2][k])"
   ]
  },
  {
   "cell_type": "markdown",
   "metadata": {},
   "source": [
    "### setupCanvas\n",
    "(TODO: Erklärung)"
   ]
  },
  {
   "cell_type": "code",
   "execution_count": null,
   "metadata": {},
   "outputs": [],
   "source": [
    "# Function to setup a canvas, returns a reference to a MultiCanvas\n",
    "def setupCanvas():\n",
    "    # level 0: Background and lines\n",
    "    # level 1: Stones\n",
    "    # level 2: Text\n",
    "    canvas = ipycanvas.MultiCanvas(3, width = CANVAS_WIDTH, height = CANVAS_HEIGHT)\n",
    "    with ipycanvas.hold_canvas(canvas[0]):\n",
    "        \n",
    "        canvas[0].fill_style = CANVAS_BACKGROUND_COLOR\n",
    "        canvas[0].fill_rect(0, 0, CANVAS_WIDTH, CANVAS_HEIGHT)\n",
    "        \n",
    "        canvas[0].fill_style = BOARD_BACKGROUND_COLOR\n",
    "        canvas[0].fill_rect(0, 0, BOARD_SIZE, BOARD_SIZE)\n",
    "\n",
    "        canvas[0].fill_style = STASH_BACKGROUND_COLOR\n",
    "        canvas[0].fill_rect(STASH_STARTING_POINT_X, STASH_STARTING_POINT_Y, STASH_WIDTH, STASH_HEIGHT)\n",
    "\n",
    "\n",
    "        canvas[0].stroke_style = BOARD_FOREGROUND_COLOR\n",
    "        canvas[0].begin_path()\n",
    "\n",
    "        for i in range(3):\n",
    "            constructSquare(canvas[0], coords[i])\n",
    "\n",
    "        constructCrossLines(canvas[0], coords)\n",
    "        canvas[0].stroke()\n",
    "    \n",
    "    canvas[1].font = TEXT_FONT\n",
    "    canvas[1].fill_style = TEXT_COLOR\n",
    "    \n",
    "    return canvas"
   ]
  },
  {
   "cell_type": "markdown",
   "metadata": {},
   "source": [
    "### updateGui\n",
    "(TODO: Erklärung)"
   ]
  },
  {
   "cell_type": "code",
   "execution_count": null,
   "metadata": {},
   "outputs": [],
   "source": [
    "def updateGui(c, state, selectedStone = None):\n",
    "    with ipycanvas.hold_canvas(c):\n",
    "        c.clear()\n",
    "        ((stashP1, stashP2), squares) = state\n",
    "\n",
    "        # update pieces on the board\n",
    "        for i in range(len(squares)):\n",
    "            for j in range(len(squares[i])):\n",
    "                drawStone(c, coords[i][j], squares[i][j], selected = selectedStone == (i, j))\n",
    "\n",
    "        # update pieces on the stash\n",
    "\n",
    "        # player 1\n",
    "\n",
    "        x = STASH_STARTING_POINT_X + PLAYER_PIECE_RADIUS\n",
    "        y = STASH_STARTING_POINT_Y + CANVAS_PADDING + PLAYER_PIECE_RADIUS\n",
    "\n",
    "        for i in range(stashP1):\n",
    "            x += 2 * PLAYER_PIECE_RADIUS + STASH_STONES_SPACING\n",
    "            drawStone(c, (x, y), PLAYER_1)\n",
    "\n",
    "        # player 2\n",
    "\n",
    "        x = STASH_STARTING_POINT_X + PLAYER_PIECE_RADIUS\n",
    "        y = STASH_STARTING_POINT_Y + CANVAS_PADDING + 3 * PLAYER_PIECE_RADIUS + STASH_STONES_SPACING\n",
    "\n",
    "        for i in range(stashP2):\n",
    "            x += 2 * PLAYER_PIECE_RADIUS + STASH_STONES_SPACING\n",
    "            drawStone(c, (x, y), PLAYER_2)\n",
    "    "
   ]
  },
  {
   "cell_type": "markdown",
   "metadata": {},
   "source": [
    "## Hilfsfunktionen für das Spiel in der GUI\n",
    "(TODO: Erklärung)"
   ]
  },
  {
   "cell_type": "code",
   "execution_count": null,
   "metadata": {},
   "outputs": [],
   "source": [
    "%run ./nmm-minimax.ipynb\n",
    "%run ./nmm-alpha-beta-pruning.ipynb"
   ]
  },
  {
   "cell_type": "markdown",
   "metadata": {},
   "source": [
    "### getClickedStone\n",
    "(TODO: Erklärung)"
   ]
  },
  {
   "cell_type": "code",
   "execution_count": null,
   "metadata": {},
   "outputs": [],
   "source": [
    "def getClickedStone(x, y):\n",
    "    for value in av:\n",
    "        if value - PLAYER_PIECE_RADIUS <= x <= value + PLAYER_PIECE_RADIUS:\n",
    "            logger.info(f'value for x = {x} found: {value}')\n",
    "            x = value\n",
    "        if value - PLAYER_PIECE_RADIUS <= y <= value + PLAYER_PIECE_RADIUS:\n",
    "            logger.info(f'value for y = {y} found: {value}')\n",
    "            y = value\n",
    "\n",
    "    for i in range(len(coords)):\n",
    "        for j in range(len(coords[i])):\n",
    "            if coords[i][j] == (x, y):\n",
    "                logger.info(f'stone clicked: {(x, y)}')\n",
    "                return (i, j)\n",
    "    return None"
   ]
  },
  {
   "cell_type": "markdown",
   "metadata": {},
   "source": [
    "## Klasse GameState\n",
    "\n",
    "(TODO: Erklärung)"
   ]
  },
  {
   "cell_type": "code",
   "execution_count": null,
   "metadata": {},
   "outputs": [],
   "source": [
    "class GameState:\n",
    "    def __init__(self, state = START_STATE, player = PLAYER_1, algorithm1 = None, algorithm1Limit = None, algorithm2 = None, algorithm2Limit = None, timeout = None, stepwise = False):\n",
    "        self.state = state\n",
    "        self.player = player\n",
    "        self.canvas = setupCanvas()\n",
    "        self.winner = None\n",
    "        self.resetStateVariables()\n",
    "        \n",
    "        self.algorithm1 = algorithm1.upper() if algorithm1 else None\n",
    "        self.algorithm1Limit = algorithm1Limit\n",
    "        self.algorithm2 = algorithm2.upper() if algorithm2 else None\n",
    "        self.algorithm2Limit = algorithm2Limit\n",
    "        self.timeout = timeout\n",
    "        self.stepwise = stepwise\n",
    "        \n",
    "        self.pause = (self.player == PLAYER_1 and self.algorithm1) or (self.player == PLAYER_1 and self.algorithm2)\n",
    "        if self.pause:\n",
    "            self.hint = 'Please click to start the game.'\n",
    "        \n",
    "        self.canvas[2].on_mouse_up(self.handleGame)\n",
    "        \n",
    "        updateGui(self.canvas[2], self.state)\n",
    "        self.updateText()\n",
    "        logger.info('game state initalized')\n",
    "        "
   ]
  },
  {
   "cell_type": "markdown",
   "metadata": {},
   "source": [
    "### resetStateVariables\n",
    "(TODO: Erklärung)"
   ]
  },
  {
   "cell_type": "code",
   "execution_count": null,
   "metadata": {},
   "outputs": [],
   "source": [
    "def resetStateVariables(self):\n",
    "    self.stateTemp = None\n",
    "    self.millsToPound = 0\n",
    "    self.selectedStone = None\n",
    "    self.hint = None\n",
    "    \n",
    "GameState.resetStateVariables = resetStateVariables\n",
    "del resetStateVariables"
   ]
  },
  {
   "cell_type": "markdown",
   "metadata": {},
   "source": [
    "### handleGame\n",
    "(TODO: Erklärung)"
   ]
  },
  {
   "cell_type": "code",
   "execution_count": null,
   "metadata": {},
   "outputs": [],
   "source": [
    "def handleGame(self, x, y):\n",
    "    if self.winner is not None:\n",
    "        logger.warning('Game has ended!')\n",
    "        return\n",
    "    \n",
    "    if self.pause:\n",
    "        self.pause = False\n",
    "        self.hint = None\n",
    "        \n",
    "        self.updateText()\n",
    "        self.checkForComputerStep()\n",
    "    \n",
    "        return\n",
    "    \n",
    "    logger.info(f'({x}, {y})')\n",
    "    phase = playerPhase(self.state, self.player)\n",
    "    logger.info(f'player phase: {phase}')\n",
    "\n",
    "    stone = getClickedStone(x, y)\n",
    "\n",
    "    if stone is None:\n",
    "        logger.warning('No stone was clicked!')\n",
    "        if self.selectedStone is not None and self.millsToPound <= 0:\n",
    "            self.cancelStep()\n",
    "    elif self.millsToPound > 0:\n",
    "        self.poundMillInGui(stone)\n",
    "    elif self.selectedStone is not None:\n",
    "        self.moveStoneTo(stone)\n",
    "    elif phase == 1:\n",
    "        self.playerPhaseOne(stone)\n",
    "    elif phase == 2 or phase == 3:\n",
    "        self.selectStone(stone)\n",
    "\n",
    "    self.checkIfFinished()\n",
    "\n",
    "    self.updateText()\n",
    "\n",
    "    self.checkForComputerStep()\n",
    "\n",
    "GameState.handleGame = handleGame\n",
    "del handleGame"
   ]
  },
  {
   "cell_type": "markdown",
   "metadata": {},
   "source": [
    "### togglePlayer\n",
    "(TODO: Erklärung)"
   ]
  },
  {
   "cell_type": "code",
   "execution_count": null,
   "metadata": {},
   "outputs": [],
   "source": [
    "def togglePlayer(self):\n",
    "    self.player = opponent(self.player)\n",
    "        \n",
    "GameState.togglePlayer = togglePlayer\n",
    "del togglePlayer"
   ]
  },
  {
   "cell_type": "markdown",
   "metadata": {},
   "source": [
    "### checkForComputerStep\n",
    "(TODO: Erklärung)"
   ]
  },
  {
   "cell_type": "code",
   "execution_count": null,
   "metadata": {},
   "outputs": [],
   "source": [
    "from time import sleep\n",
    "\n",
    "def checkForComputerStep(self):\n",
    "    if self.winner is not None:\n",
    "        logger.warning('Game has ended!')\n",
    "        return\n",
    "    \n",
    "    if self.pause:\n",
    "        logger.warning('Pause!')\n",
    "        self.hint = 'The game has paused. Please click to continue!'\n",
    "        self.updateText()\n",
    "        return\n",
    "    \n",
    "    if (self.player == PLAYER_1 and self.algorithm1) or (self.player == PLAYER_2 and self.algorithm2):\n",
    "        logger.info(f'computer calculating for player {self.player} with algorithm {self.algorithm1 if self.player == PLAYER_1 else self.algorithm2}')\n",
    "        \n",
    "        if (self.player == PLAYER_1 and self.algorithm1 == 'MM') or (self.player == PLAYER_2 and self.algorithm1 == 'MM'):\n",
    "            bestValue, bestMove = bestMove_MM(self.state, self.player, limit = self.algorithm1Limit if self.player == PLAYER_1 else self.algorithm2Limit)\n",
    "        elif (self.player == PLAYER_1 and self.algorithm1 == 'AB') or (self.player == PLAYER_2 and self.algorithm1 == 'AB'):\n",
    "            bestValue, bestMove = bestMove_AB(self.state, self.player, limit = self.algorithm1Limit if self.player == PLAYER_1 else self.algorithm2Limit)\n",
    "        else:\n",
    "            logger.error(f'Invalid algorithm: {self.algorithm1} or {self.algorithm2}!')\n",
    "            return\n",
    "    \n",
    "        logger.info(f'best state calculated with Score {bestValue}:\\n{bestMove}')\n",
    "    \n",
    "        self.state = bestMove\n",
    "        \n",
    "        updateGui(self.canvas[2], self.state)\n",
    "        \n",
    "        if self.timeout:\n",
    "            self.hint = f'Timeout ({self.timeout} seconds). Please wait!'\n",
    "            self.updateText()\n",
    "            sleep(self.timeout)\n",
    "        \n",
    "        self.resetStateVariables()\n",
    "        self.togglePlayer()\n",
    "        \n",
    "        self.checkIfFinished()\n",
    "        self.updateText()\n",
    "        \n",
    "        self.pause = self.stepwise\n",
    "        self.checkForComputerStep()\n",
    "    \n",
    "GameState.checkForComputerStep = checkForComputerStep\n",
    "del checkForComputerStep"
   ]
  },
  {
   "cell_type": "markdown",
   "metadata": {},
   "source": [
    "### playerPhaseOne\n",
    "(TODO: Erklärung)"
   ]
  },
  {
   "cell_type": "code",
   "execution_count": null,
   "metadata": {},
   "outputs": [],
   "source": [
    "def playerPhaseOne(self, stone):\n",
    "    if getPlayerAt(self.state[1], stone) != NO_PLAYER:\n",
    "        logger.warning(f'{stone} is not free')\n",
    "        self.hint = f'The slot at {stone} is not free!'\n",
    "        return\n",
    "\n",
    "    newState = (removeFromStash(self.state[0], self.player), place(self.state[1], stone, self.player))\n",
    "\n",
    "    if self.validateNewState(newState):\n",
    "        logging.info('stone placed')\n",
    "    else:\n",
    "        logger.info('NewState not in allAvailableStates, checking for new Mills ...')\n",
    "        self.checkForNewMills(newState)\n",
    "\n",
    "        \n",
    "GameState.playerPhaseOne = playerPhaseOne\n",
    "del playerPhaseOne"
   ]
  },
  {
   "cell_type": "markdown",
   "metadata": {},
   "source": [
    "### selectStone\n",
    "(TODO: Erklärung)"
   ]
  },
  {
   "cell_type": "code",
   "execution_count": null,
   "metadata": {},
   "outputs": [],
   "source": [
    "def selectStone(self, stone):\n",
    "    if getPlayerAt(self.state[1], stone) != self.player:\n",
    "        logger.warning(f'{stone} is not the own stone')\n",
    "        self.hint = 'Plase select your own stone!'\n",
    "        return\n",
    "    self.selectedStone = stone\n",
    "    self.hint = None\n",
    "    updateGui(self.canvas[2], self.state, selectedStone = self.selectedStone)\n",
    "\n",
    "    \n",
    "GameState.selectStone = selectStone\n",
    "del selectStone"
   ]
  },
  {
   "cell_type": "markdown",
   "metadata": {},
   "source": [
    "### checkForNewMills\n",
    "(TODO: Erklärung)"
   ]
  },
  {
   "cell_type": "code",
   "execution_count": null,
   "metadata": {},
   "outputs": [],
   "source": [
    "def checkForNewMills(self, newState):\n",
    "    oldMills = findMills(self.state[1], self.player)\n",
    "    newMills = countNewMills(newState[1], oldMills, self.player)\n",
    "\n",
    "    if newMills > 0:\n",
    "        \n",
    "        logger.info(f'new mills: {newMills}')\n",
    "        \n",
    "        self.stateTemp = newState\n",
    "        self.millsToPound = newMills\n",
    "        self.hint = None\n",
    "        updateGui(self.canvas[2], self.stateTemp)\n",
    "    \n",
    "\n",
    "GameState.checkForNewMills = checkForNewMills\n",
    "del checkForNewMills"
   ]
  },
  {
   "cell_type": "markdown",
   "metadata": {},
   "source": [
    "### poundMillInGui\n",
    "(TODO: Erklärung)"
   ]
  },
  {
   "cell_type": "code",
   "execution_count": null,
   "metadata": {},
   "outputs": [],
   "source": [
    "def poundMillInGui(self, stone):\n",
    "    if self.millsToPound  <= 0:\n",
    "        logger.warning('Player has no Mills to pound!')\n",
    "        return\n",
    "    if getPlayerAt(self.state[1], stone) != opponent(self.player):\n",
    "        logger.warning(f'{stone} is not the opponent!')\n",
    "        self.hint = 'Please select an opponent stone!'\n",
    "        \n",
    "        return\n",
    "    # if the player has only one mill left to pound, it uses the place function and afterwards validates the newState\n",
    "    if self.millsToPound == 1:\n",
    "        newState = (self.stateTemp[0], place(self.stateTemp[1], stone, NO_PLAYER))\n",
    "        if self.validateNewState(newState):\n",
    "            logger.info('success')\n",
    "        else:\n",
    "            logger.warning('Mills could not be pounded! The new state could not be validated by the game logic.')\n",
    "            self.hint = 'Please do not select an opponent stone that is in a mill!'\n",
    "\n",
    "        return\n",
    "    \n",
    "    # otherwise the gui has to validate the mill manually, as the intermediate step cannot be checked by the game logic\n",
    "    if stone in getCellsPoundable(self.stateTemp[1], self.player):\n",
    "        self.stateTemp = (self.stateTemp[0], place(self.stateTemp[1], stone, NO_PLAYER))\n",
    "        self.millsToPound -= 1\n",
    "        self.hint = None\n",
    "        updateGui(self.canvas[2], self.stateTemp)\n",
    "    else:\n",
    "        logger.warning('Mills could not be pounded! The new state could not be validated by the gui.')\n",
    "        self.hint = 'Please do not select an opponent stone that is in a mill!'\n",
    "\n",
    "GameState.poundMillInGui = poundMillInGui\n",
    "del poundMillInGui"
   ]
  },
  {
   "cell_type": "markdown",
   "metadata": {},
   "source": [
    "### validateNewState\n",
    "(TODO: Erklärung)"
   ]
  },
  {
   "cell_type": "code",
   "execution_count": null,
   "metadata": {},
   "outputs": [],
   "source": [
    "def validateNewState(self, newState):\n",
    "    allAvailableStates = nextStates(self.state, self.player)\n",
    "    if newState in allAvailableStates:\n",
    "        logger.info('SUCCESS')\n",
    "\n",
    "        self.state = newState\n",
    "        self.resetStateVariables()\n",
    "        self.togglePlayer()\n",
    "        updateGui(self.canvas[2], self.state)\n",
    "        return True\n",
    "    else:\n",
    "        logger.warning('state is not in allAvailableStates!')\n",
    "        return False\n",
    "\n",
    "GameState.validateNewState = validateNewState\n",
    "del validateNewState"
   ]
  },
  {
   "cell_type": "markdown",
   "metadata": {},
   "source": [
    "### cancelStep\n",
    "(TODO: Erklärung)"
   ]
  },
  {
   "cell_type": "code",
   "execution_count": null,
   "metadata": {},
   "outputs": [],
   "source": [
    "def cancelStep(self):\n",
    "    logger.warn('step is canceled.')\n",
    "    \n",
    "    self.resetStateVariables()\n",
    "    updateGui(self.canvas[2], self.state)\n",
    "    \n",
    "GameState.cancelStep = cancelStep\n",
    "del cancelStep"
   ]
  },
  {
   "cell_type": "markdown",
   "metadata": {},
   "source": [
    "### moveStoneTo\n",
    "(TODO: Erklärung)"
   ]
  },
  {
   "cell_type": "code",
   "execution_count": null,
   "metadata": {},
   "outputs": [],
   "source": [
    "def moveStoneTo(self, coord):\n",
    "    if getPlayerAt(self.state[1], coord) != NO_PLAYER:\n",
    "        logger.warning(f'{coord} is not free')\n",
    "        self.hint = f'The slot at {coord} is not free!'\n",
    "        return\n",
    "    \n",
    "    canJump = isAllowedToJump(self.state, self.player)\n",
    "    logger.info(f'moveStoneTo({coord})')\n",
    "\n",
    "    if canJump or coord in findNeighboringEmptyCells(self.state[1], self.selectedStone):\n",
    "        newState = (self.state[0], place(self.state[1], self.selectedStone, NO_PLAYER))\n",
    "        newState = (newState[0], place(newState[1], coord, self.player))\n",
    "\n",
    "        if self.validateNewState(newState):\n",
    "            movement = 'jumped' if canJump else 'moved'\n",
    "            logger.info(f'Stone successfully {movement}!')\n",
    "        else:\n",
    "            logger.info('Round not finished, checking for new mills...')\n",
    "            self.checkForNewMills(newState)\n",
    "    else:\n",
    "        logger.warning(f'{coord} is not a (free) neighbor of {self.selectedStone}!')\n",
    "        self.hint = f'The slot at {coord} is not a (free) neighbor of {self.selectedStone}!'\n",
    "\n",
    "GameState.moveStoneTo = moveStoneTo\n",
    "del moveStoneTo"
   ]
  },
  {
   "cell_type": "markdown",
   "metadata": {},
   "source": [
    "### updateText\n",
    "(TODO: Erklärung)"
   ]
  },
  {
   "cell_type": "code",
   "execution_count": null,
   "metadata": {},
   "outputs": [],
   "source": [
    "def updateText(self):\n",
    "    phase = playerPhase(self.state, self.player)\n",
    "    if self.winner is None:\n",
    "        message = f'Player {self.player}: '\n",
    "        \n",
    "        if self.player == PLAYER_1 and self.algorithm1:\n",
    "            message += f'Computer\\'s turn with {self.algorithm1}. Please wait.'\n",
    "        elif self.player == PLAYER_2 and self.algorithm2:\n",
    "            message += f'Computer\\'s turn with {self.algorithm2}. Please wait.'\n",
    "        elif self.millsToPound == 1:\n",
    "            message += 'Pound your mill.'\n",
    "        elif self.millsToPound > 1:\n",
    "            message += f'You have {self.millsToPound} mills left to pound. Please pound your next mill.'\n",
    "        elif self.selectedStone is not None:\n",
    "            movement = 'move' if phase == 2 else 'jump'\n",
    "            message += f'{movement} your selected stone'\n",
    "        elif phase == 1:\n",
    "            message += 'Place your stone.'\n",
    "        elif phase == 2 or phase == 3:\n",
    "            movement = 'move' if phase == 2 else 'jump'\n",
    "            message += f'select your stone you want to {movement}'      \n",
    "    else:\n",
    "        message = 'The game has ended: '\n",
    "        if self.winner == NO_PLAYER:\n",
    "            message += 'Tie'\n",
    "        else:\n",
    "            message += f'{self.winner} has won!'\n",
    "    logging.info(message)\n",
    "    drawText(self.canvas[1], message, hint = self.hint)\n",
    "\n",
    "GameState.updateText = updateText\n",
    "del updateText"
   ]
  },
  {
   "cell_type": "markdown",
   "metadata": {},
   "source": [
    "### checkIfFinished\n",
    "(TODO: Erklärung)"
   ]
  },
  {
   "cell_type": "code",
   "execution_count": null,
   "metadata": {},
   "outputs": [],
   "source": [
    "def checkIfFinished(self):\n",
    "    if finished(self.state, self.player):\n",
    "        status = utility(self.state, self.player)\n",
    "        if status == 0:\n",
    "            self.winner = NO_PLAYER\n",
    "        else:\n",
    "            self.winner = self.player if status == 1 else opponent(self.player)\n",
    "\n",
    "GameState.checkIfFinished = checkIfFinished\n",
    "del checkIfFinished"
   ]
  },
  {
   "cell_type": "code",
   "execution_count": null,
   "metadata": {},
   "outputs": [],
   "source": [
    "gameState = GameState(algorithm1 = 'ab', algorithm2 = 'mm', timeout = 2)"
   ]
  },
  {
   "cell_type": "code",
   "execution_count": null,
   "metadata": {},
   "outputs": [],
   "source": [
    "gameState.canvas"
   ]
  }
 ],
 "metadata": {
  "kernelspec": {
   "display_name": "Python 3",
   "language": "python",
   "name": "python3"
  },
  "language_info": {
   "codemirror_mode": {
    "name": "ipython",
    "version": 3
   },
   "file_extension": ".py",
   "mimetype": "text/x-python",
   "name": "python",
   "nbconvert_exporter": "python",
   "pygments_lexer": "ipython3",
   "version": "3.8.5"
  }
 },
 "nbformat": 4,
 "nbformat_minor": 4
}
