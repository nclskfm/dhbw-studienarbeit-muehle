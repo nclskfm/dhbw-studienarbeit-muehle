{
 "cells": [
  {
   "cell_type": "code",
   "execution_count": null,
   "metadata": {},
   "outputs": [],
   "source": [
    "from IPython.core.display import HTML\n",
    "with open(\"style.html\", \"r\") as file:\n",
    "    css = file.read()\n",
    "HTML(css)"
   ]
  },
  {
   "cell_type": "markdown",
   "metadata": {},
   "source": [
    "# Grafische Oberfläche\n",
    "\n",
    "In diesem Notebook ist das Spielen in der GUI implementiert. Die Hilfsfunktionen sind in dem Notebook nmm-game-utils definiert."
   ]
  },
  {
   "cell_type": "code",
   "execution_count": null,
   "metadata": {},
   "outputs": [],
   "source": [
    "%run ./nmm-gui-utils.ipynb"
   ]
  },
  {
   "cell_type": "markdown",
   "metadata": {},
   "source": [
    "## Klasse GameState\n",
    "\n",
    "Die Klasse `GameState` dient zum Spielen und Verwalten von einem Mühle-Spiel in der GUI.\n",
    "\n",
    "Der Konstruktur der Klasse hat elf Eingabeparameter, die alle optional sind:\n",
    "\n",
    "- `state` ist der Startzustand für das Spiel. Standardmäßig wird das Spiel mit `s0` gestartet, welches ein leeres Spielfeld darstellt;\n",
    "- `player` definiert den Spieler, der den ersten Zug spielt. Standardmäßig wird das Spiel mit dem weißen Spieler (`w`) gestartet;\n",
    "- `algorithm1` definiert, ob und welcher Algorithmus für den weißen Spieler spielt. Standardmäßig wird der Spieler von einem Menschen gespielt (`None`). Für _α-β-Pruning_ ist eine Instanz der Klasse `AlphaBetaPruning` zu übergeben und für _Minimax_ eine Instanz der Klasse `Minimax`.\n",
    "- `algorithm2` definiert, ob und welcher Algorithmus für den schwarzen Spieler spielt. Standardmäßig wird der Spieler von einem Menschen gespielt (`None`). Für _α-β-Pruning_ ist eine Instanz der Klasse `AlphaBetaPruning` zu übergeben und für _Minimax_ eine Instanz der Klasse `Minimax`.\n",
    "- `timeout` definiert einen Timeout in Sekunden, der nach einem Computer-Zug gesetzt wird. Dies dient dazu, die Übersichtlichkeit zu erhöhen, wenn Computer gegen Computer spielt. Standardmäßig gibt es keinen Timeout (`None`);\n",
    "- `stepwise` ist ein boolischer Wert und gibt an, ob das Spiel bei Computer gegen Computer im Einzelschrittmodus gespielt wird. Das bedeutet, nach jedem Computerzug muss der nächste Computerzug manuell begonnen werden. Standardmäßig ist der Einzelschrittmodus deaktiviert (`False`);\n",
    "- `limitMovesWithoutMill` ist eine Ganzzahl, die angibt, wie viele Züge ohne geschlagende Mühle gespielt werden können. Ist das Limit überschritten, endet das Spiel in einem Unentschieden. Der Standardwert ist `30`. Um dieses Limit auszuschalten, muss der Wert auf `None` gesetzt werden;\n",
    "- `limitStatesCounter` ist eine Ganzzahl, die angibt, wie oft ein gleicher Zustand gespielt werden kann. Ist das Limit überschritten, endet das Spiel in einem Unentschieden. Der Standardwert ist `5`. Um dieses Limit auszuschalten, muss der Wert auf `None` gesetzt werden;"
   ]
  },
  {
   "cell_type": "code",
   "execution_count": null,
   "metadata": {},
   "outputs": [],
   "source": [
    "from collections import defaultdict\n",
    "\n",
    "class GameState:\n",
    "    def __init__(self,\n",
    "                 state = s0,\n",
    "                 player = PLAYER_1,\n",
    "                 algorithm1 = None,\n",
    "                 algorithm2 = None,\n",
    "                 timeout = None,\n",
    "                 stepwise = False,\n",
    "                 limitMovesWithoutMill = 30,\n",
    "                 limitStatesCounter = 5):\n",
    "        \n",
    "        self.algorithm1 = algorithm1\n",
    "        self.algorithm2 = algorithm2\n",
    "        \n",
    "        self.state = state\n",
    "        self.player = player\n",
    "        self.canvas = setupCanvas()\n",
    "        self.winner = None\n",
    "        self.information = None\n",
    "        self.resetStateVariables()\n",
    "\n",
    "        self.timeout = timeout\n",
    "        self.stepwise = stepwise\n",
    "        self.limitMovesWithoutMill = limitMovesWithoutMill\n",
    "        self.movesWithoutMill = 0\n",
    "        self.limitStatesCounter = limitStatesCounter\n",
    "        self.statesCounter = defaultdict(int)\n",
    "        \n",
    "        self.pause = (self.player == PLAYER_1 and self.algorithm1) or (self.player == PLAYER_2 and self.algorithm2)\n",
    "        if self.pause:\n",
    "            self.hint = 'Please click to start the game.'\n",
    "        \n",
    "        self.canvas[2].on_mouse_up(self.handleGame)\n",
    "        \n",
    "        updateGui(self.canvas[2], self.state)\n",
    "        logger.info('game state initalized')\n",
    "        self.updateText()       "
   ]
  },
  {
   "cell_type": "markdown",
   "metadata": {},
   "source": [
    "Die Funktion `resetStateVariables` dient zum Zurücksetzen der temporären Hilfsvariablen der Klasse `GameState`. Diese Funktion hat weder Ein- noch Ausgabe."
   ]
  },
  {
   "cell_type": "code",
   "execution_count": null,
   "metadata": {},
   "outputs": [],
   "source": [
    "def resetStateVariables(self):\n",
    "    self.stateTemp = None\n",
    "    self.millsToPound = 0\n",
    "    self.selectedStone = None\n",
    "    self.hint = None\n",
    "    \n",
    "GameState.resetStateVariables = resetStateVariables\n",
    "del resetStateVariables"
   ]
  },
  {
   "cell_type": "markdown",
   "metadata": {},
   "source": [
    "Die Funktion `handleGame` steuert den Ablauf des Spiels. Die Funktion wird bei jedem Mausklick auf das Canvas-Objekt von dem Event `on_mouse_up` aufgerufen. Die Funktion hat zwei Argumente:\n",
    "\n",
    "- `x` ist relative Wert der Maus zu dem Canvas-Objekt auf der horizontalen Achse;\n",
    "- `y` ist relative Wert der Maus zu dem Canvas-Objekt auf der vertikalen Achse."
   ]
  },
  {
   "cell_type": "code",
   "execution_count": null,
   "metadata": {},
   "outputs": [],
   "source": [
    "def handleGame(self, x, y):\n",
    "    if self.winner is not None:\n",
    "        logger.warning('Game has ended!')\n",
    "        return\n",
    "    \n",
    "    if self.pause:\n",
    "        self.pause = False\n",
    "        self.hint = None\n",
    "        \n",
    "        self.updateText()\n",
    "        self.checkForComputerStep()\n",
    "    \n",
    "        return\n",
    "\n",
    "    phase = playerPhase(self.state, self.player)\n",
    "    logger.info(f'player phase: {phase}')\n",
    "    \n",
    "    stone = getClickedStone(x, y)\n",
    "\n",
    "    if stone is None:\n",
    "        logger.warning('No stone was clicked!')\n",
    "        if self.selectedStone is not None and self.millsToPound <= 0:\n",
    "            self.cancelStep()\n",
    "    elif self.millsToPound > 0:\n",
    "        self.poundMillInGui(stone)\n",
    "    elif self.selectedStone is not None:\n",
    "        self.moveStone(stone)\n",
    "    elif phase == 1:\n",
    "        self.placeStone(stone)\n",
    "    elif phase == 2 or phase == 3:\n",
    "        self.selectStone(stone)\n",
    "\n",
    "    self.information = None\n",
    "    self.updateText()\n",
    "\n",
    "    self.checkForComputerStep()\n",
    "\n",
    "GameState.handleGame = handleGame\n",
    "del handleGame"
   ]
  },
  {
   "cell_type": "markdown",
   "metadata": {},
   "source": [
    "Die Funktion `togglePlayer` tauscht den Spieler, der den nächsten Zug spielt."
   ]
  },
  {
   "cell_type": "code",
   "execution_count": null,
   "metadata": {},
   "outputs": [],
   "source": [
    "def togglePlayer(self):\n",
    "    self.player = opponent(self.player)\n",
    "        \n",
    "GameState.togglePlayer = togglePlayer\n",
    "del togglePlayer"
   ]
  },
  {
   "cell_type": "markdown",
   "metadata": {},
   "source": [
    "Die Funktion `playNewState` spielt einen vollständigen Zug in der GUI. Dafür hat sie ein Argument:\n",
    "\n",
    "- `newState` ist der neue Zustand, der gespielt werden soll.\n",
    "\n",
    "Die Funktion aktualisiert alle benötigten Hilfsvariablen in der Klasse `GameState` und ruft diverse Funktionen auf, um das Spiel für den neuen Zug vorzubereiten.\n",
    "\n",
    "Sind die Regeln für ein Untenschieden `limitStatesCounter` und `limitMovesWithoutMill` aktiviert (also nicht `None`), werden die entsprechenden Zähler, um die Regeln zu kontrollieren, aktualisiert. Die Regeln werden jedoch nur aktualisiert, wenn sich die Spieler nicht mehr in der Setzphase befinden."
   ]
  },
  {
   "cell_type": "code",
   "execution_count": null,
   "metadata": {},
   "outputs": [],
   "source": [
    "def playNewState(self, newState): \n",
    "    movedStone, poundedStones = getChangedStones(self.state, newState, self.player)\n",
    "    phase = playerPhase(self.state, self.player)\n",
    "    if phase != 1:\n",
    "        if self.limitStatesCounter is not None:\n",
    "            self.statesCounter[newState] += 1\n",
    "            logger.info(f'the state {newState} was played {self.statesCounter[newState]} times.')\n",
    "\n",
    "        if self.limitMovesWithoutMill is not None:\n",
    "            if (len(poundedStones) == 0):\n",
    "                self.movesWithoutMill += 1\n",
    "            else:\n",
    "                self.movesWithoutMill = 0\n",
    "            logger.info(f'moves without mill: {self.movesWithoutMill}')\n",
    "\n",
    "    self.state = newState\n",
    "    logger.info(f'New State was played:\\n{newState}')\n",
    "    self.resetStateVariables()\n",
    "    self.togglePlayer()\n",
    "    self.checkIfFinished()\n",
    "    \n",
    "    if phase != 1:\n",
    "        if  (self.limitStatesCounter is not None) and \\\n",
    "            (self.statesCounter[self.state] + 1 >= self.limitStatesCounter):\n",
    "                self.hint = f'The state has already been played {self.statesCounter[newState]} times. ' \\\n",
    "                            'If it is played once more, the game will end in a remis!'\n",
    "\n",
    "        if  (self.limitMovesWithoutMill is not None) and \\\n",
    "            (self.movesWithoutMill + 5 >= self.limitMovesWithoutMill):\n",
    "                self.hint = f'No mill was pound in the last {self.movesWithoutMill} moves. ' \\\n",
    "                            f'In {self.limitMovesWithoutMill - self.movesWithoutMill} moves the game will end in a remis!'\n",
    "            \n",
    "    updateGui(self.canvas[2], self.state, movedStone = movedStone, poundedStones = poundedStones)\n",
    "    self.updateText()\n",
    "\n",
    "GameState.playNewState = playNewState\n",
    "del playNewState"
   ]
  },
  {
   "cell_type": "markdown",
   "metadata": {},
   "source": [
    "Die Funktion `checkForComputerStep` überprüft, ob der nächste Zug von einem Algorithmus gespielt werden soll. Falls dies der Fall ist, wird der jeweilige Algorithmus ausgeführt und der Spielzustand aktualisiert."
   ]
  },
  {
   "cell_type": "code",
   "execution_count": null,
   "metadata": {},
   "outputs": [],
   "source": [
    "from time import sleep\n",
    "\n",
    "def checkForComputerStep(self):\n",
    "    if self.winner is not None:\n",
    "        logger.warning('Game has ended!')\n",
    "        return\n",
    "    \n",
    "    if self.pause:\n",
    "        logger.warning('Pause!')\n",
    "        self.hint = 'The game has paused. Please click to continue!'\n",
    "        self.updateText()\n",
    "        return\n",
    "    \n",
    "    if (self.player == PLAYER_1 and self.algorithm1) or (self.player == PLAYER_2 and self.algorithm2):\n",
    "        algorithmName = self.algorithm1.__class__.__name__ \\\n",
    "                        if self.player == PLAYER_1 \\\n",
    "                        else self.algorithm2.__class__.__name__\n",
    "        logger.info(f'Computer calculating for player {self.player} with algorithm {algorithmName}')\n",
    "        \n",
    "        if self.player == PLAYER_1:\n",
    "            moves = self.algorithm1.bestMoves(self.state, self.player)\n",
    "        else:\n",
    "            moves = self.algorithm2.bestMoves(self.state, self.player)\n",
    "        \n",
    "        nextState = moves.choice()\n",
    "        self.information = { 'score': moves.value }\n",
    "        if moves.debugInformation:\n",
    "            self.information.update(moves.debugInformation)\n",
    "            \n",
    "        logger.info(f'Algorithm {algorithmName} calulated best state with score {moves.value}')\n",
    "        logger.info(f'Debug Information:\\n{moves.debugInformation}')\n",
    "        self.playNewState(nextState)\n",
    "        \n",
    "        if self.timeout:\n",
    "            self.hint = f'Timeout ({self.timeout} seconds). Please wait!'\n",
    "            self.updateText()\n",
    "            sleep(self.timeout)\n",
    "        \n",
    "        self.pause = self.stepwise\n",
    "        self.checkForComputerStep()\n",
    "    \n",
    "GameState.checkForComputerStep = checkForComputerStep\n",
    "del checkForComputerStep"
   ]
  },
  {
   "cell_type": "markdown",
   "metadata": {},
   "source": [
    "Die Funktion `placeStone` dient zum Platzieren eines Spielersteins in der Spielphase 1. Die Funktion hat ein Argument:\n",
    "\n",
    "- `coord` ist die Koordinate aus dem Tupel `coords` an dem der Stein des Spielers gesetzt werden soll."
   ]
  },
  {
   "cell_type": "code",
   "execution_count": null,
   "metadata": {},
   "outputs": [],
   "source": [
    "def placeStone(self, coord):\n",
    "    if getPlayerAt(self.state[1], coord) != NO_PLAYER:\n",
    "        logger.warning(f'{coord} is not free')\n",
    "        self.hint = f'The slot at {coord} is not free!'\n",
    "        return\n",
    "\n",
    "    newState = (removeFromStash(self.state[0], self.player), place(self.state[1], coord, self.player))\n",
    "\n",
    "    if self.validateNewState(newState):\n",
    "        logging.info('stone placed')\n",
    "    else:\n",
    "        logger.info('NewState not in allAvailableStates, checking for new Mills ...')\n",
    "        self.checkForNewMills(newState)\n",
    "\n",
    "        \n",
    "GameState.placeStone = placeStone\n",
    "del placeStone"
   ]
  },
  {
   "cell_type": "markdown",
   "metadata": {},
   "source": [
    "Die Funktion `selectStone` dient zum Selektieren des Steines, der in der Phase 2 verschoben bzw. in Phase 3 springen soll. Die Funktion hat ein Argument:\n",
    "\n",
    "- `stone` ist die Koordinate des Steines, der bewegt werden soll.\n",
    "\n",
    "Die Funktion erzeugt bei erfolgreicher Validierung einen Hilfszustand in der GUI mit dem markierten Stein."
   ]
  },
  {
   "cell_type": "code",
   "execution_count": null,
   "metadata": {},
   "outputs": [],
   "source": [
    "def selectStone(self, stone):\n",
    "    if getPlayerAt(self.state[1], stone) != self.player:\n",
    "        logger.warning(f'{stone} is not the own stone')\n",
    "        self.hint = 'Please select your own stone!'\n",
    "        return\n",
    "    self.selectedStone = stone\n",
    "    self.hint = None\n",
    "    updateGui(self.canvas[2], self.state, selectedStone = self.selectedStone)\n",
    "\n",
    "    \n",
    "GameState.selectStone = selectStone\n",
    "del selectStone"
   ]
  },
  {
   "cell_type": "markdown",
   "metadata": {},
   "source": [
    "Die Funktion `moveStone` dient zum Bewegen des selektierten Steins in der Zug- und Endphase. Die Funktion hat ein Argument:\n",
    "\n",
    "- `coord` ist die Koordinate, wohin der Stein bewegt werden soll.\n",
    "\n",
    "Der zu bewegende Stein wurde in dem vorherigen Hilfszug in der Funktion `selectStone` ausgewählt und in der Hilfsvariablen `selectedStone` gespeichert."
   ]
  },
  {
   "cell_type": "code",
   "execution_count": null,
   "metadata": {},
   "outputs": [],
   "source": [
    "def moveStone(self, coord):\n",
    "    if getPlayerAt(self.state[1], coord) != NO_PLAYER:\n",
    "        logger.warning(f'{coord} is not free')\n",
    "        self.hint = f'The slot at {coord} is not free!'\n",
    "        return\n",
    "    \n",
    "    canJump = isAllowedToJump(self.state, self.player)\n",
    "\n",
    "    if canJump or coord in findNeighboringEmptyCells(self.state[1], self.selectedStone):\n",
    "        newState = (self.state[0], place(self.state[1], self.selectedStone, NO_PLAYER))\n",
    "        newState = (newState[0], place(newState[1], coord, self.player))\n",
    "\n",
    "        if self.validateNewState(newState):\n",
    "            movement = 'jumped' if canJump else 'moved'\n",
    "            logger.info(f'Stone successfully {movement}!')\n",
    "        else:\n",
    "            logger.info('Round not finished, checking for new mills...')\n",
    "            self.checkForNewMills(newState)\n",
    "    else:\n",
    "        logger.warning(f'{coord} is not a (free) neighbor of {self.selectedStone}!')\n",
    "        self.hint = f'The slot at {coord} is not a (free) neighbor of {self.selectedStone}!'\n",
    "\n",
    "GameState.moveStone = moveStone\n",
    "del moveStone"
   ]
  },
  {
   "cell_type": "markdown",
   "metadata": {},
   "source": [
    "Die Funktion `checkForNewMills` überprüft, ob ein gegebener Zustand neue Mühlen enthält. Die Funktion hat ein Argument:\n",
    "\n",
    "- `newState` ist der neue Zustand, der überprüft werden soll.\n",
    "\n",
    "Falls neue Mühlen gefunden worden sind, wird ein temporärer Zustand erstellt, der den menschlichen Spieler auffordert, einen gegnerischen Stein von dem Spiellbrett zu entfernen. Im Englischen wird dies als _pounding_ bezeichnet."
   ]
  },
  {
   "cell_type": "code",
   "execution_count": null,
   "metadata": {},
   "outputs": [],
   "source": [
    "def checkForNewMills(self, newState):\n",
    "    oldMills = findMills(self.state[1], self.player)\n",
    "    newMills = countNewMills(newState[1], oldMills, self.player)\n",
    "\n",
    "    if newMills > 0:\n",
    "        self.stateTemp = newState\n",
    "        self.millsToPound = newMills\n",
    "        self.hint = None\n",
    "        movedStone, poundedStones = getChangedStones(self.state, self.stateTemp, self.player)\n",
    "        updateGui(self.canvas[2], self.stateTemp, movedStone = movedStone, poundedStones = poundedStones)\n",
    "\n",
    "GameState.checkForNewMills = checkForNewMills\n",
    "del checkForNewMills"
   ]
  },
  {
   "cell_type": "markdown",
   "metadata": {},
   "source": [
    "Die Funktion `poundMillInGui` entfernt einen gegnerischen Spielerstein und beendet somit einen Mühlenzug. Die Funktion hat dabei ein Argument:\n",
    "\n",
    "- `stone` ist die Koordinate des gegnerischen Spielersteins, der entfernt werden soll.\n",
    "\n",
    "Ob ein Spielerstein entfernt werden kann, wird mit der Funktion `validateNewState` validiert.\n",
    "\n",
    "In der Setzphase kann es vorkommen, dass ein Spieler zwei Mühlen schlagen kann. In diesem Fall kann das nicht von der Funktion `validateNewState` ausführt werden, weil der Zug noch nicht abgeschlossen ist und somit nicht in der Menge `nextStates` auftritt. In diesem Fall muss die Validierung von der Funktion selber durchgeführt werden."
   ]
  },
  {
   "cell_type": "code",
   "execution_count": null,
   "metadata": {},
   "outputs": [],
   "source": [
    "def poundMillInGui(self, stone):\n",
    "    if self.millsToPound  <= 0:\n",
    "        logger.warning('Player has no Mills to pound!')\n",
    "        return\n",
    "    if getPlayerAt(self.state[1], stone) != opponent(self.player):\n",
    "        logger.warning(f'{stone} is not the opponent!')\n",
    "        self.hint = 'Please select an opponent stone!'\n",
    "        \n",
    "        return\n",
    "    # if the player has only one mill left to pound, it uses the place function and afterwards\n",
    "    # validates the newState\n",
    "    if self.millsToPound == 1:\n",
    "        newState = (self.stateTemp[0], place(self.stateTemp[1], stone, NO_PLAYER))\n",
    "        if self.validateNewState(newState):\n",
    "            logger.info('success')\n",
    "        else:\n",
    "            logger.warning('Mills could not be pounded! The new state could not be validated by the game logic.')\n",
    "            self.hint = 'Please do not select an opponent stone that is in a mill!'\n",
    "\n",
    "        return\n",
    "    \n",
    "    # otherwise the gui has to validate the mill manually,\n",
    "    # as the intermediate step cannot be checked by the game logic\n",
    "    if stone in getCellsPoundable(self.stateTemp[1], self.player):\n",
    "        self.stateTemp = (self.stateTemp[0], place(self.stateTemp[1], stone, NO_PLAYER))\n",
    "        self.millsToPound -= 1\n",
    "        self.hint = None\n",
    "        movedStone, poundedStones = getChangedStones(self.state, self.stateTemp, self.player)\n",
    "        updateGui(self.canvas[2], self.stateTemp, movedStone = movedStone, poundedStones = poundedStones)\n",
    "    else:\n",
    "        logger.warning('Mills could not be pounded! The new state could not be validated by the gui.')\n",
    "        self.hint = 'Please do not select an opponent stone that is in a mill!'\n",
    "\n",
    "GameState.poundMillInGui = poundMillInGui\n",
    "del poundMillInGui"
   ]
  },
  {
   "cell_type": "markdown",
   "metadata": {},
   "source": [
    "Die Funktion `validateNewState` überprüft, ob ein gegebener Zustand in der Menge der `nextStates` vorhanden ist. Die Funktion hat ein Argument:\n",
    "\n",
    "- `newState` ist der neue Zustand, der validert werden soll.\n",
    "\n",
    "Falls sich der neue Zustand `newState` in der Menge `nextStates` von dem aktuellen Zustand `state` befindet, ist ein Zug von dem Spieler abgeschlossen. Die Hilfsvariablen werden zurückgesetzt und es wird der Spieler getauscht. "
   ]
  },
  {
   "cell_type": "code",
   "execution_count": null,
   "metadata": {},
   "outputs": [],
   "source": [
    "def validateNewState(self, newState):\n",
    "    allAvailableStates = nextStates(self.state, self.player)\n",
    "    if newState in allAvailableStates:\n",
    "        self.playNewState(newState)\n",
    "        return True\n",
    "    return False\n",
    "\n",
    "GameState.validateNewState = validateNewState\n",
    "del validateNewState"
   ]
  },
  {
   "cell_type": "markdown",
   "metadata": {},
   "source": [
    "Die Funktion `cancelStep` dient zum Deselektieren eines Steines in der Zug- oder Endphase."
   ]
  },
  {
   "cell_type": "code",
   "execution_count": null,
   "metadata": {},
   "outputs": [],
   "source": [
    "def cancelStep(self):\n",
    "    logger.warn('step is canceled.')\n",
    "    \n",
    "    self.resetStateVariables()\n",
    "    updateGui(self.canvas[2], self.state)\n",
    "    \n",
    "GameState.cancelStep = cancelStep\n",
    "del cancelStep"
   ]
  },
  {
   "cell_type": "markdown",
   "metadata": {},
   "source": [
    "Die Funktion `updateText` dient zum Aktualisieren des Textes und des Hinweises auf dem Spielbrett. Die Funktion ermittelt dabei selbständig den aktuellen Zustand des Spieles anhand der Variablen innerhalb der Klasse."
   ]
  },
  {
   "cell_type": "code",
   "execution_count": null,
   "metadata": {},
   "outputs": [],
   "source": [
    "def updateText(self):\n",
    "    phase = playerPhase(self.state, self.player)\n",
    "    if self.winner is None:\n",
    "        message = f'Player {self.player}: '\n",
    "        \n",
    "        if self.player == PLAYER_1 and self.algorithm1:\n",
    "            message += f'Computer\\'s turn with {self.algorithm1.__class__.__name__}. Please wait.'\n",
    "        elif self.player == PLAYER_2 and self.algorithm2:\n",
    "            message += f'Computer\\'s turn with {self.algorithm2.__class__.__name__}. Please wait.'\n",
    "        elif self.millsToPound == 1:\n",
    "            message += 'Pound your mill.'\n",
    "        elif self.millsToPound > 1:\n",
    "            message += f'You have {self.millsToPound} mills left to pound. Please pound your next mill.'\n",
    "        elif self.selectedStone is not None:\n",
    "            movement = 'Move' if phase == 2 else 'Jump'\n",
    "            message += f'{movement} your selected stone.'\n",
    "        elif phase == 1:\n",
    "            message += 'Place your stone.'\n",
    "        elif phase == 2 or phase == 3:\n",
    "            movement = 'move' if phase == 2 else 'jump'\n",
    "            message += f'select your stone you want to {movement}.'      \n",
    "    else:\n",
    "        message = 'The game has ended: '\n",
    "        self.hint = None\n",
    "        if self.winner == NO_PLAYER:\n",
    "            message += 'Tie.'\n",
    "        else:\n",
    "            message += f'{self.winner} has won!'\n",
    "    logger.info(message)\n",
    "    drawText(self.canvas[1], message, hint = self.hint, information = self.information)\n",
    "\n",
    "GameState.updateText = updateText\n",
    "del updateText"
   ]
  },
  {
   "cell_type": "markdown",
   "metadata": {},
   "source": [
    "Die Funktion `checkIfFinished` überprüft, ob ein Spiel beendet worden ist. Dabei benutzt es die Funktionen `finished` und `utility` aus dem Jupyter-Notebookt `nmm-game`."
   ]
  },
  {
   "cell_type": "code",
   "execution_count": null,
   "metadata": {},
   "outputs": [],
   "source": [
    "def checkIfFinished(self):\n",
    "    if (self.limitMovesWithoutMill is not None) and (self.movesWithoutMill >= self.limitMovesWithoutMill):\n",
    "        self.winner = NO_PLAYER\n",
    "    elif (self.limitStatesCounter is not None) and (self.statesCounter[self.state] >= self.limitStatesCounter):\n",
    "        self.winner = NO_PLAYER\n",
    "    elif finished(self.state, self.player):\n",
    "        status = utility(self.state, self.player)\n",
    "        if status == 0:\n",
    "            self.winner = NO_PLAYER\n",
    "        else:\n",
    "            self.winner = self.player if status == 1 else opponent(self.player)\n",
    "\n",
    "GameState.checkIfFinished = checkIfFinished\n",
    "del checkIfFinished"
   ]
  },
  {
   "cell_type": "markdown",
   "metadata": {},
   "source": [
    "## Spielen\n",
    "\n",
    "Um das Spiel in der GUI zu spielen, muss zuerst ein Objekt der Klasse `GameState` initialisiert werden. Die Argumente für die Klasse bestimmen die Spieloptionen. Im Folgenden seien vier Beispiele für die Ausführungsoptionen gegeben."
   ]
  },
  {
   "cell_type": "markdown",
   "metadata": {},
   "source": [
    "### Beispiel 1\n",
    "\n",
    "Der weiße Spieler wird von einem Menschen gespielt und der schwarze Spieler von α-β-Pruning mit der Standardkonfiguration."
   ]
  },
  {
   "cell_type": "code",
   "execution_count": null,
   "metadata": {},
   "outputs": [],
   "source": [
    "gameState = GameState(algorithm2 = AlphaBetaPruningRoteLearning())\n",
    "\n",
    "gameState.canvas"
   ]
  },
  {
   "cell_type": "markdown",
   "metadata": {},
   "source": [
    "### Beispiel 2\n",
    "\n",
    "Der weiße Spieler wird von einem Menschen gespielt und der schwarze Spieler von α-β-Pruning mit maximal 1000 Zuständen pro Zug."
   ]
  },
  {
   "cell_type": "code",
   "execution_count": null,
   "metadata": {},
   "outputs": [],
   "source": [
    "ab = AlphaBetaPruningRoteLearning()\n",
    "ab.bestMoves(s0,\"w\")\n",
    "# gameState = GameState(algorithm2 = AlphaBetaPruning(max_states=1000))\n",
    "\n",
    "# gameState.canvas"
   ]
  },
  {
   "cell_type": "markdown",
   "metadata": {},
   "source": [
    "### Beispiel 3\n",
    "\n",
    "In diesem Spiel spielt α-β-Pruning für weiß gegen Minimax für schwarz. Beide KI's spielen mit der Standardkonfiguration. Nach jedem Zug gibt es eine automatische Pause von 5 Sekunden."
   ]
  },
  {
   "cell_type": "code",
   "execution_count": null,
   "metadata": {},
   "outputs": [],
   "source": [
    "# gameState = GameState(algorithm1 = AlphaBetaPruning(), algorithm2 = Minimax(), timeout=5)\n",
    "\n",
    "# gameState.canvas"
   ]
  },
  {
   "cell_type": "markdown",
   "metadata": {},
   "source": [
    "### Beispiel 4\n",
    "\n",
    "In diesem Spiel spielt α-β-Pruning für weiß gegen Minimax für schwarz. α-β-Pruning spielt mit einer geänderten Konfiguration, die auch eine andere Gewichtung der Heuristik verwendet. Das Spiel wird im Einzelschrittmodus gespielt."
   ]
  },
  {
   "cell_type": "code",
   "execution_count": null,
   "metadata": {},
   "outputs": [],
   "source": [
    "# customWeights = HeuristicWeights(stones = 2, stash = 2, mills = 2, possible_mills = 2)\n",
    "\n",
    "# gameState = GameState(\n",
    "#                 algorithm1 = AlphaBetaPruning(max_states = 5_000, weights = customWeights),\n",
    "#                 algorithm2 = AlphaBetaPruning(),\n",
    "#                 stepwise = True)\n",
    "\n",
    "# gameState.canvas"
   ]
  }
 ],
 "metadata": {
  "kernelspec": {
   "display_name": "Python 3",
   "language": "python",
   "name": "python3"
  },
  "language_info": {
   "codemirror_mode": {
    "name": "ipython",
    "version": 3
   },
   "file_extension": ".py",
   "mimetype": "text/x-python",
   "name": "python",
   "nbconvert_exporter": "python",
   "pygments_lexer": "ipython3",
   "version": "3.8.5"
  }
 },
 "nbformat": 4,
 "nbformat_minor": 4
}
