{
 "cells": [
  {
   "cell_type": "markdown",
   "metadata": {},
   "source": [
    "# Grafische Oberfläche"
   ]
  },
  {
   "cell_type": "code",
   "execution_count": null,
   "metadata": {},
   "outputs": [],
   "source": [
    "import os.path\n",
    "css = \"\"\n",
    "if os.path.isfile(\"style.html\"):\n",
    "    from IPython.core.display import HTML\n",
    "    with open(\"style.html\", \"r\") as file:\n",
    "        css = file.read()\n",
    "HTML(css)"
   ]
  },
  {
   "cell_type": "code",
   "execution_count": null,
   "metadata": {},
   "outputs": [],
   "source": [
    "import math"
   ]
  },
  {
   "cell_type": "code",
   "execution_count": null,
   "metadata": {},
   "outputs": [],
   "source": [
    "import logging\n",
    "\n",
    "# create logger with ''\n",
    "logger = logging.getLogger('GUI')\n",
    "logger.setLevel(logging.DEBUG)\n",
    "# create file handler which logs even debug messages\n",
    "fh = logging.FileHandler('log.txt')\n",
    "fh.setLevel(logging.DEBUG)\n",
    "# create console handler with a higher log level\n",
    "ch = logging.StreamHandler()\n",
    "ch.setLevel(logging.ERROR)\n",
    "# create formatter and add it to the handlers\n",
    "formatter = logging.Formatter('%(asctime)s - %(levelname)s - %(message)s')\n",
    "fh.setFormatter(formatter)\n",
    "# add the handlers to the logger\n",
    "logger.addHandler(fh)"
   ]
  },
  {
   "cell_type": "markdown",
   "metadata": {},
   "source": [
    "## Konstanten\n",
    "\n",
    "(TODO: Konstanten erklären und Schema erstellen)"
   ]
  },
  {
   "cell_type": "code",
   "execution_count": null,
   "metadata": {},
   "outputs": [],
   "source": [
    "# Board constants\n",
    "BOARD_SIZE = 500\n",
    "CANVAS_PADDING = 30\n",
    "ROW_WIDTH = 60\n",
    "PLAYER_PIECE_RADIUS = 12\n",
    "DEFAULT_PIECE_RADIUS = 5\n",
    "\n",
    "DEFAULT_STONE_LINE_WIDTH = 1\n",
    "SELECTED_STONE_LINE_WIDTH = 3\n",
    "POUNDED_STONE_LINE_WIDTH = 5\n",
    "\n",
    "STASH_STONES_SPACING = 5\n",
    "\n",
    "STASH_HEIGHT = ((PLAYER_PIECE_RADIUS * 2 ) * 2) + (STASH_STONES_SPACING) + (CANVAS_PADDING * 2)\n",
    "STASH_WIDTH = ((PLAYER_PIECE_RADIUS * 2 ) * 9) + (STASH_STONES_SPACING * 8) + (CANVAS_PADDING * 2)\n",
    "\n",
    "CANVAS_HEIGHT = BOARD_SIZE\n",
    "CANVAS_WIDTH = 1500\n",
    "\n",
    "STASH_STARTING_POINT_X = BOARD_SIZE\n",
    "STASH_STARTING_POINT_Y = CANVAS_HEIGHT - STASH_HEIGHT\n",
    "\n",
    "# text\n",
    "TEXT_X = BOARD_SIZE + CANVAS_PADDING\n",
    "TEXT_Y = CANVAS_PADDING\n",
    "TEXT_MAX_WIDTH = CANVAS_WIDTH - BOARD_SIZE - 2 * CANVAS_PADDING\n",
    "TEXT_FONT = '14px sans-serif'\n",
    "TEXT_VERTICAL_PADDING = 40\n",
    "\n",
    "\n",
    "# players\n",
    "NO_PLAYER = ' '\n",
    "PLAYER_1 = 'w'\n",
    "PLAYER_2 = 'b'\n",
    "\n",
    "\n",
    "# color constants\n",
    "CANVAS_BACKGROUND_COLOR = '#ffffff'\n",
    "BOARD_FOREGROUND_COLOR = '#191919'\n",
    "BOARD_BACKGROUND_COLOR = '#ffffcb'\n",
    "STASH_BACKGROUND_COLOR = '#dedede'\n",
    "PLAYER_1_FILL_COLOR = '#E8E8E8'\n",
    "PLAYER_1_STROKE_COLOR = '#191919'\n",
    "PLAYER_2_FILL_COLOR = '#5c5c5c'\n",
    "PLAYER_2_STROKE_COLOR = '#191919'\n",
    "TEXT_COLOR = '#000000'\n",
    "LAST_MOVED_COLOR = '#61aced'\n",
    "\n",
    "# enabled shadow constants\n",
    "SHADOW_COLOR_ENABLED = '#000000'\n",
    "SHADOW_OFFSET_X_ENABLED = 2\n",
    "SHADOW_OFFSET_Y_ENABLED = 2\n",
    "SHADOW_BLUR_ENABLED = 2\n",
    "\n",
    "# disabled shadow constants\n",
    "SHADOW_COLOR_DISABLED = 'rgba(0, 0, 0, 0)'\n",
    "SHADOW_OFFSET_X_DISABLED = 0\n",
    "SHADOW_OFFSET_Y_DISABLED = 0\n",
    "SHADOW_BLUR_DISABLED = 0\n"
   ]
  },
  {
   "cell_type": "markdown",
   "metadata": {},
   "source": [
    "### Berechnete Werte\n",
    "\n",
    "Die Koordinaten für die Knoten lassen sich aus den obrigen Konstanten berechnen. Da das Mühlespielbrett horizontal und vertikal identisch ist, werden für die Koordinaten auf der x- und y-Achse die gleichen Werte benötigt, die mit $av$ (für _available values_) bezeichnet werden. Es werden insgesamt sieben Werte $av_0$ bis $av_6$ benötigt, die in der folgenden Abbildung dargestellt werden.\n",
    "\n",
    "![](images/nmm-av.png)\n",
    "\n",
    "Die Werte lassen sich wie folgt berechnen.\n",
    "\n",
    "$$ av_0 =  CANVAS\\_PADDING $$\n",
    "$$ av_1 =  CANVAS\\_PADDING + ROW\\_WIDTH $$\n",
    "$$ av_2 =  CANVAS\\_PADDING + 2 \\cdot ROW\\_WIDTH $$\n",
    "$$ av_3 =  \\frac{BOARD\\_SIZE}{2}$$\n",
    "$$ av_4 =  BOARD\\_SIZE - (CANVAS\\_PADDING + 2 \\cdot ROW\\_WIDTH) $$\n",
    "$$ av_5 =  BOARD\\_SIZE - (CANVAS\\_PADDING + ROW\\_WIDTH)$$\n",
    "$$ av_6 =  BOARD\\_SIZE - CANVAS\\_PADDING $$"
   ]
  },
  {
   "cell_type": "code",
   "execution_count": null,
   "metadata": {},
   "outputs": [],
   "source": [
    "av = (\n",
    "    math.floor(CANVAS_PADDING),\n",
    "    math.floor(CANVAS_PADDING + ROW_WIDTH),\n",
    "    math.floor(CANVAS_PADDING + 2 * ROW_WIDTH),\n",
    "    math.floor(BOARD_SIZE / 2),\n",
    "    math.floor(BOARD_SIZE - (CANVAS_PADDING + 2 * ROW_WIDTH)),\n",
    "    math.floor(BOARD_SIZE - (CANVAS_PADDING + ROW_WIDTH)),\n",
    "    math.floor(BOARD_SIZE - CANVAS_PADDING)\n",
    ")\n"
   ]
  },
  {
   "cell_type": "markdown",
   "metadata": {},
   "source": [
    "### Koordinaten\n",
    "\n",
    "Die Koordinaten der Knoten sind in dem zweidimensionalen Tupel `coords` definiert. Zuerst wird der Ring definiert, von außen nach innen. Danach die Position im Ring, beginnend von oben links und dann im Uhrzeigersinn. In der Abbildung sind die Knoten mit den Koordinaten dargestellt. Die Werte von den Koordinaten sind die x- und y-Werte auf der Zeichenfläche, definiert in `av`.\n",
    "\n",
    "![](images/nmm-coords.png)"
   ]
  },
  {
   "cell_type": "code",
   "execution_count": null,
   "metadata": {},
   "outputs": [],
   "source": [
    "coords = (\n",
    "    (\n",
    "        (av[0], av[0]),\n",
    "        (av[3], av[0]),\n",
    "        (av[6], av[0]),\n",
    "        (av[6], av[3]),\n",
    "        (av[6], av[6]),\n",
    "        (av[3], av[6]),\n",
    "        (av[0], av[6]),\n",
    "        (av[0], av[3])\n",
    "    ),\n",
    "    (\n",
    "        (av[1], av[1]),\n",
    "        (av[3], av[1]),\n",
    "        (av[5], av[1]),\n",
    "        (av[5], av[3]),\n",
    "        (av[5], av[5]),\n",
    "        (av[3], av[5]),\n",
    "        (av[1], av[5]),\n",
    "        (av[1], av[3])\n",
    "    ),\n",
    "    (\n",
    "        (av[2], av[2]),\n",
    "        (av[3], av[2]),\n",
    "        (av[4], av[2]),\n",
    "        (av[4], av[3]),\n",
    "        (av[4], av[4]),\n",
    "        (av[3], av[4]),\n",
    "        (av[2], av[4]),\n",
    "        (av[2], av[3])\n",
    "    )\n",
    ") "
   ]
  },
  {
   "cell_type": "markdown",
   "metadata": {},
   "source": [
    "## Funktionen zum Zeichnen\n",
    "\n",
    "Die grafische Oberfläche (englisch _graphical user interface_, GUI) wird mit dem Python-Modul ipycanvas aufgebaut. Dieses Modul ermöglicht die Verwendung einer interaktiven Zeichenfläche zum Zeichnen von 2D-Objekten in IPython. Es bringt eine Reihe von Funktionen mit, um einfache Formen zeichnen zu können. Gezeichnet wird auf einem 2D-Canvas-Objekt mit den Startkoordinaten `(0,0)` oben links."
   ]
  },
  {
   "cell_type": "code",
   "execution_count": null,
   "metadata": {},
   "outputs": [],
   "source": [
    "import ipycanvas"
   ]
  },
  {
   "cell_type": "markdown",
   "metadata": {},
   "source": [
    "Die Funktion `toggleShadow` schaltet den Schatten auf einem gegebenen Canvas ein und aus. Sie hat folgende Eingabeparameter:\n",
    "\n",
    "- `c` ist eine Referenz auf ein Canvas-Objekt.\n",
    "- `enable` ist ein boolischer Wert, der angibt, ob Schatten auf dem Canvas `c` ein oder ausgeschaltet werden soll.\n",
    "\n",
    "Wird der Schatten eingeschaltet, werden die Schatteneigenschaften des Canvas mit den oben definierten Konstanten gesetzt. Andernfalls werden die Standardwerte von _ipycanvas_ gesetzt, was bedeutet, der Schatten wird deaktiviert. "
   ]
  },
  {
   "cell_type": "code",
   "execution_count": null,
   "metadata": {},
   "outputs": [],
   "source": [
    "def toggleShadow(c, enable):\n",
    "    c.shadow_color    = SHADOW_COLOR_ENABLED    if enable else SHADOW_COLOR_DISABLED\n",
    "    c.shadow_offset_x = SHADOW_OFFSET_X_ENABLED if enable else SHADOW_OFFSET_X_DISABLED\n",
    "    c.shadow_offset_y = SHADOW_OFFSET_Y_ENABLED if enable else SHADOW_OFFSET_Y_DISABLED\n",
    "    c.shadow_blur     = SHADOW_BLUR_ENABLED     if enable else SHADOW_BLUR_DISABLED"
   ]
  },
  {
   "cell_type": "markdown",
   "metadata": {},
   "source": [
    "Die Funktion `drawCircle` dient zum Zeichnen eines Kreises auf einem Zeichenfeld. Die Funktion hat vier Argumente und drei optionale Parameter:\n",
    "\n",
    "- `c` ist eine Referenz auf ein Canvas-Objekt, auf dem der Kreis gezeichnet werden soll.\n",
    "- `coords` ist die Koordinate des Mittelpunktes des Kreies.\n",
    "- `radius` ist der Radius des Kreises.\n",
    "- `color` gibt die Farbe des Kreises an.\n",
    "- `strokeColor` ist ein optionaler Parameter, der die Farbe der Umrandung angibt. Der Standardwert ist `None`. In dem Fall wird der Kreis nicht umrandet.\n",
    "- `lineWidth` ist ein optionaler Parameter, der die Liniendicke angibt. Der Standardwert ist in der Kontante `DEFAULT_STONE_LINE_WIDTH` definiert.\n",
    "- `useShadow` ist ein optionaler, boolischer Wert. Wenn er gesetzt ist, wird ein Schatten von dem Kreis gemalt. Standardmäßig ist der Wert `False`."
   ]
  },
  {
   "cell_type": "code",
   "execution_count": null,
   "metadata": {},
   "outputs": [],
   "source": [
    "def drawCircle(c, coords, radius, color, strokeColor = None, lineWidth = DEFAULT_STONE_LINE_WIDTH, useShadow = False):\n",
    "    if useShadow:\n",
    "        toggleShadow(c, True)\n",
    "    c.fill_style = color\n",
    "    c.fill_arc(coords[0], coords[1], radius, 0, 2 * math.pi)\n",
    "    if useShadow:\n",
    "        toggleShadow(c, False)\n",
    "    if strokeColor is not None:\n",
    "        c.line_width = lineWidth\n",
    "        c.stroke_style = strokeColor\n",
    "        c.stroke_arc(coords[0], coords[1], radius, 0, 2 * math.pi)"
   ]
  },
  {
   "cell_type": "markdown",
   "metadata": {},
   "source": [
    "Die Funktion `drawStone` dient zum Zeichnen eines Steines auf einem Zeichenfeld mit Hilfe der Funktion `drawCircle`. Ein Spielstein besteht aus zwei Kreisen und ein leerer Knoten (also wo sich kein Spieler befinden) aus einem Kreis.\n",
    "\n",
    "Die Funktion hat drei Argumente und zwei optionale Parameter:\n",
    "\n",
    "- `c` ist eine Referenz auf ein Canvas-Objekt, auf dem der Stein gezeichnet werden soll;\n",
    "- `coords` ist die Koordinate des Mittelpunktes des Steines;\n",
    "- `player` gibt  den Spieler an;\n",
    "- `selected` ist ein optionaler, boolischer Wert, der angibt, ob ein Spielerstein ausgewählt ist oder nicht. Der Standardwert ist `False`;\n",
    "- `lastMoved` ist ein optionaler, boolischer Wert, der angibt ob der zu zeichnende Spielerstein zuletzt bewegt worden ist. Der Standardwert ist `False`."
   ]
  },
  {
   "cell_type": "code",
   "execution_count": null,
   "metadata": {},
   "outputs": [],
   "source": [
    "def drawStone(c, coords, player, selected = False, lastMoved = False):\n",
    "    if player == NO_PLAYER:\n",
    "        drawCircle(c, coords, DEFAULT_PIECE_RADIUS, BOARD_FOREGROUND_COLOR)\n",
    "    else:\n",
    "        color       = PLAYER_1_FILL_COLOR   if player == PLAYER_1 else PLAYER_2_FILL_COLOR\n",
    "        strokeColor = PLAYER_1_STROKE_COLOR if player == PLAYER_1 else PLAYER_2_STROKE_COLOR\n",
    "        \n",
    "        lineWidth = SELECTED_STONE_LINE_WIDTH if selected else DEFAULT_STONE_LINE_WIDTH\n",
    "        drawCircle(c, coords, PLAYER_PIECE_RADIUS                , LAST_MOVED_COLOR if lastMoved else color, strokeColor = strokeColor, lineWidth = lineWidth, useShadow = True)\n",
    "        drawCircle(c, coords, math.floor(PLAYER_PIECE_RADIUS / 2), color, strokeColor = strokeColor, lineWidth = lineWidth)"
   ]
  },
  {
   "cell_type": "markdown",
   "metadata": {},
   "source": [
    "Die Funktion `drawPoundedStone` dient zum Zeichnen eines geschlagenden Steines auf einem Zeichenfeld. Ein geschlagender Stein wird durch ein Kreuz in der GUI dargestellt.\n",
    "\n",
    "Die Funktion hat drei Argumente:\n",
    "\n",
    "- `c` ist eine Referenz auf ein Canvas-Objekt, auf dem der geschlagende Stein gezeichnet werden soll;\n",
    "- `coords` ist die Koordinate des Mittelpunktes des geschlagenden Steines;\n",
    "- `player` gibt  den Spieler des Steines an."
   ]
  },
  {
   "cell_type": "code",
   "execution_count": null,
   "metadata": {},
   "outputs": [],
   "source": [
    "def drawPoundedStone(c, coords, player):\n",
    "    x, y = coords\n",
    "    offset = int(math.sin(0.25*math.pi) * PLAYER_PIECE_RADIUS)\n",
    "    c.line_width = POUNDED_STONE_LINE_WIDTH\n",
    "    c.stroke_style = PLAYER_1_FILL_COLOR   if player == PLAYER_1 else PLAYER_2_FILL_COLOR\n",
    "    with ipycanvas.hold_canvas(c):\n",
    "        c.stroke_line(x - offset, y - offset, x + offset, y + offset)\n",
    "        c.stroke_line(x - offset, y + offset, x + offset, y - offset)\n",
    "    "
   ]
  },
  {
   "cell_type": "markdown",
   "metadata": {},
   "source": [
    "Die Funktion `drawText` zeichnet einen Text auf einer Zeichenfläche. Die Funktion hat zwei Argumente und zwei optionale Parameter:\n",
    "\n",
    "- `c` ist eine Referenz auf ein Canvas-Objekt, auf dem der Text gezeichnet werden soll.\n",
    "- `msg` ist die Nachricht, die auf dem Canvas geschrieben werden soll.\n",
    "- `hint` ist ein optionaler String, der ein Hinweis oder eine Warnung ist. Standardmäßig ist die Variable auf `None` gesetzt.\n",
    "- `scoreMsg` ist ein optionaler String, der den ermittelten Score des gespielten Zuges vom Computer angibt. Standardmäßig ist die Variable auf `None` gesetzt.\n",
    "\n",
    "Bei jedem Funktionsaufruf wird am Anfang der Inhalt der Zeichenfläche gelöscht, sodass sich immer nur eine Version der Texte auf der Zeichenfläche befindet.  "
   ]
  },
  {
   "cell_type": "code",
   "execution_count": null,
   "metadata": {},
   "outputs": [],
   "source": [
    "def drawText(c, msg, hint = None, scoreMsg = None):\n",
    "    with ipycanvas.hold_canvas(c):\n",
    "        c.clear()\n",
    "        y = TEXT_Y\n",
    "        c.fill_text(msg, TEXT_X, y, max_width = TEXT_MAX_WIDTH)\n",
    "        y += TEXT_VERTICAL_PADDING\n",
    "        if hint is not None:\n",
    "            c.fill_text('hint: ' + hint, TEXT_X, y, max_width = TEXT_MAX_WIDTH)\n",
    "            y += TEXT_VERTICAL_PADDING\n",
    "        if scoreMsg is not None:\n",
    "            c.fill_text('score: ' + scoreMsg, TEXT_X, y, max_width = TEXT_MAX_WIDTH)"
   ]
  },
  {
   "cell_type": "markdown",
   "metadata": {},
   "source": [
    "Die Funktion `constructLine` dient zum Konstruieren einer Linie auf einem Zeichenfeld. Die Funktion hat drei Eingabeparameter:\n",
    "\n",
    "- `c` ist eine Referenz auf ein Canvas-Objekt, auf dem die Linie gezeichnet werden soll.\n",
    "- `start` ist die Koordinate des Startpunktes der Linie.\n",
    "- `end` ist die Koordinate des Endpunktes der Linie.\n",
    "\n",
    "Die Funktion aktualisiert einen Pfad auf dem Zeichenfeld, aber sie zeichnet noch nicht den aktualisierten Pfad."
   ]
  },
  {
   "cell_type": "code",
   "execution_count": null,
   "metadata": {},
   "outputs": [],
   "source": [
    "def constructLine(c, start, end):\n",
    "    c.move_to(start[0], start[1])\n",
    "    c.line_to(end[0], end[1])"
   ]
  },
  {
   "cell_type": "markdown",
   "metadata": {},
   "source": [
    "Die Funktion `constructSquare` konstruiert ein Quadrat auf einer Zeichenfläche und lässt es mit Hilfe der Funktion `constructLine` zeichnen. Die Funktion hat zwei Eingabeargumente:\n",
    "\n",
    "- `c` ist eine Referenz auf ein Canvas-Objekt, auf dem das Quadrat gezeichnet werden soll.\n",
    "- `ring` ist ein Acht-Tupel, das die Koordinaten eines Ringes enthält."
   ]
  },
  {
   "cell_type": "code",
   "execution_count": null,
   "metadata": {},
   "outputs": [],
   "source": [
    "# Function to construct a square on a canvas c.\n",
    "def constructSquare(c, ring):\n",
    "    for i in range(4):\n",
    "        start = i * 2\n",
    "        end = (i * 2 + 2) if (i * 2 + 2 <= 6) else 0 \n",
    "        constructLine(c, ring[start], ring[end])"
   ]
  },
  {
   "cell_type": "markdown",
   "metadata": {},
   "source": [
    "Die Funktion `constructCrossLines` konstruiert die Querlinien des Mühlespiels auf einer Zeichenfläche und lässt es mit Hilfe der Funktion `constructLine` zeichnen. Die Funktion hat zwei Eingabeargumente:\n",
    "\n",
    "- `c` ist eine Referenz auf ein Canvas-Objekt, auf dem die Querlinien gezeichnet werden sollen.\n",
    "- `coords` ist ein zweidimensionales Tupel, welches alle Koordinaten des Spielbrettes enthält (vgl. das Kapitel _Koordinaten_ in der GUI)."
   ]
  },
  {
   "cell_type": "code",
   "execution_count": null,
   "metadata": {},
   "outputs": [],
   "source": [
    "def constructCrossLines(c, coords):\n",
    "    for i in range(4):\n",
    "        k = i * 2 + 1\n",
    "        constructLine(c, coords[0][k], coords[2][k])"
   ]
  },
  {
   "cell_type": "markdown",
   "metadata": {},
   "source": [
    "Die Funktion `setupCanvas` erstellt das Canvas-Objekt und zeichnet den Hintergrund des Spielfeldes. Die Funktion hat keine Eingabeparameter und gibt eine Referenz auf das erstellte Canvas-Objekt zurück.\n",
    "\n",
    "Die Zeichenfläche besteht aus einem MultiCanvas-Objekt mit drei Ebenen:\n",
    "\n",
    "- Der Hintergrund, der das Spielbrett mit den Linien darstellt;\n",
    "- Auf der zweiten Ebene wird der Text für das Spiel geschrieben;\n",
    "- Die Spielsteine werden auf der obersten Ebene gezeichnet. "
   ]
  },
  {
   "cell_type": "code",
   "execution_count": null,
   "metadata": {},
   "outputs": [],
   "source": [
    "def setupCanvas():\n",
    "    canvas = ipycanvas.MultiCanvas(3, width = CANVAS_WIDTH, height = CANVAS_HEIGHT)\n",
    "    with ipycanvas.hold_canvas(canvas[0]):\n",
    "        \n",
    "        canvas[0].fill_style = CANVAS_BACKGROUND_COLOR\n",
    "        canvas[0].fill_rect(0, 0, CANVAS_WIDTH, CANVAS_HEIGHT)\n",
    "        \n",
    "        canvas[0].fill_style = BOARD_BACKGROUND_COLOR\n",
    "        canvas[0].fill_rect(0, 0, BOARD_SIZE, BOARD_SIZE)\n",
    "\n",
    "        canvas[0].fill_style = STASH_BACKGROUND_COLOR\n",
    "        canvas[0].fill_rect(STASH_STARTING_POINT_X, STASH_STARTING_POINT_Y, STASH_WIDTH, STASH_HEIGHT)\n",
    "\n",
    "\n",
    "        canvas[0].stroke_style = BOARD_FOREGROUND_COLOR\n",
    "        canvas[0].begin_path()\n",
    "\n",
    "        for i in range(3):\n",
    "            constructSquare(canvas[0], coords[i])\n",
    "\n",
    "        constructCrossLines(canvas[0], coords)\n",
    "        canvas[0].stroke()\n",
    "    \n",
    "    canvas[1].font = TEXT_FONT\n",
    "    canvas[1].fill_style = TEXT_COLOR\n",
    "    \n",
    "    return canvas"
   ]
  },
  {
   "cell_type": "markdown",
   "metadata": {},
   "source": [
    "Die Funktion `updateGui` dient zum Aktualisieren der Zeichenfläche für einen gegebenen Spielzustand. Die Funktion hat zwei Argumente und drei optionale Parameter:\n",
    "\n",
    "- `c` ist eine Referenz auf ein Canvas-Objekt;\n",
    "- `state` ist der Spielzustand, der in der GUI angezeigt werden soll;\n",
    "- `selectedStone` ist eine Koordinate von einem selektierten Stein. Der Standardwert ist `None`. Ist in der Phase 2 oder 3 ein Stein auswählt, kann er mit diesem optionalen Parameter auf der Zeichenfläche hervorgehoben werden;\n",
    "- `movedStone` ist die Koordinate des zuletzt bewegten Steins, um diesen in der GUI entsprechend zu markieren. Der Standardwert ist `None`, was bedeutet, das kein Stein bewegt worden ist;\n",
    "- `poundedStones` ist eine Menge von den geschlagenden Steinen des Gegenspielers. Diese werden in der GUI als ein Kreuz dargestellt. Standardmäßig ist `poundedStones` eine leere Menge, was bedeutet, das kein Stein geschlagen worden ist. "
   ]
  },
  {
   "cell_type": "code",
   "execution_count": null,
   "metadata": {},
   "outputs": [],
   "source": [
    "def updateGui(c, state, selectedStone = None, movedStone = None, poundedStones = set()):\n",
    "    with ipycanvas.hold_canvas(c):\n",
    "        c.clear()\n",
    "        ((stashP1, stashP2), squares) = state\n",
    "\n",
    "        # update pieces on the board\n",
    "        for i in range(len(squares)):\n",
    "            for j in range(len(squares[i])):\n",
    "                drawStone(c, coords[i][j], squares[i][j], selected = selectedStone == (i, j), lastMoved = movedStone == (i, j))\n",
    "\n",
    "        for (player, (i, j)) in poundedStones:\n",
    "            drawPoundedStone(c, coords[i][j], player)\n",
    "            \n",
    "        # update pieces on the stash\n",
    "\n",
    "        # player 1\n",
    "\n",
    "        x = STASH_STARTING_POINT_X + PLAYER_PIECE_RADIUS\n",
    "        y = STASH_STARTING_POINT_Y + CANVAS_PADDING + PLAYER_PIECE_RADIUS\n",
    "\n",
    "        for i in range(stashP1):\n",
    "            x += 2 * PLAYER_PIECE_RADIUS + STASH_STONES_SPACING\n",
    "            drawStone(c, (x, y), PLAYER_1)\n",
    "\n",
    "        # player 2\n",
    "\n",
    "        x = STASH_STARTING_POINT_X + PLAYER_PIECE_RADIUS\n",
    "        y = STASH_STARTING_POINT_Y + CANVAS_PADDING + 3 * PLAYER_PIECE_RADIUS + STASH_STONES_SPACING\n",
    "\n",
    "        for i in range(stashP2):\n",
    "            x += 2 * PLAYER_PIECE_RADIUS + STASH_STONES_SPACING\n",
    "            drawStone(c, (x, y), PLAYER_2)\n",
    "    "
   ]
  },
  {
   "cell_type": "markdown",
   "metadata": {},
   "source": [
    "## Hilfsfunktionen für das Spielen in der GUI\n",
    "\n",
    "In diesem Kapitel werden Funktionen deklariert, die Hilfsfunktionen für die GUI darstellen, aber unabhängig von dem eigentlichen Spielzustand sind.\n",
    "\n",
    "Zusätzlich werden die Jupyter-Notebooks von dem Minimax- und Alpha-Beta-Pruning-Algorithmus benötigt und hier ausführt."
   ]
  },
  {
   "cell_type": "code",
   "execution_count": null,
   "metadata": {},
   "outputs": [],
   "source": [
    "%run ./nmm-minimax.ipynb\n",
    "%run ./nmm-alpha-beta-pruning.ipynb"
   ]
  },
  {
   "cell_type": "markdown",
   "metadata": {},
   "source": [
    "Die Funktion `getClickedStone` dient zum Ermitteln, ob auf der Zeichenfläche eine Ecke angeklickt worden ist, auf dem ein Stein stehen kann. Die Funktion hat zwei Argumente:\n",
    "\n",
    "- `x` für den Wert auf der horizontalen Achse;\n",
    "- `y` für den Wert auf der vertikalen Achse.\n",
    "\n",
    "Es müssen nicht die genauen Werte für x und y angeklickt werden, sondern es gibt einen Puffer in Höhe des Radius von einem Spielerstein. Falls eine Position für einen Stein angeklickt worden ist, für die jeweilige Koordinate aus dem `coords`-Tupel zurückgegeben. Falls keine Position gefunden worden ist, wird `None` zurückgegeben."
   ]
  },
  {
   "cell_type": "code",
   "execution_count": null,
   "metadata": {},
   "outputs": [],
   "source": [
    "def getClickedStone(x, y):\n",
    "    for value in av:\n",
    "        if value - PLAYER_PIECE_RADIUS <= x <= value + PLAYER_PIECE_RADIUS:\n",
    "            logger.info(f'value for x = {x} found: {value}')\n",
    "            x = value\n",
    "        if value - PLAYER_PIECE_RADIUS <= y <= value + PLAYER_PIECE_RADIUS:\n",
    "            logger.info(f'value for y = {y} found: {value}')\n",
    "            y = value\n",
    "\n",
    "    for i in range(len(coords)):\n",
    "        for j in range(len(coords[i])):\n",
    "            if coords[i][j] == (x, y):\n",
    "                logger.info(f'stone clicked: {(x, y)}')\n",
    "                return (i, j)\n",
    "    return None"
   ]
  },
  {
   "cell_type": "markdown",
   "metadata": {},
   "source": [
    "Die Funktion `getChangedStones` ermittelt den zuletzt bewegten Stein eines Spielers und alle geschlagenden Steine des Gegenspielers zwischen zwei Zuständen. Die Funktion hat drei Argumente:\n",
    "\n",
    "- `oldState` ist der Ausgangszustand;\n",
    "- `newState` ist der neue Zustand;\n",
    "- `player` ist der Spieler, den den Zug gespielt hat.\n",
    "\n",
    "Die Funktion gibt ein Zwei-Tupel der Form `<movedStone, poundedStones>` mit\n",
    "- `movedStone` ist die Koordinate des bewegten Steins des Spielers;\n",
    "- `poundedStones` ist eine Menge von Zwei-Tupeln der Form `<op, coord>` mit \n",
    "    - `op` ist der Gegenspieler;\n",
    "    - `coord` ist die Koordinate des geschlagenden Steines;\n",
    "\n",
    "zurück."
   ]
  },
  {
   "cell_type": "code",
   "execution_count": null,
   "metadata": {},
   "outputs": [],
   "source": [
    "def getChangedStones(oldState, newState, player):\n",
    "    (_, oldBoard) = oldState\n",
    "    (_, newBoard) = newState\n",
    "    op = opponent(player)\n",
    "    movedStone = None;\n",
    "    poundedStones = set()\n",
    "    \n",
    "    for i in range(len(oldBoard)):\n",
    "        for j in range(len(oldBoard[i])):\n",
    "            if oldBoard[i][j] != newBoard[i][j]:\n",
    "                if newBoard[i][j] == player:\n",
    "                    movedStone = (i, j)\n",
    "                if oldBoard[i][j] == op:\n",
    "                    poundedStones |= { (op, (i, j)) }\n",
    "    return (movedStone, poundedStones)"
   ]
  },
  {
   "cell_type": "markdown",
   "metadata": {},
   "source": [
    "## Klasse GameState\n",
    "\n",
    "Die Klasse `GameState` dient zum Verwalten von einem Mühle-Spiel. Sie definiert Funktionen, um das Spiel in der GUI spielen zu können.\n",
    "\n",
    "Der Konstruktur der Klasse hat elf Eingabeparameter, die alle optional sind:\n",
    "- `state` ist der Startzustand für das Spiel. Standardmäßig wird das Spiel mit `s0` gestartet, welches ein leeres Spielfeld darstellt;\n",
    "- `player` definiert den Spieler, der den ersten Zug spielt. Standardmäßig wird das Spiel mit dem weißen Spieler (`w`) gestartet;\n",
    "- `algorithm1` definiert, ob und welcher Algorithmus für den weißen Spieler spielt. Standardmäßig wird der Spieler von einem Menschen gespielt. Für Minimax ist der String `'MM'` zu nehmen und für α-β-Pruning `'AB'`;\n",
    "- `algorithm1Limit` definiert das Limit der Suchtiefe, mit welchem der Algorithmus für den weißen Spieler spielt. Standardmäßig ist das Limit auf `None` gesetzt, sodass das Limit in dem Algorithmus selber bestimmt wird. Das Limit hat nur bei dem Algorithmus Minimax eine Verwendung, da α-β-Pruning eine iterative Tiefensuche verwendet;\n",
    "- `algorithm2` definiert, ob und welcher Algorithmus für den schwarzen Spieler spielt. Standardmäßig wird der Spieler von einem Menschen gespielt. Für Minimax ist der String `'MM'` zu nehmen und für α-β-Pruning `'AB'`;\n",
    "- `algorithm2Limit` definiert das Limit der Suchtiefe, mit welchem der Algorithmus für den schwarzen Spieler spielt. Standardmäßig ist das Limit auf `None` gesetzt, sodass das Limit in dem Algorithmus selber bestimmt wird. Das Limit hat nur bei dem Algorithmus Minimax eine Verwendung, da α-β-Pruning eine iterative Tiefensuche verwendet;\n",
    "- `timeout` definiert einen Timeout in Sekunden, der nach einem Computer-Zug gesetzt wird. Dies dient dazu, die Übersichtlichkeit zu erhöhen, wenn Computer gegen Computer spielt. Standardmäßig gibt es keinen Timeout (`None`);\n",
    "- `stepwise` ist ein boolischer Wert und gibt an, ob das Spiel bei Computer gegen Computer im Einzelschrittmodus gespielt wird. Das bedeutet, nach jedem Computerzug muss der nächste Computerzug manuell begonnen werden. Standardmäßig ist der Einzelschrittmodus deaktiviert (`False`);\n",
    "- `limitMovesWithoutMill` ist eine Ganzzahl, die angibt, wie viele Züge ohne geschlagende Mühle gespielt werden können. Ist das Limit überschritten, endet das Spiel in einem Unentschieden. Der Standardwert ist `30`. Um dieses Limit auszuschalten, muss der Wert auf `None` gesetzt werden;\n",
    "- `limitStatesCounter` ist eine Ganzzahl, die angibt, wie oft ein gleicher Zustand gespielt werden kann. Ist das Limit überschritten, endet das Spiel in einem Unentschieden. Der Standardwert ist `5`. Um dieses Limit auszuschalten, muss der Wert auf `None` gesetzt werden;"
   ]
  },
  {
   "cell_type": "code",
   "execution_count": null,
   "metadata": {},
   "outputs": [],
   "source": [
    "from collections import defaultdict\n",
    "\n",
    "class GameState:\n",
    "    def __init__(self, state = s0, player = PLAYER_1, algorithm1 = None, algorithm1Limit = None, algorithm2 = None, algorithm2Limit = None, timeout = None, stepwise = False, limitMovesWithoutMill = 30, limitStatesCounter = 5):\n",
    "        self.state = state\n",
    "        self.player = player\n",
    "        self.canvas = setupCanvas()\n",
    "        self.winner = None\n",
    "        self.score = None\n",
    "        self.resetStateVariables()\n",
    "        \n",
    "        self.algorithm1 = algorithm1.upper() if algorithm1 else None\n",
    "        self.algorithm1Limit = algorithm1Limit\n",
    "        self.algorithm2 = algorithm2.upper() if algorithm2 else None\n",
    "        self.algorithm2Limit = algorithm2Limit\n",
    "        self.timeout = timeout\n",
    "        self.stepwise = stepwise\n",
    "        self.limitMovesWithoutMill = limitMovesWithoutMill\n",
    "        self.movesWithoutMill = 0\n",
    "        self.limitStatesCounter = limitStatesCounter\n",
    "        self.statesCounter = defaultdict(int)\n",
    "        \n",
    "        self.pause = (self.player == PLAYER_1 and self.algorithm1) or (self.player == PLAYER_2 and self.algorithm2)\n",
    "        if self.pause:\n",
    "            self.hint = 'Please click to start the game.'\n",
    "        \n",
    "        self.canvas[2].on_mouse_up(self.handleGame)\n",
    "        \n",
    "        updateGui(self.canvas[2], self.state)\n",
    "        self.updateText()\n",
    "        logger.info('game state initalized')\n",
    "        "
   ]
  },
  {
   "cell_type": "markdown",
   "metadata": {},
   "source": [
    "Die Funktion `resetStateVariables` dient zum Zurücksetzen der temporären Hilfsvariablen der Klasse `GameState`. Diese Funktion hat weder Ein- noch Ausgabe."
   ]
  },
  {
   "cell_type": "code",
   "execution_count": null,
   "metadata": {},
   "outputs": [],
   "source": [
    "def resetStateVariables(self):\n",
    "    self.stateTemp = None\n",
    "    self.millsToPound = 0\n",
    "    self.selectedStone = None\n",
    "    self.hint = None\n",
    "    \n",
    "GameState.resetStateVariables = resetStateVariables\n",
    "del resetStateVariables"
   ]
  },
  {
   "cell_type": "markdown",
   "metadata": {},
   "source": [
    "Die Funktion `handleGame` steuert den Ablauf des Spiels. Die Funktion wird bei jedem Mausklick auf das Canvas-Objekt von dem Event `on_mouse_up` aufgerufen. Die Funktion hat zwei Argumente:\n",
    "\n",
    "- `x` ist relative Wert der Maus zu dem Canvas-Objekt auf der horizontalen Achse;\n",
    "- `y` ist relative Wert der Maus zu dem Canvas-Objekt auf der vertikalen Achse."
   ]
  },
  {
   "cell_type": "code",
   "execution_count": null,
   "metadata": {},
   "outputs": [],
   "source": [
    "def handleGame(self, x, y):\n",
    "    if self.winner is not None:\n",
    "        logger.warning('Game has ended!')\n",
    "        return\n",
    "    \n",
    "    if self.pause:\n",
    "        self.pause = False\n",
    "        self.hint = None\n",
    "        \n",
    "        self.updateText()\n",
    "        self.checkForComputerStep()\n",
    "    \n",
    "        return\n",
    "    \n",
    "    self.score = None\n",
    "    logger.info(f'({x}, {y})')\n",
    "    phase = playerPhase(self.state, self.player)\n",
    "    logger.info(f'player phase: {phase}')\n",
    "    \n",
    "    stone = getClickedStone(x, y)\n",
    "\n",
    "    if stone is None:\n",
    "        logger.warning('No stone was clicked!')\n",
    "        if self.selectedStone is not None and self.millsToPound <= 0:\n",
    "            self.cancelStep()\n",
    "    elif self.millsToPound > 0:\n",
    "        self.poundMillInGui(stone)\n",
    "    elif self.selectedStone is not None:\n",
    "        self.moveStone(stone)\n",
    "    elif phase == 1:\n",
    "        self.placeStone(stone)\n",
    "    elif phase == 2 or phase == 3:\n",
    "        self.selectStone(stone)\n",
    "\n",
    "    self.updateText()\n",
    "\n",
    "    self.checkForComputerStep()\n",
    "\n",
    "GameState.handleGame = handleGame\n",
    "del handleGame"
   ]
  },
  {
   "cell_type": "markdown",
   "metadata": {},
   "source": [
    "Die Funktion `togglePlayer` tauscht den Spieler, der den nächsten Zug spielt."
   ]
  },
  {
   "cell_type": "code",
   "execution_count": null,
   "metadata": {},
   "outputs": [],
   "source": [
    "def togglePlayer(self):\n",
    "    self.player = opponent(self.player)\n",
    "        \n",
    "GameState.togglePlayer = togglePlayer\n",
    "del togglePlayer"
   ]
  },
  {
   "cell_type": "markdown",
   "metadata": {},
   "source": [
    "Die Funktion `playNewState` spielt einen vollständigen Zug in der GUI. Dafür hat sie ein Argument:\n",
    "\n",
    "- `newState` ist der neue Zustand, der gespielt werden soll.\n",
    "\n",
    "Die Funktion aktualisiert alle benötigten Hilfsvariablen in der Klasse `GameState` und ruft diverse Funktionen auf, um das Spiel für den neuen Zug vorzubereiten.\n",
    "\n",
    "Sind die Regeln für ein Untenschieden `limitStatesCounter` und `limitMovesWithoutMill` aktiviert (also nicht `None`), werden die entsprechenden Zähler, um die Regeln zu kontrollieren, aktualisiert. Die Regeln werden jedoch nur aktualisiert, wenn sich die Spieler nicht mehr in der Setzphase befinden."
   ]
  },
  {
   "cell_type": "code",
   "execution_count": null,
   "metadata": {},
   "outputs": [],
   "source": [
    "def playNewState(self, newState): \n",
    "    movedStone, poundedStones = getChangedStones(self.state, newState, self.player)\n",
    "    phase = playerPhase(self.state, self.player)\n",
    "    if phase != 1:\n",
    "        if self.limitStatesCounter is not None:\n",
    "            self.statesCounter[newState] += 1\n",
    "            logger.info(f'the state {newState} was played {self.statesCounter[newState]} times.')\n",
    "\n",
    "        if self.limitMovesWithoutMill is not None:\n",
    "            if (len(poundedStones) == 0):\n",
    "                self.movesWithoutMill += 1\n",
    "            else:\n",
    "                self.movesWithoutMill = 0\n",
    "            logger.info(f'moves without mill: {self.movesWithoutMill}')\n",
    "        \n",
    "    self.state = newState\n",
    "    self.resetStateVariables()\n",
    "    self.togglePlayer()\n",
    "    self.checkIfFinished()\n",
    "    \n",
    "    if phase != 1:\n",
    "        if (self.limitStatesCounter is not None) and (self.statesCounter[self.state] + 1 >= self.limitStatesCounter):\n",
    "            self.hint = f'The state has already been played {self.statesCounter[newState]} times. If it is played once more, the game is a tie!'\n",
    "\n",
    "        if (self.limitMovesWithoutMill is not None) and (self.movesWithoutMill + 5 >= self.limitMovesWithoutMill):\n",
    "            self.hint = f'no mill was pound in the last {self.movesWithoutMill} moves. In {self.limitMovesWithoutMill - self.movesWithoutMill} moves the game is a tie!'\n",
    "            \n",
    "    updateGui(self.canvas[2], self.state, movedStone = movedStone, poundedStones = poundedStones)\n",
    "    self.updateText()\n",
    "\n",
    "GameState.playNewState = playNewState\n",
    "del playNewState"
   ]
  },
  {
   "cell_type": "markdown",
   "metadata": {},
   "source": [
    "Die Funktion `checkForComputerStep` überprüft, ob der nächste Zug von einem Algorithmus gespielt werden soll. Falls dies der Fall ist, wird der jeweilige Algorithmus ausgeführt und der Spielzustand aktualisiert."
   ]
  },
  {
   "cell_type": "code",
   "execution_count": null,
   "metadata": {},
   "outputs": [],
   "source": [
    "from time import sleep\n",
    "\n",
    "def checkForComputerStep(self):\n",
    "    if self.winner is not None:\n",
    "        logger.warning('Game has ended!')\n",
    "        return\n",
    "    \n",
    "    if self.pause:\n",
    "        logger.warning('Pause!')\n",
    "        self.hint = 'The game has paused. Please click to continue!'\n",
    "        self.updateText()\n",
    "        return\n",
    "    \n",
    "    if (self.player == PLAYER_1 and self.algorithm1) or (self.player == PLAYER_2 and self.algorithm2):\n",
    "        logger.info(f'computer calculating for player {self.player} with algorithm {self.algorithm1 if self.player == PLAYER_1 else self.algorithm2}')\n",
    "        \n",
    "        if (self.player == PLAYER_1 and self.algorithm1 == 'MM') or (self.player == PLAYER_2 and self.algorithm2 == 'MM'):\n",
    "            bestValue, bestMove = bestMove_MM(self.state, self.player, limit = self.algorithm1Limit if self.player == PLAYER_1 else self.algorithm2Limit)\n",
    "        elif (self.player == PLAYER_1 and self.algorithm1 == 'AB') or (self.player == PLAYER_2 and self.algorithm2 == 'AB'):\n",
    "            bestValue, bestMove = bestMove_AB(self.state, self.player)\n",
    "        else:\n",
    "            logger.error(f'Invalid algorithm: {self.algorithm1} or {self.algorithm2}!')\n",
    "            return\n",
    "        self.score = bestValue\n",
    "        logger.info(f'best state calculated with Score {bestValue}:\\n{bestMove}')\n",
    "        \n",
    "        self.playNewState(bestMove)\n",
    "        \n",
    "        if self.timeout:\n",
    "            self.hint = f'Timeout ({self.timeout} seconds). Please wait!'\n",
    "            self.updateText()\n",
    "            sleep(self.timeout)\n",
    "        \n",
    "        self.pause = self.stepwise\n",
    "        self.checkForComputerStep()\n",
    "    \n",
    "GameState.checkForComputerStep = checkForComputerStep\n",
    "del checkForComputerStep"
   ]
  },
  {
   "cell_type": "markdown",
   "metadata": {},
   "source": [
    "Die Funktion `placeStone` dient zum Platzieren eines Spielersteins in der Spielphase 1. Die Funktion hat ein Argument:\n",
    "\n",
    "- `coord` ist die Koordinate aus dem Tupel `coords` an dem der Stein des Spielers gesetzt werden soll."
   ]
  },
  {
   "cell_type": "code",
   "execution_count": null,
   "metadata": {},
   "outputs": [],
   "source": [
    "def placeStone(self, coord):\n",
    "    if getPlayerAt(self.state[1], coord) != NO_PLAYER:\n",
    "        logger.warning(f'{coord} is not free')\n",
    "        self.hint = f'The slot at {coord} is not free!'\n",
    "        return\n",
    "\n",
    "    newState = (removeFromStash(self.state[0], self.player), place(self.state[1], coord, self.player))\n",
    "\n",
    "    if self.validateNewState(newState):\n",
    "        logging.info('stone placed')\n",
    "    else:\n",
    "        logger.info('NewState not in allAvailableStates, checking for new Mills ...')\n",
    "        self.checkForNewMills(newState)\n",
    "\n",
    "        \n",
    "GameState.placeStone = placeStone\n",
    "del placeStone"
   ]
  },
  {
   "cell_type": "markdown",
   "metadata": {},
   "source": [
    "Die Funktion `selectStone` dient zum Selektieren des Steines, der in der Phase 2 verschoben bzw. in Phase 3 springen soll. Die Funktion hat ein Argument:\n",
    "\n",
    "- `stone` ist die Koordinate des Steines, der bewegt werden soll.\n",
    "\n",
    "Die Funktion erzeugt bei erfolgreicher Validierung einen Hilfszustand in der GUI mit dem markierten Stein."
   ]
  },
  {
   "cell_type": "code",
   "execution_count": null,
   "metadata": {},
   "outputs": [],
   "source": [
    "def selectStone(self, stone):\n",
    "    if getPlayerAt(self.state[1], stone) != self.player:\n",
    "        logger.warning(f'{stone} is not the own stone')\n",
    "        self.hint = 'Please select your own stone!'\n",
    "        return\n",
    "    self.selectedStone = stone\n",
    "    self.hint = None\n",
    "    updateGui(self.canvas[2], self.state, selectedStone = self.selectedStone)\n",
    "\n",
    "    \n",
    "GameState.selectStone = selectStone\n",
    "del selectStone"
   ]
  },
  {
   "cell_type": "markdown",
   "metadata": {},
   "source": [
    "Die Funktion `moveStone` dient zum Bewegen des selektierten Steins in der Zug- und Endphase. Die Funktion hat ein Argument:\n",
    "\n",
    "- `coord` ist die Koordinate, wohin der Stein bewegt werden soll.\n",
    "\n",
    "Der zu bewegende Stein wurde in dem vorherigen Hilfszug in der Funktion `selectStone` ausgewählt und in der Hilfsvariablen `selectedStone` gespeichert."
   ]
  },
  {
   "cell_type": "code",
   "execution_count": null,
   "metadata": {},
   "outputs": [],
   "source": [
    "def moveStone(self, coord):\n",
    "    if getPlayerAt(self.state[1], coord) != NO_PLAYER:\n",
    "        logger.warning(f'{coord} is not free')\n",
    "        self.hint = f'The slot at {coord} is not free!'\n",
    "        return\n",
    "    \n",
    "    canJump = isAllowedToJump(self.state, self.player)\n",
    "    logger.info(f'moveStone({coord})')\n",
    "\n",
    "    if canJump or coord in findNeighboringEmptyCells(self.state[1], self.selectedStone):\n",
    "        newState = (self.state[0], place(self.state[1], self.selectedStone, NO_PLAYER))\n",
    "        newState = (newState[0], place(newState[1], coord, self.player))\n",
    "\n",
    "        if self.validateNewState(newState):\n",
    "            movement = 'jumped' if canJump else 'moved'\n",
    "            logger.info(f'Stone successfully {movement}!')\n",
    "        else:\n",
    "            logger.info('Round not finished, checking for new mills...')\n",
    "            self.checkForNewMills(newState)\n",
    "    else:\n",
    "        logger.warning(f'{coord} is not a (free) neighbor of {self.selectedStone}!')\n",
    "        self.hint = f'The slot at {coord} is not a (free) neighbor of {self.selectedStone}!'\n",
    "\n",
    "GameState.moveStone = moveStone\n",
    "del moveStone"
   ]
  },
  {
   "cell_type": "markdown",
   "metadata": {},
   "source": [
    "Die Funktion `checkForNewMills` überprüft, ob ein gegebener Zustand neue Mühlen enthält. Die Funktion hat ein Argument:\n",
    "\n",
    "- `newState` ist der neue Zustand, der überprüft werden soll.\n",
    "\n",
    "Falls neue Mühlen gefunden worden sind, wird ein temporärer Zustand erstellt, der den menschlichen Spieler auffordert, einen gegnerischen Stein von dem Spiellbrett zu entfernen. Im Englischen wird dies als _pounding_ bezeichnet."
   ]
  },
  {
   "cell_type": "code",
   "execution_count": null,
   "metadata": {},
   "outputs": [],
   "source": [
    "def checkForNewMills(self, newState):\n",
    "    oldMills = findMills(self.state[1], self.player)\n",
    "    newMills = countNewMills(newState[1], oldMills, self.player)\n",
    "\n",
    "    if newMills > 0:\n",
    "        \n",
    "        logger.info(f'new mills: {newMills}')\n",
    "        \n",
    "        self.stateTemp = newState\n",
    "        self.millsToPound = newMills\n",
    "        self.hint = None\n",
    "        movedStone, poundedStones = getChangedStones(self.state, self.stateTemp, self.player)\n",
    "        updateGui(self.canvas[2], self.stateTemp, movedStone = movedStone, poundedStones = poundedStones)\n",
    "    \n",
    "\n",
    "GameState.checkForNewMills = checkForNewMills\n",
    "del checkForNewMills"
   ]
  },
  {
   "cell_type": "markdown",
   "metadata": {},
   "source": [
    "Die Funktion `poundMillInGui` entfernt einen gegnerischen Spielerstein und beendet somit einen Mühlenzug. Die Funktion hat dabei ein Argument:\n",
    "\n",
    "- `stone` ist die Koordinate des gegnerischen Spielersteins, der entfernt werden soll.\n",
    "\n",
    "Ob ein Spielerstein entfernt werden kann, wird mit der Funktion `validateNewState` validiert.\n",
    "\n",
    "In der Setzphase kann es vorkommen, dass ein Spieler zwei Mühlen schlagen kann. In diesem Fall kann das nicht von der Funktion `validateNewState` ausführt werden, weil der Zug noch nicht abgeschlossen ist und somit nicht in der Menge `nextStates` auftritt. In diesem Fall muss die Validierung von der Funktion selber durchgeführt werden."
   ]
  },
  {
   "cell_type": "code",
   "execution_count": null,
   "metadata": {},
   "outputs": [],
   "source": [
    "def poundMillInGui(self, stone):\n",
    "    if self.millsToPound  <= 0:\n",
    "        logger.warning('Player has no Mills to pound!')\n",
    "        return\n",
    "    if getPlayerAt(self.state[1], stone) != opponent(self.player):\n",
    "        logger.warning(f'{stone} is not the opponent!')\n",
    "        self.hint = 'Please select an opponent stone!'\n",
    "        \n",
    "        return\n",
    "    # if the player has only one mill left to pound, it uses the place function and afterwards validates the newState\n",
    "    if self.millsToPound == 1:\n",
    "        newState = (self.stateTemp[0], place(self.stateTemp[1], stone, NO_PLAYER))\n",
    "        if self.validateNewState(newState):\n",
    "            logger.info('success')\n",
    "        else:\n",
    "            logger.warning('Mills could not be pounded! The new state could not be validated by the game logic.')\n",
    "            self.hint = 'Please do not select an opponent stone that is in a mill!'\n",
    "\n",
    "        return\n",
    "    \n",
    "    # otherwise the gui has to validate the mill manually, as the intermediate step cannot be checked by the game logic\n",
    "    if stone in getCellsPoundable(self.stateTemp[1], self.player):\n",
    "        self.stateTemp = (self.stateTemp[0], place(self.stateTemp[1], stone, NO_PLAYER))\n",
    "        self.millsToPound -= 1\n",
    "        self.hint = None\n",
    "        movedStone, poundedStones = getChangedStones(self.state, self.stateTemp, self.player)\n",
    "        updateGui(self.canvas[2], self.stateTemp, movedStone = movedStone, poundedStones = poundedStones)\n",
    "    else:\n",
    "        logger.warning('Mills could not be pounded! The new state could not be validated by the gui.')\n",
    "        self.hint = 'Please do not select an opponent stone that is in a mill!'\n",
    "\n",
    "GameState.poundMillInGui = poundMillInGui\n",
    "del poundMillInGui"
   ]
  },
  {
   "cell_type": "markdown",
   "metadata": {},
   "source": [
    "Die Funktion `validateNewState` überprüft, ob ein gegebener Zustand in der Menge der `nextStates` vorhanden ist. Die Funktion hat ein Argument:\n",
    "\n",
    "- `newState` ist der neue Zustand, der validert werden soll.\n",
    "\n",
    "Falls sich der neue Zustand `newState` in der Menge `nextStates` von dem aktuellen Zustand `state` befindet, ist ein Zug von dem Spieler abgeschlossen. Die Hilfsvariablen werden zurückgesetzt und es wird der Spieler getauscht. "
   ]
  },
  {
   "cell_type": "code",
   "execution_count": null,
   "metadata": {},
   "outputs": [],
   "source": [
    "def validateNewState(self, newState):\n",
    "    allAvailableStates = nextStates(self.state, self.player)\n",
    "    if newState in allAvailableStates:\n",
    "        logger.info('SUCCESS')\n",
    "        self.playNewState(newState)\n",
    "        return True\n",
    "    else:\n",
    "        logger.warning('state is not in allAvailableStates!')\n",
    "        return False\n",
    "\n",
    "GameState.validateNewState = validateNewState\n",
    "del validateNewState"
   ]
  },
  {
   "cell_type": "markdown",
   "metadata": {},
   "source": [
    "Die Funktion `cancelStep` dient zum Deselektieren eines Steines in der Zug- oder Endphase."
   ]
  },
  {
   "cell_type": "code",
   "execution_count": null,
   "metadata": {},
   "outputs": [],
   "source": [
    "def cancelStep(self):\n",
    "    logger.warn('step is canceled.')\n",
    "    \n",
    "    self.resetStateVariables()\n",
    "    updateGui(self.canvas[2], self.state)\n",
    "    \n",
    "GameState.cancelStep = cancelStep\n",
    "del cancelStep"
   ]
  },
  {
   "cell_type": "markdown",
   "metadata": {},
   "source": [
    "Die Funktion `updateText` dient zum Aktualisieren des Textes und des Hinweises auf dem Spielbrett. Die Funktion ermittelt dabei selbständig den aktuellen Zustand des Spieles anhand der Variablen innerhalb der Klasse."
   ]
  },
  {
   "cell_type": "code",
   "execution_count": null,
   "metadata": {},
   "outputs": [],
   "source": [
    "def updateText(self):\n",
    "    phase = playerPhase(self.state, self.player)\n",
    "    if self.winner is None:\n",
    "        message = f'Player {self.player}: '\n",
    "        \n",
    "        if self.player == PLAYER_1 and self.algorithm1:\n",
    "            message += f'Computer\\'s turn with {self.algorithm1}. Please wait.'\n",
    "        elif self.player == PLAYER_2 and self.algorithm2:\n",
    "            message += f'Computer\\'s turn with {self.algorithm2}. Please wait.'\n",
    "        elif self.millsToPound == 1:\n",
    "            message += 'Pound your mill.'\n",
    "        elif self.millsToPound > 1:\n",
    "            message += f'You have {self.millsToPound} mills left to pound. Please pound your next mill.'\n",
    "        elif self.selectedStone is not None:\n",
    "            movement = 'move' if phase == 2 else 'jump'\n",
    "            message += f'{movement} your selected stone.'\n",
    "        elif phase == 1:\n",
    "            message += 'Place your stone.'\n",
    "        elif phase == 2 or phase == 3:\n",
    "            movement = 'move' if phase == 2 else 'jump'\n",
    "            message += f'select your stone you want to {movement}.'      \n",
    "    else:\n",
    "        message = 'The game has ended: '\n",
    "        self.hint = None\n",
    "        if self.winner == NO_PLAYER:\n",
    "            message += 'Tie.'\n",
    "        else:\n",
    "            message += f'{self.winner} has won!'\n",
    "    scoreMsg = f'{opponent(self.player)} played with score {self.score}' if self.score is not None else None\n",
    "    logger.info(message)\n",
    "    drawText(self.canvas[1], message, hint = self.hint, scoreMsg = scoreMsg)\n",
    "\n",
    "GameState.updateText = updateText\n",
    "del updateText"
   ]
  },
  {
   "cell_type": "markdown",
   "metadata": {},
   "source": [
    "Die Funktion `checkIfFinished` überprüft, ob ein Spiel beendet worden ist. Dabei benutzt es die Funktionen `finished` und `utility` aus dem Jupyter-Notebookt `nmm-game`."
   ]
  },
  {
   "cell_type": "code",
   "execution_count": null,
   "metadata": {},
   "outputs": [],
   "source": [
    "def checkIfFinished(self):\n",
    "    if (self.limitMovesWithoutMill is not None) and (self.movesWithoutMill >= self.limitMovesWithoutMill):\n",
    "        self.winner = NO_PLAYER\n",
    "    elif (self.limitStatesCounter is not None) and (self.statesCounter[self.state] >= self.limitStatesCounter):\n",
    "        self.winner = NO_PLAYER\n",
    "    elif finished(self.state, self.player):\n",
    "        status = utility(self.state, self.player)\n",
    "        if status == 0:\n",
    "            self.winner = NO_PLAYER\n",
    "        else:\n",
    "            self.winner = self.player if status == 1 else opponent(self.player)\n",
    "\n",
    "GameState.checkIfFinished = checkIfFinished\n",
    "del checkIfFinished"
   ]
  },
  {
   "cell_type": "markdown",
   "metadata": {},
   "source": [
    "## Spielen\n",
    "\n",
    "Um das Spiel in der GUI zu spielen, muss zuerst ein Objekt der Klasse `GameState` initialisiert werden. Die Argumente für die Klasse bestimmen die Spieloptionen.\n",
    "\n",
    "Anschließend muss noch die dynamische Zeichenfeldreferenz des Objektes ausgegeben werden, um das Spielfeld anzuzeigen."
   ]
  },
  {
   "cell_type": "code",
   "execution_count": null,
   "metadata": {},
   "outputs": [],
   "source": [
    "gameState = GameState(algorithm1 = 'ab', algorithm2 = 'mm')"
   ]
  },
  {
   "cell_type": "code",
   "execution_count": null,
   "metadata": {},
   "outputs": [],
   "source": [
    "gameState.canvas"
   ]
  }
 ],
 "metadata": {
  "kernelspec": {
   "display_name": "Python 3",
   "language": "python",
   "name": "python3"
  },
  "language_info": {
   "codemirror_mode": {
    "name": "ipython",
    "version": 3
   },
   "file_extension": ".py",
   "mimetype": "text/x-python",
   "name": "python",
   "nbconvert_exporter": "python",
   "pygments_lexer": "ipython3",
   "version": "3.8.5"
  }
 },
 "nbformat": 4,
 "nbformat_minor": 4
}
