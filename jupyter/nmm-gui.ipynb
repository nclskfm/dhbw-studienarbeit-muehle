{
 "cells": [
  {
   "cell_type": "markdown",
   "metadata": {},
   "source": [
    "# Nine men's morris GUI"
   ]
  },
  {
   "cell_type": "code",
   "execution_count": null,
   "metadata": {},
   "outputs": [],
   "source": [
    "import os.path\n",
    "css = \"\"\n",
    "if os.path.isfile(\"style.html\"):\n",
    "    from IPython.core.display import HTML\n",
    "    with open(\"style.html\", \"r\") as file:\n",
    "        css = file.read()\n",
    "HTML(css)"
   ]
  },
  {
   "cell_type": "code",
   "execution_count": null,
   "metadata": {},
   "outputs": [],
   "source": [
    "import ipycanvas\n",
    "import math"
   ]
  },
  {
   "cell_type": "code",
   "execution_count": null,
   "metadata": {},
   "outputs": [],
   "source": [
    "import logging\n",
    "\n",
    "# create logger with ''\n",
    "logger = logging.getLogger('GUI')\n",
    "logger.setLevel(logging.DEBUG)\n",
    "# create file handler which logs even debug messages\n",
    "fh = logging.FileHandler('log.txt')\n",
    "fh.setLevel(logging.DEBUG)\n",
    "# create console handler with a higher log level\n",
    "ch = logging.StreamHandler()\n",
    "ch.setLevel(logging.ERROR)\n",
    "# create formatter and add it to the handlers\n",
    "formatter = logging.Formatter('%(asctime)s - %(levelname)s - %(message)s')\n",
    "fh.setFormatter(formatter)\n",
    "# add the handlers to the logger\n",
    "logger.addHandler(fh)"
   ]
  },
  {
   "cell_type": "markdown",
   "metadata": {},
   "source": [
    "## Konstanten\n",
    "\n",
    "(TODO: Konstanten erklären und Schema erstellen)"
   ]
  },
  {
   "cell_type": "code",
   "execution_count": null,
   "metadata": {},
   "outputs": [],
   "source": [
    "# Board constants\n",
    "BOARD_SIZE = 500\n",
    "CANVAS_PADDING = 30\n",
    "ROW_WIDTH = 60\n",
    "PLAYER_PIECE_RADIUS = 12\n",
    "DEFAULT_PIECE_RADIUS = 5\n",
    "\n",
    "DEFAULT_STONE_LINE_WIDTH = 1\n",
    "SELECTED_STONE_LINE_WIDTH = 3\n",
    "\n",
    "STASH_STONES_SPACING = 5\n",
    "\n",
    "STASH_HEIGHT = ((PLAYER_PIECE_RADIUS * 2 ) * 2) + (STASH_STONES_SPACING) + (CANVAS_PADDING * 2)\n",
    "STASH_WIDTH = ((PLAYER_PIECE_RADIUS * 2 ) * 9) + (STASH_STONES_SPACING * 8) + (CANVAS_PADDING * 2)\n",
    "\n",
    "CANVAS_HEIGHT = BOARD_SIZE\n",
    "CANVAS_WIDTH = 1500\n",
    "\n",
    "STASH_STARTING_POINT_X = BOARD_SIZE\n",
    "STASH_STARTING_POINT_Y = CANVAS_HEIGHT - STASH_HEIGHT\n",
    "\n",
    "# text\n",
    "TEXT_X = BOARD_SIZE + CANVAS_PADDING\n",
    "TEXT_Y = CANVAS_PADDING\n",
    "TEXT_MAX_WIDTH = CANVAS_WIDTH - BOARD_SIZE - 2 * CANVAS_PADDING\n",
    "TEXT_FONT = '14px sans-serif'\n",
    "TEXT_VERTICAL_PADDING = 40\n",
    "\n",
    "\n",
    "# players\n",
    "NO_PLAYER = ' '\n",
    "PLAYER_1 = 'w'\n",
    "PLAYER_2 = 'b'\n",
    "\n",
    "\n",
    "# color constants\n",
    "CANVAS_BACKGROUND_COLOR = '#ffffff'\n",
    "BOARD_FOREGROUND_COLOR = '#191919'\n",
    "BOARD_BACKGROUND_COLOR = '#ffffcb'\n",
    "STASH_BACKGROUND_COLOR = '#dedede'\n",
    "PLAYER_1_FILL_COLOR = '#E8E8E8'\n",
    "PLAYER_1_STROKE_COLOR = '#191919'\n",
    "PLAYER_2_FILL_COLOR = '#3D3D3D'\n",
    "PLAYER_2_STROKE_COLOR = '#191919'\n",
    "TEXT_COLOR = '#000000'\n",
    "\n",
    "# enabled shadow constants\n",
    "SHADOW_COLOR_ENABLED = '#000000'\n",
    "SHADOW_OFFSET_X_ENABLED = 2\n",
    "SHADOW_OFFSET_Y_ENABLED = 2\n",
    "SHADOW_BLUR_ENABLED = 2\n",
    "\n",
    "# disabled shadow constants\n",
    "SHADOW_COLOR_DISABLED = 'rgba(0, 0, 0, 0)'\n",
    "SHADOW_OFFSET_X_DISABLED = 0\n",
    "SHADOW_OFFSET_Y_DISABLED = 0\n",
    "SHADOW_BLUR_DISABLED = 0\n"
   ]
  },
  {
   "cell_type": "markdown",
   "metadata": {},
   "source": [
    "### Berechnete Werte\n",
    "(TODO: Erklärung)"
   ]
  },
  {
   "cell_type": "code",
   "execution_count": null,
   "metadata": {},
   "outputs": [],
   "source": [
    "# all available values for x and y, beginning left to right and top to bottom\n",
    "av = [\n",
    "    math.floor(CANVAS_PADDING),\n",
    "    math.floor(CANVAS_PADDING + ROW_WIDTH),\n",
    "    math.floor(CANVAS_PADDING + 2 * ROW_WIDTH),\n",
    "    math.floor(BOARD_SIZE / 2),\n",
    "    math.floor(BOARD_SIZE - (CANVAS_PADDING + 2 * ROW_WIDTH)),\n",
    "    math.floor(BOARD_SIZE - (CANVAS_PADDING + ROW_WIDTH)),\n",
    "    math.floor(BOARD_SIZE - CANVAS_PADDING)\n",
    "]\n"
   ]
  },
  {
   "cell_type": "markdown",
   "metadata": {},
   "source": [
    "### Koordinaten\n",
    "(TODO: Erklärung)"
   ]
  },
  {
   "cell_type": "code",
   "execution_count": null,
   "metadata": {},
   "outputs": [],
   "source": [
    "# All coordinates. The first tuple is the outer square, the second tuple is the middle square and the third tuple is the inner square. It always starts from top left and then clockwise.\n",
    "coords = (\n",
    "    (\n",
    "        (av[0], av[0]),\n",
    "        (av[3], av[0]),\n",
    "        (av[6], av[0]),\n",
    "        (av[6], av[3]),\n",
    "        (av[6], av[6]),\n",
    "        (av[3], av[6]),\n",
    "        (av[0], av[6]),\n",
    "        (av[0], av[3])\n",
    "    ),\n",
    "    (\n",
    "        (av[1], av[1]),\n",
    "        (av[3], av[1]),\n",
    "        (av[5], av[1]),\n",
    "        (av[5], av[3]),\n",
    "        (av[5], av[5]),\n",
    "        (av[3], av[5]),\n",
    "        (av[1], av[5]),\n",
    "        (av[1], av[3])\n",
    "    ),\n",
    "    (\n",
    "        (av[2], av[2]),\n",
    "        (av[3], av[2]),\n",
    "        (av[4], av[2]),\n",
    "        (av[4], av[3]),\n",
    "        (av[4], av[4]),\n",
    "        (av[3], av[4]),\n",
    "        (av[2], av[4]),\n",
    "        (av[2], av[3])\n",
    "    )\n",
    ") "
   ]
  },
  {
   "cell_type": "markdown",
   "metadata": {},
   "source": [
    "## Funktionen zum Zeichnen\n",
    "(TODO: Erklärung)"
   ]
  },
  {
   "cell_type": "markdown",
   "metadata": {},
   "source": [
    "### drawLine\n",
    "(TODO: Erklärung)"
   ]
  },
  {
   "cell_type": "code",
   "execution_count": null,
   "metadata": {},
   "outputs": [],
   "source": [
    "# Function to draw a line on a canvas c, from start to end. Start and end are tuples with x and y values.\n",
    "def drawLine(c, start, end):\n",
    "    c.move_to(start[0], start[1])\n",
    "    c.line_to(end[0], end[1])"
   ]
  },
  {
   "cell_type": "markdown",
   "metadata": {},
   "source": [
    "### toggleShadow\n",
    "(TODO: Erklärung)"
   ]
  },
  {
   "cell_type": "code",
   "execution_count": null,
   "metadata": {},
   "outputs": [],
   "source": [
    "# Function to enable or disable shadows on a given canvas\n",
    "def toggleShadow(c, enable):\n",
    "    c.shadow_color    = SHADOW_COLOR_ENABLED    if enable else SHADOW_COLOR_DISABLED\n",
    "    c.shadow_offset_x = SHADOW_OFFSET_X_ENABLED if enable else SHADOW_OFFSET_X_DISABLED\n",
    "    c.shadow_offset_y = SHADOW_OFFSET_Y_ENABLED if enable else SHADOW_OFFSET_Y_DISABLED\n",
    "    c.shadow_blur     = SHADOW_BLUR_ENABLED     if enable else SHADOW_BLUR_DISABLED"
   ]
  },
  {
   "cell_type": "markdown",
   "metadata": {},
   "source": [
    "### drawCircle\n",
    "(TODO: Erklärung)"
   ]
  },
  {
   "cell_type": "code",
   "execution_count": null,
   "metadata": {},
   "outputs": [],
   "source": [
    "# Function to draw a circle on a canvas c with given coords, radius and color\n",
    "def drawCircle(c, coords, radius, color, strokeColor = None, useShadow = False, selected = False):\n",
    "    if useShadow:\n",
    "        toggleShadow(c, True)\n",
    "    c.fill_style = color\n",
    "    c.fill_arc(coords[0], coords[1], radius, 0, 2 * math.pi)\n",
    "    if useShadow:\n",
    "        toggleShadow(c, False)\n",
    "    if strokeColor is not None:\n",
    "        c.line_width = SELECTED_STONE_LINE_WIDTH if selected else DEFAULT_STONE_LINE_WIDTH\n",
    "        c.strokeColor = strokeColor\n",
    "        c.stroke_arc(coords[0], coords[1], radius, 0, 2 * math.pi)"
   ]
  },
  {
   "cell_type": "markdown",
   "metadata": {},
   "source": [
    "### drawStone\n",
    "(TODO: Erklärung)"
   ]
  },
  {
   "cell_type": "code",
   "execution_count": null,
   "metadata": {},
   "outputs": [],
   "source": [
    "# Function to draw a (player) stone with given coords and for a given player (or the the default )\n",
    "def drawStone(c, coords, player, selected = False):\n",
    "    if player == PLAYER_1:\n",
    "        drawCircle(c, coords, PLAYER_PIECE_RADIUS, PLAYER_1_FILL_COLOR, strokeColor = PLAYER_1_STROKE_COLOR, useShadow = True, selected = selected)\n",
    "        drawCircle(c, coords, math.floor(PLAYER_PIECE_RADIUS / 2), PLAYER_1_FILL_COLOR, strokeColor = PLAYER_1_STROKE_COLOR, selected = selected)\n",
    "    elif player == PLAYER_2:\n",
    "        drawCircle(c, coords, PLAYER_PIECE_RADIUS, PLAYER_2_FILL_COLOR, strokeColor = PLAYER_2_STROKE_COLOR, useShadow = True, selected = selected)\n",
    "        drawCircle(c, coords, math.floor(PLAYER_PIECE_RADIUS / 2), PLAYER_2_FILL_COLOR, strokeColor = PLAYER_2_STROKE_COLOR, selected = selected)\n",
    "    else:\n",
    "        drawCircle(c, coords, DEFAULT_PIECE_RADIUS, BOARD_FOREGROUND_COLOR)"
   ]
  },
  {
   "cell_type": "markdown",
   "metadata": {},
   "source": [
    "### drawText\n",
    "(TODO: Erklärung)"
   ]
  },
  {
   "cell_type": "code",
   "execution_count": null,
   "metadata": {},
   "outputs": [],
   "source": [
    "def drawText(c, msg, hint = None):\n",
    "    c.clear()\n",
    "    c.fill_text(msg, TEXT_X, TEXT_Y, max_width = TEXT_MAX_WIDTH)\n",
    "    if hint is not None:\n",
    "        c.fill_text('hint: ' + hint, TEXT_X, TEXT_Y + TEXT_VERTICAL_PADDING, max_width = TEXT_MAX_WIDTH)"
   ]
  },
  {
   "cell_type": "markdown",
   "metadata": {},
   "source": [
    "### constructSquare\n",
    "(TODO: Erklärung)"
   ]
  },
  {
   "cell_type": "code",
   "execution_count": null,
   "metadata": {},
   "outputs": [],
   "source": [
    "# Function to construct a square on a canvas c.\n",
    "def constructSquare(c, square):\n",
    "    for i in range(4):\n",
    "        start = i * 2\n",
    "        end = (i * 2 + 2) if (i * 2 + 2 <= 6) else 0 \n",
    "        drawLine(c, square[start], square[end])"
   ]
  },
  {
   "cell_type": "markdown",
   "metadata": {},
   "source": [
    "### constructCrossLines\n",
    "(TODO: Erklärung)"
   ]
  },
  {
   "cell_type": "code",
   "execution_count": null,
   "metadata": {},
   "outputs": [],
   "source": [
    "# Function to construct the cross lines on a canvas c\n",
    "def constructCrossLines(c, coords):\n",
    "    for i in range(4):\n",
    "        k = i * 2 + 1\n",
    "        drawLine(c, coords[0][k], coords[2][k])"
   ]
  },
  {
   "cell_type": "markdown",
   "metadata": {},
   "source": [
    "### setupCanvas\n",
    "(TODO: Erklärung)"
   ]
  },
  {
   "cell_type": "code",
   "execution_count": null,
   "metadata": {},
   "outputs": [],
   "source": [
    "# Function to setup a canvas, returns a reference to a MultiCanvas\n",
    "def setupCanvas():\n",
    "    # level 0: Background and lines\n",
    "    # level 1: Stones\n",
    "    # level 2: Text\n",
    "    canvas = ipycanvas.MultiCanvas(3, width = CANVAS_WIDTH, height = CANVAS_HEIGHT)\n",
    "    with ipycanvas.hold_canvas(canvas[0]):\n",
    "        \n",
    "        canvas[0].fill_style = CANVAS_BACKGROUND_COLOR\n",
    "        canvas[0].fill_rect(0, 0, CANVAS_WIDTH, CANVAS_HEIGHT)\n",
    "        \n",
    "        canvas[0].fill_style = BOARD_BACKGROUND_COLOR\n",
    "        canvas[0].fill_rect(0, 0, BOARD_SIZE, BOARD_SIZE)\n",
    "\n",
    "        canvas[0].fill_style = STASH_BACKGROUND_COLOR\n",
    "        canvas[0].fill_rect(STASH_STARTING_POINT_X, STASH_STARTING_POINT_Y, STASH_WIDTH, STASH_HEIGHT)\n",
    "\n",
    "\n",
    "        canvas[0].stroke_style = BOARD_FOREGROUND_COLOR\n",
    "        canvas[0].begin_path()\n",
    "\n",
    "        for i in range(3):\n",
    "            constructSquare(canvas[0], coords[i])\n",
    "\n",
    "        constructCrossLines(canvas[0], coords)\n",
    "        canvas[0].stroke()\n",
    "    \n",
    "    canvas[1].font = TEXT_FONT\n",
    "    canvas[1].fill_style = TEXT_COLOR\n",
    "    \n",
    "    return canvas"
   ]
  },
  {
   "cell_type": "markdown",
   "metadata": {},
   "source": [
    "### updateGui\n",
    "(TODO: Erklärung)"
   ]
  },
  {
   "cell_type": "code",
   "execution_count": null,
   "metadata": {},
   "outputs": [],
   "source": [
    "def updateGui(c, state, selectedStone = None):\n",
    "    with ipycanvas.hold_canvas(c):\n",
    "        c.clear()\n",
    "        ((stashP1, stashP2), squares) = state\n",
    "\n",
    "        # update pieces on the board\n",
    "        for i in range(len(squares)):\n",
    "            for j in range(len(squares[i])):\n",
    "                drawStone(c, coords[i][j], squares[i][j], selected = selectedStone == (i, j))\n",
    "\n",
    "        # update pieces on the stash\n",
    "\n",
    "        # player 1\n",
    "\n",
    "        x = STASH_STARTING_POINT_X + PLAYER_PIECE_RADIUS\n",
    "        y = STASH_STARTING_POINT_Y + CANVAS_PADDING + PLAYER_PIECE_RADIUS\n",
    "\n",
    "        for i in range(stashP1):\n",
    "            x += 2 * PLAYER_PIECE_RADIUS + STASH_STONES_SPACING\n",
    "            drawStone(c, (x, y), PLAYER_1)\n",
    "\n",
    "        # player 2\n",
    "\n",
    "        x = STASH_STARTING_POINT_X + PLAYER_PIECE_RADIUS\n",
    "        y = STASH_STARTING_POINT_Y + CANVAS_PADDING + 3 * PLAYER_PIECE_RADIUS + STASH_STONES_SPACING\n",
    "\n",
    "        for i in range(stashP2):\n",
    "            x += 2 * PLAYER_PIECE_RADIUS + STASH_STONES_SPACING\n",
    "            drawStone(c, (x, y), PLAYER_2)\n",
    "    "
   ]
  },
  {
   "cell_type": "markdown",
   "metadata": {},
   "source": [
    "## Hilfsfunktionen für das Spiel in der GUI\n",
    "(TODO: Erklärung)"
   ]
  },
  {
   "cell_type": "code",
   "execution_count": null,
   "metadata": {},
   "outputs": [],
   "source": [
    "#%run ./nmm-minimax.ipynb\n",
    "%run ./nmm-alpha-beta-pruning.ipynb"
   ]
  },
  {
   "cell_type": "markdown",
   "metadata": {},
   "source": [
    "### getClickedStone\n",
    "(TODO: Erklärung)"
   ]
  },
  {
   "cell_type": "code",
   "execution_count": null,
   "metadata": {},
   "outputs": [],
   "source": [
    "def getClickedStone(x, y):\n",
    "    for value in av:\n",
    "        if value - PLAYER_PIECE_RADIUS <= x <= value + PLAYER_PIECE_RADIUS:\n",
    "            logger.info(f'value for x = {x} found: {value}')\n",
    "            x = value\n",
    "        if value - PLAYER_PIECE_RADIUS <= y <= value + PLAYER_PIECE_RADIUS:\n",
    "            logger.info(f'value for y = {y} found: {value}')\n",
    "            y = value\n",
    "\n",
    "    for i in range(len(coords)):\n",
    "        for j in range(len(coords[i])):\n",
    "            if coords[i][j] == (x, y):\n",
    "                logger.info(f'stone clicked: {(x, y)}')\n",
    "                return (i, j)\n",
    "    return None"
   ]
  },
  {
   "cell_type": "markdown",
   "metadata": {},
   "source": [
    "## Klasse GameState\n",
    "\n",
    "(TODO: Erklärung)"
   ]
  },
  {
   "cell_type": "code",
   "execution_count": null,
   "metadata": {},
   "outputs": [],
   "source": [
    "class GameState:\n",
    "    def __init__(self, state = START_STATE, player = PLAYER_1, computer = False):\n",
    "        self.state = state\n",
    "        self.player = player\n",
    "        self.canvas = setupCanvas()\n",
    "        self.winner = None\n",
    "        self.resetStateVariables()\n",
    "        \n",
    "        self.computer = computer\n",
    "        \n",
    "        self.canvas[2].on_mouse_up(self.handleGame)\n",
    "        \n",
    "        updateGui(self.canvas[2], self.state)\n",
    "        self.updateText()\n",
    "        logger.info('game state initalized')\n",
    "        \n",
    "        if self.computer and self.player == PLAYER_2:\n",
    "            self.nextComputerStep()"
   ]
  },
  {
   "cell_type": "markdown",
   "metadata": {},
   "source": [
    "### resetStateVariables\n",
    "(TODO: Erklärung)"
   ]
  },
  {
   "cell_type": "code",
   "execution_count": null,
   "metadata": {},
   "outputs": [],
   "source": [
    "def resetStateVariables(self):\n",
    "    self.stateTemp = None\n",
    "    self.millsToPound = 0\n",
    "    self.selectedStone = None\n",
    "    self.hint = None\n",
    "    \n",
    "GameState.resetStateVariables = resetStateVariables\n",
    "del resetStateVariables"
   ]
  },
  {
   "cell_type": "markdown",
   "metadata": {},
   "source": [
    "### handleGame\n",
    "(TODO: Erklärung)"
   ]
  },
  {
   "cell_type": "code",
   "execution_count": null,
   "metadata": {},
   "outputs": [],
   "source": [
    "def handleGame(self, x, y):\n",
    "    if self.winner is not None:\n",
    "        logger.warning('Game has ended!')\n",
    "        return\n",
    "\n",
    "    logger.info(f'({x}, {y})')\n",
    "\n",
    "    phase = playerPhase(self.state, self.player)\n",
    "    logger.info(f'player phase: {phase}')\n",
    "\n",
    "    stone = getClickedStone(x, y)\n",
    "\n",
    "    if stone is None:\n",
    "        logger.warning('No stone was clicked!')\n",
    "        if self.selectedStone is not None and self.millsToPound <= 0:\n",
    "            self.cancelStep()\n",
    "    elif self.millsToPound > 0:\n",
    "        self.poundMillInGui(stone)\n",
    "    elif self.selectedStone is not None:\n",
    "        self.moveStoneTo(stone)\n",
    "    elif phase == 1:\n",
    "        self.playerPhaseOne(stone)\n",
    "    elif phase == 2 or phase == 3:\n",
    "        self.selectStone(stone)\n",
    "\n",
    "    self.checkIfFinished()\n",
    "    \n",
    "    self.updateText()\n",
    "    \n",
    "    if self.computer and self.player == PLAYER_2:\n",
    "        self.nextComputerStep()\n",
    "    \n",
    "GameState.handleGame = handleGame\n",
    "del handleGame"
   ]
  },
  {
   "cell_type": "markdown",
   "metadata": {},
   "source": [
    "### togglePlayer\n",
    "(TODO: Erklärung)"
   ]
  },
  {
   "cell_type": "code",
   "execution_count": null,
   "metadata": {},
   "outputs": [],
   "source": [
    "def togglePlayer(self):\n",
    "    self.player = opponent(self.player)\n",
    "        \n",
    "GameState.togglePlayer = togglePlayer\n",
    "del togglePlayer"
   ]
  },
  {
   "cell_type": "code",
   "execution_count": null,
   "metadata": {},
   "outputs": [],
   "source": [
    "def nextComputerStep(self):\n",
    "    logger.info('next computer step calculating...')\n",
    "    \n",
    "    bestValue, bestMove = bestMoveAlphaBeta(self.state, self.player)\n",
    "    \n",
    "    logger.info(f'best state calculated: {bestMove}')\n",
    "    \n",
    "    self.state = bestMove\n",
    "    self.togglePlayer()\n",
    "    self.resetStateVariables()\n",
    "    updateGui(self.canvas[2], self.state)\n",
    "    self.checkIfFinished()\n",
    "    self.updateText()\n",
    "    \n",
    "GameState.nextComputerStep = nextComputerStep\n",
    "del nextComputerStep"
   ]
  },
  {
   "cell_type": "markdown",
   "metadata": {},
   "source": [
    "### playerPhaseOne\n",
    "(TODO: Erklärung)"
   ]
  },
  {
   "cell_type": "code",
   "execution_count": null,
   "metadata": {},
   "outputs": [],
   "source": [
    "def playerPhaseOne(self, stone):\n",
    "    if getPlayerAt(self.state[1], stone) != NO_PLAYER:\n",
    "        logger.warning(f'{stone} is not free')\n",
    "        self.hint = f'The slot at {stone} is not free!'\n",
    "        return\n",
    "\n",
    "    newState = (removeFromStash(self.state[0], self.player), place(self.state[1], stone, self.player))\n",
    "\n",
    "    if self.validateNewState(newState):\n",
    "        logging.info('stone placed')\n",
    "    else:\n",
    "        logger.info('NewState not in allAvailableStates, checking for new Mills ...')\n",
    "        self.checkForNewMills(newState)\n",
    "\n",
    "        \n",
    "GameState.playerPhaseOne = playerPhaseOne\n",
    "del playerPhaseOne"
   ]
  },
  {
   "cell_type": "markdown",
   "metadata": {},
   "source": [
    "### selectStone\n",
    "(TODO: Erklärung)"
   ]
  },
  {
   "cell_type": "code",
   "execution_count": null,
   "metadata": {},
   "outputs": [],
   "source": [
    "def selectStone(self, stone):\n",
    "    if getPlayerAt(self.state[1], stone) != self.player:\n",
    "        logger.warning(f'{stone} is not the own stone')\n",
    "        self.hint = 'Plase select your own stone!'\n",
    "        return\n",
    "    self.selectedStone = stone\n",
    "    self.hint = None\n",
    "    updateGui(self.canvas[2], self.state, selectedStone = self.selectedStone)\n",
    "\n",
    "    \n",
    "GameState.selectStone = selectStone\n",
    "del selectStone"
   ]
  },
  {
   "cell_type": "markdown",
   "metadata": {},
   "source": [
    "### checkForNewMills\n",
    "(TODO: Erklärung)"
   ]
  },
  {
   "cell_type": "code",
   "execution_count": null,
   "metadata": {},
   "outputs": [],
   "source": [
    "def checkForNewMills(self, newState):\n",
    "    oldMills = findMills(self.state[1], self.player)\n",
    "    newMills = countNewMills(newState[1], oldMills, self.player)\n",
    "\n",
    "    if newMills > 0:\n",
    "        \n",
    "        logger.info(f'new mills: {newMills}')\n",
    "        \n",
    "        self.stateTemp = newState\n",
    "        self.millsToPound = newMills\n",
    "        self.hint = None\n",
    "        updateGui(self.canvas[2], self.stateTemp)\n",
    "    \n",
    "\n",
    "GameState.checkForNewMills = checkForNewMills\n",
    "del checkForNewMills"
   ]
  },
  {
   "cell_type": "markdown",
   "metadata": {},
   "source": [
    "### poundMillInGui\n",
    "(TODO: Erklärung)"
   ]
  },
  {
   "cell_type": "code",
   "execution_count": null,
   "metadata": {},
   "outputs": [],
   "source": [
    "def poundMillInGui(self, stone):\n",
    "    if self.millsToPound  <= 0:\n",
    "        logger.warning('Player has no Mills to pound!')\n",
    "        return\n",
    "    if getPlayerAt(self.state[1], stone) != opponent(self.player):\n",
    "        logger.warning(f'{stone} is not the opponent!')\n",
    "        self.hint = 'Please select an opponent stone!'\n",
    "        \n",
    "        return\n",
    "    # if the player has only one mill left to pound, it uses the place function and afterwards validates the newState\n",
    "    if self.millsToPound == 1:\n",
    "        newState = (self.stateTemp[0], place(self.stateTemp[1], stone, NO_PLAYER))\n",
    "        if self.validateNewState(newState):\n",
    "            logger.info('success')\n",
    "        else:\n",
    "            logger.warning('Mills could not be pounded! The new state could not be validated by the game logic.')\n",
    "            self.hint = 'Please do not select an opponent stone that is in a mill!'\n",
    "\n",
    "        return\n",
    "    \n",
    "    # otherwise the gui has to validate the mill manually, as the intermediate step cannot be checked by the game logic\n",
    "    if stone in getCellsPoundable(self.stateTemp[1], self.player):\n",
    "        self.stateTemp = (self.stateTemp[0], place(self.stateTemp[1], stone, NO_PLAYER))\n",
    "        self.millsToPound -= 1\n",
    "        self.hint = None\n",
    "        updateGui(self.canvas[2], self.stateTemp)\n",
    "    else:\n",
    "        logger.warning('Mills could not be pounded! The new state could not be validated by the gui.')\n",
    "        self.hint = 'Please do not select an opponent stone that is in a mill!'\n",
    "\n",
    "GameState.poundMillInGui = poundMillInGui\n",
    "del poundMillInGui"
   ]
  },
  {
   "cell_type": "markdown",
   "metadata": {},
   "source": [
    "### validateNewState\n",
    "(TODO: Erklärung)"
   ]
  },
  {
   "cell_type": "code",
   "execution_count": null,
   "metadata": {},
   "outputs": [],
   "source": [
    "def validateNewState(self, newState):\n",
    "    allAvailableStates = nextStates(self.state, self.player)\n",
    "    if newState in allAvailableStates:\n",
    "        logger.info('SUCCESS')\n",
    "\n",
    "        self.state = newState\n",
    "        self.resetStateVariables()\n",
    "        self.togglePlayer()\n",
    "        updateGui(self.canvas[2], self.state)\n",
    "        return True\n",
    "    else:\n",
    "        logger.warning('state is not in allAvailableStates!')\n",
    "        return False\n",
    "\n",
    "GameState.validateNewState = validateNewState\n",
    "del validateNewState"
   ]
  },
  {
   "cell_type": "markdown",
   "metadata": {},
   "source": [
    "### cancelStep\n",
    "(TODO: Erklärung)"
   ]
  },
  {
   "cell_type": "code",
   "execution_count": null,
   "metadata": {},
   "outputs": [],
   "source": [
    "def cancelStep(self):\n",
    "    logger.warn('step is canceled.')\n",
    "    \n",
    "    self.resetStateVariables()\n",
    "    updateGui(self.canvas[2], self.state)\n",
    "    \n",
    "GameState.cancelStep = cancelStep\n",
    "del cancelStep"
   ]
  },
  {
   "cell_type": "markdown",
   "metadata": {},
   "source": [
    "### moveStoneTo\n",
    "(TODO: Erklärung)"
   ]
  },
  {
   "cell_type": "code",
   "execution_count": null,
   "metadata": {},
   "outputs": [],
   "source": [
    "def moveStoneTo(self, coord):\n",
    "    if getPlayerAt(self.state[1], coord) != NO_PLAYER:\n",
    "        logger.warning(f'{coord} is not free')\n",
    "        self.hint = f'The slot at {coord} is not free!'\n",
    "        return\n",
    "    \n",
    "    canJump = isAllowedToJump(self.state, self.player)\n",
    "    logger.info(f'moveStoneTo({coord})')\n",
    "\n",
    "    if canJump or coord in findNeighboringEmptyCells(self.state[1], self.selectedStone):\n",
    "        newState = (self.state[0], place(self.state[1], self.selectedStone, NO_PLAYER))\n",
    "        newState = (newState[0], place(newState[1], coord, self.player))\n",
    "\n",
    "        if self.validateNewState(newState):\n",
    "            movement = 'jumped' if canJump else 'moved'\n",
    "            logger.info(f'Stone successfully {movement}!')\n",
    "        else:\n",
    "            logger.info('Round not finished, checking for new mills...')\n",
    "            self.checkForNewMills(newState)\n",
    "    else:\n",
    "        logger.warning(f'{coord} is not a (free) neighbor of {self.selectedStone}!')\n",
    "        self.hint = f'The slot at {coord} is not a (free) neighbor of {self.selectedStone}!'\n",
    "\n",
    "GameState.moveStoneTo = moveStoneTo\n",
    "del moveStoneTo"
   ]
  },
  {
   "cell_type": "markdown",
   "metadata": {},
   "source": [
    "### updateText\n",
    "(TODO: Erklärung)"
   ]
  },
  {
   "cell_type": "code",
   "execution_count": null,
   "metadata": {},
   "outputs": [],
   "source": [
    "def updateText(self):\n",
    "    phase = playerPhase(self.state, self.player)\n",
    "    if self.winner is None:\n",
    "        message = f'Player {self.player}: '\n",
    "        if self.computer and self.player == PLAYER_2:\n",
    "            message = 'Computer\\'s turn. Please wait.'\n",
    "        elif self.millsToPound == 1:\n",
    "            message += 'Pound your mill.'\n",
    "        elif self.millsToPound > 1:\n",
    "            message += f'You have {self.millsToPound} mills left to pound. Please pound your next mill.'\n",
    "        elif self.selectedStone is not None:\n",
    "            movement = 'move' if phase == 2 else 'jump'\n",
    "            message += f'{movement} your selected stone'\n",
    "        elif phase == 1:\n",
    "            message += 'Place your stone.'\n",
    "        elif phase == 2 or phase == 3:\n",
    "            movement = 'move' if phase == 2 else 'jump'\n",
    "            message += f'select your stone you want to {movement}'      \n",
    "    else:\n",
    "        message = 'The game has ended: '\n",
    "        if self.winner == NO_PLAYER:\n",
    "            message += 'Tie'\n",
    "        else:\n",
    "            message += f'{self.winner} has won!'\n",
    "    logging.info(message)\n",
    "    drawText(self.canvas[1], message, hint = self.hint)\n",
    "\n",
    "GameState.updateText = updateText\n",
    "del updateText"
   ]
  },
  {
   "cell_type": "markdown",
   "metadata": {},
   "source": [
    "### checkIfFinished\n",
    "(TODO: Erklärung)"
   ]
  },
  {
   "cell_type": "code",
   "execution_count": null,
   "metadata": {},
   "outputs": [],
   "source": [
    "def checkIfFinished(self):\n",
    "    if finished(self.state, self.player):\n",
    "        status = utility(self.state, self.player)\n",
    "        if status == 0:\n",
    "            self.winner = NO_PLAYER\n",
    "        else:\n",
    "            self.winner = self.player if status == 1 else opponent(self.player)\n",
    "\n",
    "GameState.checkIfFinished = checkIfFinished\n",
    "del checkIfFinished"
   ]
  },
  {
   "cell_type": "code",
   "execution_count": null,
   "metadata": {},
   "outputs": [],
   "source": [
    "gameState = GameState(computer = True)"
   ]
  },
  {
   "cell_type": "code",
   "execution_count": null,
   "metadata": {},
   "outputs": [],
   "source": [
    "gameState.canvas"
   ]
  }
 ],
 "metadata": {
  "kernelspec": {
   "display_name": "Python 3",
   "language": "python",
   "name": "python3"
  },
  "language_info": {
   "codemirror_mode": {
    "name": "ipython",
    "version": 3
   },
   "file_extension": ".py",
   "mimetype": "text/x-python",
   "name": "python",
   "nbconvert_exporter": "python",
   "pygments_lexer": "ipython3",
   "version": "3.8.5"
  }
 },
 "nbformat": 4,
 "nbformat_minor": 4
}
