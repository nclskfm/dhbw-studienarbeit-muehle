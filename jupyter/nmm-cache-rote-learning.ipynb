{
 "cells": [
  {
   "cell_type": "markdown",
   "id": "1891d9ab",
   "metadata": {},
   "source": [
    "# Persistente Transpositionstabelle für Rote-Learning"
   ]
  },
  {
   "cell_type": "code",
   "execution_count": null,
   "id": "de128554",
   "metadata": {},
   "outputs": [],
   "source": [
    "import os.path\n",
    "css = \"\"\n",
    "if os.path.isfile(\"style.html\"):\n",
    "    from IPython.core.display import HTML\n",
    "    with open(\"style.html\", \"r\") as file:\n",
    "        css = file.read()\n",
    "HTML(css)"
   ]
  },
  {
   "cell_type": "markdown",
   "id": "04c6cceb",
   "metadata": {},
   "source": [
    "Der Training Prozess des Rote-Learnings ist sehr zeitaufwendig, da viele Spiele gespielt werden müssen. Damit dieser Prozess nicht vor jedem Spiel ausgeführt werden muss, ist es sinnvoll die trainierte Transpositionstabelle persistent auf der Festplatte abspeichern zu können. Diese Implementierung ist äquivalent zur Implementierung in `nmm-cache.ipynb`, allerdings wurden hier nicht benötigte Funktionen entfernt: das Speichern von `alpha`, `beta` und `limit` sowie die `clean` Methode."
   ]
  },
  {
   "cell_type": "markdown",
   "id": "56e99c88",
   "metadata": {},
   "source": [
    "## CacheRoteLearning\n",
    "Die Klasse `CacheRoteLearning` implementiert eine Transpositionstabelle für den Rote-Learning Algorithmus, die persistiert werden kann.\n",
    "Der Konstruktor erhält den folgenden Parameter:\n",
    "- `path` gibt an, aus welcher Datei der Cache geladen werden soll. Ist dieser nicht gesetzt wird ein neuer leerer Cache initiiert."
   ]
  },
  {
   "cell_type": "code",
   "execution_count": null,
   "id": "69e69230",
   "metadata": {},
   "outputs": [],
   "source": [
    "class CacheRoteLearning:\n",
    "    def __init__(self, path: str = None):\n",
    "        self.cache = {}\n",
    "        if path:\n",
    "            self.load(path)"
   ]
  },
  {
   "cell_type": "markdown",
   "id": "0862cd21",
   "metadata": {},
   "source": [
    "Für Entwicklungszwecke wird eine Stringdarstellung für die Klasse `CacheRoteLearning` implementiert. Hierzu wird durch die Funktion `__repr__` ein String zurückgegeben, der alle Parameter der Klasse beinhaltet."
   ]
  },
  {
   "cell_type": "code",
   "execution_count": null,
   "id": "a872b937",
   "metadata": {},
   "outputs": [],
   "source": [
    "def __repr__(self: CacheRoteLearning) -> str:\n",
    "    return f\"CacheRoteLearning(size={len(self.cache)})\"\n",
    "\n",
    "CacheRoteLearning.__repr__ = __repr__\n",
    "del __repr__"
   ]
  },
  {
   "cell_type": "markdown",
   "id": "709deb5d",
   "metadata": {},
   "source": [
    "Damit die Zustände und die Werte direkt als Bytes gespeichert und wieder ausgelesen werden können, ist das Paket `struct` nötig. Dieses ermöglicht `float` Werte zu `bytes` zu konvertieren. Das Paket `tqdm` ermöglicht eine simple Fortschrittsanzeige."
   ]
  },
  {
   "cell_type": "code",
   "execution_count": null,
   "id": "07f7e210",
   "metadata": {},
   "outputs": [],
   "source": [
    "import struct\n",
    "from tqdm.notebook import tqdm"
   ]
  },
  {
   "cell_type": "markdown",
   "id": "d66c280c",
   "metadata": {},
   "source": [
    "Die Methode `convert_state_to_bytes` konvertiert einen Zustand in ein Byte-Array der Länge 7. Diese kann aus der normalen `Cache` Implementierung geladen werden."
   ]
  },
  {
   "cell_type": "code",
   "execution_count": null,
   "id": "63b87e79",
   "metadata": {},
   "outputs": [],
   "source": [
    "%run ./nmm-cache.ipynb"
   ]
  },
  {
   "cell_type": "markdown",
   "id": "67898816",
   "metadata": {},
   "source": [
    "Die Methode `write` schreibt einen Zustand in die Transpositionstabelle. Dabei wird der Zustand auf den weißen Spieler normiert. Es werden folgende Argumente erwartet:\n",
    "- `state` $\\in States$;\n",
    "- `player` $\\in Player$;\n",
    "- `value` $\\in \\mathopen[-1.0,1.0\\mathclose]$."
   ]
  },
  {
   "cell_type": "code",
   "execution_count": null,
   "id": "147ee6b0",
   "metadata": {},
   "outputs": [],
   "source": [
    "def write(self: CacheRoteLearning, state, player: str, value: float) -> None:\n",
    "    key = convert_state_to_bytes(state, player)\n",
    "    if player == 'b':\n",
    "        value = -value\n",
    "    value = struct.pack(\"d\", value)\n",
    "    self.cache[key] = value\n",
    "\n",
    "CacheRoteLearning.write = write\n",
    "del write"
   ]
  },
  {
   "cell_type": "markdown",
   "id": "7989ea94",
   "metadata": {},
   "source": [
    "Die Methode `read` liest einen vorher gespeicherten Zustand aus der Transpositionstabelle aus. Falls der Zustand nicht vorhanden ist wird `None` zurückgegeben. Dabei wird die Normierung auf den weißen Spieler rückgängig gemacht. Folgende Argumente werden erwartet:\n",
    "- `state` $\\in States$;\n",
    "- `player` $\\in Player$;\n",
    "- `limit` $\\in \\mathbb{N}_0$.\n",
    "\n",
    "Zurückgegeben wird ein Tripel bestehend aus:\n",
    "1. `value` $\\in \\mathopen[-1.0,1.0\\mathclose]$;\n",
    "2. `alpha` $\\in \\mathopen[-1.0,1.0\\mathclose]$;\n",
    "3. `beta` $\\in \\mathopen[-1.0,1.0\\mathclose]$."
   ]
  },
  {
   "cell_type": "code",
   "execution_count": null,
   "id": "149c7728",
   "metadata": {},
   "outputs": [],
   "source": [
    "def read(self: CacheRoteLearning, state, player: str) -> float:\n",
    "    key = convert_state_to_bytes(state, player)\n",
    "    result = self.cache.get(key)\n",
    "    if not result:\n",
    "        return None\n",
    "    value = struct.unpack(\"d\", result)[0]\n",
    "    if player == 'b':\n",
    "        value = -value\n",
    "    return value\n",
    "\n",
    "CacheRoteLearning.read = read\n",
    "del read"
   ]
  },
  {
   "cell_type": "markdown",
   "id": "78a1b737",
   "metadata": {},
   "source": [
    "Die Methode `save` persistiert den Cache auf dem Dateisystem. Dafür wird folgendes Argument erwartet:\n",
    "- `path` beschreibt den Pfad zur zu schreibenden Datei im Dateisystem."
   ]
  },
  {
   "cell_type": "code",
   "execution_count": null,
   "id": "a7b1c3df",
   "metadata": {},
   "outputs": [],
   "source": [
    "def save(self: CacheRoteLearning, path: str):\n",
    "    with open(path, \"wb\") as file:\n",
    "        for key,value in tqdm(self.cache.items()):\n",
    "            file.write(key)\n",
    "            file.write(value)\n",
    "\n",
    "CacheRoteLearning.save = save\n",
    "del save"
   ]
  },
  {
   "cell_type": "markdown",
   "id": "94be9231",
   "metadata": {},
   "source": [
    "Die Methode `load` lädt einen zuvor persistierten Cache aus einer Datei, die sich auf dem Dateisystem des Computers befindet. Dafür wird folgendes Argument erwartet:\n",
    "- `path` beschreibt den Pfad zur zu lesenden Datei im Dateisystem."
   ]
  },
  {
   "cell_type": "code",
   "execution_count": null,
   "id": "7bac085b",
   "metadata": {},
   "outputs": [],
   "source": [
    "def load(self: CacheRoteLearning, path: str):\n",
    "    if not os.path.isfile(path):\n",
    "        print(f'Failed to load cache from file {path}!')\n",
    "        return\n",
    "    with open(path, \"rb\") as file:\n",
    "        while True:\n",
    "            key = file.read(7)\n",
    "            value = file.read(8)\n",
    "            if not key or not value:\n",
    "                break\n",
    "            self.cache[key] = value\n",
    "    print(f'Successfully loaded cache from file {path}!')\n",
    "CacheRoteLearning.load = load\n",
    "del load"
   ]
  }
 ],
 "metadata": {
  "kernelspec": {
   "display_name": "Python 3 (ipykernel)",
   "language": "python",
   "name": "python3"
  },
  "language_info": {
   "codemirror_mode": {
    "name": "ipython",
    "version": 3
   },
   "file_extension": ".py",
   "mimetype": "text/x-python",
   "name": "python",
   "nbconvert_exporter": "python",
   "pygments_lexer": "ipython3",
   "version": "3.8.5"
  }
 },
 "nbformat": 4,
 "nbformat_minor": 5
}
