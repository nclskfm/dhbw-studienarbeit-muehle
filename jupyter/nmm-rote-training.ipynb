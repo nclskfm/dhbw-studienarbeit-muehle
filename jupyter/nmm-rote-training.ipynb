{
 "cells": [
  {
   "cell_type": "markdown",
   "id": "demonstrated-delivery",
   "metadata": {},
   "source": [
    "# Rote-Learning Training"
   ]
  },
  {
   "cell_type": "code",
   "execution_count": null,
   "id": "elder-enlargement",
   "metadata": {},
   "outputs": [],
   "source": [
    "import os.path\n",
    "css = \"\"\n",
    "if os.path.isfile(\"style.html\"):\n",
    "    from IPython.core.display import HTML\n",
    "    with open(\"style.html\", \"r\") as file:\n",
    "        css = file.read()\n",
    "HTML(css)"
   ]
  },
  {
   "cell_type": "markdown",
   "id": "70e3ddd0",
   "metadata": {},
   "source": [
    "Der Rote-Learning Algorithmus muss im wahrsten Sinne des Wortes auswendig lernen und das Spiel trainieren. Dazu werden möglichst viele Spiele hintereinander gespielt und die Transpositionstabelle mit immer mehr und genaueren Daten gefüllt.\n",
    "\n",
    "Zunächst werden beide implementierte Algorithmen geladen: `AlphaBetaPruning` und `Minimax`. Die `Match` Implementierung aus dem `Tournament` Notebook kann ebenfalls wieder verwendet werden."
   ]
  },
  {
   "cell_type": "code",
   "execution_count": null,
   "id": "peaceful-smooth",
   "metadata": {},
   "outputs": [],
   "source": [
    "%run ./nmm-alpha-beta-pruning.ipynb\n",
    "%run ./nmm-minimax.ipynb\n",
    "%run ./nmm-tournament.ipynb"
   ]
  },
  {
   "cell_type": "markdown",
   "id": "f92345ea",
   "metadata": {},
   "source": [
    "Um eine übersichtlichere Entwicklung zu ermöglichen, werden Typdefinitionen geladen, welche später im Code verwendet werden. Das Paket `tqdm` ermöglicht eine einfache Fortschrittsanzeige."
   ]
  },
  {
   "cell_type": "code",
   "execution_count": null,
   "id": "387ddf3c",
   "metadata": {},
   "outputs": [],
   "source": [
    "from typing import Optional, Union, List, Callable\n",
    "from tqdm.notebook import tqdm"
   ]
  },
  {
   "cell_type": "markdown",
   "id": "simplified-lawrence",
   "metadata": {},
   "source": [
    "## Training\n",
    "\n",
    "Innerhalb eines Trainings spielt eine künstliche Intelligenz viele Male gegen sich selbst und erweitert so ihre Transpositionstabelle. Bei jedem Spiel gegen sich selbst ist eine höhere Rekursionstiefe erreichbar, da der Cache bereits Werte von vorherigen Runden beinhaltet. Da die Implementierung der Transpositionstablle die gespeicherten Werte auf den weißen Spieler normiert, ist es sogar effizient möglich, dass sich beide künstliche Intelligenzen (weiß und schwarz) einen Cache teilen.\n",
    "\n",
    "Innerhalb eines Trainings werden nur die ersten 18 Runden eines jeden Spieles gespielt, da alle diese Runden gezwungenermaßen in der ersten Spielphase `Placing` sind. Jeder Spieler muss alle seine 9 Steine zu Beginn der Runde setzen. Dadurch werden innerhalb der 18 Runden alle Steine von beiden Spielern gesetzt. Es wird nur die Spielphase `Placing` trainiert, da diese Phase im Vergleich zur zweiten Phase `Moving` um einiges komplexer ist. Bei jedem Zug kann jeder neue Stein eines Spielers auf jedes freie Feld bewegt werden, in der `Moving` Phase sind hingengen nur benachbarte leere Felder möglich. Dadurch ist der Suchraum für die Algorithmen zu Beginn des Spieles besonders groß und die künstliche Intelligenz kann dementsprechend weniger Züge in die Zukunft schauen. Durch das Auswendiglernen dieser Phase gewinnen die Algorithmen einen größeren Vorteil.\n",
    "\n",
    "Auch die letzte Phase `Flying` ist sehr komplex und würde vom Auswendiglernen profitieren, allerdings wird hierzu eine Endspieldatenbank implementiert. Diese Datenbank deckt die letzte Phase besser ab als das Auswendiglernen."
   ]
  },
  {
   "cell_type": "markdown",
   "id": "1a88692c",
   "metadata": {},
   "source": [
    "Die Klasse `Training` implementiert solch ein Training und benötigt mehrere Parameter:\n",
    "\n",
    "Verpflichtend:\n",
    "* `cache` ist die Instanz der Transpositionstabelle, die innerhalb des Trainings verwendet und damit trainiert werden soll;\n",
    "* `artificial_intelligence` ist eine Funktion die eine `ArtificialIntelligence` Instanz produziert, die jeweils für den weißen und den schwarzen Spieler aufgerufen wird;\n",
    "\n",
    "Optional:\n",
    "* `trainings` ist die Anzahl der Runden in denen trainiert werden sollen;\n",
    "* `seed_offset` ist die Zahl, die auf den Seed addiert werden soll um verschiedene Trainingsläufe erstellen zu können;\n",
    "* `path_prefix` ist der Prefix der vor den Dateinamen geschrieben wird, um den Cache Zwischenstand zu speichern;\n",
    "* `save_interval` ist das Intervall in dem der Cache auf der Festplatte zwischen gespeichert werden soll."
   ]
  },
  {
   "cell_type": "code",
   "execution_count": null,
   "id": "formal-commerce",
   "metadata": {},
   "outputs": [],
   "source": [
    "class Training():\n",
    "    def __init__(\n",
    "        self,\n",
    "        cache: Cache,\n",
    "        artificial_intelligence: Callable[[Cache], ArtificialIntelligence],\n",
    "        trainings: int = 100,\n",
    "        seed_offset: int = 0,\n",
    "        path_prefix: str = \"training-\",\n",
    "        save_interval: int = 10\n",
    "    ):\n",
    "        self.cache = cache\n",
    "        self.artificial_intelligence = artificial_intelligence\n",
    "        self.trainings = trainings\n",
    "        self.seed_offset = seed_offset\n",
    "        self.path_prefix = path_prefix\n",
    "        self.save_interval = save_interval"
   ]
  },
  {
   "cell_type": "markdown",
   "id": "118b1c70",
   "metadata": {},
   "source": [
    "Für Entwicklungszwecke wird eine Stringdarstellung für die Klasse `Training` implementiert. Hierzu wird durch die Funktion `__repr__` ein String zurückgegeben, der alle Parameter der Klasse beinhaltet."
   ]
  },
  {
   "cell_type": "code",
   "execution_count": null,
   "id": "d4a9f903",
   "metadata": {},
   "outputs": [],
   "source": [
    "def __repr__(self: Training):\n",
    "    return f\"Training(cache={self.cache}, \" + \\\n",
    "           f\"artificial_intelligence={type(self.artificial_intelligence).__name__}, \" + \\\n",
    "           f\"trainings={self.trainings}, seed_offset={self.seed_offset}, \" + \\\n",
    "           f\"path_prefix='{self.path_prefix}', save_interval={self.save_interval})\"\n",
    "\n",
    "Training.__repr__ = __repr__\n",
    "del __repr__"
   ]
  },
  {
   "cell_type": "markdown",
   "id": "e29ec306",
   "metadata": {},
   "source": [
    "Die Funktion `train` trainiert die gespeicherte Transpositionstabelle indem für die Anzahl der zu spielenden Runden (`trainings`) ein Spiel (`Match`) erstellt wird. Dieses Spiel wird von zwei `ArtificialIntelligence` Instanzen gespielt, welche durch die gespeicherte Funktion `artificial_intelligence` erstellt werden. Pro Spiel werden maximal 18 Runden, also nur die `Placing` Phase gespielt. Nach `save_interval` Spielen wird die Transpositionstabelle mit der Rundennummer auf der Festplatte zwischengespeichert."
   ]
  },
  {
   "cell_type": "code",
   "execution_count": null,
   "id": "affe02e8",
   "metadata": {},
   "outputs": [],
   "source": [
    "def train(self: Training):\n",
    "    for i in tqdm(range(self.trainings)):\n",
    "        name = f\"{self.path_prefix}{i+1:0>3}\"\n",
    "        random.seed(self.seed_offset + i)\n",
    "        match = Match(\n",
    "            white     = self.artificial_intelligence(cache = self.cache),\n",
    "            black     = self.artificial_intelligence(cache = self.cache),\n",
    "            max_turns = 18,\n",
    "            name      = name\n",
    "        )\n",
    "        \n",
    "        print(f\"Training #{name}:\")\n",
    "        match.play()\n",
    "        print(f\" > {self.cache}\")\n",
    "        \n",
    "        if (i+1) % self.save_interval == 0:\n",
    "            print(f\"> Saving to '{name}.cache'...\")\n",
    "            self.cache.save(f\"{name}.cache\")\n",
    "        print()\n",
    "    self.cache.save(f\"{self.path_prefix}final.cache\")\n",
    "\n",
    "Training.train = train\n",
    "del train"
   ]
  }
 ],
 "metadata": {
  "kernelspec": {
   "display_name": "Python 3",
   "language": "python",
   "name": "python3"
  },
  "language_info": {
   "codemirror_mode": {
    "name": "ipython",
    "version": 3
   },
   "file_extension": ".py",
   "mimetype": "text/x-python",
   "name": "python",
   "nbconvert_exporter": "python",
   "pygments_lexer": "ipython3",
   "version": "3.8.5"
  }
 },
 "nbformat": 4,
 "nbformat_minor": 5
}
