{
 "cells": [
  {
   "cell_type": "markdown",
   "id": "1891d9ab",
   "metadata": {},
   "source": [
    "# Fazit: Bewertung"
   ]
  },
  {
   "cell_type": "code",
   "execution_count": null,
   "id": "de128554",
   "metadata": {},
   "outputs": [],
   "source": [
    "import os.path, struct\n",
    "css = \"\"\n",
    "if os.path.isfile(\"style.html\"):\n",
    "    from IPython.core.display import HTML\n",
    "    with open(\"style.html\", \"r\") as file:\n",
    "        css = file.read()\n",
    "HTML(css)"
   ]
  },
  {
   "cell_type": "code",
   "execution_count": null,
   "id": "c8f65f1f",
   "metadata": {},
   "outputs": [],
   "source": [
    "%run nmm-tournament.ipynb"
   ]
  },
  {
   "cell_type": "markdown",
   "id": "56e99c88",
   "metadata": {},
   "source": [
    "## Minimax vs AlphaBetaPruning"
   ]
  },
  {
   "cell_type": "code",
   "execution_count": null,
   "id": "3724893f",
   "metadata": {},
   "outputs": [],
   "source": [
    "Tournament(\n",
    "    [\n",
    "        lambda: Minimax(),\n",
    "        lambda: AlphaBetaPruning()\n",
    "    ],\n",
    "    instances_per_round = 4,\n",
    "    name                = \"mm-vs-ab\"\n",
    ").play()"
   ]
  },
  {
   "cell_type": "markdown",
   "id": "280b934b",
   "metadata": {},
   "source": [
    "## Heuristik vs Heuristik (AlphaBetaPruning)"
   ]
  },
  {
   "cell_type": "code",
   "execution_count": null,
   "id": "a8bd7484",
   "metadata": {},
   "outputs": [],
   "source": [
    "Tournament(\n",
    "    [\n",
    "        lambda: AlphaBetaPruning(weights=HeuristicWeights(stones=1, stash=1, mills=2, possible_mills=3)),\n",
    "        lambda: AlphaBetaPruning(weights=HeuristicWeights(stones=2, stash=2, mills=1, possible_mills=3)),\n",
    "        lambda: AlphaBetaPruning(weights=HeuristicWeights(stones=3, stash=3, mills=2, possible_mills=1)),\n",
    "        lambda: AlphaBetaPruning(weights=HeuristicWeights(stones=1, stash=1, mills=3, possible_mills=2)),\n",
    "        lambda: AlphaBetaPruning(weights=HeuristicWeights(stones=2, stash=2, mills=3, possible_mills=1)),\n",
    "        lambda: AlphaBetaPruning(weights=HeuristicWeights(stones=3, stash=3, mills=1, possible_mills=2)),\n",
    "    ],\n",
    "    instances_per_round = 4,\n",
    "    name                = \"hr-vs-hr\",\n",
    ").play()"
   ]
  }
 ],
 "metadata": {
  "kernelspec": {
   "display_name": "Python 3",
   "language": "python",
   "name": "python3"
  },
  "language_info": {
   "codemirror_mode": {
    "name": "ipython",
    "version": 3
   },
   "file_extension": ".py",
   "mimetype": "text/x-python",
   "name": "python",
   "nbconvert_exporter": "python",
   "pygments_lexer": "ipython3",
   "version": "3.8.5"
  }
 },
 "nbformat": 4,
 "nbformat_minor": 5
}
