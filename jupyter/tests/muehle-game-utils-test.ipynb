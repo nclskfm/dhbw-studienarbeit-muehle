{
 "metadata": {
  "language_info": {
   "codemirror_mode": {
    "name": "ipython",
    "version": 3
   },
   "file_extension": ".py",
   "mimetype": "text/x-python",
   "name": "python",
   "nbconvert_exporter": "python",
   "pygments_lexer": "ipython3",
   "version": "3.7.6-final"
  },
  "orig_nbformat": 2,
  "kernelspec": {
   "name": "Python 3.7.6 64-bit",
   "display_name": "Python 3.7.6 64-bit",
   "metadata": {
    "interpreter": {
     "hash": "98b0a9b7b4eaaa670588a142fd0a9b87eaafe866f1db4228be72b4211d12040f"
    }
   }
  }
 },
 "nbformat": 4,
 "nbformat_minor": 2,
 "cells": [
  {
   "source": [
    "# Muehle Game Utils - Unit Tests"
   ],
   "cell_type": "markdown",
   "metadata": {}
  },
  {
   "cell_type": "code",
   "execution_count": null,
   "metadata": {},
   "outputs": [],
   "source": [
    "# Import utils\n",
    "%run ./muehle-test-utils.ipynb\n",
    "# Import Test Notebook\n",
    "%run ../muehle-game-utils.ipynb"
   ]
  },
  {
   "cell_type": "code",
   "execution_count": null,
   "metadata": {},
   "outputs": [],
   "source": [
    "TESTCOUNT = 100"
   ]
  },
  {
   "source": [
    "## Player"
   ],
   "cell_type": "markdown",
   "metadata": {}
  },
  {
   "cell_type": "code",
   "execution_count": null,
   "metadata": {},
   "outputs": [],
   "source": [
    "class TestOpponent(unittest.TestCase):\n",
    "    def test_white(self):\n",
    "        result = opponent('w')\n",
    "        self.assertEquals(result, 'b')\n",
    "    def test_black(self):\n",
    "        result = opponent('b')\n",
    "        self.assertEquals(result, 'w')"
   ]
  },
  {
   "source": [
    "## Stones"
   ],
   "cell_type": "markdown",
   "metadata": {}
  },
  {
   "cell_type": "code",
   "execution_count": null,
   "metadata": {},
   "outputs": [],
   "source": [
    "class TestHasPlaceableStones(unittest.TestCase):\n",
    "    def test_true_white(self):\n",
    "        for _ in range(TESTCOUNT):\n",
    "            white = random.randint(0,8)\n",
    "            black = random.randint(0,9)\n",
    "            state = generateState(white, black)\n",
    "            result = hasPlaceableStones(state, 'w')\n",
    "            self.assertEqual(result, True)\n",
    "    def test_false_white(self):\n",
    "        for _ in range(TESTCOUNT):\n",
    "            white = 9\n",
    "            black = random.randint(0,9)\n",
    "            state = generateState(white, black)\n",
    "            result = hasPlaceableStones(state, 'w')\n",
    "            self.assertEqual(result, False)\n",
    "    def test_true_black(self):\n",
    "        for _ in range(TESTCOUNT):\n",
    "            white = random.randint(0,9)\n",
    "            black = random.randint(0,8)\n",
    "            state = generateState(white, black)\n",
    "            result = hasPlaceableStones(state, 'b')\n",
    "            self.assertEqual(result, True)\n",
    "    def test_false_black(self):\n",
    "        for _ in range(TESTCOUNT):\n",
    "            white = random.randint(0,9)\n",
    "            black = 9\n",
    "            state = generateState(white, black)\n",
    "            result = hasPlaceableStones(state, 'b')\n",
    "            self.assertEqual(result, False)"
   ]
  },
  {
   "cell_type": "code",
   "execution_count": null,
   "metadata": {},
   "outputs": [],
   "source": [
    "class TestCountStones(unittest.TestCase):\n",
    "    def test_sum(self):\n",
    "        for _ in range(TESTCOUNT):\n",
    "            white = random.randint(0,9)\n",
    "            black = random.randint(0,9)\n",
    "            state = generateState(white, black)\n",
    "\n",
    "            cWhite = countStones(state, 'w')\n",
    "            cBlack = countStones(state, 'b')\n",
    "            cEmpty = countStones(state, ' ')\n",
    "\n",
    "            sum = cWhite + cBlack + cEmpty\n",
    "            self.assertEqual(sum, 3*8)\n",
    "    \n",
    "    def test_correct(self):\n",
    "        for _ in range(TESTCOUNT):\n",
    "            white = random.randint(0,9)\n",
    "            black = random.randint(0,9)\n",
    "            state = generateState(white, black)\n",
    "\n",
    "            cWhite = countStones(state, 'w')\n",
    "            cBlack = countStones(state, 'b')\n",
    "            cEmpty = countStones(state, ' ')\n",
    "\n",
    "            self.assertEqual(white, cWhite)\n",
    "            self.assertEqual(black, cBlack)\n",
    "            self.assertEqual(3*8-white-black, cEmpty)"
   ]
  },
  {
   "cell_type": "code",
   "execution_count": null,
   "metadata": {},
   "outputs": [],
   "source": [
    "class TestIsAllowedToJump(unittest.TestCase):\n",
    "    def test_true_white(self):\n",
    "        for _ in range(TESTCOUNT):\n",
    "            white = random.randint(0,3)\n",
    "            black = random.randint(0,9)\n",
    "            state = generateState(white, black)\n",
    "            result = isAllowedToJump(state, 'w')\n",
    "            self.assertEqual(result, True)\n",
    "    def test_false_white(self):\n",
    "        for _ in range(TESTCOUNT):\n",
    "            white = random.randint(4,9)\n",
    "            black = random.randint(0,9)\n",
    "            state = generateState(white, black)\n",
    "            result = isAllowedToJump(state, 'w')\n",
    "            self.assertEqual(result, False)\n",
    "    def test_true_black(self):\n",
    "        for _ in range(TESTCOUNT):\n",
    "            white = random.randint(0,9)\n",
    "            black = random.randint(0,3)\n",
    "            state = generateState(white, black)\n",
    "            result = isAllowedToJump(state, 'b')\n",
    "            self.assertEqual(result, True)\n",
    "    def test_false_black(self):\n",
    "        for _ in range(TESTCOUNT):\n",
    "            white = random.randint(0,9)\n",
    "            black = random.randint(4,9)\n",
    "            state = generateState(white, black)\n",
    "            result = isAllowedToJump(state, 'b')\n",
    "            self.assertEqual(result, False)"
   ]
  },
  {
   "source": [
    "## Cells"
   ],
   "cell_type": "markdown",
   "metadata": {}
  },
  {
   "cell_type": "code",
   "execution_count": null,
   "metadata": {},
   "outputs": [],
   "source": [
    "class TestFindCellsOf(unittest.TestCase):\n",
    "    def test_white(self):\n",
    "        for _ in range(TESTCOUNT):\n",
    "            white = random.randint(0,9)\n",
    "            black = random.randint(0,9)\n",
    "            (board, wCells, bCells, eCells) = generateBoardAndCells(white, black)\n",
    "            result = findCellsOf(board, 'w')\n",
    "            self.assertEqual(white, len(result))\n",
    "            self.assertEqual(wCells, result)\n",
    "    def test_black(self):\n",
    "        for _ in range(TESTCOUNT):\n",
    "            white = random.randint(0,9)\n",
    "            black = random.randint(0,9)\n",
    "            (board, wCells, bCells, eCells) = generateBoardAndCells(white, black)\n",
    "            result = findCellsOf(board, 'b')\n",
    "            self.assertEqual(black, len(result))\n",
    "            self.assertEqual(bCells, result)\n",
    "    def test_empty(self):\n",
    "        for _ in range(TESTCOUNT):\n",
    "            white = random.randint(0,9)\n",
    "            black = random.randint(0,9)\n",
    "            (board, wCells, bCells, eCells) = generateBoardAndCells(white, black)\n",
    "            result = findCellsOf(board, ' ')\n",
    "            self.assertEqual(3*8-white-black, len(result))\n",
    "            self.assertEqual(eCells, result)"
   ]
  },
  {
   "cell_type": "code",
   "execution_count": null,
   "metadata": {},
   "outputs": [],
   "source": [
    "class TestFindEmptyCells(unittest.TestCase):\n",
    "    def test_empty(self):\n",
    "        for _ in range(TESTCOUNT):\n",
    "            white = random.randint(0,9)\n",
    "            black = random.randint(0,9)\n",
    "            (board, wCells, bCells, eCells) = generateBoardAndCells(white, black)\n",
    "            result = findEmptyCells(board)\n",
    "            self.assertEqual(3*8-white-black, len(result))\n",
    "            self.assertEqual(eCells, result)"
   ]
  },
  {
   "cell_type": "code",
   "execution_count": null,
   "metadata": {},
   "outputs": [],
   "source": [
    "class TestFindNeighboringCells(unittest.TestCase):\n",
    "    def test_no_self(self):\n",
    "        for _ in range(TESTCOUNT):\n",
    "            (white, black) = (random.randint(0,9), random.randint(0,9))\n",
    "            (ring, cell) = (random.randint(0,2), random.randint(0,7))\n",
    "            (board, wCells, bCells, eCells) = generateBoardAndCells(white, black)\n",
    "            result = findNeighboringCells(board, (ring, cell))\n",
    "            self.assertTrue((ring, cell) not in result)\n",
    "    def test_count_max(self):\n",
    "        for _ in range(TESTCOUNT):\n",
    "            (white, black) = (random.randint(0,9), random.randint(0,9))\n",
    "            coordinates = (random.randint(0,2), random.randint(0,7))\n",
    "            (board, wCells, bCells, eCells) = generateBoardAndCells(white, black)\n",
    "            result = findNeighboringCells(board, coordinates)\n",
    "            self.assertTrue(len(result) < 4, (coordinates, result))\n",
    "    def test_count(self):\n",
    "        for _ in range(TESTCOUNT):\n",
    "            (white, black) = (random.randint(0,9), random.randint(0,9))\n",
    "            (ring, cell) = (random.randint(0,2), random.randint(0,7))\n",
    "            (board, wCells, bCells, eCells) = generateBoardAndCells(white, black)\n",
    "            result = findNeighboringCells(board, (ring, cell))\n",
    "            print(len(result))\n",
    "            print((ring, cell))\n",
    "            print([\n",
    "                (len(findNeighboringCells(board, (r, c))) == (2 + (2-abs(r-1) if (c%2 == 1) else 0)), len(findNeighboringCells(board, (r, c))), (r, c), findNeighboringCells(board, (r, c)))\n",
    "                for r in range(0,3)\n",
    "                for c in range(0,8)\n",
    "            ])\n",
    "            self.assertTrue(all({\n",
    "                len(findNeighboringCells(board, (r, c))) == (2 + (2-abs(r-1) if (c%2 == 1) else 0))\n",
    "                for r in range(0,3)\n",
    "                for c in range(0,8)\n",
    "            }))"
   ]
  },
  {
   "cell_type": "code",
   "execution_count": null,
   "metadata": {},
   "outputs": [],
   "source": [
    "class TestFindNeighboringEmptyCells(unittest.TestCase):\n",
    "    def test_empty(self):\n",
    "        for _ in range(TESTCOUNT):\n",
    "            (white, black) = (random.randint(0,9), random.randint(0,9))\n",
    "            (ring, cell) = (random.randint(0,2), random.randint(0,7))\n",
    "            (board, wCells, bCells, eCells) = generateBoardAndCells(white, black)\n",
    "            emptyCells = findEmptyCells(board)\n",
    "            result = findNeighboringEmptyCells(board, (ring, cell))\n",
    "            self.assertTrue(result.issubset(emptyCells))\n",
    "    def test_neighbor_area(self):\n",
    "        for _ in range(TESTCOUNT):\n",
    "            (white, black) = (random.randint(0,9), random.randint(0,9))\n",
    "            (ring, cell) = (random.randint(0,2), random.randint(0,7))\n",
    "            (board, wCells, bCells, eCells) = generateBoardAndCells(white, black)\n",
    "            result = findNeighboringEmptyCells(board, (ring, cell))\n",
    "            self.assertTrue(all({\n",
    "                abs(ring-r) <= 1 and abs(cell-c)%7 <= 1\n",
    "                for (r, c) in result\n",
    "            }))\n",
    "    def test_cross_ring(self):\n",
    "        for _ in range(TESTCOUNT):\n",
    "            (white, black) = (random.randint(0,9), random.randint(0,9))\n",
    "            (ring, cell) = (random.randint(0,2), random.randint(0,7))\n",
    "            (board, wCells, bCells, eCells) = generateBoardAndCells(white, black)\n",
    "            result = findNeighboringEmptyCells(board, (ring, cell))\n",
    "            self.assertTrue(all({\n",
    "                c%2 == 1\n",
    "                for (r, c) in result\n",
    "                if abs(ring-r) == 1\n",
    "            }))\n",
    "    def test_all(self):\n",
    "        for _ in range(TESTCOUNT):\n",
    "            # TODO missing!\n",
    "            pass"
   ]
  },
  {
   "cell_type": "code",
   "execution_count": null,
   "metadata": {},
   "outputs": [],
   "source": [
    "class TestPlace(unittest.TestCase):\n",
    "    def test_placed_correct(self):\n",
    "        for _ in range(TESTCOUNT):\n",
    "            player = 'b' if random.randint(0,2) == 0 else 'w' \n",
    "            (white, black) = (random.randint(0,9), random.randint(0,9))\n",
    "            (ring, cell) = (random.randint(0,2), random.randint(0,7))\n",
    "            (board, wCells, bCells, eCells) = generateBoardAndCells(white, black)\n",
    "            result = place(board, (ring, cell), player)\n",
    "            self.assertEquals(result[ring][cell], player)\n",
    "    def test_others_retained(self):\n",
    "        for _ in range(TESTCOUNT):\n",
    "            player = 'b' if random.randint(0,2) == 0 else 'w' \n",
    "            (white, black) = (random.randint(0,9), random.randint(0,9))\n",
    "            (ring, cell) = (random.randint(0,2), random.randint(0,7))\n",
    "            (board, wCells, bCells, eCells) = generateBoardAndCells(white, black)\n",
    "            result = place(board, (ring, cell), player)\n",
    "            self.assertTrue(all({\n",
    "                board[r][c] == result[r][c]\n",
    "                for r in range(0,3)\n",
    "                for c in range(0,8)\n",
    "                if (r, c) != (ring, cell)\n",
    "            }))"
   ]
  },
  {
   "source": [
    "## Run Tests"
   ],
   "cell_type": "markdown",
   "metadata": {}
  },
  {
   "cell_type": "code",
   "execution_count": null,
   "metadata": {},
   "outputs": [],
   "source": [
    "unittest.main(argv=[''], verbosity=2, exit=False)"
   ]
  }
 ]
}