{
 "cells": [
  {
   "cell_type": "markdown",
   "metadata": {},
   "source": [
    "# Example TestCase\n",
    "This notebook contains an example TestCase which can be copied and adjusted for other cases."
   ]
  },
  {
   "cell_type": "code",
   "execution_count": null,
   "metadata": {},
   "outputs": [],
   "source": [
    "import os.path\n",
    "css = \"\"\n",
    "if os.path.isfile(\"../style.html\"):\n",
    "    from IPython.core.display import HTML\n",
    "    with open(\"../style.html\", \"r\") as file:\n",
    "        css = file.read()\n",
    "HTML(css)"
   ]
  },
  {
   "cell_type": "code",
   "execution_count": null,
   "metadata": {},
   "outputs": [],
   "source": [
    "# Import utils\n",
    "%run ./nmm-test-utils.ipynb\n",
    "# Import Test Notebook\n",
    "%run ../nmm-game-utils.ipynb"
   ]
  },
  {
   "cell_type": "code",
   "execution_count": null,
   "metadata": {},
   "outputs": [],
   "source": [
    "class TestCount(unittest.TestCase):\n",
    "    def test_sum(self):\n",
    "        # Run Test 10 times\n",
    "        for _ in range(10):\n",
    "            white = random.randint(0,9)\n",
    "            black = random.randint(0,9)\n",
    "            state = generateState(white, black)\n",
    "\n",
    "            cWhite = countStones(state, 'w')\n",
    "            cBlack = countStones(state, 'b')\n",
    "            cEmpty = countStones(state, ' ')\n",
    "\n",
    "            sum = cWhite + cBlack + cEmpty\n",
    "            self.assertEqual(sum, 3*8)\n",
    "    \n",
    "    # TestCase which succeeds\n",
    "    def test_success(self):\n",
    "        self.assertEqual(True, True)"
   ]
  },
  {
   "cell_type": "code",
   "execution_count": null,
   "metadata": {},
   "outputs": [],
   "source": [
    "unittest.main(argv=[''], verbosity=2, exit=False)"
   ]
  },
  {
   "cell_type": "code",
   "execution_count": null,
   "metadata": {},
   "outputs": [],
   "source": []
  }
 ],
 "metadata": {
  "kernelspec": {
   "display_name": "Python 3",
   "language": "python",
   "name": "python3"
  },
  "language_info": {
   "codemirror_mode": {
    "name": "ipython",
    "version": 3
   },
   "file_extension": ".py",
   "mimetype": "text/x-python",
   "name": "python",
   "nbconvert_exporter": "python",
   "pygments_lexer": "ipython3",
   "version": "3.8.5"
  }
 },
 "nbformat": 4,
 "nbformat_minor": 4
}
