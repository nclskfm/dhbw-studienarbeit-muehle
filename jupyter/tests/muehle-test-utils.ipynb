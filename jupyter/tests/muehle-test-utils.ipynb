{
 "metadata": {
  "language_info": {
   "codemirror_mode": {
    "name": "ipython",
    "version": 3
   },
   "file_extension": ".py",
   "mimetype": "text/x-python",
   "name": "python",
   "nbconvert_exporter": "python",
   "pygments_lexer": "ipython3",
   "version": "3.7.6-final"
  },
  "orig_nbformat": 2,
  "kernelspec": {
   "name": "Python 3.7.6 64-bit ('base': conda)",
   "display_name": "Python 3.7.6 64-bit ('base': conda)",
   "metadata": {
    "interpreter": {
     "hash": "98b0a9b7b4eaaa670588a142fd0a9b87eaafe866f1db4228be72b4211d12040f"
    }
   }
  }
 },
 "nbformat": 4,
 "nbformat_minor": 2,
 "cells": [
  {
   "source": [
    "# Test Utils\n",
    "\n",
    "This notebook contains helper functions for testing."
   ],
   "cell_type": "markdown",
   "metadata": {}
  },
  {
   "cell_type": "code",
   "execution_count": 1,
   "metadata": {},
   "outputs": [],
   "source": [
    "import random\n",
    "import unittest"
   ]
  },
  {
   "cell_type": "code",
   "execution_count": 2,
   "metadata": {},
   "outputs": [],
   "source": [
    "# Generates a set of all cells\n",
    "def generateAllCells():\n",
    "    return {\n",
    "        (r, c)\n",
    "        for r in range(0, 3)\n",
    "        for c in range(0, 8)\n",
    "    }"
   ]
  },
  {
   "cell_type": "code",
   "execution_count": 3,
   "metadata": {},
   "outputs": [],
   "source": [
    "# Generates a board and returns all cells\n",
    "# (board, set(white), set(black), set(empty))\n",
    "def generateBoardAndCells(white, black):\n",
    "    whiteCells = set()\n",
    "    blackCells = set()\n",
    "    \n",
    "    # Generate new cells until there are enough\n",
    "    while len(whiteCells) < white:\n",
    "        # Generate new cell\n",
    "        whiteCells |= { (random.randint(0, 2), random.randint(0, 7)) }\n",
    "        # Ignore all cells of black\n",
    "        whiteCells -= blackCells\n",
    "    \n",
    "    # Generate new cells until there are enough\n",
    "    while len(blackCells) < black:\n",
    "        # Generate new cell\n",
    "        blackCells |= { (random.randint(0, 2), random.randint(0, 7)) }\n",
    "        # Ignore all cells of black\n",
    "        blackCells -= whiteCells\n",
    "    \n",
    "    # Generate the board\n",
    "    board = tuple(\n",
    "        tuple(\n",
    "            'b'\n",
    "            if (r, c) in blackCells\n",
    "            else 'w'\n",
    "            if (r, c) in whiteCells\n",
    "            else ' '\n",
    "            for c in range(0, 8)\n",
    "        )\n",
    "        for r in range(0, 3)\n",
    "    )\n",
    "    emptyCells = generateAllCells() - whiteCells - blackCells\n",
    "    return (board, whiteCells, blackCells, emptyCells)"
   ]
  },
  {
   "cell_type": "code",
   "execution_count": 4,
   "metadata": {},
   "outputs": [],
   "source": [
    "# Generates a board with the correct amount of white and black stones \n",
    "def generateBoard(white, black):\n",
    "    (board, wCells, bCells, eCells) = generateBoardAndCells(white, black)\n",
    "    return board"
   ]
  },
  {
   "cell_type": "code",
   "execution_count": 5,
   "metadata": {},
   "outputs": [],
   "source": [
    "# Generates a state with the correct amount of white and black stones\n",
    "def generateState(white, black):\n",
    "    return ((9-white, 9-black), generateBoard(white, black))"
   ]
  }
 ]
}