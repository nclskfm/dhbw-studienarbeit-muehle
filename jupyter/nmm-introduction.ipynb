{
 "cells": [
  {
   "cell_type": "markdown",
   "id": "extraordinary-comfort",
   "metadata": {},
   "source": [
    "# Studienarbeit zur Erstellung einer künstlichen Intelligenz zum Spielen des Brettspiels Mühle\n",
    "\n",
    "Im Rahmen dieser Studienarbeit wird eine künstliche Intelligenz entwickelt, die das Brettspiel Mühle spielen kann. Dafür werden die beiden Algorithmen *Minimax* und *α-β-Pruning* implementiert.\n",
    "\n",
    "Die Arbeit wurde von Joost Ole Seddig, Benedikt Funke und Niclas Kaufmann im dritten Studienjahr des Bachelorstudiengangs Angewandte Informatik im Kurs TINF18AI2 angefertigt. Der Betreuer der Studienarbeit ist Prof. Dr. Karl Stroetmann.\n"
   ]
  },
  {
   "cell_type": "markdown",
   "id": "crazy-navigation",
   "metadata": {},
   "source": [
    "## Einleitung\n",
    "\n",
    "Mühle ist ein Brettspiel für zwei Personen. Das Spielbrett besteht aus drei Quadraten, die in den Seitenmitten verbunden sind. Jeder Spieler (meistens mit *schwarz* und *weiß* bezeichnet) startet mit 9 Steinen, die nacheinander auf das Spielbrett gelegt werden. Gewonnen ist das Spiel, wenn der Gegenspieler keinen Zug mehr spielen kann oder er weniger als drei Steine auf dem Spielbrett hat. Ein Spieler kann eine sogenannte Mühle bilden, wenn er drei seiner Spielsteine in eine Reihe ziehen kann. Daraufhin darf er dem Gegenspieler einen Spielstein vom Brett entfernen. Die exakten Spielregeln können in den [offiziellen Turnierregeln](http://www.muehlespiel.eu/images/pdf/WMD_Turnierreglement.pdf) des *Weltmühlespiel Dachverband* nachgelesen werden.\n",
    "\n",
    "Die beiden Algorithmen *Minimax* und *α-β-Pruning* sind Suchalgorithmen zur Bestimmung eines optimalen Zuges bei einem Zwei-Personenspiel. Im weiteren Verlauf der Studienarbeit werden die Suchalgorithmus durch die Verwendung von Symmetrie und iterativer Tiefensuche weiter verbessert. Symmetrie bedeutet in diesem Fall, dass man es sich zu Nutze macht, dass Mühle ein quadratischen Spielfeld nutzt und man durch Drehungen und Spiegelungen gleiche Zustände erhält. Iterative Tiefensuche ist ein Verfahren, mit dem man kontinuierlich die Suchtiefe des Algorithmus erhöht.\n",
    "\n",
    "Zusätzlich zu dem Spiel soll eine graphische Oberfläche entwickelt werden, damit das Spiel auch vom Menschen gespielt werden kann"
   ]
  },
  {
   "cell_type": "markdown",
   "id": "rocky-coating",
   "metadata": {},
   "source": [
    "## Aufbau\n",
    "\n",
    "Die gesamte Studienarbeit wird in Jupyter Notebooks mit der Progammiersprache Python geschrieben. So können die Implementierungen direkt erklärt werden. Zum Lesen der Studienarbeit wird folgende Lesereihenfolge empfohlen:\n",
    "\n",
    "### 1. nmm-game-utils.ipynb\n",
    "\n",
    "Dieses Notebook beschreibt Hilfsfunktionen, die für die allgemeine Mühle-Implementierung benötigt werden.\n",
    "\n",
    "### 2. nmm-game.ipynb\n",
    "\n",
    "In diesem Notebook wird Mühle implementiert.\n",
    "\n",
    "### 3. nmm-artificial-intelligence.ipynb\n",
    "\n",
    "Dieses Notebook implementiert eine abstrake Superklasse `ArtificialIntelligence`, um die Implementierung von *Minimax* und *α-β-Pruning* zu vereinheitlichen.\n",
    "\n",
    "### 4. nmm-heuristic.ipynb\n",
    "\n",
    "Falls die Suchtiefe nicht ausreicht, einen Spielzustand genau hervorzusagen, also ob er zu einem Sieg, einer Niederlage oder einem Gleichstand führt, wird eine Heuristik benötigt. Diese Heuristik schätzt den aktuellen Wert des Zustands und wird in diesem Notebook implementiert.\n",
    "\n",
    "### 5. nmm-symmetry.ipynb\n",
    "\n",
    "Dieses Notebook definiert die verschiedenen Symmetrien, die für ein Spielbrett erkannt werden sollen.\n",
    "\n",
    "### 6. nmm-minimax.ipynb\n",
    "\n",
    "In diesem Notebook wird der erste Algorithmus *Minimax* implementiert.\n",
    "\n",
    "### 7. nmm-alpha-beta-pruning.ipynb\n",
    "\n",
    "Der Algorithmus *α-β-Pruning* wird in diesem Notebook beschrieben und entwickelt.\n",
    "\n",
    "### 8. nmm-gui-utils.ipynb\n",
    "\n",
    "Dieses Notebook beschreibt Hilfsfunktionen, die für das Zeichnen der graphischen Oberfläche und Spielen in dieser benötigt werden.\n",
    "\n",
    "### 9. nmm-gui.ipynb\n",
    "\n",
    "Das Spielen in der graphischen Oberfläche wird in diesem Notebook implementiert.\n",
    "\n",
    "### 10. nmm-tournament.ipynb\n",
    "\n",
    "Um eine Analyse der beiden Algorithmen *Minimax* und *α-β-Pruning* und verschiedener Heuristiken durchführen zu können, wird in diesem Notebook eine Art Turnier implementiert. Dieses Turnier ermöglicht es, dass verschiedene Ausführungen der Algorithmen automatisch gegeneinander spielen können und dabei ausführliche Logs schreiben.\n",
    "\n",
    "### 11. nmm-conclusion.ipynb \n",
    "\n",
    "Zum Abschluss der Studienarbeit wird das Turnier aus dem vorherigen Notebook gespielt und die Algorithmen und Heuristiken ausgewertet. In dem Fazit werden außerdem Verbesserungen für die Implementierung aufgezeigt."
   ]
  }
 ],
 "metadata": {
  "kernelspec": {
   "display_name": "Python 3",
   "language": "python",
   "name": "python3"
  },
  "language_info": {
   "codemirror_mode": {
    "name": "ipython",
    "version": 3
   },
   "file_extension": ".py",
   "mimetype": "text/x-python",
   "name": "python",
   "nbconvert_exporter": "python",
   "pygments_lexer": "ipython3",
   "version": "3.8.5"
  }
 },
 "nbformat": 4,
 "nbformat_minor": 5
}
