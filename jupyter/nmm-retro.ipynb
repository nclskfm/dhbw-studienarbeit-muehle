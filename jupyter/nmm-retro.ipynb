{
 "cells": [
  {
   "cell_type": "markdown",
   "metadata": {},
   "source": [
    "# Retrogate Analysis"
   ]
  },
  {
   "cell_type": "code",
   "execution_count": null,
   "metadata": {},
   "outputs": [],
   "source": [
    "%run ./nmm-game.ipynb\n",
    "%run ./nmm-symmetry.ipynb\n",
    "\n",
    "import pymongo\n",
    "import math\n",
    "\n",
    "localMongo = pymongo.MongoClient(\"mongodb://localhost:27017/\")\n",
    "retroDb = localMongo[\"retro-database\"]\n",
    "retroCol = retroDb[\"retro-collection\"]"
   ]
  },
  {
   "cell_type": "markdown",
   "metadata": {},
   "source": [
    "## Generierung der Spielfelder\n",
    "\n",
    "Die Endspieldatenbank soll alle Zustände speichern, in denen der weiße Spieler auf jeden Fall gewinnt. Dafür ist es notwendig, zunächst alle möglichen Spielfelder mit drei weißen und drei schwarzen Spielsteinen zu generieren, um im Nachhinein untersuchen zu können, ob diese zu den Gewinnzuständen gehören.\n",
    "\n",
    "Die Funktion `generateBoards` nimmt ein leeres Spielfeld und befüllt dieses Stein für Stein. Dabei wird jeder der sechs Steine auf jede der 24 Positionen des Spielfeldes gesetzt. So wird sichergestellt, dass auch wirklich jede mögliche Kombination erstellt wird.\n",
    "Da es nicht ausgeschlossen werden kann, dass zwei Steine auf die selbe Position gesetzt werden und somit nicht die gewünschte 3-3-Kombination vorhanden ist, wird vor dem Speichern der Spielbretter überprüft, ob für beide Farben drei Steine platziert wurden.\n",
    "\n",
    "Da es für das Mühlespiel egal ist, ob beispielsweise der 1. oder der 3. weiße Stein auf der Position `(1, 4)` liegt, werden die Spielbretter in ein globales `set` gespeichert. Dadurch wird sichergestellt, dass ein Spielbrett nicht zwei mal abgespeichert ist.\n",
    "\n",
    "Die Entscheidung, die Spielbretter global abzuspeichern wurde bewusst getroffen, um bei Änderungen an anderen Funktionen nicht die Generierung der Spielbretter neu starten zu müssen, welche einiges an Zeit benötigt."
   ]
  },
  {
   "cell_type": "code",
   "execution_count": null,
   "metadata": {},
   "outputs": [],
   "source": [
    "startBoard = ((' ', ' ', ' ', ' ', ' ', ' ', ' ', ' '),\n",
    "    (' ', ' ', ' ', ' ', ' ', ' ', ' ', ' '),\n",
    "    (' ', ' ', ' ', ' ', ' ', ' ', ' ', ' '))\n",
    "boards = set()\n",
    "\n",
    "def generateBoards(board=startBoard):\n",
    "    global boards\n",
    "    count = 0\n",
    "    for whiteOneX in range(0,3):\n",
    "        for whiteOneY in range(0, 8):\n",
    "            count += 1\n",
    "            print('Progress: ' + str(count) + '/24')\n",
    "            for blackOneX in range(0,3):\n",
    "                for blackOneY in range(0, 8):\n",
    "                    for whiteTwoX in range(0,3):\n",
    "                        for whiteTwoY in range (0, 8):\n",
    "                            for blackTwoX in range(0,3):\n",
    "                                for blackTwoY in range(0, 8):\n",
    "                                    for whiteThreeX in range(0,3):\n",
    "                                        for whiteThreeY in range(0,8):\n",
    "                                            for blackThreeX in range(0,3):\n",
    "                                                for blackThreeY in range(0,8):\n",
    "                                                    board1 = place(board, (whiteOneX, whiteOneY), 'w')\n",
    "                                                    board2 = place(board1, (blackOneX, blackOneY), 'b')\n",
    "                                                    board3 = place(board2, (whiteTwoX, whiteTwoY), 'w')\n",
    "                                                    board4 = place(board3, (blackTwoX, blackTwoY), 'b')\n",
    "                                                    board5 = place(board4, (whiteThreeX, whiteThreeY), 'w')\n",
    "                                                    board6 = place(board5, (blackThreeX, blackThreeY), 'b')\n",
    "                                                    white = countStones(('', board6), 'w')\n",
    "                                                    black = countStones(('', board6), 'b')\n",
    "                                                    if (white == 3 and black == 3):\n",
    "                                                        boards.add(board6)"
   ]
  },
  {
   "cell_type": "code",
   "execution_count": null,
   "metadata": {},
   "outputs": [],
   "source": [
    "def getWeightForState(state, minWeight = math.inf):\n",
    "    weight = 0\n",
    "    counter = 1\n",
    "    for r in range(3):\n",
    "        for c in range(8):\n",
    "            weight += (2**(counter if state[1][r][c] == 'w' else counter + 24) if state[1][r][c] != ' ' else 0)\n",
    "            counter += 1\n",
    "            if (weight > minWeight):\n",
    "                return weight\n",
    "    return weight"
   ]
  },
  {
   "cell_type": "code",
   "execution_count": null,
   "metadata": {},
   "outputs": [],
   "source": [
    "def getUniqueStateForSymmetry(state):\n",
    "    symmetries = findSymmetries(state)\n",
    "    \n",
    "    state = None\n",
    "    minWeight = math.inf \n",
    "    for s in symmetries:\n",
    "        weight = getWeightForState(s, minWeight)\n",
    "        if weight < minWeight:\n",
    "            state = s\n",
    "            minWeight = weight\n",
    "    return state"
   ]
  },
  {
   "cell_type": "markdown",
   "metadata": {},
   "source": [
    "Die Funktion `getSymmetryUnique(boards)` iteriert über jedes Spielfeld und erhält von der `getUniqueStateForSymmetry(state)` das Spielfeld, welches unter allen Symmetrien die niedrigste Gewichtung (`weight`) aufweist und fügt dieses den `uniqueStates` hinzu. So wird sichergestellt, das für alle Symmetrien nur ein Repräsentant abgespeichert wird."
   ]
  },
  {
   "cell_type": "code",
   "execution_count": null,
   "metadata": {},
   "outputs": [],
   "source": [
    "def getSymmetryUnique(boards):\n",
    "    uniqueStates = set()\n",
    "    stones = (0, 0)\n",
    "    for board in boards:\n",
    "        state = tuple([stones, board])\n",
    "        uniqueStates.add(getUniqueStateForSymmetry(state))\n",
    "    return uniqueStates"
   ]
  },
  {
   "cell_type": "code",
   "execution_count": null,
   "metadata": {},
   "outputs": [],
   "source": [
    "def fillDb(states):\n",
    "    fullStep = []\n",
    "    stepCount = 0\n",
    "    \n",
    "    stepCount += 1\n",
    "    \n",
    "    fullStates = states.copy()\n",
    "    halfStates = states.copy()\n",
    "    _states = fullStates.copy()\n",
    "\n",
    "    for state in _states:\n",
    "        _, board = state\n",
    "        if (findPossibleMills(board, 'w')) == set():\n",
    "            continue;\n",
    "        _nextStates = nextStates(state, 'w')\n",
    "        for ns in _nextStates:\n",
    "            if (finished(ns, 'w') and utility(ns, 'w') == 1):\n",
    "                entry = { \"state\": state, \"nextState\": ns, \"steps\": stepCount }\n",
    "                retroCol.insert_one(entry)\n",
    "                fullStep.append(state)\n",
    "                fullStates.remove(state)\n",
    "                break\n",
    "    \n",
    "    while len(states) > 0:\n",
    "        enrichedFullStep = set()\n",
    "        for s in fullStep:\n",
    "            enrichedFullStep |= findSymmetries(s)\n",
    "        \n",
    "        _states = halfStates.copy()\n",
    "        halfStep = []\n",
    "        stepCount += 1\n",
    "        print('current step-depth: ' + str(stepCount))\n",
    "        \n",
    "        for state in _states:\n",
    "            _nextStates = nextStates(state, 'b')\n",
    "            if (_nextStates.issubset(enrichedFullStep)):\n",
    "                halfStep.append(state)\n",
    "                halfStates.remove(state)\n",
    "                    \n",
    "        if len(halfStep) == 0:\n",
    "            break\n",
    "        \n",
    "        enrichedHalfStep = set()\n",
    "        for s in halfStep:\n",
    "            enrichedHalfStep |= findSymmetries(s)\n",
    "        \n",
    "        _states = fullStates.copy()\n",
    "        \n",
    "        stepCount += 1\n",
    "        print('current step-depth: ' + str(stepCount))\n",
    "        \n",
    "        for state in _states:\n",
    "            _nextStates = nextStates(state, 'w')\n",
    "            for ns in _nextStates:\n",
    "                if (ns in enrichedHalfStep):\n",
    "                    entry = { \"state\": state, \"nextState\": ns, \"steps\": stepCount }\n",
    "                    retroCol.insert_one(entry)\n",
    "                    fullStep.append(state)\n",
    "                    fullStates.remove(state)\n",
    "                    break"
   ]
  },
  {
   "cell_type": "code",
   "execution_count": null,
   "metadata": {},
   "outputs": [],
   "source": [
    "generateBoards()\n",
    "global boards\n",
    "states = getSymmetryUnique(boards)\n",
    "fillDb(states)"
   ]
  },
  {
   "cell_type": "code",
   "execution_count": null,
   "metadata": {},
   "outputs": [],
   "source": []
  }
 ],
 "metadata": {
  "kernelspec": {
   "display_name": "Python 3",
   "language": "python",
   "name": "python3"
  },
  "language_info": {
   "codemirror_mode": {
    "name": "ipython",
    "version": 3
   },
   "file_extension": ".py",
   "mimetype": "text/x-python",
   "name": "python",
   "nbconvert_exporter": "python",
   "pygments_lexer": "ipython3",
   "version": "3.8.6"
  }
 },
 "nbformat": 4,
 "nbformat_minor": 4
}
