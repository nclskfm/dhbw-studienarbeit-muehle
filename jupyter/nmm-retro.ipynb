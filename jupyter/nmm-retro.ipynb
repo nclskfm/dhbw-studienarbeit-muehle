{
 "cells": [
  {
   "cell_type": "markdown",
   "metadata": {},
   "source": [
    "# Retrogate Analysis"
   ]
  },
  {
   "cell_type": "code",
   "execution_count": null,
   "metadata": {},
   "outputs": [],
   "source": [
    "%run ./nmm-game.ipynb\n",
    "%run ./nmm-symmetry.ipynb\n",
    "\n",
    "import pymongo\n",
    "localMongo = pymongo.MongoClient(\"mongodb://localhost:27017/\")\n",
    "retroDb = localMongo[\"retro-database\"]\n",
    "retroCol = retroDb[\"retro-collection\"]"
   ]
  },
  {
   "cell_type": "code",
   "execution_count": null,
   "metadata": {},
   "outputs": [],
   "source": [
    "startBoard = ((' ', ' ', ' ', ' ', ' ', ' ', ' ', ' '),\n",
    "    (' ', ' ', ' ', ' ', ' ', ' ', ' ', ' '),\n",
    "    (' ', ' ', ' ', ' ', ' ', ' ', ' ', ' '))\n",
    "\n",
    "def generateBoards(board=startBoard, x=0, y=0):\n",
    "    _boards  = []\n",
    "    white = countStones(('', board), 'w')\n",
    "    black = countStones(('', board), 'b')\n",
    "    if (white == 3 and black == 3):\n",
    "        return tuple([board])\n",
    "    for i in range(x,3):\n",
    "        for j in range(y,8):\n",
    "            if board[i][j] == ' ':\n",
    "                if white == 3:\n",
    "                    newBoard = place(board, (i, j), 'b')\n",
    "                    _boards += (generateBoards(newBoard, i, j))\n",
    "                elif black == 3:\n",
    "                    newBoard = place(board, (i, j), 'w')\n",
    "                    _boards += generateBoards(newBoard, i, j)\n",
    "                else:\n",
    "                    for turn in ('w', 'b'):\n",
    "                        newBoard = place(board, (i, j), turn)\n",
    "                        _boards += generateBoards(newBoard, i, j)\n",
    "    return _boards"
   ]
  },
  {
   "cell_type": "code",
   "execution_count": null,
   "metadata": {},
   "outputs": [],
   "source": [
    "def getSymmetryUnique(boards):\n",
    "    doubleBoards = set()\n",
    "    uniqueStates = []\n",
    "    stones = tuple([0, 0])\n",
    "    for board in boards:\n",
    "        state = tuple([stones, board])\n",
    "        if not (state in doubleBoards):\n",
    "            doubleBoards |= findSymmetries(('', board))\n",
    "            uniqueStates.append(state)\n",
    "    return uniqueStates"
   ]
  },
  {
   "cell_type": "code",
   "execution_count": null,
   "metadata": {},
   "outputs": [],
   "source": [
    "def fillDb(states):\n",
    "    fullStep = []\n",
    "    stepCount = 0\n",
    "    \n",
    "    stepCount += 1\n",
    "    _states = states\n",
    "    for state in _states:\n",
    "        _nextStates = nextStates(state, 'w')\n",
    "        for ns in _nextStates:\n",
    "            if (finished(ns, 'w') and utility(ns, 'w') == 1):\n",
    "                entry = { \"state\": state, \"nextState\": ns, \"steps\": stepCount }\n",
    "                retroCol.insert_one(entry)\n",
    "                fullStep.append(state)\n",
    "                states.remove(state)\n",
    "                break\n",
    "    \n",
    "    while len(states) > 0:\n",
    "        _states = states\n",
    "        halfStep = []\n",
    "        stepCount += 1\n",
    "        for state in _states:\n",
    "            _nextStates = nextStates(state, 'b')\n",
    "            for ns in _nextStates:\n",
    "                if (ns in fullStep):\n",
    "                    halfStep.append(state)\n",
    "                    states.remove(state)\n",
    "                    break\n",
    "        if halfStep == 0:\n",
    "            break\n",
    "        \n",
    "        fullStep = []\n",
    "        stepCount += 1\n",
    "        for state in _states:\n",
    "            _nextStates = nextStates(state, 'w')\n",
    "            for ns in _nextStates:\n",
    "                if (ns in halfStep):\n",
    "                    entry = { \"state\": state, \"nextState\": ns, \"steps\": stepCount }\n",
    "                    retroCol.insert_one(entry)\n",
    "                    fullStep.append(state)\n",
    "                    states.remove(state)\n",
    "                    break\n",
    "        if fullStep == 0:\n",
    "            break"
   ]
  },
  {
   "cell_type": "code",
   "execution_count": null,
   "metadata": {},
   "outputs": [],
   "source": [
    "boards = generateBoards()\n",
    "states = getSymmetryUnique(boards)\n",
    "fillDb(states)"
   ]
  },
  {
   "cell_type": "code",
   "execution_count": null,
   "metadata": {},
   "outputs": [],
   "source": []
  }
 ],
 "metadata": {
  "kernelspec": {
   "display_name": "Python 3",
   "language": "python",
   "name": "python3"
  },
  "language_info": {
   "codemirror_mode": {
    "name": "ipython",
    "version": 3
   },
   "file_extension": ".py",
   "mimetype": "text/x-python",
   "name": "python",
   "nbconvert_exporter": "python",
   "pygments_lexer": "ipython3",
   "version": "3.8.6"
  }
 },
 "nbformat": 4,
 "nbformat_minor": 4
}
