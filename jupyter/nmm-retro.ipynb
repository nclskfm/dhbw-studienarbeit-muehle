{
 "cells": [
  {
   "cell_type": "markdown",
   "metadata": {},
   "source": [
    "# Retrogate Analysis"
   ]
  },
  {
   "cell_type": "code",
   "execution_count": null,
   "metadata": {},
   "outputs": [],
   "source": [
    "%run ./nmm-game.ipynb\n",
    "%run ./nmm-symmetry.ipynb\n",
    "\n",
    "import pymongo\n",
    "localMongo = pymongo.MongoClient(\"mongodb://localhost:27017/\")\n",
    "retroDb = localMongo[\"retro-database\"]\n",
    "retroCol = retroDb[\"retro-collection\"]"
   ]
  },
  {
   "cell_type": "code",
   "execution_count": null,
   "metadata": {},
   "outputs": [],
   "source": [
    "startBoard = ((' ', ' ', ' ', ' ', ' ', ' ', ' ', ' '),\n",
    "    (' ', ' ', ' ', ' ', ' ', ' ', ' ', ' '),\n",
    "    (' ', ' ', ' ', ' ', ' ', ' ', ' ', ' '))\n",
    "boards = set()\n",
    "\n",
    "def generateBoards(board=startBoard):\n",
    "    global boards\n",
    "    count = 0\n",
    "    for a1 in range(0,3):\n",
    "        for a2 in range(0, 8):\n",
    "            count += 1\n",
    "            print('Progress: ' + str(count) + '/24')\n",
    "            for b1 in range(0,3):\n",
    "                for b2 in range(0, 8):\n",
    "                    for c1 in range(0,3):\n",
    "                        for c2 in range (0, 8):\n",
    "                            for d1 in range(0,3):\n",
    "                                for d2 in range(0, 8):\n",
    "                                    for e1 in range(0,3):\n",
    "                                        for e2 in range(0,8):\n",
    "                                            for f1 in range(0,3):\n",
    "                                                for f2 in range(0,8):\n",
    "                                                    board1 = place(board, (a1, a2), 'w')\n",
    "                                                    board2 = place(board1, (b1, b2), 'b')\n",
    "                                                    board3 = place(board2, (c1, c2), 'w')\n",
    "                                                    board4 = place(board3, (d1, d2), 'b')\n",
    "                                                    board5 = place(board4, (e1, e2), 'w')\n",
    "                                                    board6 = place(board5, (f1, f2), 'b')\n",
    "                                                    white = countStones(('', board6), 'w')\n",
    "                                                    black = countStones(('', board6), 'b')\n",
    "                                                    if (white == 3 and black == 3):\n",
    "                                                        boards.add(board6)"
   ]
  },
  {
   "cell_type": "code",
   "execution_count": null,
   "metadata": {},
   "outputs": [],
   "source": [
    "def getUniqueStateForSymmetry(state):\n",
    "    symmetries = findSymmetries(state)\n",
    "    \n",
    "    state = None\n",
    "    maxWeight = float('-inf') \n",
    "    for s in symmetries:\n",
    "        weight = hash(s)\n",
    "        if weight > maxWeight:\n",
    "            state = s\n",
    "            maxWeight = weight\n",
    "    return state"
   ]
  },
  {
   "cell_type": "code",
   "execution_count": null,
   "metadata": {},
   "outputs": [],
   "source": [
    "def getSymmetryUnique(boards):\n",
    "    uniqueStates = set()\n",
    "    stones = (0, 0)\n",
    "    for board in boards:\n",
    "        state = tuple([stones, board])\n",
    "        uniqueStates.add(getUniqueStateForSymmetry(state))\n",
    "    return uniqueStates"
   ]
  },
  {
   "cell_type": "code",
   "execution_count": null,
   "metadata": {},
   "outputs": [],
   "source": [
    "def fillDb(states):\n",
    "    fullStep = []\n",
    "    stepCount = 0\n",
    "    \n",
    "    stepCount += 1\n",
    "    \n",
    "    fullStates = states.copy()\n",
    "    halfStates = states.copy()\n",
    "    _states = fullStates.copy()\n",
    "\n",
    "    for state in _states:\n",
    "        _, board = state\n",
    "        if (findPossibleMills(board, 'w')) == set():\n",
    "            continue;\n",
    "        _nextStates = nextStates(state, 'w')\n",
    "        for ns in _nextStates:\n",
    "            if (finished(ns, 'w') and utility(ns, 'w') == 1):\n",
    "                entry = { \"state\": state, \"nextState\": ns, \"steps\": stepCount }\n",
    "                retroCol.insert_one(entry)\n",
    "                fullStep.append(state)\n",
    "                fullStates.remove(state)\n",
    "                break\n",
    "    \n",
    "    while len(states) > 0:\n",
    "        enrichedFullStep = set()\n",
    "        for s in fullStep:\n",
    "            enrichedFullStep |= findSymmetries(s)\n",
    "        \n",
    "        _states = halfStates.copy()\n",
    "        halfStep = []\n",
    "        stepCount += 1       \n",
    "        \n",
    "        for state in _states:\n",
    "            _nextStates = nextStates(state, 'b')\n",
    "            if (_nextStates.issubset(enrichedFullStep)):\n",
    "                halfStep.append(state)\n",
    "                halfStates.remove(state)\n",
    "                    \n",
    "        if len(halfStep) == 0:\n",
    "            break\n",
    "        \n",
    "        enrichedHalfStep = set()\n",
    "        for s in halfStep:\n",
    "            enrichedHalfStep |= findSymmetries(s)\n",
    "        \n",
    "        _states = fullStates.copy()\n",
    "        \n",
    "        stepCount += 1\n",
    "        for state in _states:\n",
    "            _nextStates = nextStates(state, 'w')\n",
    "            for ns in _nextStates:\n",
    "                if (ns in enrichedHalfStep):\n",
    "                    entry = { \"state\": state, \"nextState\": ns, \"steps\": stepCount }\n",
    "                    retroCol.insert_one(entry)\n",
    "                    fullStep.append(state)\n",
    "                    fullStates.remove(state)\n",
    "                    break"
   ]
  },
  {
   "cell_type": "code",
   "execution_count": null,
   "metadata": {},
   "outputs": [],
   "source": [
    "generateBoards()\n",
    "global boards\n",
    "states = getSymmetryUnique(boards)\n",
    "fillDb(states)"
   ]
  }
 ],
 "metadata": {
  "kernelspec": {
   "display_name": "Python 3",
   "language": "python",
   "name": "python3"
  },
  "language_info": {
   "codemirror_mode": {
    "name": "ipython",
    "version": 3
   },
   "file_extension": ".py",
   "mimetype": "text/x-python",
   "name": "python",
   "nbconvert_exporter": "python",
   "pygments_lexer": "ipython3",
   "version": "3.8.6"
  }
 },
 "nbformat": 4,
 "nbformat_minor": 4
}
