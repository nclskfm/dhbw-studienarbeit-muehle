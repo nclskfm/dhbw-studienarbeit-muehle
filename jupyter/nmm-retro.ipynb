{
 "cells": [
  {
   "cell_type": "markdown",
   "metadata": {},
   "source": [
    "# Retrogate Analysis"
   ]
  },
  {
   "cell_type": "markdown",
   "metadata": {},
   "source": [
    "a: Speicherformat für Züge überlegen\n",
    "\n",
    "    - z.B. [0, 1] -> [0, 2]\n",
    "    \n",
    "1: über alle 3-3 Zustände loopen\n",
    "\n",
    "2: beste Lösung berechnen, abspeichern\n",
    "\n",
    "2: immer die Lösung, mit besten berechneten Wert abspeichern\n",
    "\n",
    "3: diese Lösung auch nach Anwendung aller Symmetrieoptionen und Spielersteinwechsel speichern\n"
   ]
  },
  {
   "cell_type": "markdown",
   "metadata": {},
   "source": [
    "### extractMove\n",
    "\n",
    "Die Funktion `extractMove` nimmt zwei Zustände und ermittelt den durchgeführten Spielzug"
   ]
  },
  {
   "cell_type": "code",
   "execution_count": null,
   "metadata": {},
   "outputs": [],
   "source": [
    "def extractMove(s1, s2, p):\n",
    "    _, b1 = s1\n",
    "    _, b2 = s2\n",
    "    for i in range(0, 3):\n",
    "        for j in range(0, 9):\n",
    "            if b1[i][j] != b2[i][j]:\n",
    "                if b1[i][j] == p and startPos is None:\n",
    "                    startPos = (i, j)\n",
    "                if b2[i][j] == p and endPos is None:\n",
    "                    endPos = (i, j)\n",
    "                if startPos in not None and endPos is not None:\n",
    "                    break;\n",
    "    if startPos is None or endPos is None:\n",
    "        return\n",
    "    return (p, startPos, endPos)"
   ]
  }
 ],
 "metadata": {
  "kernelspec": {
   "display_name": "Python 3",
   "language": "python",
   "name": "python3"
  },
  "language_info": {
   "codemirror_mode": {
    "name": "ipython",
    "version": 3
   },
   "file_extension": ".py",
   "mimetype": "text/x-python",
   "name": "python",
   "nbconvert_exporter": "python",
   "pygments_lexer": "ipython3",
   "version": "3.8.6"
  }
 },
 "nbformat": 4,
 "nbformat_minor": 4
}
