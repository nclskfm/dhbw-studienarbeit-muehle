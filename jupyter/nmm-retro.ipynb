{
 "cells": [
  {
   "cell_type": "markdown",
   "metadata": {},
   "source": [
    "# Retrogate Analysis"
   ]
  },
  {
   "cell_type": "markdown",
   "metadata": {},
   "source": [
    "1: über alle 3-3 Zustände loopen\n",
    "\n",
    "2: beste Lösung berechnen, abspeichern\n",
    "\n",
    "2: immer die Lösung, mit besten berechneten Wert abspeichern\n",
    "\n",
    "3: diese Lösung auch nach Anwendung aller Symmetrieoptionen und Spielersteinwechsel speichern\n"
   ]
  },
  {
   "cell_type": "code",
   "execution_count": null,
   "metadata": {},
   "outputs": [],
   "source": [
    "%run ./nmm-game-utils.ipynb\n",
    "%run ./nmm-symmetry.ipynb"
   ]
  },
  {
   "cell_type": "code",
   "execution_count": null,
   "metadata": {},
   "outputs": [],
   "source": [
    "startBoard = ((' ', ' ', ' ', ' ', ' ', ' ', ' ', ' '),\n",
    "    (' ', ' ', ' ', ' ', ' ', ' ', ' ', ' '),\n",
    "    (' ', ' ', ' ', ' ', ' ', ' ', ' ', ' '))\n",
    "\n",
    "def generateBoards(board=startBoard, x=0, y=0):\n",
    "    _boards  = []\n",
    "    white = countStones(('', board), 'w')\n",
    "    black = countStones(('', board), 'b')\n",
    "    if (white == 3 and black == 3):\n",
    "        return tuple([board])\n",
    "    for i in range(x,3):\n",
    "        for j in range(y,8):\n",
    "            if board[i][j] == ' ':\n",
    "                if white == 3:\n",
    "                    newBoard = place(board, (i, j), 'b')\n",
    "                    _boards += (generateBoards(newBoard, i, j))\n",
    "                elif black == 3:\n",
    "                    newBoard = place(board, (i, j), 'w')\n",
    "                    _boards += generateBoards(newBoard, i, j)\n",
    "                else:\n",
    "                    for turn in ('w', 'b'):\n",
    "                        newBoard = place(board, (i, j), turn)\n",
    "                        _boards += generateBoards(newBoard, i, j)\n",
    "    return _boards"
   ]
  },
  {
   "cell_type": "code",
   "execution_count": null,
   "metadata": {},
   "outputs": [],
   "source": [
    "def getSymmetryUnique():\n",
    "    boards = generateBoards()\n",
    "    doubleBoards = set()\n",
    "    uniqueBoards = []\n",
    "    for board in boards:\n",
    "        state = tuple(['', board])\n",
    "        if not (state in doubleBoards):\n",
    "            doubleBoards |= findSymmetries(('', board))\n",
    "            uniqueBoards.append(board)\n",
    "    return uniqueBoards"
   ]
  }
 ],
 "metadata": {
  "kernelspec": {
   "display_name": "Python 3",
   "language": "python",
   "name": "python3"
  },
  "language_info": {
   "codemirror_mode": {
    "name": "ipython",
    "version": 3
   },
   "file_extension": ".py",
   "mimetype": "text/x-python",
   "name": "python",
   "nbconvert_exporter": "python",
   "pygments_lexer": "ipython3",
   "version": "3.8.6"
  }
 },
 "nbformat": 4,
 "nbformat_minor": 4
}
