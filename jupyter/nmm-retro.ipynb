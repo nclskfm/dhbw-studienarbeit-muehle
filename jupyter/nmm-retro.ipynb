{
 "cells": [
  {
   "cell_type": "markdown",
   "metadata": {},
   "source": [
    "# Retrograde Analyse des 3-3 Endspiels beim Brettspiel Mühle\n",
    "\n",
    "*Hausarbeit von Benedikt Funke und Niclas Kaufmann.*"
   ]
  },
  {
   "cell_type": "markdown",
   "metadata": {},
   "source": [
    "# Einleitung\n",
    "\n",
    "Im Rahmen dieser Hausarbeit soll eine retrograde Analyse des Brettspiels Mühle im Endspiel durchgeführt werden. Als Endspiel wird hier die letzte Phase des Spiels bezeichnet, wo beide Spieler nur noch drei Steine auf dem Spielbrett haben. Für die Analyse soll eine Endspieldatenbank implementiert werden, die daraufhin für jeden Zustand im Endspiel bestimmen kann, ob ein Spieler garantiert gewinnen kann und wie.\n",
    "\n",
    "Die Hausarbeit wird im Fach Wissensbasierte Systeme des sechsten Semester im Studienfach Angewandte Informatik der DHBW Mannheim geschrieben. Die Arbeit ist eine Fortsetzung der Studienarbeit \"*Studienarbeit zur Erstellung einer künstlichen Intelligenz zum Spielen des Brettspiels Mühle*\". Die Studienarbeit hat eine künstliche Intelligenz für das Brettspiel mit den Algorithmen *Minimax* und *Alpha-Beta-Pruning* implementiert. Die grundlegende Implementierung des Spiels wird auch in der Hausarbeit weiterverwendet.\n",
    "\n",
    "Am Anfang der Hausarbeit wird das Brettspiel Mühle erklärt und was eine Endspieldatenbank ist. Anschließend wird die Implementierung dieser besprochen und wie die Datenbank in das Spiel integriert werden kann. Zum Abschluss der Arbeit wird das 3-3 Endspiel von Mühle analysiert und es sollen Verbesserungsvorschläge gegeben werden, wie die Implementierung verbessert werden kann."
   ]
  },
  {
   "cell_type": "markdown",
   "metadata": {},
   "source": [
    "# Theorie"
   ]
  },
  {
   "cell_type": "markdown",
   "metadata": {},
   "source": [
    "## Mühle\n",
    "\n",
    "Das Spiel Mühle ist ein Brettspiel für zwei Spieler, welches schon im vor Christus gespielt worden sein soll. Somit zählt es neben Spielen wie Schach und Go zu den ältesten uns bekannten Brettspielen, welches noch gespielt wird. In dieser Hausarbeit wird das Spiel nach den [offiziellen Turnierregeln des Weltmühlespiel Dachverband](http://www.muehlespiel.eu/images/pdf/WMD_Turnierreglement.pdf) gespielt. Im englischen Sprachraum wird Mühle als *Nine men's morris* bezeichnet.\n",
    "\n",
    "Das Spielbrett besteht aus drei Quadraten, die durch vier Verbindungslinien verbunden sind. An den Eck- und Verbindungspunkten können die Spielsteine platziert werden. Insgesamt gibt es für jeden Spieler neun Spielsteine, in der Regel in den Farben weiß und schwarz. In der folgenden Abbildung ist ein leeres Spielbrett dargestellt.\n",
    "\n",
    "![](../images/nmm-board.png)\n",
    "\n",
    "Das Spiel gliedert sich in drei Spielphasen:\n",
    "\n",
    "1. Zu Beginn des Spiels ist die **Setzphase**. Jeder Spieler darf nacheinander einen Stein beliebig auf einen freien Platz setzen. Solange bis alle neun Steine der Spieler auf dem Brett befinden. Somit hat die erste Phase eine vorgebene Länge von 18 Zügen.\n",
    "2. Die zweite Phase ist die **Zugphase**, diese folgt nach der Setzphase. In dieser Phase ziehen die Spieler ihre Steine auf ein freies Nachbarfeld. Diese Phase hat keine feste Dauer und endet entweder, indem das Spiel vorbei ist oder die dritte Phase beginnt.\n",
    "3. Die dritte Phase ist die **End-** oder **Flugphase**. Diese beginnt für einen Spieler, sobald er nur noch drei Spielsteine auf dem Brett hat. Somit kann sich ein Spieler schon in der Endphase befindet, wobei der Gegenspieler noch in der Zugphase ist. In dieser Phase darf ein Spieler seinen Stein beliebig auf freie Felder bewegen und ist nicht auf Nachbarfelder begrenzt. \n",
    "\n",
    "Das Spiel ist vorbei, sobald ein Spieler verloren hat. Ein Spieler hat genau dann verloren, wenn\n",
    "\n",
    "* er keinen regulären Zug mehr ausführen kann (er also von dem Gegenspieler eingebaut wurde), oder\n",
    "* er weniger als drei Steine auf dem Spielfeld hat (nicht in der Setzphase).\n",
    "\n",
    "Um das Spiel gewinnen zu können, müssen die Spieler versuchen, Mühlen zu bauen. Eine Mühle besteht aus drei Steinen, die sich auf einer Linie befinden. Es gibt 16 verschiedene Möglichkeiten eine Mühle auf dem Spielbrett zu bauen (jeweils vier auf den Seitenlinien der drei Quadrate und auf den vier Verbindungslinien). Hat der Spieler eine Mühle gebaut, darf er von dem Gegenspieler einen Spielstein vom Brett entfernen. Dabei ist darauf zu achten, dass sich der Spielstein nicht in einer Mühle befindet (Ausnahme: Alle Spielsteine des Gegenspielers befinden sich in einer Mühle). Es ist in jeder Spielphase möglich eine Mühle zu bilden. In der Setzphase kann ein Spieler mit einem Zug zwei Mühlen gleichzeitig bilden, dann darf er auch zwei Steine von dem Gegenspieler entfernen."
   ]
  },
  {
   "cell_type": "markdown",
   "metadata": {},
   "source": [
    "## Endspieldatenbank\n",
    "\n",
    "Eine Endspieldatenbank enthält vollständiges Wissen über ein Spielbrett mit einer maximalen Anzahl an Steinen auf dem Brett. So können in dem Endspiel perfekte Spielzüge ohne Rechenzeit gespielt werden. Endspieldatenbanken haben einen großen Speicherbedarf, weil die Anzahl an möglichen Spielstellungen mit mehr Steinen auf dem Brett extrem wächst. So gibt Ralf Gasser in seinem Paper an, dass es in der Zug- und Endphase des Spiels unter Berücksichtigung von Spiegelungen und ungültigen Zuständen noch $7.673.759.269$ Zustände gibt [RG97].\n",
    "\n",
    "### Algorithmus zur Erstellung von Endspieldatenbanken\n",
    "\n",
    "Schon 1912 soll der Mathematiker Ernst Zermelo auf einem Mathematikerkongress den folgenden Algorithmus zur Herstellung von Endspieldatenbanken vorgestellt haben. Dieser Algorithmus findet auch heutzutage noch Anwendung und lässt sich in vier Schritten theoretisch beschreiben. Die genaue Implementierung und Abwandlung für das Brettspiel Mühle wird in dem Kapitel **#REF** beschrieben.\n",
    "\n",
    "> **Schritt 1**: Es werden alle gültigen Zustände mit nicht mehr als $n$ Steinen auf dem Spielbrett erzeugt.\n",
    "> \n",
    "> **Schritt 2**: Im zweiten Schritt werden alle Gewinnstellungen für weiß gesucht:\n",
    "> \n",
    "> 1. Es werden alle Zustände gesucht, bei denen schwarz direkt verloren hat.\n",
    "> 2. Es werden alle Zustände gesucht, an denen weiß am Zug ist und *mindestens ein* Zug zu einer Stellung unter 1. führt. Bei diesen Zuständen hat schwarz in einem Zug verloren.\n",
    "> 3. Es werden alle Zustände gesucht, bei denen schwarz am Zug ist und bei dem *jeder* Zug zu einer Stellung aus 2. führt. Hier kann schwarz eine Niederlage in einem Zug nicht verhindern.\n",
    "> 4. Es werden alle Zustände gesucht, an denen weiß am Zug ist und  *mindestens ein* Zug zu einer Stellung unter 3. führt. Bei diesen Zuständen hat schwarz in zwei Zügen verloren.\n",
    "> 5. Es werden alle Zustände gesucht, bei denen schwarz am Zug ist und bei dem *jeder* Zug zu einer Stellung aus 2. oder 4. führt. Hier kann schwarz eine Niederlage in zwei Zügen nicht verhindern.\n",
    "> 6. Es werden alle Zustände gesucht, an denen weiß am Zug ist und *mindestens ein* Zug zu einer Stellung unter 5. führt. Bei diesen Zuständen hat schwarz in drei Zügen verloren.\n",
    "> 7. Es werden alle Zustände gesucht, bei denen schwarz am Zug ist und bei dem *jeder* Zug zu einer Stellung aus 2., 4. oder 6. führt. Hier kann schwarz eine Niederlage in drei Zügen nicht verhindern.\n",
    "> \n",
    ">    usw.\n",
    "> \n",
    "> Der Schritt wird solange wiederholt, bis es keine neuen Zustände mehr gibt. Damit sind alle Stellungen gefunden, mit denen weiß bei maximal $n$ Steinen auf dem Brett gewinnt.\n",
    "> \n",
    "> **Schritt 3**: Im dritten Schritt werden alle Gewinnstellungen für schwarz gesucht, dies erfolgt analog wie Schritt 2. Da Mühle ein komplett symmetrisches Spiel für weiß und schwarz ist, sind die Mengen für das Gewinnen auf dem Brett identisch.\n",
    "> \n",
    "> **Schritt 4**: Alle Zustände, die nicht in Schritt zwei auftauchen, laufen bei einem perfekten Spiel von beiden Spielern auf ein Unentschieden hinaus, da keiner der beiden Spieler verlieren kann.\n",
    "\n",
    "Der Algorithmus von Zermelo ist allgemein formuliert und es existieren einige Verbesserungen für den Algorithmus, besonders für das Schachspiel. Eine abgewandelte Implementierung für das 3-3 Endspiel für Mühle wird in dem Kapitel beschrieben."
   ]
  },
  {
   "cell_type": "markdown",
   "metadata": {},
   "source": [
    "# Implementierung"
   ]
  },
  {
   "cell_type": "code",
   "execution_count": null,
   "metadata": {},
   "outputs": [],
   "source": [
    "%run ./nmm-game.ipynb\n",
    "%run ./nmm-symmetry.ipynb\n",
    "\n",
    "import pymongo\n",
    "import math\n",
    "\n",
    "localMongo = pymongo.MongoClient(\"mongodb://retro-database:27017/\")\n",
    "retroDb = localMongo[\"retro-database\"]\n",
    "retroCol = retroDb[\"retro-collection\"]"
   ]
  },
  {
   "cell_type": "markdown",
   "metadata": {},
   "source": [
    "## Generierung der Spielfelder\n",
    "\n",
    "Die Endspieldatenbank soll alle Zustände speichern, in denen der weiße Spieler auf jeden Fall gewinnt. Dafür ist es notwendig, zunächst alle möglichen Spielfelder mit drei weißen und drei schwarzen Spielsteinen zu generieren, um im Nachhinein untersuchen zu können, ob diese zu den Gewinnzuständen gehören.\n",
    "\n",
    "Die Funktion `generateBoards` nimmt ein leeres Spielfeld und befüllt dieses Stein für Stein. Dabei wird jeder der sechs Steine auf jede der 24 Positionen des Spielfeldes gesetzt. So wird sichergestellt, dass auch wirklich jede mögliche Kombination erstellt wird.\n",
    "Da es nicht ausgeschlossen werden kann, dass zwei Steine auf die selbe Position gesetzt werden und somit nicht die gewünschte 3-3-Kombination vorhanden ist, wird vor dem Speichern der Spielbretter überprüft, ob für beide Farben drei Steine platziert wurden.\n",
    "\n",
    "Da es für das Mühlespiel egal ist, ob beispielsweise der 1. oder der 3. weiße Stein auf der Position `(1, 4)` liegt, werden die Spielbretter in ein globales `set` gespeichert. Dadurch wird sichergestellt, dass ein Spielbrett nicht zwei mal abgespeichert ist.\n",
    "\n",
    "Die Entscheidung, die Spielbretter global abzuspeichern wurde bewusst getroffen, um bei Änderungen an anderen Funktionen nicht die Generierung der Spielbretter neu starten zu müssen, welche einiges an Zeit benötigt."
   ]
  },
  {
   "cell_type": "code",
   "execution_count": null,
   "metadata": {},
   "outputs": [],
   "source": [
    "startBoard = ((' ', ' ', ' ', ' ', ' ', ' ', ' ', ' '),\n",
    "    (' ', ' ', ' ', ' ', ' ', ' ', ' ', ' '),\n",
    "    (' ', ' ', ' ', ' ', ' ', ' ', ' ', ' '))\n",
    "boards = set()\n",
    "\n",
    "def generateBoards(board=startBoard):\n",
    "    global boards\n",
    "    count = 0\n",
    "    for whiteOneX in range(0,3):\n",
    "        for whiteOneY in range(0, 8):\n",
    "            count += 1\n",
    "            print('Progress: ' + str(count) + '/24')\n",
    "            for blackOneX in range(0,3):\n",
    "                for blackOneY in range(0, 8):\n",
    "                    for whiteTwoX in range(0,3):\n",
    "                        for whiteTwoY in range (0, 8):\n",
    "                            for blackTwoX in range(0,3):\n",
    "                                for blackTwoY in range(0, 8):\n",
    "                                    for whiteThreeX in range(0,3):\n",
    "                                        for whiteThreeY in range(0,8):\n",
    "                                            for blackThreeX in range(0,3):\n",
    "                                                for blackThreeY in range(0,8):\n",
    "                                                    board1 = place(board, (whiteOneX, whiteOneY), 'w')\n",
    "                                                    board2 = place(board1, (blackOneX, blackOneY), 'b')\n",
    "                                                    board3 = place(board2, (whiteTwoX, whiteTwoY), 'w')\n",
    "                                                    board4 = place(board3, (blackTwoX, blackTwoY), 'b')\n",
    "                                                    board5 = place(board4, (whiteThreeX, whiteThreeY), 'w')\n",
    "                                                    board6 = place(board5, (blackThreeX, blackThreeY), 'b')\n",
    "                                                    white = countStones(('', board6), 'w')\n",
    "                                                    black = countStones(('', board6), 'b')\n",
    "                                                    if (white == 3 and black == 3):\n",
    "                                                        boards.add(board6)"
   ]
  },
  {
   "cell_type": "markdown",
   "metadata": {},
   "source": [
    "## Symmetrien"
   ]
  },
  {
   "cell_type": "markdown",
   "metadata": {},
   "source": [
    "Die Funktion `getWeightForState` berechnet eine Ganzzahl eines Zustands basierend auf den Positionen der Steine auf dem Brett. Sie hat zwei Argumente\n",
    "\n",
    "- `state` ist ein Zustand eines Spiels;\n",
    "- `minWeight` ist das aktuell kleinste Gewicht. Das Argument ist optional und der Standardwert ist $\\infty$.\n",
    "\n",
    "Die Funktion iteriert über alle 24 Felder des Spielbretts und erhöht bei jeder Position einen Zähler `counter`. Steht auf einer Position ein weißer Stein, wird das Gewicht des Zustands um $2^{counter}$ erhöht. Steht auf der Position ein schwarzer Steint, erhöht sich das Gewicht um $2^{counter+24}$.\n",
    "\n",
    "Nach jeder Position wird überprüft, ob das aktuelle Gewicht das kleinste Gewicht überschreitet. Ist das der Fall, kann die Schleife vorher abbrechen, weil der Zustand nicht mehr als kleinster Zustand in Frage kommt."
   ]
  },
  {
   "cell_type": "code",
   "execution_count": null,
   "metadata": {},
   "outputs": [],
   "source": [
    "def getWeightForState(state, minWeight = math.inf):\n",
    "    weight = 0\n",
    "    counter = 1\n",
    "    for r in range(3):\n",
    "        for c in range(8):\n",
    "            weight += (2**(counter if state[1][r][c] == 'w' else counter + 24) if state[1][r][c] != ' ' else 0)\n",
    "            counter += 1\n",
    "            if (weight > minWeight):\n",
    "                return weight\n",
    "    return weight"
   ]
  },
  {
   "cell_type": "markdown",
   "metadata": {},
   "source": [
    "Die Funktion `getUniqueStateForSymmetry` berechnet einen eindeutigen Zustand für eine Menge von Symmetrien eines Zustands. Die Funktion hat ein Argument\n",
    "\n",
    "- `state` ist ein Zustand eines Spiels.\n",
    "\n",
    "Zuerst berechnet die Funktion alle Symmetrien des Zustands mit Hilfe der Funktion `findSymmetries`. Dann iteriert sie über alle Symmetrien und sucht den Zustand mit dem geringsten Gewicht. Das Gewicht eines Zustands wird mit der Funktion `getWeightForState` berechnet.\n",
    "\n",
    "Der Sinn dieser Funktion ist, dass sichergestellt wird, dass bei einer Menge von symmetrischen Zuständen immer mit dem einem gleichen Zustand gearbeitet wird."
   ]
  },
  {
   "cell_type": "code",
   "execution_count": null,
   "metadata": {},
   "outputs": [],
   "source": [
    "def getUniqueStateForSymmetry(state):\n",
    "    symmetries = findSymmetries(state)\n",
    "    \n",
    "    state = None\n",
    "    minWeight = math.inf \n",
    "    for s in symmetries:\n",
    "        weight = getWeightForState(s, minWeight)\n",
    "        if weight < minWeight:\n",
    "            state = s\n",
    "            minWeight = weight\n",
    "    return state"
   ]
  },
  {
   "cell_type": "markdown",
   "metadata": {},
   "source": [
    "Die Funktion `getSymmetryUnique(boards)` iteriert über jedes Spielfeld und erhält von der `getUniqueStateForSymmetry(state)` das Spielfeld, welches unter allen Symmetrien die niedrigste Gewichtung (`weight`) aufweist und fügt dieses den `uniqueStates` hinzu. So wird sichergestellt, das für alle Symmetrien nur ein Repräsentant abgespeichert wird."
   ]
  },
  {
   "cell_type": "code",
   "execution_count": null,
   "metadata": {},
   "outputs": [],
   "source": [
    "def getSymmetryUnique(boards):\n",
    "    uniqueStates = set()\n",
    "    stones = (0, 0)\n",
    "    for board in boards:\n",
    "        state = tuple([stones, board])\n",
    "        uniqueStates.add(getUniqueStateForSymmetry(state))\n",
    "    return uniqueStates"
   ]
  },
  {
   "cell_type": "code",
   "execution_count": null,
   "metadata": {},
   "outputs": [],
   "source": [
    "def fillDb(states):\n",
    "    fullStep = []\n",
    "    stepCount = 0\n",
    "    \n",
    "    stepCount += 1\n",
    "    \n",
    "    fullStates = states.copy()\n",
    "    halfStates = states.copy()\n",
    "    _states = fullStates.copy()\n",
    "\n",
    "    for state in _states:\n",
    "        _, board = state\n",
    "        if (findPossibleMills(board, 'w')) == set():\n",
    "            continue;\n",
    "        _nextStates = nextStates(state, 'w')\n",
    "        for ns in _nextStates:\n",
    "            if (finished(ns, 'w') and utility(ns, 'w') == 1):\n",
    "                entry = { \"state\": state, \"nextState\": ns, \"steps\": stepCount }\n",
    "                retroCol.insert_one(entry)\n",
    "                fullStep.append(state)\n",
    "                fullStates.remove(state)\n",
    "                break\n",
    "    \n",
    "    while len(states) > 0:\n",
    "        enrichedFullStep = set()\n",
    "        for s in fullStep:\n",
    "            enrichedFullStep |= findSymmetries(s)\n",
    "        \n",
    "        _states = halfStates.copy()\n",
    "        halfStep = []\n",
    "        stepCount += 1\n",
    "        print('current step-depth: ' + str(stepCount))\n",
    "        \n",
    "        for state in _states:\n",
    "            _nextStates = nextStates(state, 'b')\n",
    "            if (_nextStates.issubset(enrichedFullStep)):\n",
    "                halfStep.append(state)\n",
    "                halfStates.remove(state)\n",
    "                    \n",
    "        if len(halfStep) == 0:\n",
    "            break\n",
    "        \n",
    "        enrichedHalfStep = set()\n",
    "        for s in halfStep:\n",
    "            enrichedHalfStep |= findSymmetries(s)\n",
    "        \n",
    "        _states = fullStates.copy()\n",
    "        \n",
    "        stepCount += 1\n",
    "        print('current step-depth: ' + str(stepCount))\n",
    "        \n",
    "        for state in _states:\n",
    "            _nextStates = nextStates(state, 'w')\n",
    "            for ns in _nextStates:\n",
    "                if (ns in enrichedHalfStep):\n",
    "                    entry = { \"state\": state, \"nextState\": ns, \"steps\": stepCount }\n",
    "                    retroCol.insert_one(entry)\n",
    "                    fullStep.append(state)\n",
    "                    fullStates.remove(state)\n",
    "                    break"
   ]
  },
  {
   "cell_type": "code",
   "execution_count": null,
   "metadata": {},
   "outputs": [],
   "source": [
    "# generateBoards()\n",
    "# global boards\n",
    "# states = getSymmetryUnique(boards)\n",
    "# fillDb(states)"
   ]
  },
  {
   "cell_type": "markdown",
   "metadata": {},
   "source": [
    "## Datenbankabfrage\n",
    "\n",
    "Für die Verwendung der Datenbank sind zunächst einige Hilfsunktionen notwendig. Anschließend wird die Funktion `findNextStateInDb` zur Abfrage des nächsten Zuges eines Zustands in der Datenbank implementiert."
   ]
  },
  {
   "cell_type": "markdown",
   "metadata": {},
   "source": [
    "### Hilfsfunktionen"
   ]
  },
  {
   "cell_type": "markdown",
   "metadata": {},
   "source": [
    "Die Funktion `swapPlayer` invertiert einen Spieler. Die Funktion hat ein Argument\n",
    "\n",
    "- `player` ist ein Spieler (`'w'`, `'b'` oder `' '`).\n",
    "\n",
    "Es gibt genau drei Möglichkeiten für die Funktion:\n",
    "\n",
    "- `swapPlayer('w')` $\\Rightarrow$ `'b'`\n",
    "- `swapPlayer('b')` $\\Rightarrow$ `'w'`\n",
    "- `swapPlayer(' ')` $\\Rightarrow$ `' '`"
   ]
  },
  {
   "cell_type": "code",
   "execution_count": null,
   "metadata": {},
   "outputs": [],
   "source": [
    "def swapPlayer(player):\n",
    "    if player == 'w':\n",
    "        return 'b'\n",
    "    if player == 'b':\n",
    "        return 'w'\n",
    "    return ' '"
   ]
  },
  {
   "cell_type": "markdown",
   "metadata": {},
   "source": [
    "Die Funktion `swapPlayers` invertiert das gesamte Spielbrett eines Zustands und hat ein Argument\n",
    "\n",
    "- `state` ist ein Zustand eines Spiels.\n",
    "\n",
    "Mit Hilfe der Funktion `swapPlayer` tauscht sie jeden Spielstein mit der anderen Farbe, leere Felder bleiben leer. Zurückgegeben wird der neue Zustand."
   ]
  },
  {
   "cell_type": "code",
   "execution_count": null,
   "metadata": {},
   "outputs": [],
   "source": [
    "def swapPlayers(state):\n",
    "     return (\n",
    "         state[0],\n",
    "         tuple(\n",
    "            tuple(\n",
    "                swapPlayer(state[1][ir][ic])\n",
    "                for ic in range(0, 8)\n",
    "            ) for ir in range(0, 3)\n",
    "         )\n",
    "    )"
   ]
  },
  {
   "cell_type": "markdown",
   "metadata": {},
   "source": [
    "Die Funktion `convertStateListToTuple` wandelt einen Zustand als Liste in einen Zustand als Tupel um. Sie hat ein Argument\n",
    "\n",
    "- `state` ist ein Zustand.\n",
    "\n",
    "Hintergrund ist, dass MongoDB keine Tupel kennt und deswegen den Zustand als Liste zurückgibt. Mit Hilfe der Funktion kann der Zustand aber zurück in ein Tupel konvertiert werden."
   ]
  },
  {
   "cell_type": "code",
   "execution_count": null,
   "metadata": {},
   "outputs": [],
   "source": [
    "def convertStateListToTuple(state):\n",
    "    return (\n",
    "        (\n",
    "            state[0][0],\n",
    "            state[0][1]\n",
    "        ),\n",
    "        tuple(\n",
    "            tuple(\n",
    "                state[1][ir][ic]\n",
    "                for ic in range(0, 8)\n",
    "            ) for ir in range(0, 3)\n",
    "        )\n",
    "    )"
   ]
  },
  {
   "cell_type": "markdown",
   "metadata": {},
   "source": [
    "### Finden des nächsten Zustands\n",
    "\n",
    "Die Funktion `findNextStateInDb` dient zum Abfragen eines nächsten Zuges für einen Spieler. Die Funktion hat zwei Argumente\n",
    "\n",
    "- `state` ist ein Zustand;\n",
    "- `player` ist ein Spieler (`'w'`, `'b'`).\n",
    "\n",
    "Die Funktion gibt ein Zwei-Tupel zurück mit\n",
    "\n",
    "- dem nächsten Spielzug und\n",
    "- der Anzahl der benötigen Halbzüge bis zum Sieg (bei perfektem Spiel des Gegners).\n",
    "\n",
    "Die Funktion fragt mit Hilfe der Funktion `getUniqueStateForSymmetry` einen symmetrischen Zustand ab, der den höchsten Streuwert hat. Somit ist sichergestellt, dass immer der richtige Zustand abgefragt ist (der, der auch in der Datenbank gespeichert ist). Gleichzeitig kann man die zu speichernde Anzahl an Zuständen reduzieren.\n",
    "\n",
    "Da die Datenbank nicht den angefragten Zustand zurückgibt, muss für alle möglichen nächsten Zustände geschaut werden, ob er auch in den Symmetrien des zurückgegebenen nächsten Zustands der Datenbank ist. Wenn das der Fall ist, kann der Zustand zurückgegeben werden.\n",
    "\n",
    "Da in der Endspieldatenbank alle Fälle für weiß gespeichert sind, muss für den schwarzen Spieler der Zustand am Anfang und Ende der Funktion invertiert werden. Dies passiert mit Hilfe der Funktion `swapPlayers`."
   ]
  },
  {
   "cell_type": "code",
   "execution_count": null,
   "metadata": {},
   "outputs": [],
   "source": [
    "def findNextStateInDb(state, player):\n",
    "    if player == 'b':\n",
    "        state = swapPlayers(state)\n",
    "    symmetryState = getUniqueStateForSymmetry(state)\n",
    "    stateInDb = retroCol.find_one({ 'state': symmetryState })\n",
    "    if stateInDb is None:\n",
    "        return None\n",
    "    symmetryNextState = convertStateListToTuple(stateInDb['nextState'])\n",
    "    possibleNextStates = nextStates(state, 'w')\n",
    "    nextState = None\n",
    "    for pns in possibleNextStates:\n",
    "        if symmetryNextState in findSymmetries(pns):\n",
    "            nextState = pns\n",
    "    if player == 'b':\n",
    "        nextState =  swapPlayers(nextState)\n",
    "    return nextState, stateInDb['steps']"
   ]
  },
  {
   "cell_type": "markdown",
   "metadata": {},
   "source": [
    "## Integration in die Studienarbeit\n",
    "\n",
    "Damit die Endspieldatenbank auch in der Studienarbeit angewendet werden kann, wird die Klasse `AlphaBetaPruning` Im Notebook `nmm-alpha-beta-pruning.ipynb` minimal angepasst.\n",
    "\n",
    "Als erstes erhält der Konstruktor der Klasse einen Parameter `useEndgameDatabase`, der standardmäßig auf `False` gesetzt ist. Dieser Parameter wird im Konstruktur auf die Variable `useEndgameDatabase` gesetzt.\n",
    "\n",
    "Zum anderen wurde die Funktion `bestMoves` folgendermaßen erweitert\n",
    "\n",
    "```py\n",
    "def bestMoves(self, state, player):\n",
    "    if self.useEndgameDatabase:\n",
    "        if countStones(state, 'w') == 3 and countStones(state, 'b') == 3:\n",
    "            newState = findNextStateInDb(state, player)\n",
    "            if newState is not None:\n",
    "                newState, steps = newState\n",
    "                return BestMoves(\n",
    "                    [newState],\n",
    "                    1,\n",
    "                    {\n",
    "                        'win_in(database)': steps\n",
    "                    }\n",
    "                )\n",
    "                \n",
    "    # ... nicht veränderte Implementierung ...\n",
    "```\n",
    "\n",
    "Bevor Alpha-Beta-Pruning sich selbst die besten Züge berechnet, wird überprüft ob die Endspieldatenbank benutzt werden soll und ob beide Spieler nur noch drei Steine auf dem Brett haben. Ist dies der Fall, wird mit Hilfe der oben implementierten Funktion `findNextStateInDb` überprüft, ob ein Datenbankeintrag für den Zustand existiert."
   ]
  },
  {
   "cell_type": "markdown",
   "metadata": {},
   "source": [
    "# Retrograde Analyse\n",
    "\n",
    "Im Folgenden soll die retrograde Analyse für das 3-3 Endspiel von Mühle durchgeführt werden. Zu erst sollen allgemeine Beobachtungen über das Endspiel aufgestellt werde. Anschließend soll die Verwendung der Endspieldatenbank getestet werden."
   ]
  },
  {
   "cell_type": "markdown",
   "metadata": {},
   "source": [
    "## Beobachtungen\n",
    "\n",
    "Die Datenbank enthält für die das 3-3 Endspiel exakt $140.621$ Einträge. Diese Einträge sind alles gewonnene Zustände. Diese Anzahl stimmt genau mit der von Lemmerich und Späth in ihrer Studienarbeit überein [LS05]. Somit kann davon ausgegangen werden, dass alle gewonnen Zustände im Endspiel abgebildet sind. Damit \n",
    "\n",
    "Die höchste Anzahl an Halbzügen in dem 3-3 Endspiel, die garantiert zu einem Sieg führen, sind 25 Halbzüge. Also kann der Spieler in 13 Zügen gewinnen, selbst wenn der Gegner perfekt spielt. Bei der Verteilung der Halbzüge fällt auf, dass es mehr Zustände mit 15 Zügen gibt, als mit 13 Zügen zum Sieg.\n",
    "\n",
    "![](../images/nmm-hist-steps.png)"
   ]
  },
  {
   "cell_type": "markdown",
   "metadata": {},
   "source": [
    "## Turnier\n",
    "\n",
    "Um die Endspieldatenbank unter realen Umständen testen zu lassen, soll sie in einem Turnier mit verschiedenen Konfigurationen von Alpha-Beta-Pruning antreten. Dafür wird die Implementierung des Turniers der Studienarbeit (implementiert in `nmm-tournament.ipynb`) verwendet.\n",
    "\n",
    "Insgesamt sollen drei künstliche Intelligenzen gegen eine KI mit der Endspieldatenbank antreten:\n",
    "\n",
    "- **[MM]**: Minimax mit einer maximalen Suchtiefe von zwei und der Standardheuristik;\n",
    "- **[AB5]**: Alpha-Beta-Pruning mit maximal 5000 Zuständen und\n",
    "- **[AB25]**: Alpha-Beta-Pruning mit maximal 25000 Zuständen.\n",
    "\n",
    "Die KI mit der Verwendung der Endspieldatenbank hat folgende Konfiguration:\n",
    "\n",
    "- **[DB]**: Alpha-Beta-Pruning mit maximal 25000 Zuständen und der Verwendung der Endspieldatenbank.\n",
    "\n",
    "Alle drei Alpha-Beta-Pruning Algorithmen verwenden zum besseren Vergleichen die selbe Heuristik. Diese Heuristik wurde als beste Heuristik in der Studienarbeit befunden.\n",
    "\n",
    "Insgesamt spielt jeder Algorithmus sechs mal gegen den Algorithmus mit der Endspieldatenbank, dreimal als weiß und dreimal als schwarz.\n",
    "\n",
    "### Ergebnisse\n",
    "\n",
    "Die Ergebnisse der Turniere sind in der folgenden Tabelle notiert. Dabei bezeichnen die Siege/Niederlagen immer aus Sicht von [DB].\n",
    "\n",
    "| | [MM] | [AB5] | [AB25] |\n",
    "| --- | --- | --- | --- |\n",
    "| **[DB] gewonnen** | 3 | 2 | |\n",
    "| **[DB] verloren** | 0 | 2 | |\n",
    "| **unentschieden** | 3 | 2 | |\n",
    "\n",
    "Die Ergebnisse zeigen, dass die Endspieldatenbank keinen wirklichen Einfluss auf die Spielverläufe gehabt haben. Die Ergebnisse sind ähnlich denen aus der Studienarbeit. Dies ist damit zu eklären, dass die Datenbank nur die 3-3 Spiele beinhaltet. Ein Spiel ist aber meistens schon davor beendet, es kommt also nie zu der Anwendung der Datenbank. Dieses Verhalten wird durch die Turniere bestätigt."
   ]
  },
  {
   "cell_type": "markdown",
   "metadata": {},
   "source": []
  },
  {
   "cell_type": "markdown",
   "metadata": {},
   "source": [
    "# Fazit\n",
    "\n",
    "Als Ergebnis der Hausarbeit wurde eine Endspieldatenbank implementiert, die alle gewonnen Spielsituationen bei 3-3 Steinen auf dem Brett enthält. Die Datenbank wurde erfolgreich in die vorangegangene Studienarbeit eingebunden. Dabei wurde die Implementierung der Datenbankerzeugung und -nutzung ausführlich beschrieben.\n",
    "\n",
    "In der retrograden Analyse wurde festgestellt, dass in dem 3-3 Endspiel von Mühle Spieler schon 25 Halbzüge im Vorraus ihren Sieg sichern können. Dann kann selbst das perfekte Spiel des Gegners den Sieg nicht mehr verhindern. Außerdem wurde gezeigt, dass die \n",
    "Die Turniere haben gezeigt, dass die Endspieldatenbank keinen wirklichen Nutzen im Spiel hat, weil die Spiele in den seltesten Fällen zu einem 3-3 Spiel werden. Diesem Verhalten kann man entgegenwirken, indem man die Datenbank auf mehr Spielvarianten erweitert.\n",
    "\n",
    "Falls man die Endspieldatenbank in Aktion sehen möchte, kann man folgenden Code in dem Notebook `nmm-gui.ipynb` ausführen. Dieser erstellt ein Spiel gegen Alpha-Beta-Pruning, der in maximal 25 Halbzügen verloren ist.\n",
    "\n",
    "```py\n",
    "s1 = ((0, 0),\n",
    " (('b', 'b', ' ', 'w', ' ', 'b', 'w', ' '),\n",
    "  (' ', ' ', ' ', ' ', ' ', 'w', ' ', ' '),\n",
    "  (' ', ' ', ' ', ' ', ' ', ' ', ' ', ' ')))\n",
    "\n",
    "gameState = GameState(state=s1,algorithm1 = AlphaBetaPruning(useEndgameDatabase=True))\n",
    "\n",
    "gameState.canvas\n",
    "```\n",
    "\n",
    "In der Hausarbeit wurde auf die Speicherung von Remi- und Verluststellungen verzichtet. Dies hat zum einen den Grund des Speicher- und Rechenbedarfs der Tupelschreibweise. Zum Anderen wird dies in der Studienarbeit nicht benötigt. Wenn sich der Spieler in einer verlorenen Situation befindet, ist es irrelevant, in wie vielen Zügen er verloren hat.\n",
    "\n",
    "Zum Abschluss der Hausarbeit soll noch eine Verbesserungsmöglichkeit besprochen werden, die den Nutzen der Datenbank wesentlich verbessern würde."
   ]
  },
  {
   "cell_type": "markdown",
   "metadata": {},
   "source": [
    "## Verbesserungsmöglichkeit\n",
    "\n",
    "Das größte Problem dieser Implementierung ist wahrscheinlich, wie Zustände gespeichert werden. In der Hausarbeit (und auch in der Studienarbeit) werden Zustände als Tupel gespeichert. Das Problem hier ist, das die Tupelschreibweise sehr viel Speicher und auch mehr Performance beim Berechnen benötigt. So kommt man bereits bei der 3-3-Endspieldatenbank an Grenzen moderner Heimcomputer (vorallem wegem dem Arbeitsspeicher). Speichert man die Zustände anders, beispielsweise als Bitboards wie Gasser in seiner Lösung des Mühlespiels, müsste man das Spiel mit der heutigen Technik problemlos lösen können (Gasser hat es bereits 1996 erreicht).\n",
    "\n",
    "Als Alternative für die Speicherung als Bits wird von Lemmerich und Späth [LS05] folgende Möglichkeit genannt. Man speichert die einzelnen Positionen der Steine von weiß und schwarz von links oben entlang des Rings und dann den zweiten und dritten Ring. Hat der Spieler auf der Position einen Stein, so ist der Bit auf `1`, andernfalls `0`. Dafür bräuchte man für jeden Spieler 24 Bit und nochmal je vier Bit für den Stapel. In der folgenden Abbildung ist diese Variante dargestellt und zur Veranschaulichung noch ein passendes Spielfeld.\n",
    "\n",
    "![](../images/bitboard-variant-1.png)\n",
    "\n",
    "Diese Variante würde theoretisch 56 Bits für jeden Zustand benötigen, also 7 Byte. In Python würde diese große Zahl aber 32 Byte benötigen:"
   ]
  },
  {
   "cell_type": "code",
   "execution_count": null,
   "metadata": {},
   "outputs": [],
   "source": [
    "import sys\n",
    "print(sys.getsizeof(0b0100000010001110000000001001000100000000000000000100), 'Bytes')"
   ]
  },
  {
   "cell_type": "markdown",
   "metadata": {},
   "source": [
    "Dagegen benötigt ein Zustand in der Tupelnotation 424 Bytes (`s0` ist der Startzustand, definiert in dem Notebook *nmm-game.ipynb*): "
   ]
  },
  {
   "cell_type": "code",
   "execution_count": null,
   "metadata": {},
   "outputs": [],
   "source": [
    "print(sys.getsizeof(s0) + sys.getsizeof(s0[0]) + sum([sys.getsizeof(ring) for ring in s0[1]]), 'Bytes')"
   ]
  },
  {
   "cell_type": "markdown",
   "metadata": {},
   "source": [
    "Somit verbraucht ein Zustand in der Tupelschreibweise fast 400 Bytes mehr als in der Bitschreibweise. Dies wirkt sich ins Besondere bei sehr vielen Zuständen aus, die bei der Generierung der Endspieldatenbank auch benötigt werden. Auch performance-technisch sollte eine Implementierung mit Bits wesentlich schneller sein als die verwendete Implementierung. So müssen die Funktionen bei fast jeder Operation über die Tupel in Tupel in Tupel iterieren.\n",
    "\n",
    "Als Nachteil für die Bitschreibweise könnte man die Lesbarkeit anmerken. Es ist wesentlich Entwicklerfreundlicher mit den Tupeln zu arbeiten als Bitoperationen durchzuführen.\n",
    "\n",
    "Eine Neuimplementierung mit Bits wäre für die Hausarbeit sicherlich sinnvoll, da man so auch weitere Endspiele betrachten kann. Aber für die Neuimplementierung müsste man jede (Hilfs)funktion neu implementieren, was den Rahmen der Hausarbeit gesprengt hätte."
   ]
  },
  {
   "cell_type": "code",
   "execution_count": null,
   "metadata": {},
   "outputs": [],
   "source": []
  }
 ],
 "metadata": {
  "kernelspec": {
   "display_name": "Python 3",
   "language": "python",
   "name": "python3"
  },
  "language_info": {
   "codemirror_mode": {
    "name": "ipython",
    "version": 3
   },
   "file_extension": ".py",
   "mimetype": "text/x-python",
   "name": "python",
   "nbconvert_exporter": "python",
   "pygments_lexer": "ipython3",
   "version": "3.8.5"
  }
 },
 "nbformat": 4,
 "nbformat_minor": 4
}
