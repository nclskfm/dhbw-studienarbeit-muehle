{
 "cells": [
  {
   "cell_type": "markdown",
   "metadata": {},
   "source": [
    "# Retrogate Analysis"
   ]
  },
  {
   "cell_type": "code",
   "execution_count": null,
   "metadata": {},
   "outputs": [],
   "source": [
    "%run ./nmm-game.ipynb\n",
    "%run ./nmm-symmetry.ipynb\n",
    "\n",
    "import pymongo\n",
    "localMongo = pymongo.MongoClient(\"mongodb://localhost:27017/\")\n",
    "retroDb = localMongo[\"retro-database\"]\n",
    "retroCol = retroDb[\"retro-collection\"]"
   ]
  },
  {
   "cell_type": "code",
   "execution_count": null,
   "metadata": {},
   "outputs": [],
   "source": [
    "startBoard = ((' ', ' ', ' ', ' ', ' ', ' ', ' ', ' '),\n",
    "    (' ', ' ', ' ', ' ', ' ', ' ', ' ', ' '),\n",
    "    (' ', ' ', ' ', ' ', ' ', ' ', ' ', ' '))\n",
    "boards = []\n",
    "\n",
    "def generateBoards(board=startBoard):\n",
    "    global boards\n",
    "    white = countStones(('', board), 'w')\n",
    "    black = countStones(('', board), 'b')\n",
    "    if (white == 3 and black == 3):\n",
    "        boards += tuple([board])\n",
    "        return\n",
    "    for i in range(0,3):\n",
    "        for j in range(0,8):\n",
    "            if board[i][j] == ' ':\n",
    "                if white == 3:\n",
    "                    newBoard = place(board, (i, j), 'b')\n",
    "                    generateBoards(newBoard)\n",
    "                elif black == 3:\n",
    "                    newBoard = place(board, (i, j), 'w')\n",
    "                    generateBoards(newBoard)\n",
    "                else:\n",
    "                    for turn in ('w', 'b'):\n",
    "                        newBoard = place(board, (i, j), turn)\n",
    "                        generateBoards(newBoard)"
   ]
  },
  {
   "cell_type": "code",
   "execution_count": null,
   "metadata": {},
   "outputs": [],
   "source": [
    "def getSymmetryUnique():\n",
    "    global boards\n",
    "    doubleBoards = set()\n",
    "    uniqueStates = []\n",
    "    stones = tuple([0, 0])\n",
    "    for board in boards:\n",
    "        state = tuple([stones, board])\n",
    "        if not (state in doubleBoards):\n",
    "            doubleBoards |= findSymmetries(('', board))\n",
    "            uniqueStates.append(state)\n",
    "    return uniqueStates"
   ]
  },
  {
   "cell_type": "code",
   "execution_count": null,
   "metadata": {},
   "outputs": [],
   "source": [
    "def fillDb(states):\n",
    "    fullStep = []\n",
    "    stepCount = 0\n",
    "    \n",
    "    stepCount += 1\n",
    "    _states = states\n",
    "    for state in _states:\n",
    "        _nextStates = nextStates(state, 'w')\n",
    "        for ns in _nextStates:\n",
    "            if (finished(ns, 'w') and utility(ns, 'w') == 1):\n",
    "                entry = { \"state\": state, \"nextState\": ns, \"steps\": stepCount }\n",
    "                retroCol.insert_one(entry)\n",
    "                fullStep.append(state)\n",
    "                states.remove(state)\n",
    "                break\n",
    "    \n",
    "    while len(states) > 0:\n",
    "        print(len(fullStep))\n",
    "        _states = states\n",
    "        halfStep = []\n",
    "        stepCount += 1\n",
    "        for state in _states:\n",
    "            _nextStates = nextStates(state, 'b')\n",
    "            for ns in _nextStates:\n",
    "                if (all(ns in fullStep)):\n",
    "                    halfStep.append(state)\n",
    "                    states.remove(state)\n",
    "                    break\n",
    "        if len(halfStep) == 0:\n",
    "            break\n",
    "        \n",
    "        print(len(halfStep))\n",
    "        fullStep = []\n",
    "        stepCount += 1\n",
    "        for state in _states:\n",
    "            _nextStates = nextStates(state, 'w')\n",
    "            for ns in _nextStates:\n",
    "                if (ns in halfStep):\n",
    "                    entry = { \"state\": state, \"nextState\": ns, \"steps\": stepCount }\n",
    "                    retroCol.insert_one(entry)\n",
    "                    fullStep.append(state)\n",
    "                    states.remove(state)\n",
    "                    break\n",
    "        if len(fullStep) == 0:\n",
    "            break"
   ]
  },
  {
   "cell_type": "code",
   "execution_count": null,
   "metadata": {},
   "outputs": [],
   "source": [
    "generateBoards()\n",
    "print(len(boards))\n",
    "states = getSymmetryUnique()\n",
    "print(len(states))\n",
    "fillDb(states)"
   ]
  },
  {
   "cell_type": "code",
   "execution_count": null,
   "metadata": {},
   "outputs": [],
   "source": []
  }
 ],
 "metadata": {
  "kernelspec": {
   "display_name": "Python 3",
   "language": "python",
   "name": "python3"
  },
  "language_info": {
   "codemirror_mode": {
    "name": "ipython",
    "version": 3
   },
   "file_extension": ".py",
   "mimetype": "text/x-python",
   "name": "python",
   "nbconvert_exporter": "python",
   "pygments_lexer": "ipython3",
   "version": "3.8.6"
  }
 },
 "nbformat": 4,
 "nbformat_minor": 4
}
