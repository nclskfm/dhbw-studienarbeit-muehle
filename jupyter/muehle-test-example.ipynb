{
 "metadata": {
  "language_info": {
   "codemirror_mode": {
    "name": "ipython",
    "version": 3
   },
   "file_extension": ".py",
   "mimetype": "text/x-python",
   "name": "python",
   "nbconvert_exporter": "python",
   "pygments_lexer": "ipython3",
   "version": "3.7.6-final"
  },
  "orig_nbformat": 2,
  "kernelspec": {
   "name": "Python 3.7.6 64-bit ('base': conda)",
   "display_name": "Python 3.7.6 64-bit ('base': conda)",
   "metadata": {
    "interpreter": {
     "hash": "98b0a9b7b4eaaa670588a142fd0a9b87eaafe866f1db4228be72b4211d12040f"
    }
   }
  }
 },
 "nbformat": 4,
 "nbformat_minor": 2,
 "cells": [
  {
   "source": [
    "# Example TestCase\n",
    "This notebook contains an example TestCase which can be copied and adjusted for other cases."
   ],
   "cell_type": "markdown",
   "metadata": {}
  },
  {
   "cell_type": "code",
   "execution_count": 1,
   "metadata": {},
   "outputs": [],
   "source": [
    "# Import utils\n",
    "%run ./muehle-test-utils.ipynb\n",
    "# Import Test Notebook\n",
    "%run ./muehle-game-utils.ipynb"
   ]
  },
  {
   "cell_type": "code",
   "execution_count": 2,
   "metadata": {},
   "outputs": [],
   "source": [
    "class TestCount(unittest.TestCase):\n",
    "    def test_sum(self):\n",
    "        # Run Test 10 times\n",
    "        for _ in range(10):\n",
    "            white = random.randint(0,9)\n",
    "            black = random.randint(0,9)\n",
    "            state = generateState(white, black)\n",
    "\n",
    "            cWhite = countStones(state, 'w')\n",
    "            cBlack = countStones(state, 'b')\n",
    "            cEmpty = countStones(state, ' ')\n",
    "\n",
    "            sum = cWhite + cBlack + cEmpty\n",
    "            self.assertEqual(sum, 3*8)\n",
    "    \n",
    "    # TestCase which succeeds\n",
    "    def test_success(self):\n",
    "        self.assertEqual(True, True)"
   ]
  },
  {
   "cell_type": "code",
   "execution_count": 3,
   "metadata": {},
   "outputs": [
    {
     "output_type": "stream",
     "name": "stderr",
     "text": [
      "test_success (__main__.TestCount) ... ok\n",
      "test_sum (__main__.TestCount) ... ok\n",
      "\n",
      "----------------------------------------------------------------------\n",
      "Ran 2 tests in 0.012s\n",
      "\n",
      "OK\n"
     ]
    },
    {
     "output_type": "execute_result",
     "data": {
      "text/plain": [
       "<unittest.main.TestProgram at 0x7f9ac07839d0>"
      ]
     },
     "metadata": {},
     "execution_count": 3
    }
   ],
   "source": [
    "unittest.main(argv=[''], verbosity=2, exit=False)"
   ]
  }
 ]
}