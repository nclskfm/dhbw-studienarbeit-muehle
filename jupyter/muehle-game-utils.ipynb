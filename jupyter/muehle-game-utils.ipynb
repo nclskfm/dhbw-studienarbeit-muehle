{
 "metadata": {
  "language_info": {
   "codemirror_mode": {
    "name": "ipython",
    "version": 3
   },
   "file_extension": ".py",
   "mimetype": "text/x-python",
   "name": "python",
   "nbconvert_exporter": "python",
   "pygments_lexer": "ipython3",
   "version": "3.7.6-final"
  },
  "orig_nbformat": 2,
  "kernelspec": {
   "name": "Python 3.7.6 64-bit ('base': conda)",
   "display_name": "Python 3.7.6 64-bit ('base': conda)",
   "metadata": {
    "interpreter": {
     "hash": "98b0a9b7b4eaaa670588a142fd0a9b87eaafe866f1db4228be72b4211d12040f"
    }
   }
  }
 },
 "nbformat": 4,
 "nbformat_minor": 2,
 "cells": [
  {
   "source": [
    "# Game Utils\n",
    "This file contains functions which are used in the game implementation."
   ],
   "cell_type": "markdown",
   "metadata": {}
  },
  {
   "cell_type": "code",
   "execution_count": null,
   "metadata": {},
   "outputs": [],
   "source": [
    "# Test States\n",
    "s = ((9, 9), (\n",
    "    (' ', ' ', ' ', ' ', ' ', ' ', ' ', ' '),\n",
    "    (' ', ' ', ' ', ' ', ' ', ' ', ' ', ' '),\n",
    "    (' ', ' ', ' ', ' ', ' ', ' ', ' ', ' ')\n",
    "))\n",
    "s2 = ((0, 0), (\n",
    "    ('w', 'w', ' ', 'b', 'w', 'w', 'w', 'w'),\n",
    "    ('b', 'w', ' ', 'b', 'w', ' ', 'b', 'w'),\n",
    "    ('b', 'b', 'b', 'b', 'w', ' ', 'b', 'w'),\n",
    "))\n",
    "s3 = ((7, 7), (\n",
    "    ('w', 'w', ' ', ' ', ' ', ' ', ' ', ' '),\n",
    "    (' ', ' ', ' ', 'b', ' ', ' ', ' ', ' '),\n",
    "    (' ', ' ', ' ', ' ', ' ', 'b', ' ', ' ')\n",
    "))\n",
    "s4 = ((0, 0), (\n",
    "    ('b', 'b', 'b', ' ', ' ', 'w', ' ', ' '),\n",
    "    (' ', 'w', ' ', 'b', ' ', 'w', ' ', ' '),\n",
    "    (' ', 'b', ' ', 'w', ' ', 'w', ' ', ' ')\n",
    "))\n",
    "s5 = ((0, 0), (\n",
    "    ('b', 'b', ' ', ' ', ' ', 'w', ' ', ' '),\n",
    "    (' ', ' ', ' ', ' ', ' ', 'b', ' ', 'w'),\n",
    "    (' ', ' ', ' ', ' ', ' ', 'w', ' ', ' ')\n",
    "))"
   ]
  },
  {
   "source": [
    "## Player"
   ],
   "cell_type": "markdown",
   "metadata": {}
  },
  {
   "cell_type": "code",
   "execution_count": null,
   "metadata": {},
   "outputs": [],
   "source": [
    "# Calculates the opponent of the given player\n",
    "def opponent(p):\n",
    "    return 'b' if p == 'w' else 'w'"
   ]
  },
  {
   "source": [
    "## Stones"
   ],
   "cell_type": "markdown",
   "metadata": {}
  },
  {
   "cell_type": "code",
   "execution_count": null,
   "metadata": {},
   "outputs": [],
   "source": [
    "# Calculates wether or not a player still has stones which he has not placed yet\n",
    "def hasPlaceableStones(s, p):\n",
    "    # Extract the count of the placeable stones for black and white\n",
    "    ((cw, cb), _) = s\n",
    "    # Return wether or not the given player has at least one stone\n",
    "    return cw >= 1 if p == 'w' else cb >= 1"
   ]
  },
  {
   "cell_type": "code",
   "execution_count": null,
   "metadata": {},
   "outputs": [],
   "source": [
    "# Counts how many stones the given player has left on the board\n",
    "def countStones(s, p):\n",
    "    # Extract the board from the state\n",
    "    (_, board) = s\n",
    "    # Count how many times player occurs on the board\n",
    "    return [cell for ring in board for cell in ring].count(p)"
   ]
  },
  {
   "cell_type": "code",
   "execution_count": null,
   "metadata": {},
   "outputs": [],
   "source": [
    "# Calculates wether or not the player is allowed to jump with his stones,\n",
    "# instead of just moving them\n",
    "def isAllowedToJump(s, p):\n",
    "    return countStones(s, p) <= 3"
   ]
  },
  {
   "cell_type": "code",
   "execution_count": null,
   "metadata": {},
   "outputs": [],
   "source": [
    "# Calculates if the player has stones left to place or enought (at least 3) stones to continue playing\n",
    "def hasEnoughStones(s, p):\n",
    "    return hasPlaceableStones(s, p) or countStones(s, p) >= 3"
   ]
  },
  {
   "source": [
    "## Cells"
   ],
   "cell_type": "markdown",
   "metadata": {}
  },
  {
   "cell_type": "code",
   "execution_count": null,
   "metadata": {},
   "outputs": [],
   "source": [
    "# Returns a set of tuples containing all coordinates of the cells owned by p\n",
    "# Set of Tuples(ring, cell)\n",
    "def findCellsOf(board, p):\n",
    "    # Iterate over all cells and select only empty cells\n",
    "    return {(r, c) for r in range(0, 3) for c in range(0, 8) if board[r][c] == p}"
   ]
  },
  {
   "cell_type": "code",
   "execution_count": null,
   "metadata": {},
   "outputs": [],
   "source": [
    "# Returns a set of tuples containing all coordinates of the empty cells\n",
    "# Set of Tuples(ring, cell)\n",
    "def findEmptyCells(board):\n",
    "    # Empty cells are marked as ' '\n",
    "    return findCellsOf(board, ' ')"
   ]
  },
  {
   "cell_type": "code",
   "execution_count": null,
   "metadata": {},
   "outputs": [],
   "source": [
    "# Returns a set of tuples containing all coordinates of the empty cells neighboring the given cell\n",
    "# Set of Tuples(ring, cell)\n",
    "def findNeighboringEmptyCells(board, coordinates):\n",
    "    (rootR, rootC) = coordinates\n",
    "    return {(r, c) for (r, c) in findEmptyCells(board) if (r == rootR and (c == (rootC + 7) % 8 or c == (rootC + 1) % 8)) \n",
    "                                                        or (c % 2 == 1 and c == rootC and (r == rootR - 1 or r == rootR + 1)) }\n"
   ]
  },
  {
   "cell_type": "code",
   "execution_count": null,
   "metadata": {},
   "outputs": [],
   "source": [
    "def place(board, coordinates, player):\n",
    "    (r, c) = coordinates\n",
    "    return tuple(\n",
    "        tuple(\n",
    "            player if (c == ic) and (r == ir) else board[ir][ic]\n",
    "            for ic in range(0, 8)\n",
    "        ) for ir in range(0, 3)\n",
    "    )"
   ]
  },
  {
   "source": [
    "## Muehlen"
   ],
   "cell_type": "markdown",
   "metadata": {}
  },
  {
   "cell_type": "code",
   "execution_count": null,
   "metadata": {},
   "outputs": [],
   "source": [
    "# Returns the coordinates of all Muehlen the given player has\n",
    "# Set of Frozensets of Tuples(ring, cell)\n",
    "def findMuehlen(board, p):\n",
    "    # Calculate all Muehlen on the rings\n",
    "    return {\n",
    "        frozenset((r, (c+o)%8) for o in range(0, 3))\n",
    "        # Iterate over all rings\n",
    "        for r in range(0, 3)\n",
    "        # Iterate over all corners\n",
    "        for c in range(0, 8, 2)\n",
    "        # All 3 following cells starting at the given corner have to belong to the player\n",
    "        if all(\n",
    "            cell == p\n",
    "            # Iterate over all 3 cells of the given side (c) by rotating them to the top left corner\n",
    "            # (the beginning of the list) and then checking the first 3 cells\n",
    "            for cell in (board[r][c:] + board[r][:c])[0:3]\n",
    "        )\n",
    "    # Calculate all Muehlen crossing the rings\n",
    "    } | {\n",
    "        frozenset((r, c) for r in range(0, 3))\n",
    "        # Iterate over cells in the middle of a side\n",
    "        for c in range(1, 8, 2)\n",
    "        # All 3 cells in the middle of a given side have to belong to the player\n",
    "        if all(\n",
    "            board[r][c] == p\n",
    "            # Iterate over all 3 rings\n",
    "            for r in range(0, 3)\n",
    "        )\n",
    "    }"
   ]
  },
  {
   "cell_type": "code",
   "execution_count": null,
   "metadata": {},
   "outputs": [],
   "source": [
    "# Returns the number of Muehlen the player build in his turn.\n",
    "# The board is the board after his turn, but bevor he executed his Muehlen.\n",
    "def countNewMuehlen(board, oldMuehlen, p):\n",
    "    return len(findMuehlen(board, p) - oldMuehlen)"
   ]
  },
  {
   "cell_type": "code",
   "execution_count": null,
   "metadata": {},
   "outputs": [],
   "source": [
    "# Returns all possible boards after the player has executed his allowed Muehlen\n",
    "# Executing a Muehle means removing an opponent stone\n",
    "def executeMuehlen(board, count, p):\n",
    "    if count <= 0:\n",
    "        return { board }\n",
    "    # Compute the Muehlen of the opponent as these stones can not be removed\n",
    "    opponentMuehlen = {\n",
    "        cell\n",
    "        for muehle in findMuehlen(board, opponent(p))\n",
    "        for cell in muehle\n",
    "    }\n",
    "    # Compute all boards with an opponent stone removed\n",
    "    return {\n",
    "        place(b, cell, ' ')\n",
    "        for b in executeMuehlen(board, count-1, p)\n",
    "        for cell in findCellsOf(b, opponent(p))\n",
    "        if cell not in opponentMuehlen\n",
    "    }"
   ]
  }
 ]
}