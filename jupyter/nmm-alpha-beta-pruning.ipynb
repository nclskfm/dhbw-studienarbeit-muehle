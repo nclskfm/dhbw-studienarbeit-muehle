{
 "cells": [
  {
   "cell_type": "markdown",
   "metadata": {},
   "source": [
    "## α-β-Pruning"
   ]
  },
  {
   "cell_type": "code",
   "execution_count": null,
   "metadata": {
    "scrolled": true
   },
   "outputs": [],
   "source": [
    "import os.path\n",
    "css = \"\"\n",
    "if os.path.isfile(\"style.html\"):\n",
    "    from IPython.core.display import HTML\n",
    "    with open(\"style.html\", \"r\") as file:\n",
    "        css = file.read()\n",
    "HTML(css)"
   ]
  },
  {
   "cell_type": "code",
   "execution_count": null,
   "metadata": {},
   "outputs": [],
   "source": [
    "%run ./nmm-game.ipynb\n",
    "%run ./nmm-artificial-intelligence.ipynb\n",
    "%run ./nmm-heuristic.ipynb\n",
    "%run ./nmm-symmetry.ipynb\n",
    "import time"
   ]
  },
  {
   "cell_type": "code",
   "execution_count": null,
   "metadata": {},
   "outputs": [],
   "source": [
    "class AlphaBetaPruning(ArtificialIntelligence):\n",
    "    def __init__(self, max_states=25_000, symmetry=True, weights=HeuristicWeights()):\n",
    "        self.cache = {}\n",
    "        self.oldCache = {}\n",
    "        \n",
    "        self.max_states = max_states\n",
    "        self.symmetry = symmetry\n",
    "        self.weights = weights\n",
    "    \n",
    "    def bestMoves(self, state, player):\n",
    "        pass"
   ]
  },
  {
   "cell_type": "markdown",
   "metadata": {},
   "source": [
    "Die Hilfsfunktion `writeCache_AB` legt den gegebenen Zustand `state` und Spieler `player` mit samt der errechneten Werte `value`, `alpha` und `beta` im Cache ab. Ist zusätzlich der Parameter `symmetry` auf `True` gesetzt, werden die errechneten Werte ebenfalls für alle symmetrischen Zustände gespeichert."
   ]
  },
  {
   "cell_type": "code",
   "execution_count": null,
   "metadata": {},
   "outputs": [],
   "source": [
    "def writeCache(self, state, player, value, alpha, beta):\n",
    "    # If symmetry is enabled, find all symmetic states and save them too\n",
    "    if self.symmetry:\n",
    "        for symmetricState in findSymmetries(state):\n",
    "            self.cache[(symmetricState, player)] = (value, alpha, beta)\n",
    "    else:\n",
    "        self.cache[(state, player)] = (value, alpha, beta)\n",
    "\n",
    "AlphaBetaPruning.writeCache = writeCache\n",
    "del writeCache"
   ]
  },
  {
   "cell_type": "markdown",
   "metadata": {},
   "source": [
    "Die Exception `IterativeMaxCountException` wird aufgerufen, wenn ein Fehler aufgrund des Erreichens der maximal zu betrachtenden Zustände bei der iterativen Tiefensuche erzeugt werden soll."
   ]
  },
  {
   "cell_type": "code",
   "execution_count": null,
   "metadata": {},
   "outputs": [],
   "source": [
    "class IterativeMaxCountException(Exception):\n",
    "    def __init__(self, maxCount):\n",
    "        super().__init__(f\"Reached max count ({maxCount}) of iterative deepeing\")    "
   ]
  },
  {
   "cell_type": "markdown",
   "metadata": {},
   "source": [
    "Die Klasse `IterativeCounter` implementiert zum einen die Werte `maxCount` und `value` und zum anderen die Methoden `increment` und `check`.\n",
    "Die Methode `increment` erhöht den `value` im eins, in der Methoden `check` wird zusätzlich noch überprüft, ob der neu erhöhte `value` den `maxCount` überschreitet und erzeugt eine `IterativeMaxCountException`.\n",
    "\n",
    "Die Implementierung als Klasse ermöglicht es, eine Referenz eines Objekts der Klasse an die Funktionen `value_AB` und `alphaBeta` zu übergeben. Dadurch wird effektiv in allen Teilbäumen und allen Rekursionstiefen das gleiche Objekt aufgerufen und somit der `value` korrekt gezählt."
   ]
  },
  {
   "cell_type": "code",
   "execution_count": null,
   "metadata": {},
   "outputs": [],
   "source": [
    "def checkMaxStates(self):\n",
    "    self.visited += 1\n",
    "    if (self.visited >= self.max_states):\n",
    "        raise IterativeMaxCountException(self.max_states)\n",
    "\n",
    "AlphaBetaPruning.checkMaxStates = checkMaxStates\n",
    "del checkMaxStates"
   ]
  },
  {
   "cell_type": "markdown",
   "metadata": {},
   "source": [
    "Die Funktion `orderMoves` sortiert eine Liste von nächsten Zuständen `ns` für einen Spieler `p` entsprechend der für diese Zustände erreichten Werte aus der vorherigen Iteration `OldCache`. So soll erreicht werden, dass vielversprechende Zustände früher betrachtet werden sollen und sich somit Teilbäume eventuell früher abschneiden lassen."
   ]
  },
  {
   "cell_type": "code",
   "execution_count": null,
   "metadata": {},
   "outputs": [],
   "source": [
    "def orderMoves(self, states, player):\n",
    "    return sorted(states, key = lambda state: self.oldCache.get((state, player), (0, -1, 1))[0], reverse=True)\n",
    "\n",
    "AlphaBetaPruning.orderMoves = orderMoves\n",
    "del orderMoves"
   ]
  },
  {
   "cell_type": "markdown",
   "metadata": {},
   "source": [
    "Die `value()` Funktion ist ein Wrapper für die eigentliche Implementierung des α-β-Pruning in der Funktion `alphaBeta()`. Dieser Wrapper stellt Caching der Ergebnisse zur Verfügung, bzw. berechnet diese neu, falls der Cache keine oder invalide Ergenisse beinhaltet.\n",
    "\n",
    "Ein Ergebnis aus dem Cache ist valide, solange das Intervall `alpha` und `beta` aus den Parametern innerhalb des im Cache verwendeten Intervalls `a` und `b` liegt. Also das Intervall des Caches muss genereller sein, als das Intervall aus den Paramtern."
   ]
  },
  {
   "cell_type": "code",
   "execution_count": null,
   "metadata": {},
   "outputs": [],
   "source": [
    "def value(self, state, player, alpha, beta, limit):\n",
    "    if (state, player) in self.cache:\n",
    "        (val, a, b) = self.cache[(state, player)]\n",
    "        if a <= alpha and beta <= b:\n",
    "            self.cache_hit += 1\n",
    "            return val\n",
    "        else:\n",
    "            alpha = min(alpha, a)\n",
    "            beta  = max(beta , b)\n",
    "            val   = self.alphaBeta(state, player, alpha, beta, limit)\n",
    "            self.writeCache(state, player, val, alpha, beta)\n",
    "            self.cache_miss += 1\n",
    "            return val\n",
    "    else:\n",
    "        val = self.alphaBeta(state, player, alpha, beta, limit)\n",
    "        self.writeCache(state, player, val, alpha, beta)\n",
    "        self.cache_miss += 1\n",
    "        return val\n",
    "\n",
    "AlphaBetaPruning.value = value\n",
    "del value"
   ]
  },
  {
   "cell_type": "markdown",
   "metadata": {},
   "source": [
    "Die Funktion `alphaBeta()` beinhaltet nun die eigentliche Implementierung des α-β-Pruning.\n",
    "\n",
    "* Wie zuvor beim Minimax Algorithmus, wird der `utility` Wert zurückgegeben, falls das Spiel in dem State `s` beendet (`finished`) ist.\n",
    "* Ebenfalls äquivalent wird der `heuristic` Wert verwendet, sobald das Rekursionslimit (`limit`) erreicht wird.\n",
    "* Außerdem wird der Zähler für die iterative Tiefensuche erhöht, sofern ein Objekt der Klasse `IterativeCounter` übergeben wird.\n",
    "* Der eigentliche α-β-Pruning Alogrithmus errechnet rekursiv mit Hilfe des Caches (`value_AB()`) den Wert eines Zuges. Hierbei wird der erste Wert der nächsten States verwendet, der größer oder gleich der oberen Grenze `beta` ist."
   ]
  },
  {
   "cell_type": "code",
   "execution_count": null,
   "metadata": {},
   "outputs": [],
   "source": [
    "def alphaBeta(self, state, player, alpha, beta, limit):\n",
    "    self.checkMaxStates()\n",
    "    \n",
    "    if limit == 0:\n",
    "        return heuristic(state, player)\n",
    "\n",
    "    states = nextStates(state, player)\n",
    "    if finished(state, player, ns=states):\n",
    "        return utility(state, player, ns=states)\n",
    "\n",
    "    val = alpha\n",
    "    for ns in self.orderMoves(states, player):\n",
    "        val = max(val, -self.value(ns, opponent(player), -beta, -alpha, limit-1))\n",
    "        if val >= beta:\n",
    "            return val\n",
    "        alpha = max(val, alpha)\n",
    "    return val\n",
    "\n",
    "AlphaBetaPruning.alphaBeta = alphaBeta\n",
    "del alphaBeta"
   ]
  },
  {
   "cell_type": "markdown",
   "metadata": {},
   "source": [
    "`bestMoves()` wählt mit Hilfe des α-β-Pruning Algorithmus den besten State aus allen möglichen nächsten States aus. Hierzu werden die Werte aller States errechnet und der State mit dem höchsten Wert ausgewählt. Dies wird solange ausgeführt, bis der maximale Wert der iterativen Tiefensuche erreicht ist und einen Fehler erzeugt."
   ]
  },
  {
   "cell_type": "code",
   "execution_count": null,
   "metadata": {},
   "outputs": [],
   "source": [
    "def bestMoves(self, state, player):\n",
    "    # Start clock\n",
    "    start = time.time()\n",
    "    \n",
    "    # Reset counter\n",
    "    self.visited = 0\n",
    "    self.cache_hit = 0\n",
    "    self.cache_miss = 0\n",
    "    \n",
    "    # Clear cache\n",
    "    self.cache = {}\n",
    "    self.oldCache = {}\n",
    "    \n",
    "    ns = nextStates(state, player)\n",
    "    moves = [(0, s) for s in ns]\n",
    "\n",
    "    limit = 1\n",
    "    while True:\n",
    "        try:\n",
    "            moves = [\n",
    "                (-self.value(state, opponent(player), -1, 1, limit), state)\n",
    "                for s in ns\n",
    "            ]\n",
    "            self.oldCache = self.cache\n",
    "            self.cache = {}\n",
    "            limit += 1\n",
    "        except IterativeMaxCountException:\n",
    "            break\n",
    "    \n",
    "    maximum = max(value for (value, state) in moves)\n",
    "    bestMoves = [state for (value, state) in moves if value == maximum]\n",
    "    \n",
    "    end = time.time()\n",
    "    return BestMoves(\n",
    "        bestMoves,\n",
    "        maximum,\n",
    "        # Collect debug information\n",
    "        {   \"runtime\": end - start,\n",
    "            \"limit\": limit,\n",
    "            \"visited\": self.visited,\n",
    "            \"max_states\": self.max_states,\n",
    "            \"cache_hit\": self.cache_hit,\n",
    "            \"cache_miss\": self.cache_miss,   }\n",
    "    )\n",
    "\n",
    "AlphaBetaPruning.bestMoves = bestMoves\n",
    "del bestMoves"
   ]
  }
 ],
 "metadata": {
  "kernelspec": {
   "display_name": "Python 3",
   "language": "python",
   "name": "python3"
  },
  "language_info": {
   "codemirror_mode": {
    "name": "ipython",
    "version": 3
   },
   "file_extension": ".py",
   "mimetype": "text/x-python",
   "name": "python",
   "nbconvert_exporter": "python",
   "pygments_lexer": "ipython3",
   "version": "3.8.5"
  }
 },
 "nbformat": 4,
 "nbformat_minor": 4
}
