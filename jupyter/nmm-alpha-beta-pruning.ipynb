{
 "cells": [
  {
   "cell_type": "markdown",
   "metadata": {},
   "source": [
    "## α-β-Pruning"
   ]
  },
  {
   "cell_type": "code",
   "execution_count": null,
   "metadata": {},
   "outputs": [],
   "source": [
    "import os.path\n",
    "css = \"\"\n",
    "if os.path.isfile(\"style.html\"):\n",
    "    from IPython.core.display import HTML\n",
    "    with open(\"style.html\", \"r\") as file:\n",
    "        css = file.read()\n",
    "HTML(css)"
   ]
  },
  {
   "cell_type": "code",
   "execution_count": null,
   "metadata": {},
   "outputs": [],
   "source": [
    "%run ./nmm-game.ipynb\n",
    "%run ./nmm-heuristic.ipynb\n",
    "%run ./nmm-symmetry.ipynb"
   ]
  },
  {
   "cell_type": "markdown",
   "metadata": {},
   "source": [
    "Die Hilfsfunktion `writeCache_AB` legt den gegebenen Zustand `state` und Spieler `player` mit samt der errechneten Werte `value`, `alpha` und `beta` im Cache ab. Ist zusätzlich der Parameter `symmetry` auf `True` gesetzt, werden die errechneten Werte ebenfalls für alle symmetrischen Zustände gespeichert."
   ]
  },
  {
   "cell_type": "code",
   "execution_count": null,
   "metadata": {},
   "outputs": [],
   "source": [
    "def writeCache_AB(state, player, value, alpha, beta, symmetry=True):\n",
    "    global Cache\n",
    "    \n",
    "    # If symmetry is enabled, find all symmetic states and save them too\n",
    "    if symmetry:\n",
    "        for symmetricState in findSymmetries(state):\n",
    "            Cache[(symmetricState, player)] = (value, alpha, beta)\n",
    "    else:\n",
    "        Cache[(state, player)] = (value, alpha, beta)"
   ]
  },
  {
   "cell_type": "markdown",
   "metadata": {},
   "source": [
    "Die Exception `IterativeMaxCountException` wird aufgerufen, wenn ein Fehler aufgrund des Erreichens der maximal zu betrachtenden Zustände bei der iterativen Tiefensuche erzeugt werden soll."
   ]
  },
  {
   "cell_type": "code",
   "execution_count": null,
   "metadata": {},
   "outputs": [],
   "source": [
    "class IterativeMaxCountException(Exception):\n",
    "    def __init__(self, maxCount):\n",
    "        super().__init__(f\"Reached max count ({maxCount}) of iterative deepeing\")    "
   ]
  },
  {
   "cell_type": "markdown",
   "metadata": {},
   "source": [
    "Die Klasse `IterativeCounter` implementiert zum einen die Werte `maxCount` und `value` und zum anderen die Methoden `increment` und `check`.\n",
    "Die Methode `increment` erhöht den `value` im eins, in der Methoden `check` wird zusätzlich noch überprüft, ob der neu erhöhte `value` den `maxCount` überschreitet und erzeugt eine `IterativeMaxCountException`.\n",
    "\n",
    "Die Implementierung als Klasse ermöglicht es, eine Referenz eines Objekts der Klasse an die Funktionen `value_AB` und `alphaBeta` zu übergeben. Dadurch wird effektiv in allen Teilbäumen und allen Rekursionstiefen das gleiche Objekt aufgerufen und somit der `value` korrekt gezählt."
   ]
  },
  {
   "cell_type": "code",
   "execution_count": null,
   "metadata": {},
   "outputs": [],
   "source": [
    "class IterativeCounter:\n",
    "    def __init__(self, maxCount = 500, value = 0):\n",
    "        self.maxCount = maxCount\n",
    "        self.value = value\n",
    "        \n",
    "    def increment(self):\n",
    "        self.value += 1\n",
    "        \n",
    "    def check(self):\n",
    "        self.increment()\n",
    "        if (self.value > self.maxCount):\n",
    "            raise IterativeMaxCountException(self.maxCount)"
   ]
  },
  {
   "cell_type": "markdown",
   "metadata": {},
   "source": [
    "Die Funktion `orderMove` sortiert eine Liste von nächsten Zuständen `ns` für einen Spieler `p` entsprechend der für diese Zustände erreichten Werte aus der vorherigen Iteration `OldCache`. So soll erreicht werden, dass vielversprechende Zustände früher betrachtet werden sollen und sich somit Teilbäume eventuell früher abschneiden lassen."
   ]
  },
  {
   "cell_type": "code",
   "execution_count": null,
   "metadata": {},
   "outputs": [],
   "source": [
    "def orderMove(ns, p):\n",
    "    global OldCache\n",
    "    return sorted(ns, key = lambda s: OldCache.get((s, p), (0, -1, 1))[0], reverse=True)"
   ]
  },
  {
   "cell_type": "markdown",
   "metadata": {},
   "source": [
    "Die `value_AB()` Funktion ist ein Wrapper für die eigentliche Implementierung des α-β-Pruning in der Funktion `alphaBeta()`. Dieser Wrapper stellt Caching der Ergebnisse zur Verfügung, bzw. berechnet diese neu, falls der Cache keine oder invalide Ergenisse beinhaltet.\n",
    "\n",
    "Ein Ergebnis aus dem Cache ist valide, solange das Intervall `alpha` und `beta` aus den Parametern innerhalb des im Cache verwendeten Intervalls `a` und `b` liegt. Also das Intervall des Caches muss genereller sein, als das Intervall aus den Paramtern."
   ]
  },
  {
   "cell_type": "code",
   "execution_count": null,
   "metadata": {},
   "outputs": [],
   "source": [
    "Cache = {}\n",
    "OldCache = {}\n",
    "\n",
    "def value_AB(s, p, alpha=-1, beta=1, limit=3, symmetry=True, counter = None):\n",
    "    global Cache\n",
    "    if (s, p) in Cache:\n",
    "        (val, a, b) = Cache[(s, p)]\n",
    "        if a <= alpha and beta <= b:\n",
    "            return val\n",
    "        else:\n",
    "            alpha = min(alpha, a)\n",
    "            beta  = max(beta , b)\n",
    "            val   = alphaBeta(s, p, alpha, beta, limit=limit, symmetry=symmetry, counter=counter)\n",
    "            writeCache_AB(s, p, val, alpha, beta, symmetry=symmetry)\n",
    "            return val\n",
    "    else:\n",
    "        val = alphaBeta(s, p, alpha, beta, limit=limit, symmetry=symmetry, counter=counter)\n",
    "        writeCache_AB(s, p, val, alpha, beta, symmetry=symmetry)\n",
    "        return val"
   ]
  },
  {
   "cell_type": "markdown",
   "metadata": {},
   "source": [
    "Die Funktion `alphaBeta()` beinhaltet nun die eigentliche Implementierung des α-β-Pruning.\n",
    "\n",
    "* Wie zuvor beim Minimax Algorithmus, wird der `utility` Wert zurückgegeben, falls das Spiel in dem State `s` beendet (`finished`) ist.\n",
    "* Ebenfalls äquivalent wird der `heuristic` Wert verwendet, sobald das Rekursionslimit (`limit`) erreicht wird.\n",
    "* Außerdem wird der Zähler für die iterative Tiefensuche erhöht, sofern ein Objekt der Klasse `IterativeCounter` übergeben wird.\n",
    "* Der eigentliche α-β-Pruning Alogrithmus errechnet rekursiv mit Hilfe des Caches (`value_AB()`) den Wert eines Zuges. Hierbei wird der erste Wert der nächsten States verwendet, der größer oder gleich der oberen Grenze `beta` ist."
   ]
  },
  {
   "cell_type": "code",
   "execution_count": null,
   "metadata": {},
   "outputs": [],
   "source": [
    "def alphaBeta(s, p, alpha, beta, limit=3, symmetry=True, counter = None):\n",
    "    if counter:\n",
    "        counter.check()\n",
    "    if limit == 0:\n",
    "        return heuristic(s, p)\n",
    "\n",
    "    states = nextStates(s, p)\n",
    "    if finished(s, p, ns=states):\n",
    "        return utility(s, p, ns=states)\n",
    "\n",
    "    val = alpha\n",
    "    for ns in orderMove(states, p):\n",
    "        val = max(val, -value_AB(ns, opponent(p), -beta, -alpha, limit=limit-1, symmetry=symmetry, counter=counter))\n",
    "        if val >= beta:\n",
    "            return val\n",
    "        alpha = max(val, alpha)\n",
    "    return val"
   ]
  },
  {
   "cell_type": "markdown",
   "metadata": {},
   "source": [
    "`bestMove_AB()` wählt mit Hilfe des α-β-Pruning Algorithmus den besten State aus allen möglichen nächsten States aus. Hierzu werden die Werte aller States errechnet und der State mit dem höchsten Wert ausgewählt. Dies wird solange ausgeführt, bis der maximale Wert der iterativen Tiefensuche erreicht ist und einen Fehler erzeugt."
   ]
  },
  {
   "cell_type": "code",
   "execution_count": null,
   "metadata": {},
   "outputs": [],
   "source": [
    "def bestMove_AB(s, p, symmetry=True, maxCount=25000):\n",
    "    # Clear cache\n",
    "    global Cache\n",
    "    global OldCache\n",
    "    Cache = {}\n",
    "    OldCache = {}\n",
    "    \n",
    "    counter = IterativeCounter(maxCount=maxCount)\n",
    "    limit = 1\n",
    "\n",
    "    ns = nextStates(s, p)\n",
    "    moves = [(0, s) for s in ns]\n",
    "\n",
    "    while True:\n",
    "        try:\n",
    "            moves = [\n",
    "                (-value_AB(s, opponent(p), limit=limit, symmetry=symmetry, counter=counter), s)\n",
    "                for s in ns\n",
    "            ]\n",
    "            OldCache = Cache\n",
    "            Cache = {}\n",
    "            limit += 1\n",
    "        except IterativeMaxCountException:\n",
    "            print(f\"Max count reached at {limit}\")\n",
    "            break\n",
    "    \n",
    "    return max(moves, key=lambda m: m[0])"
   ]
  }
 ],
 "metadata": {
  "kernelspec": {
   "display_name": "Python 3",
   "language": "python",
   "name": "python3"
  },
  "language_info": {
   "codemirror_mode": {
    "name": "ipython",
    "version": 3
   },
   "file_extension": ".py",
   "mimetype": "text/x-python",
   "name": "python",
   "nbconvert_exporter": "python",
   "pygments_lexer": "ipython3",
   "version": "3.8.6"
  }
 },
 "nbformat": 4,
 "nbformat_minor": 4
}
