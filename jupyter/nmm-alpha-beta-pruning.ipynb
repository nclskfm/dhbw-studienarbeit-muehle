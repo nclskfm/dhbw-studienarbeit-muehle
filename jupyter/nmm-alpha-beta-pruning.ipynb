{
 "cells": [
  {
   "cell_type": "markdown",
   "metadata": {},
   "source": [
    "## α-β-Pruning"
   ]
  },
  {
   "cell_type": "code",
   "execution_count": null,
   "metadata": {},
   "outputs": [],
   "source": [
    "import os.path\n",
    "css = \"\"\n",
    "if os.path.isfile(\"style.html\"):\n",
    "    from IPython.core.display import HTML\n",
    "    with open(\"style.html\", \"r\") as file:\n",
    "        css = file.read()\n",
    "HTML(css)"
   ]
  },
  {
   "cell_type": "code",
   "execution_count": null,
   "metadata": {},
   "outputs": [],
   "source": [
    "%run ./nmm-game.ipynb\n",
    "%run ./nmm-heuristic.ipynb"
   ]
  },
  {
   "cell_type": "markdown",
   "metadata": {},
   "source": [
    "Die `value_AB()` Funktion ist ein Wrapper für die eigentliche Implementierung des α-β-Pruning in der Funktion `alphaBeta()`. Dieser Wrapper stellt Caching der Ergebnisse zur Verfügung, bzw. berechnet diese neu, falls der Cache keine oder invalide Ergenisse beinhaltet.\n",
    "\n",
    "Ein Ergebnis aus dem Cache ist valide, solange das Intervall `alpha` und `beta` aus den Parametern innerhalb des im Cache verwendeten Intervalls `a` und `b` liegt. Also das Intervall des Caches muss genereller sein, als das Intervall aus den Paramtern."
   ]
  },
  {
   "cell_type": "code",
   "execution_count": null,
   "metadata": {},
   "outputs": [],
   "source": [
    "Cache = {}\n",
    "\n",
    "def value_AB(s, p, limit, alpha=-1, beta=1):\n",
    "    global Cache\n",
    "    if s in Cache:\n",
    "        (val, a, b) = Cache[s]\n",
    "        if a <= alpha and beta <= b:\n",
    "            return val\n",
    "        else:\n",
    "            alpha = min(alpha, a)\n",
    "            beta  = max(beta , b)\n",
    "            val   = alphaBeta(s, p, limit, alpha, beta)\n",
    "            Cache[s] = (val, alpha, beta)\n",
    "            return val\n",
    "    else:\n",
    "        val = alphaBeta(s, p, limit, alpha, beta)\n",
    "        Cache[s] = (val, alpha, beta)\n",
    "        return val"
   ]
  },
  {
   "cell_type": "markdown",
   "metadata": {},
   "source": [
    "Die Funktion `alphaBeta()` beinhaltet nun die eigentliche Implementierung des α-β-Pruning.\n",
    "\n",
    "* Wie zuvor beim Minimax Algorithmus, wird der `utility` Wert zurückgegeben, falls das Spiel in dem State `s` beendet (`finished`) ist.\n",
    "* Ebenfalls äquivalent wird der `heuristic` Wert verwendet, sobald das Rekursionslimit (`limit`) erreicht wird.\n",
    "* Der eigentliche α-β-Pruning Alogrithmus errechnet rekursiv mit Hilfe des Caches (`value_AB()`) den Wert eines Zuges. Hierbei wird der erste Wert der nächsten States verwendet, der größer oder gleich der oberen Grenze `beta` ist."
   ]
  },
  {
   "cell_type": "code",
   "execution_count": null,
   "metadata": {},
   "outputs": [],
   "source": [
    "def alphaBeta(s, p, limit, alpha, beta):\n",
    "    nss = nextStates(s, p)\n",
    "    if finished(s, p, ns=nss):\n",
    "        return utility(s, p)\n",
    "    if limit == 0:\n",
    "        return heuristic(s, p)\n",
    "    val = alpha\n",
    "    for ns in nss:\n",
    "        val = max(val, -value_AB(ns, opponent(p), limit-1, -beta, -alpha))\n",
    "        if val >= beta:\n",
    "            return val\n",
    "        alpha = max(val, alpha)\n",
    "    return val"
   ]
  },
  {
   "cell_type": "markdown",
   "metadata": {},
   "source": [
    "`bestMove_AB()` wählt mit Hilfe des α-β-Pruning Algorithmuses den besten State aus allen möglichen nächsten States aus. Hierzu werden die Werte aller States errechnet und der State mit dem höchsten Wert ausgewählt."
   ]
  },
  {
   "cell_type": "code",
   "execution_count": null,
   "metadata": {},
   "outputs": [],
   "source": [
    "def bestMove_AB(s, p):\n",
    "    # Clear cache\n",
    "    global Cache\n",
    "    Cache = {}\n",
    "\n",
    "    moves = [\n",
    "        (-value_AB(s, opponent(p), 3), s)\n",
    "        for s in nextStates(s, p)\n",
    "    ]\n",
    "    return max(moves, key=lambda m: m[0])"
   ]
  }
 ],
 "metadata": {
  "kernelspec": {
   "display_name": "Python 3",
   "language": "python",
   "name": "python3"
  },
  "language_info": {
   "codemirror_mode": {
    "name": "ipython",
    "version": 3
   },
   "file_extension": ".py",
   "mimetype": "text/x-python",
   "name": "python",
   "nbconvert_exporter": "python",
   "pygments_lexer": "ipython3",
   "version": "3.8.5"
  }
 },
 "nbformat": 4,
 "nbformat_minor": 4
}
