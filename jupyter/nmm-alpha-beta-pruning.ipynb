{
 "cells": [
  {
   "cell_type": "markdown",
   "metadata": {},
   "source": [
    "## α-β-Pruning"
   ]
  },
  {
   "cell_type": "code",
   "execution_count": null,
   "metadata": {
    "scrolled": true
   },
   "outputs": [],
   "source": [
    "from IPython.core.display import HTML\n",
    "with open(\"style.html\", \"r\") as file:\n",
    "    css = file.read()\n",
    "HTML(css)"
   ]
  },
  {
   "cell_type": "code",
   "execution_count": null,
   "metadata": {},
   "outputs": [],
   "source": [
    "%run ./nmm-game.ipynb\n",
    "%run ./nmm-artificial-intelligence.ipynb\n",
    "%run ./nmm-heuristic.ipynb\n",
    "%run ./nmm-symmetry.ipynb\n",
    "import time"
   ]
  },
  {
   "cell_type": "markdown",
   "metadata": {},
   "source": [
    "Für die Implementierung des *α-β-Pruning* Algorithmus wird eine Klasse `AlphaBetaPruning` implementiert, die ebenfalls von der zuvor definierten Klasse `ArtificialIntelligence` erbt. Auch hier wird die Funktion `bestMoves` überschrieben, die später genauer definiert wird, und den Konstruktor `__init__` implementiert. Der Konstruktor besitzt drei optionale Parameter, die den Algorithmus konfigurieren können:\n",
    "\n",
    "* die `max_states` Einstellung setzt die maximale Anzahl an Zusänden, die betrachtet werden sollen;\n",
    "* die `symmetry` Einstellung legt fest, ob alle symmetrischen Spielfelder zu einem Zustand berechnet werden sollen und dann ebenfalls in der Transpositionstabelle abgelegt werden sollen;\n",
    "* durch den `weights` Parameter können die Gewichtungen der zuvor definierten Heuristik bestimmt werden.\n",
    "\n",
    "Zusätzlich initialisiert der Konstruktor das Attribute `cache` mit einem leeren `dict`. Dieses wird später als Transpositionstabelle, bzw. als Sortierungsgrundlage in der Funktion `orderMoves` für *Iterative Deepening* verwendet.\n",
    "\n",
    "Der Standardwert für das `weights` Attribut muss explizit im Funktionsrumpf gesetzt werden, damit Probleme bei der späteren Verwendung des `multiprocessing` Paketes verhindert werden können.\n",
    "\n",
    "1. Wenn der Standardwert bereits in der Funktionssignatur gesetzt wird, wird dieser Wert beim ersten Laden der `AlphaBetaPruning` Klasse gespeichert. Dieser Wert beinhaltet dann eine Instanz der unmittelbar zuvor geladenen `HeuristicWeights` Klasse.\n",
    "2. Läde man darauf hin das `Minimax` Notebook, dann lädt dieses die `HeuristicWeights` Klasse erneut. Dabei wird jedoch eine neue Klasse unter dem gleichen Namen, aber an einem anderen Ort im Arbeitsspeicher angelegt.\n",
    "3. Wird nun ebenso der Standardwert des `weights` Parameters im `Minimax` Algorithmus beim ersten Laden gesetzt, dann teilen sich zwar beide Standardwerte die gleiche Implementierung der `HeuristikWeights` Klasse, zeigen jedoch auf verschiedene Addressen im Arbeitsspeicher.\n",
    "4. Dies wird zum Problem, wenn die Objekte mit Hilfe des `pickel` Paketes serialisiert werden, damit sie im `multiprocessing` Paket über die Threadgrenzen gesendet werden können. Hier wird ein Fehler ausgelöst, wenn der Name der Klassen übereinstimmt, jedoch auf verschiedene Addressen im Speicher verwiesen wird."
   ]
  },
  {
   "cell_type": "code",
   "execution_count": null,
   "metadata": {},
   "outputs": [],
   "source": [
    "class AlphaBetaPruning(ArtificialIntelligence):\n",
    "    def __init__(self, max_states=25_000, symmetry=True, weights=None):\n",
    "        self.cache = {}\n",
    "        \n",
    "        self.max_states = max_states\n",
    "        self.symmetry = symmetry\n",
    "        self.weights = weights\n",
    "        if self.weights is None:\n",
    "            self.weights = HeuristicWeights()\n",
    "    \n",
    "    def bestMoves(self, state, player):\n",
    "        pass"
   ]
  },
  {
   "cell_type": "markdown",
   "metadata": {},
   "source": [
    "Für Debuggingzwecke wird eine `__repr__` Funktion implementiert, die eine String-Repräsentation aus einer `AlphaBetaPruning` Instanz mit allen Einstelungen erstellt."
   ]
  },
  {
   "cell_type": "code",
   "execution_count": null,
   "metadata": {},
   "outputs": [],
   "source": [
    "def __repr__(self: AlphaBetaPruning):\n",
    "    return f\"AlphaBetaPruning(max_states={self.max_states}, symmetry={self.symmetry}, weights={self.weights})\"\n",
    "\n",
    "AlphaBetaPruning.__repr__ = __repr__\n",
    "del __repr__"
   ]
  },
  {
   "cell_type": "markdown",
   "metadata": {},
   "source": [
    "### Iterative Tiefensuche\n",
    "\n",
    "Die Iterative Tiefensuche bietet die Möglichkeit eine konstante Anzahl an Zuständen betrachten zu können.\n",
    "Dieses bietet den Vorteil gegenüber fest definierten Tiefenlimits, dass bei weniger komplexen Bäumen die Suche weiter fortgesetzt werden kann und die Antwortzeit an den Nutzer durch die gleiche Anzahl an Zuständen nahezu konstant bleibt.\n",
    "Dies sorgt gerade in Phase 2 des Mühle-Spiels dafür, dass die Spielzüge um einiges weiter im Voraus berechnet werden können.\n",
    "Andererseits verhindert es jedoch auch bei sehr komplexes Suchbäumen eine verlängerte Antwortzeit.\n",
    "\n",
    "In der Umsetzung bedeutet das, dass die maximale Rekursionstiefe bei einem Aufruf der `bestMoves()`-Funktion zunächst immer bei `limit=1` liegt. Wenn nach der Betrachung aller Zustände mit Verwendung der Rekursionstiefe noch keine `IterativeMaxCountException()` geworfen wurde, wird das Maximum um eins erhöht.\n",
    "\n",
    "Die gewünschte maximale Anzahl an Zuständen `maxCount` kann im `AlphaBetaPruning`-Konstruktor mit Hilfe der Option `max_states` festgelegt werden.\n",
    "\n",
    "#### Exception für das Erreichen der maximalen Zuständen `IterativeMaxCountException`\n",
    "\n",
    "Die Exception `IterativeMaxCountException` wird aufgerufen, wenn ein Fehler aufgrund des Erreichens der maximal zu betrachtenden Zustände bei der iterativen Tiefensuche erzeugt werden soll.\n",
    "Der Parameter `maxCount` im Konstruktor der Fehlermeldung nimmt dabei die erreichte maximale Anzahl an besuchten Zuständen an, um diese in der Fehlermeldung wiedergeben zu können."
   ]
  },
  {
   "cell_type": "code",
   "execution_count": null,
   "metadata": {},
   "outputs": [],
   "source": [
    "class IterativeMaxCountException(Exception):\n",
    "    def __init__(self, maxCount):\n",
    "        super().__init__(f\"Reached max count ({maxCount}) of iterative deepeing\")    "
   ]
  },
  {
   "cell_type": "markdown",
   "metadata": {},
   "source": [
    "#### Hilfsfunktion zum Überprüfen der maximal zu besuchenden Zustände `checkMaxStates`\n",
    "\n",
    "Die Hilfsfunktion `checkMaxStates` zählt die errechneten und besuchten Zustände für die Implementierung der *iterativen Tiefensuche*. Ist die Anzahl der maximal erlaubten Zustände überschritten, wird ein Fehler ausgelöst, damit der Algorithmus abbricht und ein Ergebnis zurück gegeben werden kann. Diese Ausnahmebetrachtung ist in der Funktion `bestMoves` implementiert."
   ]
  },
  {
   "cell_type": "code",
   "execution_count": null,
   "metadata": {},
   "outputs": [],
   "source": [
    "def checkMaxStates(self):\n",
    "    self.visited += 1\n",
    "    if (self.visited >= self.max_states):\n",
    "        raise IterativeMaxCountException(self.max_states)\n",
    "\n",
    "AlphaBetaPruning.checkMaxStates = checkMaxStates\n",
    "del checkMaxStates"
   ]
  },
  {
   "cell_type": "markdown",
   "metadata": {},
   "source": [
    "#### Sortieren der Zustände\n",
    "\n",
    "Die Funktion `orderMoves` sortiert eine Liste von Zuständen `states` für einen Spieler\n",
    "`player` entsprechend der für diese Zustände erreichten Werte aus der vorherigen Iteration\n",
    "der *Iterativen Tiefensuche*. So soll erreicht werden, dass vielversprechende\n",
    "Zustände früher betrachtet werden und sich somit Teilbäume eventuell früher abschneiden lassen."
   ]
  },
  {
   "cell_type": "code",
   "execution_count": null,
   "metadata": {},
   "outputs": [],
   "source": [
    "def orderMoves(self, states, player, limit):\n",
    "    return sorted(\n",
    "        states,\n",
    "        key     = lambda state: self.cache.get((state, player, limit-1), (0, -1, 1))[0],\n",
    "        reverse = True\n",
    "    )\n",
    "\n",
    "AlphaBetaPruning.orderMoves = orderMoves\n",
    "del orderMoves"
   ]
  },
  {
   "cell_type": "markdown",
   "metadata": {},
   "source": [
    "### Implementierung *α-β-Pruning*\n",
    "#### Hilfsfunktion zum Füllen der Transpositionstabelle `writeCache`\n",
    "\n",
    "Die Hilfsfunktion `writeCache` legt den gegebenen Zustand `state` und Spieler `player` mit samt der errechneten Werte `value`, `alpha` und `beta` in der Transpositionstabelle (`cache`) ab. Ist zusätzlich die Einstellung `symmetry` aktiviert, werden auch die errechneten Spielfelder in der Transpositionstabelle gespeichert."
   ]
  },
  {
   "cell_type": "code",
   "execution_count": null,
   "metadata": {
    "pycharm": {
     "name": "#%%\n"
    }
   },
   "outputs": [],
   "source": [
    "def writeCache(self, state, player, value, alpha, beta, limit):\n",
    "    if self.symmetry:\n",
    "        for symmetricState in findSymmetries(state):\n",
    "            self.cache[(symmetricState, player, limit)] = (value, alpha, beta)\n",
    "    else:\n",
    "        self.cache[(state, player, limit)] = (value, alpha, beta)\n",
    "\n",
    "AlphaBetaPruning.writeCache = writeCache\n",
    "del writeCache"
   ]
  },
  {
   "cell_type": "markdown",
   "metadata": {},
   "source": [
    "#### Hilfsfunktion zum Abgleich mit der Transpositionstabelle `value`\n",
    "\n",
    "Die `value` Funktion ist ein Wrapper für die eigentliche Implementierung des *α-β-Pruning*\n",
    "in der Funktion `alphaBeta`. Dieser Wrapper überprüft die Transpositionstabelle *cache* auf das Vorhandensein\n",
    "eines bereits berechneten Wertes für eine Kombination aus `state`, `player`, und `limit`.\n",
    "Ist ein Wert vorhanden, wird dieser auf seine Validität überprüft.\n",
    "Wenn diese Überprüfung fehlschlägt, oder kein Wert vorhanden ist, wird dieser mithilfe der `alphaBeta`-Funktion berechnet\n",
    "und in der Transpositionstabelle *cache* abgespeichert.\n",
    "\n",
    "Ein Ergebnis aus dem Cache ist valide, solange das Intervall `alpha` und `beta` aus den Parametern innerhalb des im Cache verwendeten Intervalls `a` und `b` liegt. Also das Intervall des Caches muss genereller sein, als das Intervall aus den Parametern.\n",
    "\n",
    "Für Auswertungszwecke wird außerdem bei jedem der drei möglichen Fälle ein Zähler erhöht."
   ]
  },
  {
   "cell_type": "code",
   "execution_count": null,
   "metadata": {},
   "outputs": [],
   "source": [
    "def value(self, state, player, alpha, beta, limit):\n",
    "    if (state, player, limit) in self.cache:\n",
    "        (val, a, b) = self.cache[(state, player, limit)]\n",
    "        if a <= alpha and beta <= b:\n",
    "            self.cache_hit += 1\n",
    "            return val\n",
    "        else:\n",
    "            alpha = min(alpha, a)\n",
    "            beta  = max(beta , b)\n",
    "            val   = self.alphaBeta(state, player, alpha, beta, limit)\n",
    "            self.writeCache(state, player, val, alpha, beta, limit)\n",
    "            self.cache_invalid += 1\n",
    "            return val\n",
    "    else:\n",
    "        val = self.alphaBeta(state, player, alpha, beta, limit)\n",
    "        self.writeCache(state, player, val, alpha, beta, limit)\n",
    "        self.cache_miss += 1\n",
    "        return val\n",
    "\n",
    "AlphaBetaPruning.value = value\n",
    "del value"
   ]
  },
  {
   "cell_type": "markdown",
   "metadata": {},
   "source": [
    "#### Funktion zur Berechnung des Wertes eines Spielzustands `alphaBeta`\n",
    "\n",
    "Die Funktion `alphaBeta` beinhaltet nun die eigentliche Implementierung des *α-β-Pruning*.\n",
    "\n",
    "* Wie zuvor beim *Minimax-Algorithmus*, wird der `utility` Wert zurückgegeben, falls das Spiel in dem State `s` beendet (`finished`) ist.\n",
    "* Ebenfalls äquivalent wird der `heuristic` Wert verwendet, sobald das Rekursionslimit (`limit`) erreicht wird.\n",
    "* Zusätzlich wird mithilfe der Funktion `checkMaxStates` überprüft, ob die maximal zu betrachtende Anzahl an Zuständen erreicht wurde.\n",
    "* Der eigentliche α-β-Pruning Alogrithmus errechnet rekursiv mit Hilfe des Caches (`value`) den Wert eines Zuges. Hierbei wird der erste Wert der nächsten States verwendet, der größer oder gleich der oberen Grenze `beta` ist."
   ]
  },
  {
   "cell_type": "code",
   "execution_count": null,
   "metadata": {},
   "outputs": [],
   "source": [
    "def alphaBeta(self, state, player, alpha, beta, limit):\n",
    "    self.checkMaxStates()\n",
    "    \n",
    "    if limit == 0:\n",
    "        return heuristic(state, player, self.weights)\n",
    "\n",
    "    states = nextStates(state, player)\n",
    "    if finished(state, player, ns=states):\n",
    "        return utility(state, player, ns=states)\n",
    "\n",
    "    val = alpha\n",
    "    for ns in self.orderMoves(states, player, limit):\n",
    "        val = max(val, -self.value(ns, opponent(player), -beta, -alpha, limit-1))\n",
    "        if val >= beta:\n",
    "            return val\n",
    "        alpha = max(val, alpha)\n",
    "    return val\n",
    "\n",
    "AlphaBetaPruning.alphaBeta = alphaBeta\n",
    "del alphaBeta"
   ]
  },
  {
   "cell_type": "markdown",
   "metadata": {},
   "source": [
    "#### Funktion zur Auswahl des bestmöglichen Zuges `bestMoves`\n",
    "\n",
    "Die Funktion `bestMoves` berechnet rekursiv den geschätzten Wert aller möglichen Züge für einen Spieler `player` und wählt die Züge mit dem besten Wert aus. Diese rekursive Suche wird solange ausgeführt, bis die maximale Anzahl der zu betrachtenden Zustände erreicht ist.\n",
    "Erreicht wird dies durch das Abfangen einer Exception, welche beim Erreichen dieser Grenze ausgelöst wird und somit die Endlosschleife beendet.\n",
    "Wenn für eine Rekursionstiefe alle Zustände betrachtet wurden, wird diese automatisch erhöht.\n",
    "Abschließend werden aus den erhaltenen Zuständen die Zustände mit dem besten Wert ausgewählt und zurückgegeben.\n",
    "\n",
    "Zusätzlich werden Informationen gesammelt, die die genaueren Abläufe im Algorithmus abbilden:\n",
    "* `runtime` ist die Rechendauer der Funktion in Sekunden;\n",
    "* `limit` ist die erreichte maximale Rekursionstiefe;\n",
    "* `visited` ist die Anzahl der besuchten Zustände;\n",
    "* `max_states` ist die Anzahl der maximal zu besuchenden Zustände;\n",
    "* `cache_hit` ist die Anzahl der Berechenungen, die durch die Tanspositionstabelle (`cache`) eingespart werden konnten;\n",
    "* `cache_invalid` ist die Anzahl der Berechnungen, die durchgeführt werden mussten, da der in der Transpositionstabelle vorhandene Wert nicht zu verwenden war;\n",
    "* `cache_miss` ist die Anzahl der Berechnungen, die trotz der Transpositionstabelle durchgeführt werden mussten, da kein Eintrag gefunden wurde."
   ]
  },
  {
   "cell_type": "code",
   "execution_count": null,
   "metadata": {},
   "outputs": [],
   "source": [
    "def bestMoves(self, state, player):\n",
    "    # Start clock\n",
    "    start = time.time()\n",
    "    \n",
    "    # Reset counter\n",
    "    self.visited = 0\n",
    "    self.cache_hit = 0\n",
    "    self.cache_invalid = 0\n",
    "    self.cache_miss = 0\n",
    "    \n",
    "    states = nextStates(state, player)\n",
    "    moves = [(0, s) for s in states]\n",
    "\n",
    "    limit = 1\n",
    "    while True:\n",
    "        try:\n",
    "            moves = [\n",
    "                (-self.value(s, opponent(player), -1, 1, limit), s)\n",
    "                for s in states\n",
    "            ]\n",
    "            limit += 1\n",
    "        except IterativeMaxCountException:\n",
    "            break\n",
    "    \n",
    "    maximum = max(v for (v, s) in moves)\n",
    "    bestMoves = [s for (v, s) in moves if v == maximum]\n",
    "    \n",
    "    end = time.time()\n",
    "    return BestMoves(\n",
    "        bestMoves,\n",
    "        maximum,\n",
    "        # Collect debug information\n",
    "        {   \"runtime\": end - start,\n",
    "            \"limit\": limit,\n",
    "            \"visited\": self.visited,\n",
    "            \"max_states\": self.max_states,\n",
    "            \"cache_hit\": self.cache_hit,\n",
    "            \"cache_invalid\": self.cache_invalid,\n",
    "            \"cache_miss\": self.cache_miss,   }\n",
    "    )\n",
    "\n",
    "AlphaBetaPruning.bestMoves = bestMoves\n",
    "del bestMoves"
   ]
  }
 ],
 "metadata": {
  "kernelspec": {
   "display_name": "Python 3",
   "language": "python",
   "name": "python3"
  },
  "language_info": {
   "codemirror_mode": {
    "name": "ipython",
    "version": 3
   },
   "file_extension": ".py",
   "mimetype": "text/x-python",
   "name": "python",
   "nbconvert_exporter": "python",
   "pygments_lexer": "ipython3",
   "version": "3.8.5"
  }
 },
 "nbformat": 4,
 "nbformat_minor": 4
}
