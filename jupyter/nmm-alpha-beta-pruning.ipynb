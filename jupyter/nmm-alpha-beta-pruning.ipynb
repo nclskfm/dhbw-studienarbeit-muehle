{
 "cells": [
  {
   "cell_type": "markdown",
   "metadata": {},
   "source": [
    "## α-β-Pruning"
   ]
  },
  {
   "cell_type": "code",
   "execution_count": null,
   "metadata": {},
   "outputs": [],
   "source": [
    "import os.path\n",
    "css = \"\"\n",
    "if os.path.isfile(\"style.html\"):\n",
    "    from IPython.core.display import HTML\n",
    "    with open(\"style.html\", \"r\") as file:\n",
    "        css = file.read()\n",
    "HTML(css)"
   ]
  },
  {
   "cell_type": "code",
   "execution_count": null,
   "metadata": {},
   "outputs": [],
   "source": [
    "%run ./nmm-game.ipynb\n",
    "%run ./nmm-heuristic.ipynb"
   ]
  },
  {
   "cell_type": "code",
   "execution_count": null,
   "metadata": {},
   "outputs": [],
   "source": [
    "Cache = {}\n",
    "\n",
    "def value(s, p, limit, alpha=-1, beta=1):\n",
    "    global Cache\n",
    "    if s in Cache:\n",
    "        (val, a, b) = Cache[s]\n",
    "        if a <= alpha and beta <= b:\n",
    "            return val\n",
    "        else:\n",
    "            alpha = min(alpha, a)\n",
    "            beta  = max(beta , b)\n",
    "            val   = alphaBeta(s, p, limit, alpha, beta)\n",
    "            Cache[s] = (val, alpha, beta)\n",
    "            return val\n",
    "    else:\n",
    "        val = alphaBeta(s, p, limit, alpha, beta)\n",
    "        Cache[s] = (val, alpha, beta)\n",
    "        return val"
   ]
  },
  {
   "cell_type": "code",
   "execution_count": null,
   "metadata": {},
   "outputs": [],
   "source": [
    "def alphaBeta(s, p, limit, alpha, beta):\n",
    "    if finished(s, p):\n",
    "        return utility(s, p)\n",
    "    if limit == 0:\n",
    "        return heuristic(s, p)\n",
    "    val = alpha\n",
    "    for ns in nextStates(s, p):\n",
    "        val = max(val, -value(ns, opponent(p), limit-1, -beta, -alpha))\n",
    "        if val >= beta:\n",
    "            return val\n",
    "        alpha = max(val, alpha)\n",
    "    return val"
   ]
  },
  {
   "cell_type": "markdown",
   "metadata": {},
   "source": [
    "Um den besten Schritt zu errechnen, den der gegebene Spieler `p` im State `s` ausführen kann, wurde die `bestMoveAlphaBeta()` Funktion implementiert. Diese nutzt die zuvor geschriebenen Funktionen `alphaBeta()` und `value()`.\n",
    "\n",
    "Hierbei werden Schätzungen für jeden möglichen Zug erstellt und danach der beste Zug ausgewählt."
   ]
  },
  {
   "cell_type": "code",
   "execution_count": null,
   "metadata": {},
   "outputs": [],
   "source": [
    "def bestMoveAlphaBeta(s, p):\n",
    "    # Clear cache\n",
    "    global Cache\n",
    "    Cache = {}\n",
    "\n",
    "    moves = [\n",
    "        (-value(s, opponent(p), 2), s)\n",
    "        for s in nextStates(s, p)\n",
    "    ]\n",
    "    return max(moves, key=lambda m: m[0])"
   ]
  }
 ],
 "metadata": {
  "kernelspec": {
   "display_name": "Python 3",
   "language": "python",
   "name": "python3"
  },
  "language_info": {
   "codemirror_mode": {
    "name": "ipython",
    "version": 3
   },
   "file_extension": ".py",
   "mimetype": "text/x-python",
   "name": "python",
   "nbconvert_exporter": "python",
   "pygments_lexer": "ipython3",
   "version": "3.8.5"
  }
 },
 "nbformat": 4,
 "nbformat_minor": 4
}
