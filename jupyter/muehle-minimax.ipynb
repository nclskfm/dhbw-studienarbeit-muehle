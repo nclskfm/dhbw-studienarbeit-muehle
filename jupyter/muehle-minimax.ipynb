{
 "cells": [
  {
   "cell_type": "markdown",
   "metadata": {},
   "source": [
    "## Minimax"
   ]
  },
  {
   "cell_type": "code",
   "execution_count": null,
   "metadata": {},
   "outputs": [],
   "source": [
    "%run ./muehle-game.ipynb"
   ]
  },
  {
   "source": [
    "`memoize(f)` takes a function and checks if the function was already called with the same two main arguments and returns the saved return value. If it is not yet in the Cache, the arguments and it's return values will be saved to the Cache\n",
    "\n",
    "Die Funktion `memoize(f)` nimmt eine Funktion `f` und überprüft ob diese bereits mit den beiden gleichen Haupt-Parametern aufgerufen wurde und liefert den gespeicherten Antwortwert. Wenn die Funktion bisher nicht aufgerufen wurde, werden die Parameter und die Antwortwerte in den Cache gespeichert"
   ],
   "cell_type": "markdown",
   "metadata": {}
  },
  {
   "cell_type": "code",
   "execution_count": null,
   "metadata": {},
   "outputs": [],
   "source": [
    "Cache = {}\n",
    "\n",
    "def memoize(f):\n",
    "    global Cache\n",
    "\n",
    "    def f_memoized(*args):\n",
    "        key = (args[0], args[1])\n",
    "        if key in Cache:\n",
    "            return Cache[key]\n",
    "        result = f(*args)\n",
    "        Cache[key] = result\n",
    "        return result\n",
    "\n",
    "    return f_memoized"
   ]
  },
  {
   "source": [
    "The `value(s, p, count)` function takes the current state and the player and returns the value (see `utility(s, p)`) of the winner if every move is optimal\n",
    "the `count` variable is used to limit the recursion depth.\n",
    "\n",
    "Die `value(s, p, count)` Funktion nimmt einen Spielzustand und einen Spieler und liefert den Wert (siehe `utility(s, p)`) des Gewinners wenn dieser alle Züge optimal ausführt.\n",
    "Die Variable `count` wird dafür genutzt die Rekursionstiefe zu bestimmen."
   ],
   "cell_type": "markdown",
   "metadata": {}
  },
  {
   "cell_type": "code",
   "execution_count": null,
   "metadata": {},
   "outputs": [],
   "source": [
    "@memoize\n",
    "def value(s, p, count):\n",
    "    count += 1\n",
    "    if finished(s):\n",
    "        return utility(s, p)\n",
    "    if count > 3:\n",
    "        return 0\n",
    "    return max([-value(ps, opponent(p), count) for ns in nextStates(s, p)])"
   ]
  },
  {
   "source": [
    "`bestMove(s, p)` calculates the best move to win the game for the given state and player\n",
    "\n",
    "Die Funktion `bestMove(s, p)` berechnet den günstigsten Zug für einen Spieler um das Spiel zu gewinnen, mit dem gegeben Ausgangszustand"
   ],
   "cell_type": "markdown",
   "metadata": {}
  },
  {
   "cell_type": "code",
   "execution_count": null,
   "metadata": {},
   "outputs": [],
   "source": [
    "def bestMove(s, p):\n",
    "    # Clear @memoize cache\n",
    "    global Cache\n",
    "    Cache = {}\n",
    "\n",
    "    ns = nextStates(s, p)\n",
    "    bestValue = value(s, p)\n",
    "    bestMoves = [s for s in ns if -value(s, opponent(p)) == bestValue]\n",
    "    return bestValue, bestMoves[0]"
   ]
  }
 ],
 "metadata": {
  "kernelspec": {
   "display_name": "Python 3",
   "language": "python",
   "name": "python3"
  },
  "language_info": {
   "codemirror_mode": {
    "name": "ipython",
    "version": 3
   },
   "file_extension": ".py",
   "mimetype": "text/x-python",
   "name": "python",
   "nbconvert_exporter": "python",
   "pygments_lexer": "ipython3",
   "version": "3.7.6-final"
  }
 },
 "nbformat": 4,
 "nbformat_minor": 2
}