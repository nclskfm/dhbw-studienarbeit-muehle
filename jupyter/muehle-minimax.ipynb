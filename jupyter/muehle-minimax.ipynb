{
 "metadata": {
  "language_info": {
   "codemirror_mode": {
    "name": "ipython",
    "version": 3
   },
   "file_extension": ".py",
   "mimetype": "text/x-python",
   "name": "python",
   "nbconvert_exporter": "python",
   "pygments_lexer": "ipython3",
   "version": "3.7.6-final"
  },
  "orig_nbformat": 2,
  "kernelspec": {
   "name": "python3",
   "display_name": "Python 3"
  }
 },
 "nbformat": 4,
 "nbformat_minor": 2,
 "cells": [
  {
   "source": [
    "## Minimax"
   ],
   "cell_type": "markdown",
   "metadata": {}
  },
  {
   "cell_type": "code",
   "execution_count": null,
   "metadata": {},
   "outputs": [],
   "source": [
    "%run ./muehle-game.ipynb\n",
    "import sys\n",
    "import inspect"
   ]
  },
  {
   "cell_type": "code",
   "execution_count": null,
   "metadata": {},
   "outputs": [],
   "source": [
    "Cache = {}\n",
    "\n",
    "def memoize(f):\n",
    "    global Cache\n",
    "\n",
    "    def f_memoized(*args):\n",
    "        if args in Cache:\n",
    "            return Cache[args]\n",
    "        result = f(*args)\n",
    "        Cache[args] = result\n",
    "        return result\n",
    "\n",
    "    return f_memoized\n",
    "\n",
    "@memoize\n",
    "def value(s, p, dfs):\n",
    "    if finished(s):\n",
    "        print(len(inspect.stack(0)))\n",
    "        return utility(s, p)\n",
    "    ds = set(dfs)\n",
    "    ds.add(s)\n",
    "    possStates = nextStates(s, p) - ds\n",
    "    if len(inspect.stack(0)) > 1000:\n",
    "        return 0\n",
    "    dfs = frozenset(ds)\n",
    "    return max([-value(ps, opponent(p), dfs) for ps in possStates])"
   ]
  },
  {
   "cell_type": "code",
   "execution_count": null,
   "metadata": {
    "tags": []
   },
   "outputs": [],
   "source": [
    "sys.setrecursionlimit(10000)\n",
    "print(value(s5, 'b', frozenset()))"
   ]
  },
  {
   "cell_type": "code",
   "execution_count": null,
   "metadata": {},
   "outputs": [],
   "source": []
  }
 ]
}