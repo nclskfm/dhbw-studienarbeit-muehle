{
 "cells": [
  {
   "cell_type": "markdown",
   "id": "demonstrated-delivery",
   "metadata": {},
   "source": [
    "# Tunier\n"
   ]
  },
  {
   "cell_type": "code",
   "execution_count": null,
   "id": "elder-enlargement",
   "metadata": {},
   "outputs": [],
   "source": [
    "import os.path\n",
    "css = \"\"\n",
    "if os.path.isfile(\"style.html\"):\n",
    "    from IPython.core.display import HTML\n",
    "    with open(\"style.html\", \"r\") as file:\n",
    "        css = file.read()\n",
    "HTML(css)"
   ]
  },
  {
   "cell_type": "code",
   "execution_count": null,
   "id": "peaceful-smooth",
   "metadata": {},
   "outputs": [],
   "source": [
    "%run ./nmm-alpha-beta-pruning.ipynb\n",
    "%run ./nmm-minimax.ipynb"
   ]
  },
  {
   "cell_type": "code",
   "execution_count": null,
   "id": "387ddf3c",
   "metadata": {},
   "outputs": [],
   "source": [
    "from typing import Optional, List, Callable"
   ]
  },
  {
   "cell_type": "markdown",
   "id": "british-mount",
   "metadata": {},
   "source": [
    "## Spiel"
   ]
  },
  {
   "cell_type": "code",
   "execution_count": null,
   "id": "electronic-interview",
   "metadata": {},
   "outputs": [],
   "source": [
    "class Match():\n",
    "    def __init__(\n",
    "        self,\n",
    "        white: ArtificialIntelligence, black: ArtificialIntelligence,\n",
    "        start_state = s0, start_player = 'w',\n",
    "        max_turns: int = 250, max_state_replayed: int = 5, max_states_without_mill: int = 30,\n",
    "        name: str = \"\"\n",
    "    ):\n",
    "        self.white = white\n",
    "        self.black = black\n",
    "        \n",
    "        self.state = start_state\n",
    "        self.player = start_player\n",
    "        self.max_turns = max_turns\n",
    "        self.max_state_replayed = max_state_replayed\n",
    "        self.max_states_without_mill = max_states_without_mill\n",
    "        self.name = name\n",
    "        \n",
    "        self.log = [start_state]\n",
    "        self.no_mill_played = 0"
   ]
  },
  {
   "cell_type": "code",
   "execution_count": null,
   "id": "6a03ac27",
   "metadata": {},
   "outputs": [],
   "source": [
    "def __repr__(self: Match):\n",
    "    return f\"Match(name='{self.name}', white={type(self.white).__name__}, \" + \\\n",
    "           f\"black={type(self.black).__name__}, max_turns={self.max_turns})\"\n",
    "\n",
    "Match.__repr__ = __repr__\n",
    "del __repr__"
   ]
  },
  {
   "cell_type": "code",
   "execution_count": null,
   "id": "9bfc0746",
   "metadata": {},
   "outputs": [],
   "source": [
    "class MatchResult():\n",
    "    def __init__(self, winner: str, log: List, reason: str):\n",
    "        self.winner = winner\n",
    "        self.log    = log\n",
    "        self.reason = reason\n",
    "    \n",
    "    def __repr__(self):\n",
    "        return f\"MatchResult(winner='{self.winner}', log={len(self.log): >3}, reason='{self.reason}')\""
   ]
  },
  {
   "cell_type": "code",
   "execution_count": null,
   "id": "34a2a9d8",
   "metadata": {},
   "outputs": [],
   "source": [
    "def current_ai(self: Match) -> ArtificialIntelligence:\n",
    "    if self.player == 'w':\n",
    "        return self.white\n",
    "    return self.black\n",
    "\n",
    "Match.current_ai = current_ai\n",
    "del current_ai"
   ]
  },
  {
   "cell_type": "code",
   "execution_count": null,
   "id": "e68d843a",
   "metadata": {},
   "outputs": [],
   "source": [
    "def check_remis(self: Match) -> Optional[MatchResult]:\n",
    "    if len(self.log) >= self.max_turns:\n",
    "        return MatchResult(\n",
    "            winner = ' ',\n",
    "            log    = self.log,\n",
    "            reason = f\"Reached max_turns after {self.max_turns} turns\"\n",
    "        )\n",
    "    \n",
    "    if self.log.count(self.state) >= self.max_state_replayed:\n",
    "        return MatchResult(\n",
    "            winner = ' ',\n",
    "            log    = self.log,\n",
    "            reason = f\"State has been replayed for {self.log.count(self.state)} turns\"\n",
    "        )\n",
    "    \n",
    "    if self.no_mill_played >= self.max_states_without_mill:\n",
    "        return MatchResult(\n",
    "            winner = ' ',\n",
    "            log    = self.log,\n",
    "            reason = f\"No mill has been played for {self.no_mill_played} turns\"\n",
    "        )\n",
    "    return None\n",
    "\n",
    "Match.check_remis = check_remis\n",
    "del check_remis"
   ]
  },
  {
   "cell_type": "code",
   "execution_count": null,
   "id": "2e8f5bc7",
   "metadata": {},
   "outputs": [],
   "source": [
    "def play(self: Match) -> MatchResult:\n",
    "    while True:\n",
    "        if finished(self.state, self.player):\n",
    "            return MatchResult(\n",
    "                winner = ('w', ' ', 'b')[utility(self.state, 'b')+1],\n",
    "                log    = self.log,\n",
    "                reason = f\"A player won the match\"\n",
    "            )\n",
    "        \n",
    "        mills_before = findMills(self.state[1], self.player)\n",
    "        remis = self.check_remis()\n",
    "        if remis is not None:\n",
    "            return remis\n",
    "        \n",
    "        bestMoves = self.current_ai().bestMoves(self.state, self.player)\n",
    "        self.state  = bestMoves.choice()\n",
    "        self.player = opponent(self.player)\n",
    "        \n",
    "        self.log.append(self.state)\n",
    "        if countNewMills(self.state[1], mills_before, self.player) <= 0:\n",
    "            self.no_mill_played += 1\n",
    "        else:\n",
    "            self.no_mill_played = 0\n",
    "        \n",
    "        print(f\"{self.name} t={len(self.log): <3} {self.player} found {len(bestMoves.states): >2} \" + \\\n",
    "              f\"states with value={bestMoves.value}\")\n",
    "    \n",
    "\n",
    "Match.play = play\n",
    "del play"
   ]
  },
  {
   "cell_type": "markdown",
   "id": "simplified-lawrence",
   "metadata": {},
   "source": [
    "## Runde"
   ]
  },
  {
   "cell_type": "code",
   "execution_count": null,
   "id": "c3b6a334",
   "metadata": {},
   "outputs": [],
   "source": [
    "from multiprocessing import cpu_count, Pool"
   ]
  },
  {
   "cell_type": "code",
   "execution_count": null,
   "id": "formal-commerce",
   "metadata": {},
   "outputs": [],
   "source": [
    "class Round():\n",
    "    def __init__(\n",
    "        self,\n",
    "        white: ArtificialIntelligence, black: ArtificialIntelligence,\n",
    "        instances: int\n",
    "    ):\n",
    "        self.white = white\n",
    "        self.black = black\n",
    "        self.instances = instances"
   ]
  },
  {
   "cell_type": "code",
   "execution_count": null,
   "id": "d4a9f903",
   "metadata": {},
   "outputs": [],
   "source": [
    "def __repr__(self: Round):\n",
    "    return f\"Round(white={type(self.white).__name__}, black={type(self.black).__name__}, instances={self.instances})\"\n",
    "\n",
    "Round.__repr__ = __repr__\n",
    "del __repr__"
   ]
  },
  {
   "cell_type": "code",
   "execution_count": null,
   "id": "213efd12",
   "metadata": {},
   "outputs": [],
   "source": [
    "def execute(match):\n",
    "    idx, rnd = match\n",
    "    random.seed(idx)\n",
    "    return rnd.play()"
   ]
  },
  {
   "cell_type": "code",
   "execution_count": null,
   "id": "affe02e8",
   "metadata": {},
   "outputs": [],
   "source": [
    "def play(self: Round) -> List[MatchResult]:\n",
    "    matches = [\n",
    "        Match(\n",
    "            self.white() if callable(self.white) else self.white,\n",
    "            self.black() if callable(self.black) else self.black,\n",
    "            name = f\"r={i: <2}\"\n",
    "        )\n",
    "        for i in range(self.instances)\n",
    "    ]\n",
    "    with Pool(self.instances) as pool:\n",
    "        return pool.map(execute, enumerate(matches))\n",
    "\n",
    "Round.play = play\n",
    "del play"
   ]
  },
  {
   "cell_type": "markdown",
   "id": "50d0e528",
   "metadata": {},
   "source": [
    "## Tunier"
   ]
  },
  {
   "cell_type": "code",
   "execution_count": null,
   "id": "b493f3b4",
   "metadata": {},
   "outputs": [],
   "source": [
    "class Tournament():\n",
    "    def __init__(\n",
    "        self,\n",
    "        participants: List[ArtificialIntelligence],\n",
    "        instances_per_round: int = cpu_count(),\n",
    "        name: str = \"unnamed\"\n",
    "    ):\n",
    "        self.participants = participants\n",
    "        self.instances_per_round = instances_per_round\n",
    "        self.name = name"
   ]
  },
  {
   "cell_type": "code",
   "execution_count": null,
   "id": "0e0f1dfa",
   "metadata": {},
   "outputs": [],
   "source": [
    "def save(self: Tournament, idx: int, rnd: Round, results: List[MatchResult]):\n",
    "    with open(f\"round-{self.name}-{idx+1}.txt\", \"w\") as file:\n",
    "        file.write(f\"Round: {idx+1}\\n\")\n",
    "        \n",
    "        file.write(f\"\\nPlayer:\\n\")\n",
    "        white = rnd.white() if callable(rnd.white) else rnd.white\n",
    "        black = rnd.black() if callable(rnd.black) else rnd.black\n",
    "        file.write(f\"  white: {white}\\n\")\n",
    "        file.write(f\"  black: {black}\\n\")\n",
    "        \n",
    "        file.write(f\"\\nResult:\\n\")\n",
    "        file.write(f\"  remis: {sum(result.winner==' ' for result in results)}\\n\")\n",
    "        file.write(f\"  white: {sum(result.winner=='w' for result in results)}\\n\")\n",
    "        file.write(f\"  black: {sum(result.winner=='b' for result in results)}\\n\")\n",
    "        \n",
    "        for midx, result in enumerate(results):\n",
    "            file.write(f\"\\nMatch {midx+1}:\\n\")\n",
    "            file.write(f\"  Winner: '{result.winner}'\\n\")\n",
    "            file.write(f\"  Reason: {result.reason}\\n\")\n",
    "            file.write(f\"  Log:\\n\")\n",
    "            for sidx, state in enumerate(result.log):\n",
    "                file.write(f\"    {sidx+1: >3}. {state}\\n\")\n",
    "\n",
    "Tournament.save = save\n",
    "del save"
   ]
  },
  {
   "cell_type": "code",
   "execution_count": null,
   "id": "c8421cb5",
   "metadata": {},
   "outputs": [],
   "source": [
    "def play(self: Tournament):\n",
    "    rounds = [\n",
    "        Round(a, b, self.instances_per_round)\n",
    "        for a in self.participants\n",
    "        for b in self.participants\n",
    "        if a != b\n",
    "    ]\n",
    "    \n",
    "    for idx, rnd in enumerate(rounds):\n",
    "        results = rnd.play()\n",
    "        print(f\" === === === Round {idx+1: >2}/{len(rounds)} finished === === ===\")\n",
    "        self.save(idx, rnd, results)\n",
    "\n",
    "Tournament.play = play\n",
    "del play"
   ]
  }
 ],
 "metadata": {
  "kernelspec": {
   "display_name": "Python 3",
   "language": "python",
   "name": "python3"
  },
  "language_info": {
   "codemirror_mode": {
    "name": "ipython",
    "version": 3
   },
   "file_extension": ".py",
   "mimetype": "text/x-python",
   "name": "python",
   "nbconvert_exporter": "python",
   "pygments_lexer": "ipython3",
   "version": "3.8.5"
  }
 },
 "nbformat": 4,
 "nbformat_minor": 5
}
