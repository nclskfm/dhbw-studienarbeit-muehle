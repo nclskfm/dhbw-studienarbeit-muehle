{
 "cells": [
  {
   "cell_type": "markdown",
   "id": "demonstrated-delivery",
   "metadata": {},
   "source": [
    "# Tunier\n"
   ]
  },
  {
   "cell_type": "code",
   "execution_count": null,
   "id": "elder-enlargement",
   "metadata": {},
   "outputs": [],
   "source": [
    "import os.path\n",
    "css = \"\"\n",
    "if os.path.isfile(\"style.html\"):\n",
    "    from IPython.core.display import HTML\n",
    "    with open(\"style.html\", \"r\") as file:\n",
    "        css = file.read()\n",
    "HTML(css)"
   ]
  },
  {
   "cell_type": "code",
   "execution_count": null,
   "id": "peaceful-smooth",
   "metadata": {},
   "outputs": [],
   "source": [
    "%run ./nmm-game.ipynb\n",
    "%run ./nmm-artificial-intelligence.ipynb\n",
    "%run ./nmm-alpha-beta-pruning.ipynb\n",
    "%run ./nmm-minimax.ipynb"
   ]
  },
  {
   "cell_type": "code",
   "execution_count": null,
   "id": "387ddf3c",
   "metadata": {},
   "outputs": [],
   "source": [
    "from typing import Optional, List\n",
    "from collections import defaultdict"
   ]
  },
  {
   "cell_type": "markdown",
   "id": "british-mount",
   "metadata": {},
   "source": [
    "## Runde\n"
   ]
  },
  {
   "cell_type": "code",
   "execution_count": null,
   "id": "electronic-interview",
   "metadata": {},
   "outputs": [],
   "source": [
    "class Round():\n",
    "    def __init__(\n",
    "        self,\n",
    "        white: ArtificialIntelligence, black: ArtificialIntelligence,\n",
    "        start_state = s0, start_player = 'w',\n",
    "        max_turns: int = 250, max_state_replayed: int = 5, max_states_without_mill: int = 30,\n",
    "        name: str = \"\"\n",
    "    ):\n",
    "        self.white = white\n",
    "        self.black = black\n",
    "        \n",
    "        self.state = start_state\n",
    "        self.player = start_player\n",
    "        self.max_turns = max_turns\n",
    "        self.max_state_replayed = max_state_replayed\n",
    "        self.max_states_without_mill = max_states_without_mill\n",
    "        self.name = name\n",
    "        \n",
    "        self.log = [start_state]\n",
    "        self.visited = defaultdict(int)\n",
    "        self.no_mill_played = 0"
   ]
  },
  {
   "cell_type": "code",
   "execution_count": null,
   "id": "6a03ac27",
   "metadata": {},
   "outputs": [],
   "source": [
    "def __repr__(self: Round):\n",
    "    return f\"Round(name='{self.name}', white={type(self.white).__name__}, black={type(self.black).__name__}, max_turns={self.max_turns})\"\n",
    "\n",
    "Round.__repr__ = __repr__\n",
    "del __repr__"
   ]
  },
  {
   "cell_type": "code",
   "execution_count": null,
   "id": "9bfc0746",
   "metadata": {},
   "outputs": [],
   "source": [
    "class RoundResult():\n",
    "    def __init__(self, winner: str, log: List, reason: str):\n",
    "        self.winner = winner\n",
    "        self.log    = log\n",
    "        self.reason = reason\n",
    "    \n",
    "    def __repr__(self):\n",
    "        return f\"RoundResult(winner='{self.winner}', log={len(self.log)}, reason='{self.reason}')\""
   ]
  },
  {
   "cell_type": "code",
   "execution_count": null,
   "id": "34a2a9d8",
   "metadata": {},
   "outputs": [],
   "source": [
    "def current_ai(self: Round) -> ArtificialIntelligence:\n",
    "    if self.player == 'w':\n",
    "        return self.white\n",
    "    return self.black\n",
    "\n",
    "Round.current_ai = current_ai\n",
    "del current_ai"
   ]
  },
  {
   "cell_type": "code",
   "execution_count": null,
   "id": "e68d843a",
   "metadata": {},
   "outputs": [],
   "source": [
    "def check_remis(self: Round) -> Optional[RoundResult]:\n",
    "    if len(self.log) >= self.max_turns:\n",
    "        return RoundResult(\n",
    "            winner = ' ',\n",
    "            log    = self.log,\n",
    "            reason = f\"Reached max_turns after {self.max_turns} turns\"\n",
    "        )\n",
    "    \n",
    "    if self.visited[self.state] >= self.max_state_replayed:\n",
    "        return RoundResult(\n",
    "            winner = ' ',\n",
    "            log    = self.log,\n",
    "            reason = f\"State has been replayed for {self.visited[self.state]} turns\"\n",
    "        )\n",
    "    \n",
    "    if self.no_mill_played >= self.max_states_without_mill:\n",
    "        return RoundResult(\n",
    "            winner = ' ',\n",
    "            log    = self.log,\n",
    "            reason = f\"No mill has been played for {self.no_mill_played} turns\"\n",
    "        )\n",
    "    return None\n",
    "\n",
    "Round.check_remis = check_remis\n",
    "del check_remis"
   ]
  },
  {
   "cell_type": "code",
   "execution_count": null,
   "id": "2e8f5bc7",
   "metadata": {},
   "outputs": [],
   "source": [
    "def play(self: Round) -> RoundResult:\n",
    "    while True:\n",
    "        if finished(self.state, self.player):\n",
    "            return RoundResult(\n",
    "                winner = ('w', ' ', 'b')[utility(self.state, 'b')+1],\n",
    "                log    = self.log,\n",
    "                reason = f\"A player won the round\"\n",
    "            )\n",
    "        \n",
    "        mills_before = findMills(self.state[1], self.player)\n",
    "        remis = self.check_remis()\n",
    "        if remis is not None:\n",
    "            return remis\n",
    "        \n",
    "        bestMoves = self.current_ai().bestMoves(self.state, self.player)\n",
    "        self.state  = bestMoves.choice()\n",
    "        self.player = opponent(self.player)\n",
    "        \n",
    "        self.log.append(bestMoves)\n",
    "        self.visited[self.state] += 1\n",
    "        if countNewMills(self.state[1], mills_before, self.player) <= 0:\n",
    "            self.no_mill_played += 1\n",
    "        else:\n",
    "            self.no_mill_played = 0\n",
    "        \n",
    "        print(f\"{self.name} t={len(self.log): <3} {self.player} found {len(bestMoves.states): >2} states with value={bestMoves.value}\")\n",
    "    \n",
    "    \n",
    "\n",
    "Round.play = play\n",
    "del play"
   ]
  },
  {
   "cell_type": "markdown",
   "id": "simplified-lawrence",
   "metadata": {},
   "source": [
    "## Wettkampf\n"
   ]
  },
  {
   "cell_type": "code",
   "execution_count": null,
   "id": "c3b6a334",
   "metadata": {},
   "outputs": [],
   "source": [
    "from multiprocessing import cpu_count, Pool"
   ]
  },
  {
   "cell_type": "code",
   "execution_count": null,
   "id": "formal-commerce",
   "metadata": {},
   "outputs": [],
   "source": [
    "class Tournament():\n",
    "    def __init__(self, white: ArtificialIntelligence, black: ArtificialIntelligence, instances: int = None):\n",
    "        self.white = white\n",
    "        self.black = black\n",
    "        \n",
    "        self.instances = instances\n",
    "        if self.instances is None:\n",
    "            self.instances = cpu_count()"
   ]
  },
  {
   "cell_type": "code",
   "execution_count": null,
   "id": "213efd12",
   "metadata": {},
   "outputs": [],
   "source": [
    "def execute(element):\n",
    "    idx, rnd = element\n",
    "    random.seed(idx)\n",
    "    return rnd.play()"
   ]
  },
  {
   "cell_type": "code",
   "execution_count": null,
   "id": "affe02e8",
   "metadata": {},
   "outputs": [],
   "source": [
    "def play(self: Tournament):\n",
    "    rounds = [\n",
    "        Round(\n",
    "            self.white() if callable(self.white) else self.white,\n",
    "            self.black() if callable(self.black) else self.black,\n",
    "            name = f\"r={i: <2}\"\n",
    "        )\n",
    "        for i in range(self.instances)\n",
    "    ]\n",
    "    with Pool(self.instances) as pool:\n",
    "        return pool.map(execute, enumerate(rounds))\n",
    "\n",
    "Tournament.play = play\n",
    "del play"
   ]
  }
 ],
 "metadata": {
  "kernelspec": {
   "display_name": "Python 3",
   "language": "python",
   "name": "python3"
  },
  "language_info": {
   "codemirror_mode": {
    "name": "ipython",
    "version": 3
   },
   "file_extension": ".py",
   "mimetype": "text/x-python",
   "name": "python",
   "nbconvert_exporter": "python",
   "pygments_lexer": "ipython3",
   "version": "3.8.5"
  }
 },
 "nbformat": 4,
 "nbformat_minor": 5
}
