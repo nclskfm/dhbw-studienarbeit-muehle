{
 "cells": [
  {
   "cell_type": "markdown",
   "id": "demonstrated-delivery",
   "metadata": {},
   "source": [
    "# Tunier\n",
    "\n",
    "Damit unterschiedliche Algorithmen und deren Einstellungen vergleichen werden können, wird eine virtuelles Tunier implementiert.\n",
    "Bei diesem Tunier nehmen die Algorithmen in verschiedenen Ausführungen teil und spielen mehrmals gegeneinander, damit sicher gestellt wird, dass es sich nicht um Zufall handelt.\n",
    "\n",
    "Innerhalb eines Tuniers (eng. `Tournament`) spielen alle Teilnehmer gegen jeden anderen Teilnehmer, sodass jeder Teilnehmer einmal als Spieler weiß beginnt. Diese Teilnehmerbegegnungen nennen sich Runden (eng. `Round`) in denen mehrere Spiele (eng. `Match`) gespielt werden.\n",
    "\n",
    "Am Ende des Tuniers kann dann anhand der Anzahl der Gewinne ausgewertet werden, welcher Algorithmus mit welcher Einstellung am besten abschneidet."
   ]
  },
  {
   "cell_type": "code",
   "execution_count": null,
   "id": "elder-enlargement",
   "metadata": {},
   "outputs": [],
   "source": [
    "import os.path\n",
    "css = \"\"\n",
    "if os.path.isfile(\"style.html\"):\n",
    "    from IPython.core.display import HTML\n",
    "    with open(\"style.html\", \"r\") as file:\n",
    "        css = file.read()\n",
    "HTML(css)"
   ]
  },
  {
   "cell_type": "markdown",
   "id": "70e3ddd0",
   "metadata": {},
   "source": [
    "Zunächst werden beide implementierten Algorithmen geladen: `AlphaBetaPruning` und `Minimax`."
   ]
  },
  {
   "cell_type": "code",
   "execution_count": null,
   "id": "peaceful-smooth",
   "metadata": {},
   "outputs": [],
   "source": [
    "%run ./nmm-alpha-beta-pruning.ipynb\n",
    "%run ./nmm-minimax.ipynb"
   ]
  },
  {
   "cell_type": "markdown",
   "id": "f92345ea",
   "metadata": {},
   "source": [
    "Um eine übersichtlichere Entwicklung zu ermöglichen, werden Typdefinitionen geladen, welche später im Code verwendet werden."
   ]
  },
  {
   "cell_type": "code",
   "execution_count": null,
   "id": "387ddf3c",
   "metadata": {},
   "outputs": [],
   "source": [
    "from typing import Optional, Union, List, Callable"
   ]
  },
  {
   "cell_type": "markdown",
   "id": "british-mount",
   "metadata": {},
   "source": [
    "## Spiel\n",
    "\n",
    "Ein Spiel wird durch die Klasse `Match` implementiert, welche ein einziges Spiel zwischen zwei Teilnehmern darstellt. Der Konstruktor der Klasse erwartet zwei verpflichtende Argumente und sechs optionale Argumente:\n",
    "\n",
    "Verpflichtend:\n",
    "* `white` ist eine Instanz einer `ArtificialIntelligence`, die den weißen Spieler spielen wird;\n",
    "* `black` ist eine Instanz einer `ArtificialIntelligence`, die den schwarzen Spieler spielen wird;\n",
    "\n",
    "Optional:\n",
    "* `start_state` ist der Startzustand, der verwendet werden soll, standardmäßig `s0`;\n",
    "* `start_player` ist der Spieler, der das Spiel beginnen soll, standardmäßig `w`;\n",
    "* `max_turns` ist die maximale Anzahl an Zügen, die das Spiel dauern darf, bevor es in einem Remis endet, standardmäßig `250`;\n",
    "* `max_state_replayed` ist die maximale Anzahl, die eine Stellung nochmal gespielt werden darf, bevor das Spiel in einem Remis endet, standardmäßig `5`;\n",
    "* `max_moves_without_mill` ist die maximale Anzahl von aufeinanderfolgenden Zügen in denen kein Stein geschlagen wurde, bevor das Spiel in einem Remis endet, standardmäßig `30`;\n",
    "* `name` ein optionaler Name für das Spiel.\n",
    "\n",
    "Des Weiteren werden zwei Attribute initialisiert, die für den Spielverlauf nötig sind:\n",
    "* `log` der Verlauf aller Zustände;\n",
    "* `no_mill_played` die Anzahl der letzten Züge ohne eine neue Mühle."
   ]
  },
  {
   "cell_type": "code",
   "execution_count": null,
   "id": "electronic-interview",
   "metadata": {},
   "outputs": [],
   "source": [
    "class Match():\n",
    "    def __init__(\n",
    "        self,\n",
    "        white: ArtificialIntelligence, black: ArtificialIntelligence,\n",
    "        start_state = s0, start_player = 'w',\n",
    "        max_turns: int = 250, max_state_replayed: int = 5, max_moves_without_mill: int = 30,\n",
    "        name: str = \"\"\n",
    "    ):\n",
    "        self.white = white\n",
    "        self.black = black\n",
    "        \n",
    "        self.state = start_state\n",
    "        self.player = start_player\n",
    "        self.max_turns = max_turns\n",
    "        self.max_state_replayed = max_state_replayed\n",
    "        self.max_moves_without_mill = max_moves_without_mill\n",
    "        self.name = name\n",
    "        \n",
    "        self.log = [start_state]\n",
    "        self.no_mill_played = 0"
   ]
  },
  {
   "cell_type": "markdown",
   "id": "b14ebb34",
   "metadata": {},
   "source": [
    "Für Entwicklungszwecke wird eine Stringdarstellung für die Klasse `Match` implementiert. Hierzu wird durch die Funktion `__repr__` ein String zurückgegeben, der alle Parameter der Klasse beinhaltet."
   ]
  },
  {
   "cell_type": "code",
   "execution_count": null,
   "id": "6a03ac27",
   "metadata": {},
   "outputs": [],
   "source": [
    "def __repr__(self: Match):\n",
    "    return f\"Match(name='{self.name}', white={type(self.white).__name__}, \" + \\\n",
    "           f\"black={type(self.black).__name__}, max_turns={self.max_turns}, \" + \\\n",
    "           f\"max_state_replayed={self.max_state_replayed}, max_moves_without_mill={max_moves_without_mill})\"\n",
    "\n",
    "Match.__repr__ = __repr__\n",
    "del __repr__"
   ]
  },
  {
   "cell_type": "markdown",
   "id": "f9dd16ef",
   "metadata": {},
   "source": [
    "Das Ergebnis eines Spiels wird in der `MatchResult` Klasse gespeichert. Durch die Aufteilung in die Klassen `Match` und `MatchResult` kann der Garbage Collector die `Match` Instanz löschen, sobald das Spiel beendet ist und die Variable nicht mehr verwendet wird. So können möglicherweise große Transpositionstabellen gelöscht werden und der RAM wieder frei gegeben werden.\n",
    "\n",
    "Ein `MatchResult` besteht aus drei Attributen, die im Konstruktor gesetzt werden müssen:\n",
    "* `winner` $\\in Player \\cup \\{'\\ '\\}$, der Gewinner (oder Remis) des Spieles;\n",
    "* `log` ist die chronologische Liste aller gespielen Zustände;\n",
    "* `reason` eine Zeichenkette die genauer beschreibt warum das Spiel endete.\n",
    "\n",
    "Für Entwicklungszwecke wird hier ebenfalls eine Stringdarstellung für die Klasse `MatchResult` implementiert. Hierzu wird durch die Funktion `__repr__` ein String zurückgegeben, der alle Parameter der Klasse beinhaltet."
   ]
  },
  {
   "cell_type": "code",
   "execution_count": null,
   "id": "9bfc0746",
   "metadata": {},
   "outputs": [],
   "source": [
    "class MatchResult():\n",
    "    def __init__(self, winner: str, log: List, reason: str):\n",
    "        self.winner = winner\n",
    "        self.log    = log\n",
    "        self.reason = reason\n",
    "    \n",
    "    def __repr__(self):\n",
    "        return f\"MatchResult(winner='{self.winner}', log={len(self.log): >3}, reason='{self.reason}')\""
   ]
  },
  {
   "cell_type": "markdown",
   "id": "fc1bc26d",
   "metadata": {},
   "source": [
    "Die Hilfsfunktion `current_ai` gibt für das aktuelle Spiel die KI-Instanz zurück, die gerade am Zug ist."
   ]
  },
  {
   "cell_type": "code",
   "execution_count": null,
   "id": "34a2a9d8",
   "metadata": {},
   "outputs": [],
   "source": [
    "def current_ai(self: Match) -> ArtificialIntelligence:\n",
    "    if self.player == 'w':\n",
    "        return self.white\n",
    "    return self.black\n",
    "\n",
    "Match.current_ai = current_ai\n",
    "del current_ai"
   ]
  },
  {
   "cell_type": "markdown",
   "id": "aa2fd4dc",
   "metadata": {},
   "source": [
    "Die Hilfsfunktion `check_draw` überprüft, ob der aktuelle Zustand und Spieler zu einem Remis führen. Ist dies der Fall, wird ein entsprechendes `MatchResult` mit Begründung, ansonsten `None`, zurückgegeben. Gründe für ein Remis sind:\n",
    "* die maximale Anzahl an Zügen wurde gespielt - `max_turns`;\n",
    "* eine Stellung wurde öfter als maximal erlaubt gespielt - `max_state_replayed`;\n",
    "* die maximale Anzahl an Zügen ohne eine neue Mühle wurde gespielt - `max_moves_without_mill`."
   ]
  },
  {
   "cell_type": "code",
   "execution_count": null,
   "id": "e68d843a",
   "metadata": {},
   "outputs": [],
   "source": [
    "def check_draw(self: Match) -> Optional[MatchResult]:\n",
    "    if len(self.log) >= self.max_turns:\n",
    "        return MatchResult(\n",
    "            winner = ' ',\n",
    "            log    = self.log,\n",
    "            reason = f\"Reached max_turns after {self.max_turns} turns\"\n",
    "        )\n",
    "    \n",
    "    if self.log.count(self.state) >= self.max_state_replayed:\n",
    "        return MatchResult(\n",
    "            winner = ' ',\n",
    "            log    = self.log,\n",
    "            reason = f\"State has been replayed for {self.log.count(self.state)} times\"\n",
    "        )\n",
    "    \n",
    "    if self.no_mill_played >= self.max_moves_without_mill:\n",
    "        return MatchResult(\n",
    "            winner = ' ',\n",
    "            log    = self.log,\n",
    "            reason = f\"No mill has been played for {self.no_mill_played} moves\"\n",
    "        )\n",
    "    return None\n",
    "\n",
    "Match.check_draw = check_draw\n",
    "del check_draw"
   ]
  },
  {
   "cell_type": "markdown",
   "id": "3372e05d",
   "metadata": {},
   "source": [
    "Um ein Spiel zu spielen wird die Funktion `play` implementiert, diese bedient sich der im `Match` gespeicherten Einstellungen und Daten.\n",
    "\n",
    "Prinzipiell unendlich lang sind die Spieler abwechselnd am Zug und spielen ihren am besten berechneten Zug. Ein Spiel endet sobald per `finished` Funktion ein Gewinner ermittelt wurde oder per `check_draw` Hilfsfunktion ein Remis beschlossen wurde. Ist dies nicht der Fall, wird der aktuelle Teilnehmer nach dem nächsten (besten) Zug befragt, dieser wird gespeichert und der Gegner ist am Zug.\n",
    "\n",
    "Da nach einer undefinierten Anzahl an Zügen entweder `finished` oder `check_draw` ein Ergebnis liefern, wird immer eine `MatchResult` Instanz zurückgegeben."
   ]
  },
  {
   "cell_type": "code",
   "execution_count": null,
   "id": "2e8f5bc7",
   "metadata": {},
   "outputs": [],
   "source": [
    "def play(self: Match) -> MatchResult:\n",
    "    while True:\n",
    "        draw = self.check_draw()\n",
    "        if draw is not None:\n",
    "            return draw\n",
    "        \n",
    "        if finished(self.state, self.player):\n",
    "            # Draw was already checked\n",
    "            winner = self.player if utility(self.state, self.player) == 1 else opponent(self.player)\n",
    "            return MatchResult(\n",
    "                winner = winner,\n",
    "                log    = self.log,\n",
    "                reason = f\"A player won the match\"\n",
    "            )\n",
    "        \n",
    "        mills_before = findMills(self.state[1], self.player)\n",
    "        \n",
    "        bestMoves = self.current_ai().bestMoves(self.state, self.player)\n",
    "        self.state  = bestMoves.choice()\n",
    "        self.player = opponent(self.player)\n",
    "        \n",
    "        self.log.append(self.state)\n",
    "        if playerPhase(self.state, self.player) != 1 and \\\n",
    "           countNewMills(self.state[1], mills_before, self.player) <= 0:\n",
    "            self.no_mill_played += 1\n",
    "        else:\n",
    "            self.no_mill_played = 0\n",
    "\n",
    "Match.play = play\n",
    "del play"
   ]
  },
  {
   "cell_type": "markdown",
   "id": "simplified-lawrence",
   "metadata": {},
   "source": [
    "## Runde\n",
    "Damit zufällige Gewinne möglichst ausgeschlossen werden, können mehrere Spiele zwischen den gleichen Teilnehmern gleichzeitig in einer Runde gespielt werden. Hierzu wird die Python Bibliothek `multiprocessing` verwendet, die für jedes Spiel einen eigenen Prozess startet."
   ]
  },
  {
   "cell_type": "code",
   "execution_count": null,
   "id": "c3b6a334",
   "metadata": {},
   "outputs": [],
   "source": [
    "from multiprocessing import Pool"
   ]
  },
  {
   "cell_type": "markdown",
   "id": "1a88692c",
   "metadata": {},
   "source": [
    "Die Klasse `Round` spiegelt solch eine Runde wieder und besitzt drei Parameter im Konstruktor:\n",
    "* `white` ist eine Instanz oder eine Funktion die eine `ArtificialIntelligence` produziert, die den weißen Spieler spielt;\n",
    "* `black` ist eine Instanz oder eine Funktion die eine `ArtificialIntelligence` produziert, die den schwarzen Spieler spielt;\n",
    "* `instances` ist die Anzahl der Spiele die gleichzeitig gestartet werden sollen;\n",
    "* `seed_offset` ist die Zahl, die auf den Seed addiert werden soll.\n",
    "\n",
    "Die Parameter `white` und `black` können auch Funktionen akzeptieren, damit sichergestellt werden kann, dass die Teilnehmer innerhalb der gestarteten Spiele sich keine Transpositionstabllen teilen und somit einen Vorteil erhalten könnten."
   ]
  },
  {
   "cell_type": "code",
   "execution_count": null,
   "id": "formal-commerce",
   "metadata": {},
   "outputs": [],
   "source": [
    "class Round():\n",
    "    def __init__(\n",
    "        self,\n",
    "        white: Union[ArtificialIntelligence, Callable],\n",
    "        black: Union[ArtificialIntelligence, Callable],\n",
    "        instances: int,\n",
    "        seed_offset: int\n",
    "    ):\n",
    "        self.white = white\n",
    "        self.black = black\n",
    "        self.instances = instances\n",
    "        self.seed_offset = seed_offset"
   ]
  },
  {
   "cell_type": "markdown",
   "id": "118b1c70",
   "metadata": {},
   "source": [
    "Für Entwicklungszwecke wird eine Stringdarstellung für die Klasse `Round` implementiert. Hierzu wird durch die Funktion `__repr__` ein String zurückgegeben, der alle Parameter der Klasse beinhaltet."
   ]
  },
  {
   "cell_type": "code",
   "execution_count": null,
   "id": "d4a9f903",
   "metadata": {},
   "outputs": [],
   "source": [
    "def __repr__(self: Round):\n",
    "    return f\"Round(white={type(self.white).__name__}, black={type(self.black).__name__}, instances={self.instances})\"\n",
    "\n",
    "Round.__repr__ = __repr__\n",
    "del __repr__"
   ]
  },
  {
   "cell_type": "markdown",
   "id": "54ee5c16",
   "metadata": {},
   "source": [
    "Die Hilfsfunktion `execute` wird durch die Python Bibliothek `multiprocessing` innerhalb des neu erzeugten Prozesses ausgeführt. Sie setzt den Seed der Random-Funktion auf den Index der Runde damit verschiedene Spiele stattfinden und startet das Spiel."
   ]
  },
  {
   "cell_type": "code",
   "execution_count": null,
   "id": "213efd12",
   "metadata": {},
   "outputs": [],
   "source": [
    "def execute(match):\n",
    "    seed, rnd = match\n",
    "    random.seed(seed)\n",
    "    return rnd.play()"
   ]
  },
  {
   "cell_type": "markdown",
   "id": "e29ec306",
   "metadata": {},
   "source": [
    "Die Funktion `play` erzeugt eine Liste von `instances` Spielen und erstellt gegebenenfalls die Instanzen der KIs aus den gespeicherten Erstellungsfunktionen. Daraufhin werden die Spiele per `multiprocessing` und `execute` Hilfsfunktion in neuen Prozessen gestartet.\n",
    "\n",
    "Sobald jedes Spiel beendet wurde, werden die Ergebnisse wieder als Liste zurück gegeben."
   ]
  },
  {
   "cell_type": "code",
   "execution_count": null,
   "id": "affe02e8",
   "metadata": {},
   "outputs": [],
   "source": [
    "def play(self: Round) -> List[MatchResult]:\n",
    "    matches = [\n",
    "        Match(\n",
    "            self.white() if callable(self.white) else self.white,\n",
    "            self.black() if callable(self.black) else self.black,\n",
    "            name = f\"r={i: <2}\"\n",
    "        )\n",
    "        for i in range(self.instances)\n",
    "    ]\n",
    "    with Pool(self.instances) as pool:\n",
    "        return pool.map(execute, ((seed+self.seed_offset, match) for seed, match in enumerate(matches)))\n",
    "\n",
    "Round.play = play\n",
    "del play"
   ]
  },
  {
   "cell_type": "markdown",
   "id": "50d0e528",
   "metadata": {},
   "source": [
    "## Tunier\n",
    "Damit nun verschiedene Teilnehmer in unterschiedlichen Konstellationen verglichen werden können, wurde ein Tunier implementiert. Die Klasse `Tournament` erwartet einen verflichtenden und zwei optionale Parameter:\n",
    "\n",
    "Verpflichtend:\n",
    "* `participants` ist eine Liste an Teilnehmer `ArtificialIntelligence` Instanzen oder Funktionen, die diese erzeugen;\n",
    "\n",
    "Optional:\n",
    "* `instances_per_round` ist die Anzahl der Spiele die pro Runde und pro Teilnehmer Konstellation gespielt werden soll;\n",
    "* `name` ist ein Name, der den Log-Dateien angehängt wird;\n",
    "* `skip` ist die Anzahl der Runden, die übersprungen werden sollen. Dies ist Hilfreich falls die Berechnungen abbrechen und fortgesetzt werden sollen;\n",
    "* `seed_offset` ist die Zahl, die auf den Seed einer Runde addiert werden soll. So können Runden in Teilen ausgerechnet werden.\n",
    "\n",
    "Pro Spiel können durch die Transpositionstabelle bis zu 6 Gigabyte an RAM benötigt werden. Dementsprechend wird empfohlen die `instances_per_round` Einstellung zu bearbeiten."
   ]
  },
  {
   "cell_type": "code",
   "execution_count": null,
   "id": "b493f3b4",
   "metadata": {},
   "outputs": [],
   "source": [
    "class Tournament():\n",
    "    def __init__(\n",
    "        self,\n",
    "        participants: List[Union[ArtificialIntelligence, Callable]],\n",
    "        instances_per_round: int = 4,\n",
    "        name: str = \"unnamed\",\n",
    "        skip: int = 0,\n",
    "        seed_offset: int = 0\n",
    "    ):\n",
    "        self.participants = participants\n",
    "        self.instances_per_round = instances_per_round\n",
    "        self.name = name\n",
    "        self.skip = skip\n",
    "        self.seed_offset = seed_offset"
   ]
  },
  {
   "cell_type": "markdown",
   "id": "318179d2",
   "metadata": {},
   "source": [
    "Die Hilfsfunktion `save` speichert die Ergebnisse einer Runde in einer menschenlesbaren Datei, die nach dem Schema `round-NAME-ID.txt` benannt ist. Die Funktion erwartet drei Parameter:\n",
    "* `idx` ist die Nummer der aktuellen Runde (wird um eins erhöht, um eine natürliche Zählung zu verwenden);\n",
    "* `rnd` ist die aktuelle Runde;\n",
    "* `results` ist die Liste der Ergebnisse, die gespeichert werden soll."
   ]
  },
  {
   "cell_type": "code",
   "execution_count": null,
   "id": "0e0f1dfa",
   "metadata": {},
   "outputs": [],
   "source": [
    "def save(self: Tournament, idx: int, rnd: Round, results: List[MatchResult]):\n",
    "    path = f\"round-{self.name}-{idx+1}.txt\"\n",
    "    with open(path, \"w\") as file:\n",
    "        file.write(f\"Round: {idx+1}\\n\")\n",
    "        \n",
    "        file.write(f\"\\nPlayer:\\n\")\n",
    "        white = rnd.white() if callable(rnd.white) else rnd.white\n",
    "        black = rnd.black() if callable(rnd.black) else rnd.black\n",
    "        file.write(f\"  white: {white}\\n\")\n",
    "        file.write(f\"  black: {black}\\n\")\n",
    "        \n",
    "        file.write(f\"\\nResult:\\n\")\n",
    "        file.write(f\"  draw : {sum(result.winner==' ' for result in results)}\\n\")\n",
    "        file.write(f\"  white: {sum(result.winner=='w' for result in results)}\\n\")\n",
    "        file.write(f\"  black: {sum(result.winner=='b' for result in results)}\\n\")\n",
    "        \n",
    "        for midx, result in enumerate(results):\n",
    "            file.write(f\"\\nMatch {midx+1}:\\n\")\n",
    "            file.write(f\"  Winner: '{result.winner}'\\n\")\n",
    "            file.write(f\"  Reason: {result.reason}\\n\")\n",
    "            file.write(f\"  Log:\\n\")\n",
    "            for sidx, state in enumerate(result.log):\n",
    "                file.write(f\"    {sidx+1: >3}. {state}\\n\")\n",
    "    return path\n",
    "\n",
    "Tournament.save = save\n",
    "del save"
   ]
  },
  {
   "cell_type": "markdown",
   "id": "c341cb0f",
   "metadata": {},
   "source": [
    "Die Funktion `play` startet das Tunier und speichert per Hilfsfunktion `save` die Ergebnisse in einer Textdatei ab. Die Laufzeit kann gegebenenfalls mehrere Stunden lang sein. Mit Hilfe der Bibliotheken `time` und `tqdm` wird der Fortschitt angezeigt.\n",
    "\n",
    "Hierzu werden alle möglichen Konstellationen der Teilnehmer erzeugt, sodass jeder Teilnehmer gegen jeden anderen Teilnehmer, sowohl als *weiß* als auch als *schwarz*, spielt. Spiele gegen sich selbst werden nicht durchgeführt."
   ]
  },
  {
   "cell_type": "code",
   "execution_count": null,
   "id": "c8421cb5",
   "metadata": {},
   "outputs": [],
   "source": [
    "import time, tqdm\n",
    "def play(self: Tournament):\n",
    "    rounds = list(enumerate(\n",
    "        Round(a, b, self.instances_per_round, self.seed_offset)\n",
    "        for a in self.participants\n",
    "        for b in self.participants\n",
    "        if a != b\n",
    "    ))\n",
    "    \n",
    "    for idx, rnd in tqdm.tqdm(rounds):\n",
    "        if idx < self.skip:\n",
    "            print(f\"Round {idx+1: >2}/{len(rounds)} was skipped\")\n",
    "            continue\n",
    "        \n",
    "        start = time.time()\n",
    "        results = rnd.play()\n",
    "        end = time.time()\n",
    "        print(f\"Round {idx+1: >2}/{len(rounds)} took {end-start}\")\n",
    "        path = self.save(idx, rnd, results)\n",
    "        print(f\" > Saved to {path}\")\n",
    "\n",
    "Tournament.play = play\n",
    "del play"
   ]
  }
 ],
 "metadata": {
  "kernelspec": {
   "display_name": "Python 3",
   "language": "python",
   "name": "python3"
  },
  "language_info": {
   "codemirror_mode": {
    "name": "ipython",
    "version": 3
   },
   "file_extension": ".py",
   "mimetype": "text/x-python",
   "name": "python",
   "nbconvert_exporter": "python",
   "pygments_lexer": "ipython3",
   "version": "3.8.5"
  }
 },
 "nbformat": 4,
 "nbformat_minor": 5
}
