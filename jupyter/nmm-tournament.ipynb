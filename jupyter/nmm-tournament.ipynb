{
 "cells": [
  {
   "cell_type": "markdown",
   "id": "demonstrated-delivery",
   "metadata": {},
   "source": [
    "# Tunier\n"
   ]
  },
  {
   "cell_type": "code",
   "execution_count": null,
   "id": "elder-enlargement",
   "metadata": {},
   "outputs": [],
   "source": [
    "import os.path\n",
    "css = \"\"\n",
    "if os.path.isfile(\"style.html\"):\n",
    "    from IPython.core.display import HTML\n",
    "    with open(\"style.html\", \"r\") as file:\n",
    "        css = file.read()\n",
    "HTML(css)"
   ]
  },
  {
   "cell_type": "code",
   "execution_count": null,
   "id": "peaceful-smooth",
   "metadata": {},
   "outputs": [],
   "source": [
    "%run ./nmm-game.ipynb\n",
    "%run ./nmm-artificial-intelligence.ipynb\n",
    "%run ./nmm-alpha-beta-pruning.ipynb\n",
    "%run ./nmm-minimax.ipynb"
   ]
  },
  {
   "cell_type": "markdown",
   "id": "british-mount",
   "metadata": {},
   "source": [
    "## Runde\n"
   ]
  },
  {
   "cell_type": "code",
   "execution_count": null,
   "id": "electronic-interview",
   "metadata": {},
   "outputs": [],
   "source": [
    "class Round():\n",
    "    def __init__(self, white: ArtificialIntelligence, black: ArtificialIntelligence, start_state = s0, start_player = 'w', max_turns: int = 250, name: str = \"\"):\n",
    "        self.white = white\n",
    "        self.black = black\n",
    "        \n",
    "        self.state = start_state\n",
    "        self.player = start_player\n",
    "        self.max_turns = max_turns\n",
    "        self.name = name\n",
    "        \n",
    "        self.log = []"
   ]
  },
  {
   "cell_type": "code",
   "execution_count": null,
   "id": "6a03ac27",
   "metadata": {},
   "outputs": [],
   "source": [
    "def __repr__(self: Round):\n",
    "    return f\"Round(name='{self.name}', white={type(self.white).__name__}, black={type(self.black).__name__}, max_turns={self.max_turns})\"\n",
    "\n",
    "Round.__repr__ = __repr__\n",
    "del __repr__"
   ]
  },
  {
   "cell_type": "code",
   "execution_count": null,
   "id": "9bfc0746",
   "metadata": {},
   "outputs": [],
   "source": [
    "class RoundResult():\n",
    "    def __init__(self, winner: str, turns: int, reason: str):\n",
    "        self.winner = winner\n",
    "        self.turns  = turns\n",
    "        self.reason = reason\n",
    "    \n",
    "    def __repr__(self):\n",
    "        return f\"RoundResult(winner='{self.winner}', turns={self.turns}, reason='{self.reason}')\""
   ]
  },
  {
   "cell_type": "code",
   "execution_count": null,
   "id": "34a2a9d8",
   "metadata": {},
   "outputs": [],
   "source": [
    "def current_ai(self: Round) -> ArtificialIntelligence:\n",
    "    if self.player == 'w':\n",
    "        return self.white\n",
    "    return self.black\n",
    "\n",
    "Round.current_ai = current_ai\n",
    "del current_ai"
   ]
  },
  {
   "cell_type": "code",
   "execution_count": null,
   "id": "2e8f5bc7",
   "metadata": {},
   "outputs": [],
   "source": [
    "def play(self: Round) -> RoundResult:\n",
    "    for turn in range(self.max_turns):\n",
    "        if finished(self.state, self.player):\n",
    "            return RoundResult(\n",
    "                winner = ('w', ' ', 'b')[utility(self.state, 'b')+1],\n",
    "                turns  = turn+1,\n",
    "                reason = f\"finished() returned true\"\n",
    "            )\n",
    "        \n",
    "        bestMoves = self.current_ai().bestMoves(self.state, self.player)\n",
    "        self.log.append(bestMoves)\n",
    "        \n",
    "        self.state  = bestMoves.choice()\n",
    "        self.player = opponent(self.player)\n",
    "        \n",
    "        print(f\"{self.name} t={turn+1: >3} {self.player} found {len(bestMoves.states): >2} states with value={bestMoves.value}\")\n",
    "    \n",
    "    return RoundResult(\n",
    "        winner=' ',\n",
    "        turns=self.max_turns,\n",
    "        reason=f\"Reached max_turns after {self.max_turns} turns\"\n",
    "    )\n",
    "\n",
    "Round.play = play\n",
    "del play"
   ]
  },
  {
   "cell_type": "markdown",
   "id": "simplified-lawrence",
   "metadata": {},
   "source": [
    "## Wettkampf\n"
   ]
  },
  {
   "cell_type": "code",
   "execution_count": null,
   "id": "c3b6a334",
   "metadata": {},
   "outputs": [],
   "source": [
    "from multiprocessing import cpu_count, Pool"
   ]
  },
  {
   "cell_type": "code",
   "execution_count": null,
   "id": "formal-commerce",
   "metadata": {},
   "outputs": [],
   "source": [
    "class Tournament():\n",
    "    def __init__(self, white: ArtificialIntelligence, black: ArtificialIntelligence, instances: int = None):\n",
    "        self.white = white\n",
    "        self.black = black\n",
    "        \n",
    "        self.instances = instances\n",
    "        if self.instances is None:\n",
    "            self.instances = cpu_count()\n",
    "        \n",
    "        self.rounds = [\n",
    "            Round(\n",
    "                self.white() if callable(self.white) else self.white,\n",
    "                self.black() if callable(self.black) else self.black,\n",
    "                name = f\"r={i: <2}\"\n",
    "            )\n",
    "            for i in range(self.instances)\n",
    "        ]"
   ]
  },
  {
   "cell_type": "code",
   "execution_count": null,
   "id": "213efd12",
   "metadata": {},
   "outputs": [],
   "source": [
    "def execute(self, index):\n",
    "    random.seed(index)\n",
    "    return self.rounds[index].play()\n",
    "Tournament.execute = execute"
   ]
  },
  {
   "cell_type": "code",
   "execution_count": null,
   "id": "affe02e8",
   "metadata": {},
   "outputs": [],
   "source": [
    "def play(self: Tournament):\n",
    "    with Pool(len(self.rounds)) as pool:\n",
    "        return pool.map(self.execute, range(self.instances))\n",
    "\n",
    "Tournament.play = play\n",
    "del play"
   ]
  },
  {
   "cell_type": "code",
   "execution_count": null,
   "id": "96315545",
   "metadata": {},
   "outputs": [],
   "source": [
    "import pickle\n",
    "pickle.dumps(Minimax())"
   ]
  },
  {
   "cell_type": "code",
   "execution_count": null,
   "id": "9a9f0845",
   "metadata": {},
   "outputs": [],
   "source": [
    "t = Tournament(Minimax(), AlphaBetaPruning())"
   ]
  },
  {
   "cell_type": "code",
   "execution_count": null,
   "id": "808ca4e7",
   "metadata": {
    "scrolled": true
   },
   "outputs": [],
   "source": [
    "t.rounds"
   ]
  },
  {
   "cell_type": "code",
   "execution_count": null,
   "id": "3314ec68",
   "metadata": {},
   "outputs": [],
   "source": [
    "%%time\n",
    "t.play()"
   ]
  }
 ],
 "metadata": {
  "kernelspec": {
   "display_name": "Python 3",
   "language": "python",
   "name": "python3"
  },
  "language_info": {
   "codemirror_mode": {
    "name": "ipython",
    "version": 3
   },
   "file_extension": ".py",
   "mimetype": "text/x-python",
   "name": "python",
   "nbconvert_exporter": "python",
   "pygments_lexer": "ipython3",
   "version": "3.8.5"
  }
 },
 "nbformat": 4,
 "nbformat_minor": 5
}
