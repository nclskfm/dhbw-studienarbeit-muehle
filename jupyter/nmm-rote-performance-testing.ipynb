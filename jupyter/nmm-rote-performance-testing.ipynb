{
 "cells": [
  {
   "cell_type": "markdown",
   "id": "d8e8629b",
   "metadata": {},
   "source": [
    "# Geschwindigkeit Tests\n",
    "Die Klasse `Cache` aus dem Notebook `nmm-cache.ipynb`implementiert eine Transpositionstabelle die persistiert werden kann. Um zu ermitteln wie der Cache implementiert werden soll, wurde zwischen zwei Möglichkeiten abgewogen. Die eine Möglichkeit ist die Verwendung einer externen Key-Value-Datenbank, die als extra Container auf dem Computer ausgeführt wird. Die zweite Möglichkeit ist das direkte Zwischenspeichern im Arbeitsspeicher und das anschließende exportieren auf einen persistenten Datenträger.\n",
    "\n",
    "Um zu ermitteln welche Methode verwendet werden sollte, wird im Nachfolgenden die Performance der jeweiligen Methode getestet und bewertet."
   ]
  },
  {
   "cell_type": "markdown",
   "id": "2e7e8850",
   "metadata": {},
   "source": [
    "## Vorbereitungen\n",
    "Zum einen müssen folgende Packete importiert werden:\n",
    "- `redis` - Dieses Packet implementiert die Kommunikation mit der Redis-Datenbank\n",
    "- `struct` - Wird verwendet um Float Werte in Bytes zu übersetzen\n",
    "- `tqdm` - Wird verwendet um den Fortschritt anzuzeigen\n",
    "\n",
    "Des weiteren wird eine Klasse `Cache` angelegt, die als Interface für die jeweilige Implementierung dient. Diese besitzt die Methoden `write` und `read` welche als Vorlage schreiben und auslesen des Caches dienen."
   ]
  },
  {
   "cell_type": "code",
   "execution_count": null,
   "id": "27a2c429",
   "metadata": {},
   "outputs": [],
   "source": [
    "import redis\n",
    "import struct\n",
    "import random\n",
    "import resource\n",
    "from tqdm import tqdm"
   ]
  },
  {
   "cell_type": "code",
   "execution_count": null,
   "id": "095ad8df",
   "metadata": {},
   "outputs": [],
   "source": [
    "class Cache():\n",
    "    def write(self, state: int, player: bool, limit: int, value: float, alpha: float, beta: float) -> None:\n",
    "        pass\n",
    "    \n",
    "    def read(self, state: int, player: bool, limit: int) -> (float,float,float):\n",
    "        \"\"\"Value, Alpha, Beta\"\"\"\n",
    "        pass\n"
   ]
  },
  {
   "cell_type": "markdown",
   "id": "c3fafc61",
   "metadata": {},
   "source": [
    "## Python Cache\n",
    "Der Python Cache besteht aus einem Python-Dictionary in welches die Key-Value-Paare gespeichert werden."
   ]
  },
  {
   "cell_type": "code",
   "execution_count": null,
   "id": "precious-count",
   "metadata": {},
   "outputs": [],
   "source": [
    "class Python_Cache(Cache):\n",
    "    def __init__(self):\n",
    "        self.cache = {}\n",
    "        pass\n",
    "    \n",
    "    def write(self, state: int, player: bool, limit: int, value: float, alpha: float, beta: float) -> None:\n",
    "        key = state.to_bytes(8,'big') + player.to_bytes(1,'big') + limit.to_bytes(1,'big')\n",
    "        value = struct.pack(\"d\", value) + struct.pack(\"d\",alpha) + struct.pack(\"d\",beta)\n",
    "        self.cache[key] = value\n",
    "    \n",
    "    def read(self, state: int, player: bool, limit: int) -> (float,float,float):\n",
    "        \"\"\"Value, Alpha, Beta\"\"\"\n",
    "        key = state.to_bytes(8,'big') + player.to_bytes(1,'big') + limit.to_bytes(1,'big')\n",
    "        value = self.cache.get(key)\n",
    "        return (\n",
    "            struct.unpack(\"d\", value[:8])[0],\n",
    "            struct.unpack(\"d\", value[8:16])[0],\n",
    "            struct.unpack(\"d\", value[16:24])[0],\n",
    "        ) if value else None"
   ]
  },
  {
   "cell_type": "markdown",
   "id": "01ad5929",
   "metadata": {},
   "source": [
    "## Redis Cache\n",
    "Der Redis-Cache implementiert einen Transpositionstabelle auf basierend auf der Key-Value-Datenbank Redis. Die Übersetzung der Werte zu Byte-Arrays erfolgt equivalent zu dem Python-Cache. Nur die Werte werden letzendlich mithilfe des `redis` Packets in der lokalen Redis-Datenbank gespeichert."
   ]
  },
  {
   "cell_type": "code",
   "execution_count": null,
   "id": "f5bdd4aa",
   "metadata": {},
   "outputs": [],
   "source": [
    "class Redis_Cache(Cache):\n",
    "    r = redis.Redis(host='redis')\n",
    "    def write(self, state: int, player: bool, limit: int, value: float, alpha: float, beta: float) -> None:\n",
    "        key = state.to_bytes(8,'big') + player.to_bytes(1,'big') + limit.to_bytes(1,'big')\n",
    "        value = struct.pack(\"d\",value) + struct.pack(\"d\",alpha) + struct.pack(\"d\",beta)\n",
    "        self.r.set(key,value)\n",
    "\n",
    "    def read(self, state: int, player: bool, limit: int):\n",
    "        key = state.to_bytes(8,'big') + player.to_bytes(1,'big') + limit.to_bytes(1,'big')\n",
    "        value = self.r.get(key)\n",
    "        return (\n",
    "            struct.unpack(\"d\", value[:8])[0],\n",
    "            struct.unpack(\"d\", value[8:16])[0],\n",
    "            struct.unpack(\"d\", value[16:24])[0],\n",
    "        ) if value else None"
   ]
  },
  {
   "cell_type": "markdown",
   "id": "60d9cc76",
   "metadata": {},
   "source": [
    "## Test\n",
    "Um den Test durchführen zu können, werden zuerst die einzelnen Parameter definiert und die jeweiligen Caches instanziiert. Insgesamt werden 1 000 000 Werte zum Testen verwendet."
   ]
  },
  {
   "cell_type": "code",
   "execution_count": null,
   "id": "adolescent-sterling",
   "metadata": {},
   "outputs": [],
   "source": [
    "pc = Python_Cache()\n",
    "rc = Redis_Cache()\n",
    "\n",
    "start = 1000000000\n",
    "count = 1000000\n",
    "end   = start+count"
   ]
  },
  {
   "cell_type": "code",
   "execution_count": null,
   "id": "canadian-province",
   "metadata": {},
   "outputs": [],
   "source": [
    "resource.getrusage(resource.RUSAGE_SELF)"
   ]
  },
  {
   "cell_type": "markdown",
   "id": "28cd1f63",
   "metadata": {},
   "source": [
    "### Test der Schreibgeschwindigkeit\n",
    "Ingesamt werden dem Parameter `count` entsprechend viele Einträge in den Cache geschrieben. Die Werte werden dabei zufällig generiert."
   ]
  },
  {
   "cell_type": "code",
   "execution_count": null,
   "id": "vietnamese-contribution",
   "metadata": {
    "scrolled": false
   },
   "outputs": [],
   "source": [
    "%%time\n",
    "print('Python Cache')\n",
    "for state in tqdm(range(start, end)):\n",
    "    for player in [True, False]:\n",
    "        for limit in range(4):\n",
    "            pc.write(state, player, limit, random.random(), random.random(), -random.random())\n",
    "\n"
   ]
  },
  {
   "cell_type": "code",
   "execution_count": null,
   "id": "5cf23413",
   "metadata": {},
   "outputs": [],
   "source": [
    "%%time\n",
    "print('Redis Cache')\n",
    "for state in tqdm(range(start, end)):\n",
    "    for player in [True, False]:\n",
    "        for limit in range(4):\n",
    "            rc.write(state, player, limit, random.random(), random.random(), -random.random())"
   ]
  },
  {
   "cell_type": "markdown",
   "id": "bacc93c9",
   "metadata": {},
   "source": [
    "Im Vergleich zu dem `Python_Cache` ist der `Redis_Cache` beim Schreiben der Einträge etwa um den Faktor '90' langsamer.\n"
   ]
  },
  {
   "cell_type": "code",
   "execution_count": null,
   "id": "arctic-television",
   "metadata": {},
   "outputs": [],
   "source": [
    "resource.getrusage(resource.RUSAGE_SELF)"
   ]
  },
  {
   "cell_type": "markdown",
   "id": "7cdffae6",
   "metadata": {},
   "source": [
    "### Testen der Lesegeschwindigkeit\n",
    "Bei dem Test der Lesegeschwindigkeit wird gemessen, wie schnell die Werte für zufällig ermittelte Schlüssel zurück gegeben werden. Dabei wird auf die weiter oben generierten Einträge zurück gegriffen."
   ]
  },
  {
   "cell_type": "code",
   "execution_count": null,
   "id": "passive-nightmare",
   "metadata": {},
   "outputs": [],
   "source": [
    "%%time\n",
    "valid = 0\n",
    "for count in tqdm(range(count)):\n",
    "    state = random.randint(start, end-1)\n",
    "    limit = random.randint(0, 3)\n",
    "    player = random.choice([True, False])\n",
    "    result = pc.read(state, player, limit)\n",
    "    if result is None:\n",
    "        print(state, player, limit)\n",
    "    else:\n",
    "        valid += 1\n",
    "print(valid)"
   ]
  },
  {
   "cell_type": "code",
   "execution_count": null,
   "id": "ef45844c",
   "metadata": {},
   "outputs": [],
   "source": [
    "%%time\n",
    "valid = 0\n",
    "for count in tqdm(range(count)):\n",
    "    state = random.randint(start, end-1)\n",
    "    limit = random.randint(0, 3)\n",
    "    player = random.choice([True, False])\n",
    "    result = rc.read(state, player, limit)\n",
    "    if result is None:\n",
    "        print(state, player, limit)\n",
    "    else:\n",
    "        valid += 1\n",
    "print(valid)"
   ]
  },
  {
   "cell_type": "markdown",
   "id": "706584c5",
   "metadata": {},
   "source": [
    "Währnd die Lesegeschwindigkeit beim `Redis_Cache` deutlich höher als die Schreibgeschwindigkeit ist, ist diese dennoch um etwa den Faktor vier langsamer als die des `Python_Caches`."
   ]
  },
  {
   "cell_type": "code",
   "execution_count": null,
   "id": "exterior-bernard",
   "metadata": {},
   "outputs": [],
   "source": [
    "resource.getrusage(resource.RUSAGE_SELF)"
   ]
  },
  {
   "cell_type": "markdown",
   "id": "9507f673",
   "metadata": {},
   "source": [
    "## Resumee\n",
    "Sowohl der bei der Lese- als auch bei der Schreibgeschwindigkeit ist der `Python_Cache` deutlich schneller als der `Redis_Cache`. Wobei die Geschwindigkeits-Differenz beim Schreiben deutlich höher ist als beim Lesen. Dies ist höchst wahrscheinlich auf den Verbindungs-Overhead zwischen Datenbank und dem Python-Programm zurück zu führen. Somit wurde sich für dafür entschieden, den Cache als Python-Dictionary zu implementieren und anschließend als Datei auf dem Datenträger abzulegen. Hierbei wird in kauf genommen, dass es mit wachsender Größe des Caches zu einer starkenAuslastung des Arbeitsspeicher kommen wird."
   ]
  }
 ],
 "metadata": {
  "kernelspec": {
   "display_name": "Python 3",
   "language": "python",
   "name": "python3"
  },
  "language_info": {
   "codemirror_mode": {
    "name": "ipython",
    "version": 3
   },
   "file_extension": ".py",
   "mimetype": "text/x-python",
   "name": "python",
   "nbconvert_exporter": "python",
   "pygments_lexer": "ipython3",
   "version": "3.8.5"
  }
 },
 "nbformat": 4,
 "nbformat_minor": 5
}
