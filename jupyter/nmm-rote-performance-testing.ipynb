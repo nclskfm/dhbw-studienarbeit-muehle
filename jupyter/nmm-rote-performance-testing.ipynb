{
 "cells": [
  {
   "cell_type": "markdown",
   "id": "d8e8629b",
   "metadata": {},
   "source": [
    "# Geschwindigkeit Tests der Transpositionstabelle"
   ]
  },
  {
   "cell_type": "code",
   "execution_count": null,
   "id": "c2febc9a",
   "metadata": {},
   "outputs": [],
   "source": [
    "import os.path\n",
    "css = \"\"\n",
    "if os.path.isfile(\"style.html\"):\n",
    "    from IPython.core.display import HTML\n",
    "    with open(\"style.html\", \"r\") as file:\n",
    "        css = file.read()\n",
    "HTML(css)"
   ]
  },
  {
   "cell_type": "markdown",
   "id": "081d6ef9",
   "metadata": {},
   "source": [
    "Die Klasse `Cache` aus dem Notebook `nmm-cache` implementiert eine Transpositionstabelle die persistiert werden kann. Um zu ermitteln wie diese implementiert werden soll, wurde zwischen zwei Möglichkeiten abgewogen.\n",
    "\n",
    "1. Zum einen steht die Verwendung einer externen Key-Value-Datenbank zur Auswahl. Diese wird in einem weiteren Container auf dem selben Computer ausgeführt, dadurch werden die Netzwerklatenzen minimiert.\n",
    "2. Die zweite Möglichkeit ist das Speichern im Arbeitsspeicher in einem Python-Dictionary. Dieses kann anschließend exportiert und auf einen persistenten Datenträger geschrieben werden.\n",
    "\n",
    "Um zu ermitteln welche Methode verwendet werden sollte, wird im Nachfolgenden die Geschwindigkeit der jeweiligen Methode getestet und bewertet."
   ]
  },
  {
   "cell_type": "markdown",
   "id": "2e7e8850",
   "metadata": {},
   "source": [
    "## Vorbereitungen\n",
    "Bevor die Möglichkeiten getestet werden können, müssen folgende Pakete geladen werden:\n",
    "- `redis` implementiert die Kommunikation mit der Redis-Datenbank;\n",
    "- `struct` übersetzt `float` Werte in `bytes`;\n",
    "- `random` ermittelt Zufallswerte zum testen;\n",
    "- `tqdm` zeigt den Fortschritt an."
   ]
  },
  {
   "cell_type": "code",
   "execution_count": null,
   "id": "27a2c429",
   "metadata": {},
   "outputs": [],
   "source": [
    "import redis\n",
    "import struct\n",
    "import random\n",
    "from tqdm.notebook import tqdm"
   ]
  },
  {
   "cell_type": "markdown",
   "id": "8d38d1f6",
   "metadata": {},
   "source": [
    "Des Weiteren wird die Klasse `CacheTest` angelegt, welche als Interface für die jeweilige Implementierung dient. Zwei Funktionen werden vorgegeben:\n",
    "\n",
    "* `write` schreibt die Werte `value`, `alpha` und `beta` an dem Schlüssel `state` und `player` in den Cache;\n",
    "* `read` ließt die mit `write` gespeicherten Werte aus oder gibt `None` zurück, falls der Cache diese nicht beinhaltet."
   ]
  },
  {
   "cell_type": "code",
   "execution_count": null,
   "id": "095ad8df",
   "metadata": {},
   "outputs": [],
   "source": [
    "class CacheTest():\n",
    "    def write(self, state: int, player: bool, limit: int, value: float, alpha: float, beta: float) -> None:\n",
    "        pass\n",
    "    \n",
    "    def read(self, state: int, player: bool, limit: int) -> (float, float, float):\n",
    "        \"\"\"Value, Alpha, Beta\"\"\"\n",
    "        pass\n"
   ]
  },
  {
   "cell_type": "markdown",
   "id": "c3fafc61",
   "metadata": {},
   "source": [
    "## Python-Dictionary\n",
    "Der native Python Cache besteht aus einem einfachen Python-Dictionary in welches die Key-Value-Paare gespeichert werden."
   ]
  },
  {
   "cell_type": "code",
   "execution_count": null,
   "id": "precious-count",
   "metadata": {},
   "outputs": [],
   "source": [
    "class PythonCache(CacheTest):\n",
    "    def __init__(self):\n",
    "        self.cache = {}\n",
    "        pass\n",
    "    \n",
    "    def write(self, state: int, player: bool, limit: int, value: float, alpha: float, beta: float) -> None:\n",
    "        key = state.to_bytes(8,'big') + player.to_bytes(1,'big') + limit.to_bytes(1,'big')\n",
    "        value = struct.pack(\"d\", value) + struct.pack(\"d\",alpha) + struct.pack(\"d\",beta)\n",
    "        self.cache[key] = value\n",
    "    \n",
    "    def read(self, state: int, player: bool, limit: int) -> (float,float,float):\n",
    "        \"\"\"Value, Alpha, Beta\"\"\"\n",
    "        key = state.to_bytes(8,'big') + player.to_bytes(1,'big') + limit.to_bytes(1,'big')\n",
    "        value = self.cache.get(key)\n",
    "        return (\n",
    "            struct.unpack(\"d\", value[:8])[0],\n",
    "            struct.unpack(\"d\", value[8:16])[0],\n",
    "            struct.unpack(\"d\", value[16:24])[0],\n",
    "        ) if value else None"
   ]
  },
  {
   "cell_type": "markdown",
   "id": "01ad5929",
   "metadata": {},
   "source": [
    "## Redis\n",
    "\n",
    "Der Redis-Cache implementiert eine Transpositionstabelle auf basierend auf der Key-Value-Datenbank *Redis*. Die Übersetzung der Werte zu Byte-Arrays erfolgt äquivalent zu dem Python-Cache. Die Werte werden danach mit Hilfe des `redis` Pakets in der lokalen Redis-Datenbank gespeichert."
   ]
  },
  {
   "cell_type": "code",
   "execution_count": null,
   "id": "f5bdd4aa",
   "metadata": {},
   "outputs": [],
   "source": [
    "class RedisCache(CacheTest):\n",
    "    r = redis.Redis(host='redis')\n",
    "    def write(self, state: int, player: bool, limit: int, value: float, alpha: float, beta: float) -> None:\n",
    "        key = state.to_bytes(8,'big') + player.to_bytes(1,'big') + limit.to_bytes(1,'big')\n",
    "        value = struct.pack(\"d\",value) + struct.pack(\"d\",alpha) + struct.pack(\"d\",beta)\n",
    "        self.r.set(key,value)\n",
    "\n",
    "    def read(self, state: int, player: bool, limit: int):\n",
    "        key = state.to_bytes(8,'big') + player.to_bytes(1,'big') + limit.to_bytes(1,'big')\n",
    "        value = self.r.get(key)\n",
    "        return (\n",
    "            struct.unpack(\"d\", value[:8])[0],\n",
    "            struct.unpack(\"d\", value[8:16])[0],\n",
    "            struct.unpack(\"d\", value[16:24])[0],\n",
    "        ) if value else None"
   ]
  },
  {
   "cell_type": "markdown",
   "id": "60d9cc76",
   "metadata": {},
   "source": [
    "## Test\n",
    "\n",
    "Als Vorbereitung des Tests werden zunächst Instanzen der einzelnen `CacheTest` Implementierungen erstellt. Außerdem werden Einstellungen für die Tests vorgenommen:\n",
    "\n",
    "* `count` ist die Anzahl der Elemente, die in die Caches geschrieben werden sollen;\n",
    "* `start` bis `end` ist das Intervall in dem Zustände generiert werden. Ein Zustand ist in diesem Test jedeglich eine Zahl."
   ]
  },
  {
   "cell_type": "code",
   "execution_count": null,
   "id": "adolescent-sterling",
   "metadata": {},
   "outputs": [],
   "source": [
    "pc = PythonCache()\n",
    "rc = RedisCache()\n",
    "\n",
    "count =     1_000_000\n",
    "start = 1_000_000_000\n",
    "end   = start+count"
   ]
  },
  {
   "cell_type": "markdown",
   "id": "28cd1f63",
   "metadata": {},
   "source": [
    "### Test der Schreibgeschwindigkeit\n",
    "\n",
    "Durch die Einstellung `count` gesteuert werden zufällige Werte in den Caches gespeichert. In diesem Fall sind es eine Millionen Einträge."
   ]
  },
  {
   "cell_type": "code",
   "execution_count": null,
   "id": "vietnamese-contribution",
   "metadata": {
    "scrolled": false
   },
   "outputs": [],
   "source": [
    "%%time\n",
    "print('Python Cache')\n",
    "for state in tqdm(range(start, end)):\n",
    "    for player in [True, False]:\n",
    "        for limit in range(4):\n",
    "            pc.write(state, player, limit, random.random(), random.random(), -random.random())"
   ]
  },
  {
   "cell_type": "code",
   "execution_count": null,
   "id": "5cf23413",
   "metadata": {},
   "outputs": [],
   "source": [
    "%%time\n",
    "print('Redis Cache')\n",
    "for state in tqdm(range(start, end)):\n",
    "    for player in [True, False]:\n",
    "        for limit in range(4):\n",
    "            rc.write(state, player, limit, random.random(), random.random(), -random.random())"
   ]
  },
  {
   "cell_type": "markdown",
   "id": "bacc93c9",
   "metadata": {},
   "source": [
    "Im Vergleich zu dem `PythonCache` ist der `RedisCache` bei dem Schreibvorgang der Einträge etwa um den Faktor $90$ langsamer."
   ]
  },
  {
   "cell_type": "markdown",
   "id": "7cdffae6",
   "metadata": {},
   "source": [
    "### Testen der Lesegeschwindigkeit\n",
    "Bei dem Test der Lesegeschwindigkeit wird gemessen, wie schnell die Werte für zufällig ermittelte Zustände zurück gegeben werden können. Dabei wird auf die oben generierten Einträge zurück gegriffen."
   ]
  },
  {
   "cell_type": "code",
   "execution_count": null,
   "id": "passive-nightmare",
   "metadata": {},
   "outputs": [],
   "source": [
    "%%time\n",
    "valid = 0\n",
    "for count in tqdm(range(count)):\n",
    "    state = random.randint(start, end-1)\n",
    "    limit = random.randint(0, 3)\n",
    "    player = random.choice([True, False])\n",
    "    result = pc.read(state, player, limit)\n",
    "    if result is None:\n",
    "        print(state, player, limit)\n",
    "    else:\n",
    "        valid += 1\n",
    "print(valid)"
   ]
  },
  {
   "cell_type": "code",
   "execution_count": null,
   "id": "ef45844c",
   "metadata": {},
   "outputs": [],
   "source": [
    "%%time\n",
    "valid = 0\n",
    "for count in tqdm(range(count)):\n",
    "    state = random.randint(start, end-1)\n",
    "    limit = random.randint(0, 3)\n",
    "    player = random.choice([True, False])\n",
    "    result = rc.read(state, player, limit)\n",
    "    if result is None:\n",
    "        print(state, player, limit)\n",
    "    else:\n",
    "        valid += 1\n",
    "print(valid)"
   ]
  },
  {
   "cell_type": "markdown",
   "id": "706584c5",
   "metadata": {},
   "source": [
    "Während die Lesegeschwindigkeit beim `RedisCache` deutlich höher als die Schreibgeschwindigkeit ist, ist diese dennoch um etwa den Faktor $4$ langsamer als die des `PythonCache`s."
   ]
  },
  {
   "cell_type": "markdown",
   "id": "9507f673",
   "metadata": {},
   "source": [
    "## Resumee\n",
    "Sowohl die Lese- als auch die Schreibgeschwindigkeit ist beim `PythonCache` deutlich höher als beim `RedisCache`. Wobei die Geschwindigkeitsdifferenz beim Schreiben stärker ausfällt als beim Lesen. Dies ist höchst wahrscheinlich auf den Overhead der Verbindung zwischen Datenbank und dem Python-Programm zurückzuführen.\n",
    "\n",
    "Aus diesem Grund wurde sich dafür entschieden, den Cache als Python-Dictionary zu implementieren und anschließend als Datei auf dem Datenträger zu persistieren. Hierbei wird in Kauf genommen, dass die wachsende Größe des Caches zu einer starken Auslastung des Arbeitsspeicher führen kann."
   ]
  }
 ],
 "metadata": {
  "kernelspec": {
   "display_name": "Python 3",
   "language": "python",
   "name": "python3"
  },
  "language_info": {
   "codemirror_mode": {
    "name": "ipython",
    "version": 3
   },
   "file_extension": ".py",
   "mimetype": "text/x-python",
   "name": "python",
   "nbconvert_exporter": "python",
   "pygments_lexer": "ipython3",
   "version": "3.8.5"
  }
 },
 "nbformat": 4,
 "nbformat_minor": 5
}
