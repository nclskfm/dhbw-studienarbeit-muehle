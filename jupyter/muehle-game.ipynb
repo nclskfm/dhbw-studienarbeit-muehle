{
 "metadata": {
  "language_info": {
   "codemirror_mode": {
    "name": "ipython",
    "version": 3
   },
   "file_extension": ".py",
   "mimetype": "text/x-python",
   "name": "python",
   "nbconvert_exporter": "python",
   "pygments_lexer": "ipython3",
   "version": "3.7.6-final"
  },
  "orig_nbformat": 2,
  "kernelspec": {
   "name": "Python 3.7.6 64-bit ('base': conda)",
   "display_name": "Python 3.7.6 64-bit ('base': conda)",
   "metadata": {
    "interpreter": {
     "hash": "98b0a9b7b4eaaa670588a142fd0a9b87eaafe866f1db4228be72b4211d12040f"
    }
   }
  }
 },
 "nbformat": 4,
 "nbformat_minor": 2,
 "cells": [
  {
   "source": [
    "# Muehle Game Definition\n",
    "This file contains the definiton of the game Muehle.\n",
    "\n",
    "The starting state of Muehle is defined as following. It contains multiple tuples:\n",
    "\n",
    "1. The first tuple contains the number of stones white and black are still allowed to place.\n",
    "2. The second tuple contains the state of the board. Every nine-tuple represents a ring of the possible positions of a stone starting at the top left corner continuing clock-wise. The positions can ether by empty `' '`, occupied by white `'w'` or occupied by black `'b'`."
   ],
   "cell_type": "markdown",
   "metadata": {}
  },
  {
   "cell_type": "code",
   "execution_count": 1,
   "metadata": {},
   "outputs": [],
   "source": [
    "s = ((9, 9), (\n",
    "    (' ', ' ', ' ', ' ', ' ', ' ', ' ', ' '),\n",
    "    (' ', ' ', ' ', ' ', ' ', ' ', ' ', ' '),\n",
    "    (' ', ' ', ' ', ' ', ' ', ' ', ' ', ' ')\n",
    "))\n",
    "s2 = ((0, 0), (\n",
    "    ('w', 'w', ' ', 'b', 'w', 'w', 'w', 'w'),\n",
    "    ('b', 'w', ' ', 'b', 'w', ' ', 'b', 'w'),\n",
    "    ('b', 'b', 'b', 'b', 'w', ' ', 'b', 'w'),\n",
    "))\n",
    "s3 = ((7, 7), (\n",
    "    ('w', 'w', ' ', ' ', ' ', ' ', ' ', ' '),\n",
    "    (' ', ' ', ' ', 'b', ' ', ' ', ' ', ' '),\n",
    "    (' ', ' ', ' ', ' ', ' ', 'b', ' ', ' ')\n",
    "))"
   ]
  },
  {
   "source": [
    "## Calculate player phase"
   ],
   "cell_type": "markdown",
   "metadata": {}
  },
  {
   "cell_type": "code",
   "execution_count": 2,
   "metadata": {},
   "outputs": [],
   "source": [
    "# Calculates wether or not a player still has stones which he has not placed yet\n",
    "#   s = current state\n",
    "#   p = player\n",
    "def canAddStone(s, p):\n",
    "    # Extract the count of the stones for black and white\n",
    "    ((cw, cb), _) = s\n",
    "    # Return wether or not the given player has at least one stone\n",
    "    return cw >= 1 if p == 'w' else cb >= 1"
   ]
  },
  {
   "cell_type": "code",
   "execution_count": 3,
   "metadata": {},
   "outputs": [],
   "source": [
    "# Counts how many stones the given player has left on the board\n",
    "def countStones(s, p):\n",
    "    # Extract the board from the state\n",
    "    (_, board) = s\n",
    "    # Count how many times player occurs on the board\n",
    "    return [cell for ring in board for cell in ring].count(p)"
   ]
  },
  {
   "cell_type": "code",
   "execution_count": 4,
   "metadata": {},
   "outputs": [],
   "source": [
    "# Calculates wether or not the player is allowed to jump with his stones,\n",
    "# instead of just moving them\n",
    "def canJump(s, p):\n",
    "    return countStones(s, p) >= 3"
   ]
  },
  {
   "cell_type": "code",
   "execution_count": 5,
   "metadata": {},
   "outputs": [],
   "source": [
    "def playerPhase(s, p):\n",
    "    # If the player has still stones left to place, he is still in phase 1\n",
    "    if canAddStone(s, p):\n",
    "        return 1\n",
    "    # If the player is allowed to jump with his stones, he is in the last phase, phase 3\n",
    "    elif canJump(s, p):\n",
    "        return 3\n",
    "    # Else he is in phase 2, where he can only move his stones\n",
    "    else:\n",
    "        return 2"
   ]
  },
  {
   "source": [
    "## Calculate stone additions"
   ],
   "cell_type": "markdown",
   "metadata": {}
  },
  {
   "cell_type": "code",
   "execution_count": 6,
   "metadata": {},
   "outputs": [],
   "source": [
    "# Returns a set of tuples containing all coordinates of the cells owned by p\n",
    "# Set of Tuples(ring, cell)\n",
    "def findCellsOf(board, p):\n",
    "    # Iterate over all cells and select only empty cells\n",
    "    return {(r, c) for r in range(0, 3) for c in range(0, 8) if board[r][c] == p}"
   ]
  },
  {
   "cell_type": "code",
   "execution_count": 7,
   "metadata": {},
   "outputs": [],
   "source": [
    "# Returns a set of tuples containing all coordinates of the empty cells\n",
    "# Set of Tuples(ring, cell)\n",
    "def findEmptyCells(s):\n",
    "    # Extract the board from the state\n",
    "    (_, board) = s\n",
    "    return findCellsOf(board, ' ')"
   ]
  },
  {
   "cell_type": "code",
   "execution_count": 8,
   "metadata": {
    "tags": []
   },
   "outputs": [],
   "source": [
    "# Returns the coordinates of all Muehlen the given player has\n",
    "# Set of Frozensets of Tuples(ring, cell)\n",
    "def findMuehlen(board, p):\n",
    "    # Calculate all Muehlen on the rings\n",
    "    return {\n",
    "        frozenset((r, (c+o)%8) for o in range(0, 3))\n",
    "        # Iterate over all rings\n",
    "        for r in range(0, 3)\n",
    "        # Iterate over all corners\n",
    "        for c in range(0, 8, 2)\n",
    "        # All 3 following cells starting at the given corner have to belong to the player\n",
    "        if all(\n",
    "            cell == p\n",
    "            # Iterate over all 3 cells of the given side (c) by rotating them to the top left corner\n",
    "            # and then checking the first 3 cells\n",
    "            for cell in (board[r][c:] + board[r][:c])[0:3]\n",
    "        )\n",
    "    # Calculate all Muehlen crossing the rings\n",
    "    } | {\n",
    "        frozenset((r, c) for r in range(0, 3))\n",
    "        # Iterate over cells in the middle of a side\n",
    "        for c in range(1, 8, 2)\n",
    "        # All 3 cells in the middle of a given side have to belong to the player\n",
    "        if all(\n",
    "            board[r][c] == p\n",
    "            # Iterate over all 3 rings\n",
    "            for r in range(0, 3)\n",
    "        )\n",
    "    }"
   ]
  },
  {
   "cell_type": "code",
   "execution_count": 9,
   "metadata": {},
   "outputs": [],
   "source": [
    "def place(board, coordinates, player):\n",
    "    (r, c) = coordinates\n",
    "    return tuple(\n",
    "        tuple(\n",
    "            player if (c == ic) and (r == ir) else board[ir][ic]\n",
    "            for ic in range(0, 8)\n",
    "        ) for ir in range(0, 3)\n",
    "    )"
   ]
  },
  {
   "cell_type": "code",
   "execution_count": 10,
   "metadata": {},
   "outputs": [],
   "source": [
    "# Calculates the opponent of the given player\n",
    "def opponent(p):\n",
    "    return 'b' if p == 'w' else 'w'"
   ]
  },
  {
   "cell_type": "code",
   "execution_count": 14,
   "metadata": {
    "tags": []
   },
   "outputs": [
    {
     "output_type": "execute_result",
     "data": {
      "text/plain": [
       "{((6, 7),\n",
       "  (('w', 'w', ' ', ' ', ' ', ' ', ' ', ' '),\n",
       "   (' ', ' ', ' ', 'b', ' ', ' ', ' ', ' '),\n",
       "   (' ', ' ', ' ', ' ', ' ', 'b', ' ', 'w'))),\n",
       " ((6, 7),\n",
       "  (('w', 'w', ' ', ' ', ' ', ' ', ' ', ' '),\n",
       "   (' ', ' ', ' ', 'b', ' ', ' ', ' ', ' '),\n",
       "   (' ', ' ', ' ', ' ', ' ', 'b', 'w', ' '))),\n",
       " ((6, 7),\n",
       "  (('w', 'w', ' ', ' ', ' ', ' ', ' ', ' '),\n",
       "   (' ', ' ', ' ', 'b', ' ', ' ', ' ', ' '),\n",
       "   (' ', ' ', ' ', ' ', 'w', 'b', ' ', ' '))),\n",
       " ((6, 7),\n",
       "  (('w', 'w', ' ', ' ', ' ', ' ', ' ', ' '),\n",
       "   (' ', ' ', ' ', 'b', ' ', ' ', ' ', ' '),\n",
       "   (' ', ' ', ' ', 'w', ' ', 'b', ' ', ' '))),\n",
       " ((6, 7),\n",
       "  (('w', 'w', ' ', ' ', ' ', ' ', ' ', ' '),\n",
       "   (' ', ' ', ' ', 'b', ' ', ' ', ' ', ' '),\n",
       "   (' ', ' ', 'w', ' ', ' ', 'b', ' ', ' '))),\n",
       " ((6, 7),\n",
       "  (('w', 'w', ' ', ' ', ' ', ' ', ' ', ' '),\n",
       "   (' ', ' ', ' ', 'b', ' ', ' ', ' ', ' '),\n",
       "   (' ', 'w', ' ', ' ', ' ', 'b', ' ', ' '))),\n",
       " ((6, 7),\n",
       "  (('w', 'w', ' ', ' ', ' ', ' ', ' ', ' '),\n",
       "   (' ', ' ', ' ', 'b', ' ', ' ', ' ', ' '),\n",
       "   ('w', ' ', ' ', ' ', ' ', 'b', ' ', ' '))),\n",
       " ((6, 7),\n",
       "  (('w', 'w', ' ', ' ', ' ', ' ', ' ', ' '),\n",
       "   (' ', ' ', ' ', 'b', ' ', ' ', ' ', 'w'),\n",
       "   (' ', ' ', ' ', ' ', ' ', 'b', ' ', ' '))),\n",
       " ((6, 7),\n",
       "  (('w', 'w', ' ', ' ', ' ', ' ', ' ', ' '),\n",
       "   (' ', ' ', ' ', 'b', ' ', ' ', 'w', ' '),\n",
       "   (' ', ' ', ' ', ' ', ' ', 'b', ' ', ' '))),\n",
       " ((6, 7),\n",
       "  (('w', 'w', ' ', ' ', ' ', ' ', ' ', ' '),\n",
       "   (' ', ' ', ' ', 'b', ' ', 'w', ' ', ' '),\n",
       "   (' ', ' ', ' ', ' ', ' ', 'b', ' ', ' '))),\n",
       " ((6, 7),\n",
       "  (('w', 'w', ' ', ' ', ' ', ' ', ' ', ' '),\n",
       "   (' ', ' ', ' ', 'b', 'w', ' ', ' ', ' '),\n",
       "   (' ', ' ', ' ', ' ', ' ', 'b', ' ', ' '))),\n",
       " ((6, 7),\n",
       "  (('w', 'w', ' ', ' ', ' ', ' ', ' ', ' '),\n",
       "   (' ', ' ', 'w', 'b', ' ', ' ', ' ', ' '),\n",
       "   (' ', ' ', ' ', ' ', ' ', 'b', ' ', ' '))),\n",
       " ((6, 7),\n",
       "  (('w', 'w', ' ', ' ', ' ', ' ', ' ', ' '),\n",
       "   (' ', 'w', ' ', 'b', ' ', ' ', ' ', ' '),\n",
       "   (' ', ' ', ' ', ' ', ' ', 'b', ' ', ' '))),\n",
       " ((6, 7),\n",
       "  (('w', 'w', ' ', ' ', ' ', ' ', ' ', ' '),\n",
       "   ('w', ' ', ' ', 'b', ' ', ' ', ' ', ' '),\n",
       "   (' ', ' ', ' ', ' ', ' ', 'b', ' ', ' '))),\n",
       " ((6, 7),\n",
       "  (('w', 'w', ' ', ' ', ' ', ' ', ' ', 'w'),\n",
       "   (' ', ' ', ' ', 'b', ' ', ' ', ' ', ' '),\n",
       "   (' ', ' ', ' ', ' ', ' ', 'b', ' ', ' '))),\n",
       " ((6, 7),\n",
       "  (('w', 'w', ' ', ' ', ' ', ' ', 'w', ' '),\n",
       "   (' ', ' ', ' ', 'b', ' ', ' ', ' ', ' '),\n",
       "   (' ', ' ', ' ', ' ', ' ', 'b', ' ', ' '))),\n",
       " ((6, 7),\n",
       "  (('w', 'w', ' ', ' ', ' ', 'w', ' ', ' '),\n",
       "   (' ', ' ', ' ', 'b', ' ', ' ', ' ', ' '),\n",
       "   (' ', ' ', ' ', ' ', ' ', 'b', ' ', ' '))),\n",
       " ((6, 7),\n",
       "  (('w', 'w', ' ', ' ', 'w', ' ', ' ', ' '),\n",
       "   (' ', ' ', ' ', 'b', ' ', ' ', ' ', ' '),\n",
       "   (' ', ' ', ' ', ' ', ' ', 'b', ' ', ' '))),\n",
       " ((6, 7),\n",
       "  (('w', 'w', ' ', 'w', ' ', ' ', ' ', ' '),\n",
       "   (' ', ' ', ' ', 'b', ' ', ' ', ' ', ' '),\n",
       "   (' ', ' ', ' ', ' ', ' ', 'b', ' ', ' '))),\n",
       " ((6, 7),\n",
       "  (('w', 'w', 'w', ' ', ' ', ' ', ' ', ' '),\n",
       "   (' ', ' ', ' ', ' ', ' ', ' ', ' ', ' '),\n",
       "   (' ', ' ', ' ', ' ', ' ', 'b', ' ', ' '))),\n",
       " ((6, 7),\n",
       "  (('w', 'w', 'w', ' ', ' ', ' ', ' ', ' '),\n",
       "   (' ', ' ', ' ', 'b', ' ', ' ', ' ', ' '),\n",
       "   (' ', ' ', ' ', ' ', ' ', ' ', ' ', ' ')))}"
      ]
     },
     "metadata": {},
     "execution_count": 14
    }
   ],
   "source": [
    "def nextStatesAddStones(s, p):\n",
    "    # Extract the count of the stones and the board\n",
    "    ((cw, cb), board) = s\n",
    "    # Calculate all current Muehlen the player has\n",
    "    muehlen = findMuehlen(board, p)\n",
    "\n",
    "    boards = {\n",
    "        place(board, (r, c), p)\n",
    "        for (r, c) in findEmptyCells(s)\n",
    "    }\n",
    "    boardsWithMuehlen = {\n",
    "        board\n",
    "        for board in boards\n",
    "        if len(findMuehlen(board, p) - muehlen) > 0 \n",
    "    }\n",
    "    boards -= boardsWithMuehlen\n",
    "\n",
    "    boards |= {\n",
    "        place(board, (r, c), ' ')\n",
    "        for board in boardsWithMuehlen\n",
    "        for (r, c) in findCellsOf(board, opponent(p))\n",
    "    }\n",
    "\n",
    "    # Remove one stone from the players stache\n",
    "    (cw, cb) = (cw-1, cb) if p == 'w' else (cw, cb-1)\n",
    "\n",
    "    # Return all possible states\n",
    "    return { ((cw, cb), board) for board in boards }\n",
    "nextStatesAddStones(s3, 'w')"
   ]
  },
  {
   "cell_type": "code",
   "execution_count": null,
   "metadata": {},
   "outputs": [],
   "source": []
  }
 ]
}