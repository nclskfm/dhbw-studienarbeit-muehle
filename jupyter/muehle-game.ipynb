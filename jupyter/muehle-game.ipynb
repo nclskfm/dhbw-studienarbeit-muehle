{
 "metadata": {
  "language_info": {
   "codemirror_mode": {
    "name": "ipython",
    "version": 3
   },
   "file_extension": ".py",
   "mimetype": "text/x-python",
   "name": "python",
   "nbconvert_exporter": "python",
   "pygments_lexer": "ipython3",
   "version": "3.7.6-final"
  },
  "orig_nbformat": 2,
  "kernelspec": {
   "name": "Python 3.7.6 64-bit",
   "display_name": "Python 3.7.6 64-bit",
   "metadata": {
    "interpreter": {
     "hash": "98b0a9b7b4eaaa670588a142fd0a9b87eaafe866f1db4228be72b4211d12040f"
    }
   }
  }
 },
 "nbformat": 4,
 "nbformat_minor": 2,
 "cells": [
  {
   "source": [
    "# Muehle Game Definition\n",
    "This file contains the definiton of the game Muehle.\n",
    "\n",
    "The starting state of Muehle is defined as following. It contains multiple tuples:\n",
    "\n",
    "1. The first tuple contains the number of stones white and black are still allowed to place.\n",
    "2. The second tuple contains the state of the board. Every nine-tuple represents a ring of the possible positions of a stone starting at the top left corner continuing clock-wise. The positions can ether by empty `' '`, occupied by white `'w'` or occupied by black `'b'`."
   ],
   "cell_type": "markdown",
   "metadata": {}
  },
  {
   "cell_type": "code",
   "execution_count": null,
   "metadata": {},
   "outputs": [],
   "source": [
    "%run ./muehle-game-utils.ipynb"
   ]
  },
  {
   "source": [
    "## Player Phase"
   ],
   "cell_type": "markdown",
   "metadata": {}
  },
  {
   "cell_type": "code",
   "execution_count": null,
   "metadata": {},
   "outputs": [],
   "source": [
    "# Returns the phase of the given player\n",
    "#   1. The player has to place his stones\n",
    "#   2. The player is only allowed to move the stones along the lines\n",
    "#   3. The player is allowed to jump with his stones\n",
    "def playerPhase(s, p):\n",
    "    # If the player has still stones left to place, he is still in phase 1\n",
    "    if hasPlaceableStones(s, p):\n",
    "        return 1\n",
    "    # If the player is allowed to jump with his stones, he is in the last phase, phase 3\n",
    "    elif isAllowedToJump(s, p):\n",
    "        return 3\n",
    "    # Else he is in phase 2, where he can only move his stones\n",
    "    else:\n",
    "        return 2"
   ]
  },
  {
   "source": [
    "## Next States"
   ],
   "cell_type": "markdown",
   "metadata": {}
  },
  {
   "cell_type": "code",
   "execution_count": null,
   "metadata": {},
   "outputs": [],
   "source": [
    "def nextStatesPhaseOne(s, p):\n",
    "    # Extract the count of the stones and the board\n",
    "    ((cw, cb), board) = s\n",
    "    # Calculate all current Muehlen the player has\n",
    "    muehlen = findMuehlen(board, p)\n",
    "\n",
    "    # Place a stone in any empty cell\n",
    "    placeBoards = {\n",
    "        place(board, (r, c), p)\n",
    "        for (r, c) in findEmptyCells(board)\n",
    "    }\n",
    "    # Calculate how many new Muehlen were created\n",
    "    boardMuehlen = {\n",
    "        board: countNewMuehlen(board, muehlen, p)\n",
    "        for board in placeBoards\n",
    "    }\n",
    "\n",
    "    # Here all final boards will be collected\n",
    "    boards = {\n",
    "        result\n",
    "        for (b, count) in boardMuehlen.items()\n",
    "        for result in executeMuehlen(b, count, p)\n",
    "    }\n",
    "\n",
    "    # Remove one stone from the players stache\n",
    "    (cw, cb) = (cw-1, cb) if p == 'w' else (cw, cb-1)\n",
    "\n",
    "    # Return all possible states\n",
    "    return { ((cw, cb), board) for board in boards }"
   ]
  },
  {
   "cell_type": "code",
   "execution_count": null,
   "metadata": {},
   "outputs": [],
   "source": [
    "def nextStatesPhaseTwo(s, p):\n",
    "    # Extract the count of the stones and the board\n",
    "    ((cw, cb), board) = s\n",
    "    # Calculate all current Muehlen the player has\n",
    "    muehlen = findMuehlen(board, p)\n",
    "\n",
    "    # Pick up one stone (so it can be placed again) and store coordinates of pickup cell\n",
    "    removeBoards = {\n",
    "        (place(board, (r, c), ' '), (r, c))\n",
    "        for (r, c) in findCellsOf(board, p)\n",
    "    }\n",
    "\n",
    "    # Place the stone again at a neighboring cell\n",
    "    placeBoards = {\n",
    "        place(b, (r, c), p)\n",
    "        for (b, rootCoords) in removeBoards\n",
    "        for (r, c) in findNeighboringEmptyCells(b, rootCoords)\n",
    "    }\n",
    "    # Remove the old board, as at least one stone has to be moved\n",
    "    placeBoards - { board }\n",
    "\n",
    "    # Calculate how many new Muehlen were created\n",
    "    boardMuehlen = {\n",
    "        b: countNewMuehlen(b, muehlen, p)\n",
    "        for b in placeBoards\n",
    "    }\n",
    "\n",
    "    # Here all final boards will be collected\n",
    "    boards = {\n",
    "        result\n",
    "        for (b, count) in boardMuehlen.items()\n",
    "        for result in executeMuehlen(b, count, p)\n",
    "    }\n",
    "\n",
    "    return { ((cw, cb), board) for board in boards }"
   ]
  },
  {
   "cell_type": "code",
   "execution_count": null,
   "metadata": {},
   "outputs": [],
   "source": [
    "def nextStatesPhaseThree(s, p):\n",
    "    # Extract the count of the stones and the board\n",
    "    ((cw, cb), board) = s\n",
    "    # Calculate all current Muehlen the player has\n",
    "    muehlen = findMuehlen(board, p)\n",
    "\n",
    "    # Pick up one stone (so it can be placed again)\n",
    "    removeBoards = {\n",
    "        place(board, (r, c), ' ')\n",
    "        for (r, c) in findCellsOf(board, p)\n",
    "    }\n",
    "\n",
    "    # Place the stone again\n",
    "    placeBoards = {\n",
    "        place(b, (r, c), p)\n",
    "        for b in removeBoards\n",
    "        for (r, c) in findEmptyCells(b)\n",
    "    }\n",
    "    # Remove the old board, as at least one stone has to be moved\n",
    "    placeBoards - { board }\n",
    "\n",
    "    # Calculate how many new Muehlen were created\n",
    "    boardMuehlen = {\n",
    "        b: countNewMuehlen(b, muehlen, p)\n",
    "        for b in placeBoards\n",
    "    }\n",
    "\n",
    "    # Here all final boards will be collected\n",
    "    boards = {\n",
    "        result\n",
    "        for (b, count) in boardMuehlen.items()\n",
    "        for result in executeMuehlen(b, count, p)\n",
    "    }\n",
    "\n",
    "    return { ((cw, cb), board) for board in boards }"
   ]
  },
  {
   "cell_type": "code",
   "execution_count": null,
   "metadata": {},
   "outputs": [],
   "source": [
    "def nextStates(s, p):\n",
    "    phase = playerPhase(s, p)\n",
    "    if phase == 1:\n",
    "        return nextStatesPhaseOne(s, p)\n",
    "    elif phase == 2:\n",
    "        return nextStatesPhaseTwo(s, p)\n",
    "    else:\n",
    "        return nextStatesPhaseThree(s, p)"
   ]
  },
  {
   "source": [
    "## Game Progess"
   ],
   "cell_type": "markdown",
   "metadata": {}
  },
  {
   "cell_type": "code",
   "execution_count": null,
   "metadata": {},
   "outputs": [],
   "source": [
    "def finished(s):\n",
    "    return not (hasEnoughtStones(s, 'w') and \\\n",
    "                hasEnoughtStones(s, 'b') and \\\n",
    "                len(nextStates(s, 'w')) > 0 and \\\n",
    "                len(nextStates(s, 'b')) > 0)"
   ]
  }
 ]
}