{
 "cells": [
  {
   "cell_type": "code",
   "execution_count": null,
   "metadata": {},
   "outputs": [],
   "source": [
    "import os.path\n",
    "css = \"\"\n",
    "if os.path.isfile(\"style.html\"):\n",
    "    from IPython.core.display import HTML\n",
    "    with open(\"style.html\", \"r\") as file:\n",
    "        css = file.read()\n",
    "HTML(css)"
   ]
  },
  {
   "cell_type": "markdown",
   "metadata": {},
   "source": [
    "# Hilfsfunktionen für die Spielimplementierung\n",
    "\n",
    "In dieser Dateien werden Hilfsfunktionien implementiert, die für die grundlegende Spielimplementierung benötigt werden."
   ]
  },
  {
   "cell_type": "markdown",
   "metadata": {},
   "source": [
    "## Hilfsfunktionen für Spielsteine\n",
    "\n",
    "Nachfolgend werden alle Hilfsfunktionen implementiert, die für das Interagieren mit den Spielsteinen benötigt werden."
   ]
  },
  {
   "cell_type": "markdown",
   "metadata": {},
   "source": [
    "Die Funktion `hasPlaceableStones` überprüft, ob ein Spieler für einen Zustand noch zusetzende Steine auf dem Stapel (_stash_) besitzt. Die Funktion hat zwei Argumente:\n",
    "\n",
    "- `s` $\\in States$;\n",
    "- `p` $\\in Player$.\n",
    "\n",
    "Die Funktion gibt ein booleschen Wert zurück."
   ]
  },
  {
   "cell_type": "code",
   "execution_count": null,
   "metadata": {},
   "outputs": [],
   "source": [
    "def hasPlaceableStones(s, p):\n",
    "    ((cw, cb), _) = s\n",
    "    return cw >= 1 if p == 'w' else cb >= 1"
   ]
  },
  {
   "cell_type": "markdown",
   "metadata": {},
   "source": [
    "Die Funktion `countStones` zählt die Steine eines Spieler auf einem Spielbrett. Die Funktion hat zwei Argumente:\n",
    "\n",
    "- `s` $\\in States$;\n",
    "- `p` $\\in Player$.\n",
    "\n",
    "Die Funktion zählt nur die Steine auf dem Brett, nicht die Steine auf dem Stapel und gibt diese als Ganzzahl zurück."
   ]
  },
  {
   "cell_type": "code",
   "execution_count": null,
   "metadata": {},
   "outputs": [],
   "source": [
    "def countStones(s, p):\n",
    "    (_, board) = s\n",
    "    return [cell for ring in board for cell in ring].count(p)"
   ]
  },
  {
   "cell_type": "markdown",
   "metadata": {},
   "source": [
    "Die Funktion `isAllowedToJump` überprüft, ob ein Spieler bei einem gegebenen Zustand seine Steine beliebig bewegen darf. Die Funktion hat zwei Argumente:\n",
    "\n",
    "- `s` $\\in States$;\n",
    "- `p` $\\in Player$.\n",
    "\n",
    "Ein Spieler darf mit seinen Steinen springen, g.d.w. er weniger als drei Steine auf dem Spielbrett hat und sich keine Steine mehr von dem Spieler auf dem Stapel befinden. Die zweite Bedingung wird nicht überprüft, weil davon ausgegangen wird, dass die Funktion `hasPlaceableStones` zuvor aufgerufen wird.\n",
    "\n",
    "Die Funktion gibt einen booleschen Wert zurück. "
   ]
  },
  {
   "cell_type": "code",
   "execution_count": null,
   "metadata": {},
   "outputs": [],
   "source": [
    "def isAllowedToJump(s, p):\n",
    "    return countStones(s, p) <= 3"
   ]
  },
  {
   "cell_type": "markdown",
   "metadata": {},
   "source": [
    "Die Funktion `hasEnoughStones` überprüft, ob ein Spieler noch genügend Steine zum Weiterspielen übrig hat. Die Funktion hat zwei Argumente:\n",
    "\n",
    "- `s` $\\in States$;\n",
    "- `p` $\\in Player$.\n",
    "\n",
    "Ein Spieler hat genau dann genügend Steine, wenn er noch Steine zum Setzen auf dem Stapel hat oder er mindestes drei Steine auf dem Spielbrett besitzt.\n",
    "\n",
    "Die Funktion gibt einen booleschen Wert zurück."
   ]
  },
  {
   "cell_type": "code",
   "execution_count": null,
   "metadata": {},
   "outputs": [],
   "source": [
    "def hasEnoughStones(s, p):\n",
    "    return hasPlaceableStones(s, p) or countStones(s, p) >= 3"
   ]
  },
  {
   "cell_type": "markdown",
   "metadata": {},
   "source": [
    "Die Funktion `removeFromStash` entfernt einen Stein von dem Stapel des gegebenen Spielers. Die Funktion hat zwei Argumente:\n",
    "\n",
    "- `stash` ist ein Stapel;\n",
    "- `p` $\\in Player$.\n",
    "\n",
    "Die Funktion gibt den neuen Stapel zurück."
   ]
  },
  {
   "cell_type": "code",
   "execution_count": null,
   "metadata": {},
   "outputs": [],
   "source": [
    "def removeFromStash(stash, p):\n",
    "    return (stash[0] - (1 if p == 'w' else 0), stash[1] - (1 if p == 'b' else 0))"
   ]
  },
  {
   "cell_type": "markdown",
   "metadata": {},
   "source": [
    "## Hilfsfunktionen für Spieler\n",
    "\n",
    "In diesem Kapitel werden Hilfsfunktionen für die Spieler implementiert."
   ]
  },
  {
   "cell_type": "markdown",
   "metadata": {},
   "source": [
    "Die Funktion `opponent` nimmt einen Spieler und gibt den Gegenspieler zurück. Die Funktion hat ein Argument:\n",
    "\n",
    "- `p` $\\in Player$.\n",
    "\n",
    "Da Mühle ein Zwei-Personen-Spiel ist, gibt es für die Funktion nur zwei Fälle:\n",
    "\n",
    "- bei dem weißen Spieler `'w'` wird der Gegenspieler schwarz `'b'` zurückgegeben,\n",
    "- ansonsten wird standardmäßig weiß `'w'` als Gegenspieler zurückgegeben."
   ]
  },
  {
   "cell_type": "code",
   "execution_count": null,
   "metadata": {},
   "outputs": [],
   "source": [
    "def opponent(p):\n",
    "    return 'b' if p == 'w' else 'w'"
   ]
  },
  {
   "cell_type": "markdown",
   "metadata": {},
   "source": [
    "Die Funktion `getPlayerAt` gibt den Spieler an der gegeben Koordinate des Spielbrettes zurück. Die Funktion hat zwei Argumente:\n",
    "\n",
    "- `board` ist ein Spielbrett;\n",
    "- `coord` ist eine Koordinate, die überprüft werden soll. \n",
    "\n",
    "Die Funktion gibt einen Spieler zurück. Falls an dieser Koordinate sich kein Spielerstein befinden sollte, wird entsprechend `' '` zurückgegeben."
   ]
  },
  {
   "cell_type": "code",
   "execution_count": null,
   "metadata": {},
   "outputs": [],
   "source": [
    "def getPlayerAt(board, coord):\n",
    "    (r, c) = coord\n",
    "    return board[r][c]"
   ]
  },
  {
   "cell_type": "markdown",
   "metadata": {},
   "source": [
    "Die Funktion `playerPhase` berechnet für einen gegebenen Zustand und einen Spieler die aktuelle Phase des Spielers. Die Funktion hat zwei Argumente:\n",
    "\n",
    "- `s` $\\in States$;\n",
    "- `p` $\\in Player$.\n",
    "\n",
    "Die Funktion überprüft mit den beiden Hilfsfunktionen `hasPlaceableStones` und `isAllowedToJump` die Spielerphase und gibt diese als Ganzzahl zurück:\n",
    "\n",
    "- `1` für die _placing_ Phase, g.d.w. der Spieler noch Steine auf dem Stapel hat (`hasPlaceableStones`);\n",
    "- `2` für die _moving_ Phase, g.d.w. der Spieler nicht in Phase 1 oder 3 ist;\n",
    "- `3` für die _flying_ Phase, g.d.w. der Spieler springen darf (`isAllowedToJump`)."
   ]
  },
  {
   "cell_type": "code",
   "execution_count": null,
   "metadata": {},
   "outputs": [],
   "source": [
    "def playerPhase(s, p):\n",
    "    if hasPlaceableStones(s, p):\n",
    "        return 1\n",
    "    elif isAllowedToJump(s, p):\n",
    "        return 3\n",
    "    else:\n",
    "        return 2"
   ]
  },
  {
   "cell_type": "markdown",
   "metadata": {},
   "source": [
    "## Hilfsfunktionen für Zellen\n",
    "\n",
    "In diesem Kapitel werden Hilfsfunktionen für die Veränderung oder Untersuchung von Zelleneigenschaften implementiert."
   ]
  },
  {
   "cell_type": "markdown",
   "metadata": {},
   "source": [
    "Die Funktion `findCellsOf` sucht auf einem Spielbrett `board` nach allen Zellen, welche durch Steine des Spielers `p` belegt sind. Die Funktion hat folgende Argumente:\n",
    "\n",
    "- `board` ist ein Spielbrett;\n",
    "- `p` $\\in Player$.\n",
    "\n",
    "Zurückgegeben wird die Menge aller Zellen wo gilt `board[r][c] = p`."
   ]
  },
  {
   "cell_type": "code",
   "execution_count": null,
   "metadata": {},
   "outputs": [],
   "source": [
    "def findCellsOf(board, p):\n",
    "    return {(r, c) for r in range(0, 3) for c in range(0, 8) if board[r][c] == p}"
   ]
  },
  {
   "cell_type": "markdown",
   "metadata": {},
   "source": [
    "Die Funktion `findEmptyCells` sucht auf dem Spielfeld `board` nach allen leeren Zellen. Die Funkion nimmt lediglich ein Argument:\n",
    "\n",
    "* `board` ist ein Spielbrett.\n",
    "\n",
    "Die Funktion ruft die Funktion `findCellsOf` mit `' '` als Spieler auf und gibt das erhaltene Ergebnis zurück. Somit ist jeder erhaltenen Zelle kein Spieler `'b'` oder `'w'` zugeordnet."
   ]
  },
  {
   "cell_type": "code",
   "execution_count": null,
   "metadata": {},
   "outputs": [],
   "source": [
    "def findEmptyCells(board):\n",
    "    return findCellsOf(board, ' ')"
   ]
  },
  {
   "cell_type": "markdown",
   "metadata": {},
   "source": [
    "Die Funktion `findNeighboringEmptyCells` sucht für eine gegebene Zelle `coordinates` die freien Nachbarzellen. Die Funktion hat zwei Argumente:\n",
    "\n",
    "* `board` ist ein Spielbrett;\n",
    "* `coordinates` ist ein Tupel mit den Koordinaten der Ausgangszelle.\n",
    "\n",
    "Die Funktion überprüft, welche der angrenzenden Zellen in der Menge von `findEmptyCells` enthalten ist und gibt diese zurück."
   ]
  },
  {
   "cell_type": "code",
   "execution_count": null,
   "metadata": {},
   "outputs": [],
   "source": [
    "def findNeighboringEmptyCells(board, coordinates):\n",
    "    (rootR, rootC) = coordinates\n",
    "    return {(r, c) for (r, c) in findEmptyCells(board) if (r == rootR and (c == (rootC + 7) % 8 or c == (rootC + 1) % 8)) \n",
    "                                                        or (c % 2 == 1 and c == rootC and (r == rootR - 1 or r == rootR + 1)) }\n"
   ]
  },
  {
   "cell_type": "markdown",
   "metadata": {},
   "source": [
    "Die Funktion `place` platziert den Stein eines Spielers `player` auf dem Spielbrett `board`. Folgende Argumente benötigt die Funktion:\n",
    "\n",
    "* `board` ist ein Spielbrett;\n",
    "* `coordinates` ist ein Tupel mit den Koordinaten des zu platzierenden Steins;\n",
    "* `player` $\\in Player$.\n",
    "\n",
    "Die Funktion platziert den Stein an den angegebenen Koordinaten und gibt das neue Spielbrett zurück."
   ]
  },
  {
   "cell_type": "code",
   "execution_count": null,
   "metadata": {},
   "outputs": [],
   "source": [
    "def place(board, coordinates, player):\n",
    "    (r, c) = coordinates\n",
    "    return tuple(\n",
    "        tuple(\n",
    "            player if (c == ic) and (r == ir) else board[ir][ic]\n",
    "            for ic in range(0, 8)\n",
    "        ) for ir in range(0, 3)\n",
    "    )"
   ]
  },
  {
   "cell_type": "markdown",
   "metadata": {},
   "source": [
    "Die Funktion `move` bewegt einen bereits plazierten Stein auf dem Spielbrett `board`. Die Funktion erhält drei Argumente:\n",
    "\n",
    "* `board` ist ein Spielbrett;\n",
    "* `src` ist ein Tupel mit den Koordinaten der Ausgangszelle;\n",
    "* `des` ist ein Tupel mit den Koordinaten der Zielzelle.\n",
    "\n",
    "Die Funktion platziert den Wert der Ausgangszelle in die Zielzelle und umgegekehrt und gibt das neue Spielbrett zurück."
   ]
  },
  {
   "cell_type": "code",
   "execution_count": null,
   "metadata": {},
   "outputs": [],
   "source": [
    "def move(board, src, des):\n",
    "    src_r, src_c = src\n",
    "    des_r, des_c = des\n",
    "    content_src = board[src_r][src_c]\n",
    "    content_des = board[des_r][des_c]\n",
    "    return tuple(\n",
    "        tuple(\n",
    "            content_des if (r,c) == src else (content_src if (r,c) == des else board[r][c])\n",
    "            for c in range(0, 8)\n",
    "        ) for r in range(0, 3)\n",
    "    )"
   ]
  },
  {
   "cell_type": "markdown",
   "metadata": {},
   "source": [
    "## Mills"
   ]
  },
  {
   "cell_type": "code",
   "execution_count": null,
   "metadata": {},
   "outputs": [],
   "source": [
    "# Returns the coordinates of all mills the given player has\n",
    "# Set of Frozensets of Tuples(ring, cell)\n",
    "def findMills(board, p):\n",
    "    # Calculate all mills on the rings\n",
    "    return {\n",
    "        frozenset((r, (c+o)%8) for o in range(0, 3))\n",
    "        # Iterate over all rings\n",
    "        for r in range(0, 3)\n",
    "        # Iterate over all corners\n",
    "        for c in range(0, 8, 2)\n",
    "        # All 3 following cells starting at the given corner have to belong to the player\n",
    "        if all(\n",
    "            cell == p\n",
    "            # Iterate over all 3 cells of the given side (c) by appending the first element\n",
    "            # as the last mill wrapps around\n",
    "            for cell in (list(board[r]) + [board[r][0]])[c:c+3]\n",
    "        )\n",
    "    # Calculate all mills crossing the rings\n",
    "    } | {\n",
    "        frozenset((r, c) for r in range(0, 3))\n",
    "        # Iterate over cells in the middle of a side\n",
    "        for c in range(1, 8, 2)\n",
    "        # All 3 cells in the middle of a given side have to belong to the player\n",
    "        if all(\n",
    "            board[r][c] == p\n",
    "            # Iterate over all 3 rings\n",
    "            for r in range(0, 3)\n",
    "        )\n",
    "    }"
   ]
  },
  {
   "cell_type": "code",
   "execution_count": null,
   "metadata": {},
   "outputs": [],
   "source": [
    "# Returns the number of mills the player build in his turn.\n",
    "# The board is the board after his turn, but bevor he executed his mills.\n",
    "def countNewMills(board, oldMills, p):\n",
    "    return len(findMills(board, p) - oldMills)"
   ]
  },
  {
   "cell_type": "code",
   "execution_count": null,
   "metadata": {},
   "outputs": [],
   "source": [
    "# Returns all stones that are poundable\n",
    "# A stone is poundable if it is not in an opponent's mill.\n",
    "# If all the opponent's stones are in a mill, the function returns all the opponent's stones instead, because then all the stones are poundable\n",
    "def getCellsPoundable(board, p):\n",
    "    opponentCells = findCellsOf(board, opponent(p))\n",
    "    \n",
    "    opponentCellsInMills = {\n",
    "        cell\n",
    "        for mill in findMills(board, opponent(p))\n",
    "        for cell in mill\n",
    "    }\n",
    "    \n",
    "    return opponentCells - opponentCellsInMills if len(opponentCells - opponentCellsInMills) > 0 else opponentCells"
   ]
  },
  {
   "cell_type": "code",
   "execution_count": null,
   "metadata": {},
   "outputs": [],
   "source": [
    "# Returns all possible boards after the player has pounded his allowed mills\n",
    "# Pounding a mill means removing an opponent stone\n",
    "def poundMills(board, count, p):\n",
    "    if count <= 0:\n",
    "        return { board }\n",
    "\n",
    "    # Compute all boards with an opponent stone removed\n",
    "    return {\n",
    "        place(b, cell, ' ')\n",
    "        for b in poundMills(board, count-1, p)\n",
    "        for cell in findCellsOf(b, opponent(p))\n",
    "        if cell in getCellsPoundable(b, p)\n",
    "    }"
   ]
  }
 ],
 "metadata": {
  "kernelspec": {
   "display_name": "Python 3",
   "language": "python",
   "name": "python3"
  },
  "language_info": {
   "codemirror_mode": {
    "name": "ipython",
    "version": 3
   },
   "file_extension": ".py",
   "mimetype": "text/x-python",
   "name": "python",
   "nbconvert_exporter": "python",
   "pygments_lexer": "ipython3",
   "version": "3.8.6"
  }
 },
 "nbformat": 4,
 "nbformat_minor": 4
}
