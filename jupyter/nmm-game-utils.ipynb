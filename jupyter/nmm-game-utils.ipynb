{
 "cells": [
  {
   "cell_type": "code",
   "execution_count": null,
   "metadata": {},
   "outputs": [],
   "source": [
    "import os.path\n",
    "css = \"\"\n",
    "if os.path.isfile(\"style.html\"):\n",
    "    from IPython.core.display import HTML\n",
    "    with open(\"style.html\", \"r\") as file:\n",
    "        css = file.read()\n",
    "HTML(css)"
   ]
  },
  {
   "cell_type": "markdown",
   "metadata": {},
   "source": [
    "# Hilfsfunktionen für die Spielimplementierung\n",
    "\n",
    "In dieser Dateien werden Hilfsfunktionien deklariert, die für die grundlegende Spielimplementierung benötigt werden."
   ]
  },
  {
   "cell_type": "markdown",
   "metadata": {},
   "source": [
    "## Hilfsfunktionen für Spielsteine\n",
    "\n",
    "Nachfolgend werden alle Hilfsfunktionen implementiert, die für das Interagieren mit den Spielsteinen benötigt werden."
   ]
  },
  {
   "cell_type": "markdown",
   "metadata": {},
   "source": [
    "Die Funktion `hasPlaceableStones` überprüft, ob ein Spieler für einen Zustand noch zusetzende Steine auf dem Stapel (_stash_) besitzt. Die Funktion hat zwei Argumente:\n",
    "\n",
    "- `s` ist ein Zustand eines Spiels;\n",
    "- `p` ist ein Spieler.\n",
    "\n",
    "Die Funktion gibt ein booleschen Wert zurück."
   ]
  },
  {
   "cell_type": "code",
   "execution_count": null,
   "metadata": {},
   "outputs": [],
   "source": [
    "# Calculates wether or not a player still has stones which he has not placed yet\n",
    "def hasPlaceableStones(s, p):\n",
    "    # Extract the count of the placeable stones for black and white\n",
    "    ((cw, cb), _) = s\n",
    "    # Return wether or not the given player has at least one stone\n",
    "    return cw >= 1 if p == 'w' else cb >= 1"
   ]
  },
  {
   "cell_type": "markdown",
   "metadata": {},
   "source": [
    "Die Funktion `countStones` zählt die Steine eines Spieler auf einem Spielbrett. Die Funktion hat zwei Argumente:\n",
    "\n",
    "- `s` ist ein Zustand eines Spiels;\n",
    "- `p` ist ein Spieler.\n",
    "\n",
    "Die Funktion zählt nur die Steine auf dem Brett, nicht die Steine auf dem Stapel und gibt diese als Ganzzahl zurück."
   ]
  },
  {
   "cell_type": "code",
   "execution_count": null,
   "metadata": {},
   "outputs": [],
   "source": [
    "# Counts how many stones the given player has left on the board\n",
    "def countStones(s, p):\n",
    "    # Extract the board from the state\n",
    "    (_, board) = s\n",
    "    # Count how many times player occurs on the board\n",
    "    return [cell for ring in board for cell in ring].count(p)"
   ]
  },
  {
   "cell_type": "markdown",
   "metadata": {},
   "source": [
    "Die Funktion `isAllowedToJump` überprüft, ob ein Spieler bei einem gegebenen Zustand seine Steine beliebig bewegen darf. Die Funktion hat zwei Argumente:\n",
    "\n",
    "- `s` ist ein Zustand eines Spiels;\n",
    "- `p` ist ein Spieler.\n",
    "\n",
    "Ein Spieler darf genau dann seine Steine bewegen, wenn er weniger als drei Steine auf dem Spielbrett hat und sich keine Steine mehr von dem Spieler auf dem Stapel befinden. Die zweite Bedingung wird von der Funktion aber nicht überprüft, weil davon ausgegangen wird, dass die Funktion `hasPlaceableStones` zuvor aufgerufen wird.\n",
    "\n",
    "Die Funktion gibt einen booleschen Wert zurück. "
   ]
  },
  {
   "cell_type": "code",
   "execution_count": null,
   "metadata": {},
   "outputs": [],
   "source": [
    "# Calculates wether or not the player is allowed to jump with his stones,\n",
    "# instead of just moving them\n",
    "def isAllowedToJump(s, p):\n",
    "    return countStones(s, p) <= 3"
   ]
  },
  {
   "cell_type": "markdown",
   "metadata": {},
   "source": [
    "Die Funktion `hasEnoughStones` überprüft, ob ein Spieler noch genügend Steine übrig hat. Die Funktion hat zwei Argumente:\n",
    "\n",
    "- `s` ist ein Zustand eines Spiels;\n",
    "- `p` ist ein Spieler.\n",
    "\n",
    "Ein Spieler hat genau dann genügend Steine, wenn er noch Steine zum Setzen auf dem Stapel hat oder er mindestes drei Steine auf dem Spielbrett besitzt.\n",
    "\n",
    "Die Funktion gibt einen booleschen Wert zurück."
   ]
  },
  {
   "cell_type": "code",
   "execution_count": null,
   "metadata": {},
   "outputs": [],
   "source": [
    "# Calculates if the player has stones left to place or enought (at least 3) stones to continue playing\n",
    "def hasEnoughStones(s, p):\n",
    "    return hasPlaceableStones(s, p) or countStones(s, p) >= 3"
   ]
  },
  {
   "cell_type": "markdown",
   "metadata": {},
   "source": [
    "Die Funktion `removeFromStash` entfernt einen Stein von dem Stapel. Die Funktion hat zwei Argumente:\n",
    "\n",
    "- `stash` ist ein Stapel;\n",
    "- `p` ist ein Spieler, dessen Stein entfernt werden soll.\n",
    "\n",
    "Die Funktion gibt den neuen Stapel zurück."
   ]
  },
  {
   "cell_type": "code",
   "execution_count": null,
   "metadata": {},
   "outputs": [],
   "source": [
    "# Removes a stone from the player's stash and returns the new stash\n",
    "def removeFromStash(stash, p):\n",
    "    return (stash[0] - (1 if p == 'w' else 0), stash[1] - (1 if p == 'b' else 0))"
   ]
  },
  {
   "cell_type": "markdown",
   "metadata": {},
   "source": [
    "## Hilfsfunktionen für Spieler\n",
    "\n",
    "In diesem Kapitel werden Hilfsfunktionen für die Spieler implementiert."
   ]
  },
  {
   "cell_type": "markdown",
   "metadata": {},
   "source": [
    "Die Funktion `opponent` nimmt einen Spieler und gibt den Gegenspieler zurück. Die Funktion hat ein Argument:\n",
    "\n",
    "- `p` ist der aktuelle Spieler.\n",
    "\n",
    "Da Mühle ein Zwei-Personen-Spiel ist, gibt es für die Funktion nur zwei Fälle:\n",
    "\n",
    "- bei einem weißen Spieler `'w'` wird der Gegenspieler schwarz `'b'` zurückgegeben,\n",
    "- ansonsten wird weiß `'w'` als Gegenspieler zurückgegeben."
   ]
  },
  {
   "cell_type": "code",
   "execution_count": null,
   "metadata": {},
   "outputs": [],
   "source": [
    "def opponent(p):\n",
    "    return 'b' if p == 'w' else 'w'"
   ]
  },
  {
   "cell_type": "markdown",
   "metadata": {},
   "source": [
    "Die Funktion `getPlayerAt` gibt den Spieler an der gegeben Koordinate des Spielbrettes zurück. Die Funktion hat zwei Argumente:\n",
    "\n",
    "- `board` ist ein Spielbrett;\n",
    "- `coord` ist eine Koordinate, die überprüft werden soll. \n",
    "\n",
    "Die Funktion gibt einen Spieler zurück. Falls an dieser Koordinate sich kein Spielerstein befinden sollte, wird entsprechend `' '` zurückgegeben."
   ]
  },
  {
   "cell_type": "code",
   "execution_count": null,
   "metadata": {},
   "outputs": [],
   "source": [
    "# Returns the player on the given coord\n",
    "def getPlayerAt(board, coord):\n",
    "    (r, c) = coord\n",
    "    return board[r][c]"
   ]
  },
  {
   "cell_type": "markdown",
   "metadata": {},
   "source": [
    "Die Funktion `playerPhase` berechnet für einen gegebenen Zustand und einen Spieler die aktuelle Phase des Spielers. Die Funktion hat zwei Argumente:\n",
    "\n",
    "- `s` ist der aktuelle Zustand eines Spiels,\n",
    "- `p` ist der aktuelle Spieler.\n",
    "\n",
    "Die Funktion überprüft mit den beiden Hilfsfunktionen `hasPlaceableStones` und `isAllowedToJump` die Spielerphase und gibt diese als Ganzzahl zurück."
   ]
  },
  {
   "cell_type": "code",
   "execution_count": null,
   "metadata": {},
   "outputs": [],
   "source": [
    "# Returns the phase of the given player\n",
    "#   1. The player has to place his stones\n",
    "#   2. The player is only allowed to move the stones along the lines\n",
    "#   3. The player is allowed to jump with his stones\n",
    "def playerPhase(s, p):\n",
    "    # If the player has still stones left to place, he is still in phase 1\n",
    "    if hasPlaceableStones(s, p):\n",
    "        return 1\n",
    "    # If the player is allowed to jump with his stones, he is in the last phase, phase 3\n",
    "    elif isAllowedToJump(s, p):\n",
    "        return 3\n",
    "    # Else he is in phase 2, where he can only move his stones\n",
    "    else:\n",
    "        return 2"
   ]
  },
  {
   "cell_type": "markdown",
   "metadata": {},
   "source": [
    "## Cells"
   ]
  },
  {
   "cell_type": "code",
   "execution_count": null,
   "metadata": {},
   "outputs": [],
   "source": [
    "# Returns a set of tuples containing all coordinates of the cells owned by p\n",
    "# Set of Tuples(ring, cell)\n",
    "def findCellsOf(board, p):\n",
    "    # Iterate over all cells and select only empty cells\n",
    "    return {(r, c) for r in range(0, 3) for c in range(0, 8) if board[r][c] == p}"
   ]
  },
  {
   "cell_type": "code",
   "execution_count": null,
   "metadata": {},
   "outputs": [],
   "source": [
    "# Returns a set of tuples containing all coordinates of the empty cells\n",
    "# Set of Tuples(ring, cell)\n",
    "def findEmptyCells(board):\n",
    "    # Empty cells are marked as ' '\n",
    "    return findCellsOf(board, ' ')"
   ]
  },
  {
   "cell_type": "code",
   "execution_count": null,
   "metadata": {},
   "outputs": [],
   "source": [
    "# Returns a set of tuples containing all coordinates of the empty cells neighboring the given cell\n",
    "# Set of Tuples(ring, cell)\n",
    "def findNeighboringEmptyCells(board, coordinates):\n",
    "    (rootR, rootC) = coordinates\n",
    "    return {(r, c) for (r, c) in findEmptyCells(board) if (r == rootR and (c == (rootC + 7) % 8 or c == (rootC + 1) % 8)) \n",
    "                                                        or (c % 2 == 1 and c == rootC and (r == rootR - 1 or r == rootR + 1)) }\n"
   ]
  },
  {
   "cell_type": "code",
   "execution_count": null,
   "metadata": {},
   "outputs": [],
   "source": [
    "def place(board, coordinates, player):\n",
    "    (r, c) = coordinates\n",
    "    return tuple(\n",
    "        tuple(\n",
    "            player if (c == ic) and (r == ir) else board[ir][ic]\n",
    "            for ic in range(0, 8)\n",
    "        ) for ir in range(0, 3)\n",
    "    )"
   ]
  },
  {
   "cell_type": "code",
   "execution_count": null,
   "metadata": {},
   "outputs": [],
   "source": [
    "def move(board, src, des):\n",
    "    src_r, src_c = src\n",
    "    des_r, des_c = des\n",
    "    content_src = board[src_r][src_c]\n",
    "    content_des = board[des_r][des_c]\n",
    "    return tuple(\n",
    "        tuple(\n",
    "            content_des if (r,c) == src else (content_src if (r,c) == des else board[r][c])\n",
    "            for c in range(0, 8)\n",
    "        ) for r in range(0, 3)\n",
    "    )"
   ]
  },
  {
   "cell_type": "markdown",
   "metadata": {},
   "source": [
    "## Mills"
   ]
  },
  {
   "cell_type": "code",
   "execution_count": null,
   "metadata": {},
   "outputs": [],
   "source": [
    "# Returns the coordinates of all mills the given player has\n",
    "# Set of Frozensets of Tuples(ring, cell)\n",
    "def findMills(board, p):\n",
    "    # Calculate all mills on the rings\n",
    "    return {\n",
    "        frozenset((r, (c+o)%8) for o in range(0, 3))\n",
    "        # Iterate over all rings\n",
    "        for r in range(0, 3)\n",
    "        # Iterate over all corners\n",
    "        for c in range(0, 8, 2)\n",
    "        # All 3 following cells starting at the given corner have to belong to the player\n",
    "        if all(\n",
    "            cell == p\n",
    "            # Iterate over all 3 cells of the given side (c) by appending the first element\n",
    "            # as the last mill wrapps around\n",
    "            for cell in (list(board[r]) + [board[r][0]])[c:c+3]\n",
    "        )\n",
    "    # Calculate all mills crossing the rings\n",
    "    } | {\n",
    "        frozenset((r, c) for r in range(0, 3))\n",
    "        # Iterate over cells in the middle of a side\n",
    "        for c in range(1, 8, 2)\n",
    "        # All 3 cells in the middle of a given side have to belong to the player\n",
    "        if all(\n",
    "            board[r][c] == p\n",
    "            # Iterate over all 3 rings\n",
    "            for r in range(0, 3)\n",
    "        )\n",
    "    }"
   ]
  },
  {
   "cell_type": "code",
   "execution_count": null,
   "metadata": {},
   "outputs": [],
   "source": [
    "# Returns the number of mills the player build in his turn.\n",
    "# The board is the board after his turn, but bevor he executed his mills.\n",
    "def countNewMills(board, oldMills, p):\n",
    "    return len(findMills(board, p) - oldMills)"
   ]
  },
  {
   "cell_type": "code",
   "execution_count": null,
   "metadata": {},
   "outputs": [],
   "source": [
    "# Returns all stones that are poundable\n",
    "# A stone is poundable if it is not in an opponent's mill.\n",
    "# If all the opponent's stones are in a mill, the function returns all the opponent's stones instead, because then all the stones are poundable\n",
    "def getCellsPoundable(board, p):\n",
    "    opponentCells = findCellsOf(board, opponent(p))\n",
    "    \n",
    "    opponentCellsInMills = {\n",
    "        cell\n",
    "        for mill in findMills(board, opponent(p))\n",
    "        for cell in mill\n",
    "    }\n",
    "    \n",
    "    return opponentCells - opponentCellsInMills if len(opponentCells - opponentCellsInMills) > 0 else opponentCells"
   ]
  },
  {
   "cell_type": "code",
   "execution_count": null,
   "metadata": {},
   "outputs": [],
   "source": [
    "# Returns all possible boards after the player has pounded his allowed mills\n",
    "# Pounding a mill means removing an opponent stone\n",
    "def poundMills(board, count, p):\n",
    "    if count <= 0:\n",
    "        return { board }\n",
    "\n",
    "    # Compute all boards with an opponent stone removed\n",
    "    return {\n",
    "        place(b, cell, ' ')\n",
    "        for b in poundMills(board, count-1, p)\n",
    "        for cell in findCellsOf(b, opponent(p))\n",
    "        if cell in getCellsPoundable(b, p)\n",
    "    }"
   ]
  }
 ],
 "metadata": {
  "kernelspec": {
   "display_name": "Python 3",
   "language": "python",
   "name": "python3"
  },
  "language_info": {
   "codemirror_mode": {
    "name": "ipython",
    "version": 3
   },
   "file_extension": ".py",
   "mimetype": "text/x-python",
   "name": "python",
   "nbconvert_exporter": "python",
   "pygments_lexer": "ipython3",
   "version": "3.8.5"
  }
 },
 "nbformat": 4,
 "nbformat_minor": 4
}
