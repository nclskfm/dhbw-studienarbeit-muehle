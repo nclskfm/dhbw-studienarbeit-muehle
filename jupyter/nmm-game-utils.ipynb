{
 "cells": [
  {
   "cell_type": "code",
   "execution_count": null,
   "metadata": {},
   "outputs": [],
   "source": [
    "import os.path\n",
    "css = \"\"\n",
    "if os.path.isfile(\"style.html\"):\n",
    "    from IPython.core.display import HTML\n",
    "    with open(\"style.html\", \"r\") as file:\n",
    "        css = file.read()\n",
    "HTML(css)"
   ]
  },
  {
   "cell_type": "markdown",
   "metadata": {},
   "source": [
    "# Hilfsfunktionen für die Spielimplementierung\n",
    "\n",
    "In dieser Dateien werden Hilfsfunktionien implementiert, die für die grundlegende Spielimplementierung benötigt werden."
   ]
  },
  {
   "cell_type": "markdown",
   "metadata": {},
   "source": [
    "## Hilfsfunktionen für Spielsteine\n",
    "\n",
    "Nachfolgend werden alle Hilfsfunktionen implementiert, die für das Interagieren mit den Spielsteinen benötigt werden."
   ]
  },
  {
   "cell_type": "markdown",
   "metadata": {},
   "source": [
    "Die Funktion `hasPlaceableStones` überprüft, ob ein Spieler für einen Zustand noch zusetzende Steine auf dem Stapel (_stash_) besitzt. Die Funktion hat zwei Argumente:\n",
    "\n",
    "- `s` $\\in States$;\n",
    "- `p` $\\in Player$.\n",
    "\n",
    "Die Funktion gibt ein booleschen Wert zurück."
   ]
  },
  {
   "cell_type": "code",
   "execution_count": null,
   "metadata": {},
   "outputs": [],
   "source": [
    "def hasPlaceableStones(s, p):\n",
    "    ((cw, cb), _) = s\n",
    "    return cw >= 1 if p == 'w' else cb >= 1"
   ]
  },
  {
   "cell_type": "markdown",
   "metadata": {},
   "source": [
    "Die Funktion `countStones` zählt die Steine eines Spieler auf einem Spielbrett. Die Funktion hat zwei Argumente:\n",
    "\n",
    "- `s` $\\in States$;\n",
    "- `p` $\\in Player$.\n",
    "\n",
    "Die Funktion zählt nur die Steine auf dem Brett, nicht die Steine auf dem Stapel und gibt diese als Ganzzahl zurück."
   ]
  },
  {
   "cell_type": "code",
   "execution_count": null,
   "metadata": {},
   "outputs": [],
   "source": [
    "def countStones(s, p):\n",
    "    (_, board) = s\n",
    "    return [cell for ring in board for cell in ring].count(p)"
   ]
  },
  {
   "cell_type": "markdown",
   "metadata": {},
   "source": [
    "Die Funktion `isAllowedToJump` überprüft, ob ein Spieler bei einem gegebenen Zustand seine Steine beliebig bewegen darf. Die Funktion hat zwei Argumente:\n",
    "\n",
    "- `s` $\\in States$;\n",
    "- `p` $\\in Player$.\n",
    "\n",
    "Ein Spieler darf mit seinen Steinen springen, g.d.w. er weniger als drei Steine auf dem Spielbrett hat und sich keine Steine mehr von dem Spieler auf dem Stapel befinden. Die zweite Bedingung wird nicht überprüft, weil davon ausgegangen wird, dass die Funktion `hasPlaceableStones` zuvor aufgerufen wird.\n",
    "\n",
    "Die Funktion gibt einen booleschen Wert zurück. "
   ]
  },
  {
   "cell_type": "code",
   "execution_count": null,
   "metadata": {},
   "outputs": [],
   "source": [
    "def isAllowedToJump(s, p):\n",
    "    return countStones(s, p) <= 3"
   ]
  },
  {
   "cell_type": "markdown",
   "metadata": {},
   "source": [
    "Die Funktion `hasEnoughStones` überprüft, ob ein Spieler noch genügend Steine zum Weiterspielen übrig hat. Die Funktion hat zwei Argumente:\n",
    "\n",
    "- `s` $\\in States$;\n",
    "- `p` $\\in Player$.\n",
    "\n",
    "Ein Spieler hat genau dann genügend Steine, wenn er noch Steine zum Setzen auf dem Stapel hat oder er mindestes drei Steine auf dem Spielbrett besitzt.\n",
    "\n",
    "Die Funktion gibt einen booleschen Wert zurück."
   ]
  },
  {
   "cell_type": "code",
   "execution_count": null,
   "metadata": {},
   "outputs": [],
   "source": [
    "def hasEnoughStones(s, p):\n",
    "    return hasPlaceableStones(s, p) or countStones(s, p) >= 3"
   ]
  },
  {
   "cell_type": "markdown",
   "metadata": {},
   "source": [
    "Die Funktion `removeFromStash` entfernt einen Stein von dem Stapel des gegebenen Spielers. Die Funktion hat zwei Argumente:\n",
    "\n",
    "- `stash` ist ein Stapel;\n",
    "- `p` $\\in Player$.\n",
    "\n",
    "Die Funktion gibt den neuen Stapel zurück."
   ]
  },
  {
   "cell_type": "code",
   "execution_count": null,
   "metadata": {},
   "outputs": [],
   "source": [
    "def removeFromStash(stash, p):\n",
    "    return (stash[0] - (1 if p == 'w' else 0), stash[1] - (1 if p == 'b' else 0))"
   ]
  },
  {
   "cell_type": "markdown",
   "metadata": {},
   "source": [
    "## Hilfsfunktionen für Spieler\n",
    "\n",
    "In diesem Kapitel werden Hilfsfunktionen für die Spieler implementiert."
   ]
  },
  {
   "cell_type": "markdown",
   "metadata": {},
   "source": [
    "Die Funktion `opponent` nimmt einen Spieler und gibt den Gegenspieler zurück. Die Funktion hat ein Argument:\n",
    "\n",
    "- `p` $\\in Player$.\n",
    "\n",
    "Da Mühle ein Zwei-Personen-Spiel ist, gibt es für die Funktion nur zwei Fälle:\n",
    "\n",
    "- bei dem weißen Spieler `'w'` wird der Gegenspieler schwarz `'b'` zurückgegeben,\n",
    "- ansonsten wird standardmäßig weiß `'w'` als Gegenspieler zurückgegeben."
   ]
  },
  {
   "cell_type": "code",
   "execution_count": null,
   "metadata": {},
   "outputs": [],
   "source": [
    "def opponent(p):\n",
    "    return 'b' if p == 'w' else 'w'"
   ]
  },
  {
   "cell_type": "markdown",
   "metadata": {},
   "source": [
    "Die Funktion `getPlayerAt` gibt den Spieler an der gegeben Koordinate des Spielbrettes zurück. Die Funktion hat zwei Argumente:\n",
    "\n",
    "- `board` ist ein Spielbrett;\n",
    "- `coord` ist eine Koordinate, die überprüft werden soll. \n",
    "\n",
    "Die Funktion gibt einen Spieler zurück. Falls an dieser Koordinate sich kein Spielerstein befinden sollte, wird entsprechend `' '` zurückgegeben."
   ]
  },
  {
   "cell_type": "code",
   "execution_count": null,
   "metadata": {},
   "outputs": [],
   "source": [
    "def getPlayerAt(board, coord):\n",
    "    (r, c) = coord\n",
    "    return board[r][c]"
   ]
  },
  {
   "cell_type": "markdown",
   "metadata": {},
   "source": [
    "Die Funktion `playerPhase` berechnet für einen gegebenen Zustand und einen Spieler die aktuelle Phase des Spielers. Die Funktion hat zwei Argumente:\n",
    "\n",
    "- `s` $\\in States$;\n",
    "- `p` $\\in Player$.\n",
    "\n",
    "Die Funktion überprüft mit den beiden Hilfsfunktionen `hasPlaceableStones` und `isAllowedToJump` die Spielerphase und gibt diese als Ganzzahl zurück:\n",
    "\n",
    "- `1` für die _placing_ Phase, g.d.w. der Spieler noch Steine auf dem Stapel hat (`hasPlaceableStones`);\n",
    "- `2` für die _moving_ Phase, g.d.w. der Spieler nicht in Phase 1 oder 3 ist;\n",
    "- `3` für die _flying_ Phase, g.d.w. der Spieler springen darf (`isAllowedToJump`)."
   ]
  },
  {
   "cell_type": "code",
   "execution_count": null,
   "metadata": {},
   "outputs": [],
   "source": [
    "def playerPhase(s, p):\n",
    "    if hasPlaceableStones(s, p):\n",
    "        return 1\n",
    "    elif isAllowedToJump(s, p):\n",
    "        return 3\n",
    "    else:\n",
    "        return 2"
   ]
  },
  {
   "cell_type": "markdown",
   "metadata": {},
   "source": [
    "## Hilfsfunktionen für Zellen\n",
    "\n",
    "In diesem Kapitel werden Hilfsfunktionen für die Veränderung oder Untersuchung von Zelleneigenschaften implementiert."
   ]
  },
  {
   "cell_type": "markdown",
   "metadata": {},
   "source": [
    "Die Funktion `findCellsOf` sucht auf einem Spielbrett `board` nach allen Zellen, welche durch Steine des Spielers `p` belegt sind. Die Funktion hat folgende Argumente:\n",
    "\n",
    "- `board` ist ein Spielbrett;\n",
    "- `p` $\\in Player$.\n",
    "\n",
    "Zurückgegeben wird die Menge aller Zellen wo gilt `board[r][c] = p`."
   ]
  },
  {
   "cell_type": "code",
   "execution_count": null,
   "metadata": {},
   "outputs": [],
   "source": [
    "def findCellsOf(board, p):\n",
    "    return {(r, c) for r in range(0, 3) for c in range(0, 8) if board[r][c] == p}"
   ]
  },
  {
   "cell_type": "markdown",
   "metadata": {},
   "source": [
    "Die Funktion `findEmptyCells` sucht auf dem Spielfeld `board` nach allen leeren Zellen. Die Funkion nimmt lediglich ein Argument:\n",
    "\n",
    "* `board` ist ein Spielbrett.\n",
    "\n",
    "Die Funktion ruft die Funktion `findCellsOf` mit `' '` als Spieler auf und gibt das erhaltene Ergebnis zurück. Somit ist jeder erhaltenen Zelle kein Spieler `'b'` oder `'w'` zugeordnet."
   ]
  },
  {
   "cell_type": "code",
   "execution_count": null,
   "metadata": {},
   "outputs": [],
   "source": [
    "def findEmptyCells(board):\n",
    "    return findCellsOf(board, ' ')"
   ]
  },
  {
   "cell_type": "markdown",
   "metadata": {},
   "source": [
    "Die Funktion `findNeighboringEmptyCells` sucht für eine gegebene Zelle `coordinates` die freien Nachbarzellen. Die Funktion hat zwei Argumente:\n",
    "\n",
    "* `board` ist ein Spielbrett;\n",
    "* `coordinates` ist ein Tupel mit den Koordinaten der Ausgangszelle.\n",
    "\n",
    "Die Funktion überprüft, welche der angrenzenden Zellen in der Menge von `findEmptyCells` enthalten ist und gibt diese zurück."
   ]
  },
  {
   "cell_type": "code",
   "execution_count": null,
   "metadata": {},
   "outputs": [],
   "source": [
    "def findNeighboringEmptyCells(board, coordinates):\n",
    "    (rootR, rootC) = coordinates\n",
    "    return {(r, c) for (r, c) in findEmptyCells(board) if (r == rootR and (c == (rootC + 7) % 8 or c == (rootC + 1) % 8)) \n",
    "                                                        or (c % 2 == 1 and c == rootC and (r == rootR - 1 or r == rootR + 1)) }\n"
   ]
  },
  {
   "cell_type": "markdown",
   "metadata": {},
   "source": [
    "Die Funktion `place` platziert den Stein eines Spielers `player` auf dem Spielbrett `board`. Folgende Argumente benötigt die Funktion:\n",
    "\n",
    "* `board` ist ein Spielbrett;\n",
    "* `coordinates` ist ein Tupel mit den Koordinaten des zu platzierenden Steins;\n",
    "* `player` $\\in Player$.\n",
    "\n",
    "Die Funktion platziert den Stein an den angegebenen Koordinaten und gibt das neue Spielbrett zurück."
   ]
  },
  {
   "cell_type": "code",
   "execution_count": null,
   "metadata": {},
   "outputs": [],
   "source": [
    "def place(board, coordinates, player):\n",
    "    (r, c) = coordinates\n",
    "    return tuple(\n",
    "        tuple(\n",
    "            player if (c == ic) and (r == ir) else board[ir][ic]\n",
    "            for ic in range(0, 8)\n",
    "        ) for ir in range(0, 3)\n",
    "    )"
   ]
  },
  {
   "cell_type": "markdown",
   "metadata": {},
   "source": [
    "Die Funktion `move` bewegt einen bereits plazierten Stein auf dem Spielbrett `board`. Die Funktion erhält drei Argumente:\n",
    "\n",
    "* `board` ist ein Spielbrett;\n",
    "* `src` ist ein Tupel mit den Koordinaten der Ausgangszelle;\n",
    "* `des` ist ein Tupel mit den Koordinaten der Zielzelle.\n",
    "\n",
    "Die Funktion platziert den Wert der Ausgangszelle in die Zielzelle und umgegekehrt und gibt das neue Spielbrett zurück."
   ]
  },
  {
   "cell_type": "code",
   "execution_count": null,
   "metadata": {},
   "outputs": [],
   "source": [
    "def move(board, src, des):\n",
    "    src_r, src_c = src\n",
    "    des_r, des_c = des\n",
    "    content_src = board[src_r][src_c]\n",
    "    content_des = board[des_r][des_c]\n",
    "    return tuple(\n",
    "        tuple(\n",
    "            content_des if (r,c) == src else (content_src if (r,c) == des else board[r][c])\n",
    "            for c in range(0, 8)\n",
    "        ) for r in range(0, 3)\n",
    "    )"
   ]
  },
  {
   "cell_type": "markdown",
   "metadata": {},
   "source": [
    "## Hilfsfunktionen für Mühlen\n",
    "In diesem Kapitel werden Hilfsfunktionen implementiert, die für Mühlen nützlich sind."
   ]
  },
  {
   "cell_type": "markdown",
   "metadata": {},
   "source": [
    "Die Funktion `findMills` berechnet für ein Spielbrett und einen Spieler alle Mühlen, die dieser Spieler aktuell hat. Die Funktion hat zwei Argumente:\n",
    "\n",
    "* `board` ist ein Spielbrett;\n",
    "* `p` $\\in Players$.\n",
    "\n",
    "Der Rückgabewert der Funktion ist eine Menge von Mühlen. Eine Mühle wird dabei als Menge (bzw. `frozenset`) dargestellt, die die Koordinaten der Steine als Tupel beinhaltet.\n",
    "\n",
    "* Zunächst werden alle Mühlen entlang der Ringe ermittelt. Dazu werden, beginnend an jeder Ecke, die nächsten drei Steine überprüft, ob sie dem Spieler `p` gehören. Ist dies der Fall, werden alle Coordinaten in einer Menge (bzw. `frozenset`) gespeichert.\n",
    "* Für die Mühlen entlang der Verbindungslinien zwischen den Ringen, wird das gleiche Prinzip verwendet. Hier wird über alle Steine in der Mitte einer Seite iteriert und entlang der Ringe überprüft."
   ]
  },
  {
   "cell_type": "code",
   "execution_count": null,
   "metadata": {},
   "outputs": [],
   "source": [
    "def findMills(board, p):\n",
    "    return {\n",
    "        mill\n",
    "        for mill in {\n",
    "            # Calculate all mills on the rings\n",
    "            frozenset((r, (c+o)%8) for o in range(0, 3))\n",
    "            for r in range(0, 3)\n",
    "            for c in range(0, 8, 2)\n",
    "        } | {\n",
    "            # Calculate all mills crossing the rings\n",
    "            frozenset((r, c) for r in range(0, 3))\n",
    "            for c in range(1, 8, 2)\n",
    "        }\n",
    "        if all(\n",
    "            board[r][c] == p\n",
    "            for (r, c) in mill\n",
    "        )\n",
    "    }"
   ]
  },
  {
   "cell_type": "markdown",
   "metadata": {},
   "source": [
    "Die Funktion `countMills` berechnet für ein Spielbrett, eine Menge bereits existierender Mühlen und einen Spieler die Anzahl der Mühlen, die neu entstanden sind. Die Funktion hat 3 Parameter:\n",
    "\n",
    "* `board` ist ein Spielbrett;\n",
    "* `oldMills` ist eine Menge von Mühlen (Menge von Koordinaten);\n",
    "* `p` $\\in Players$.\n",
    "\n",
    "\n",
    "Der Rückgabewert dieser Funktion ist eine Ganzzahl für die gilt $return \\in \\{0,1,2\\}$. Indem die Menge der bereits existierenden Mühlen von der Menge der aktuellen Mühlen abgezogen wird, erhält man die Menge der aktuellen Mühlen. Von diesen kann die Anzahl berechnet werden."
   ]
  },
  {
   "cell_type": "code",
   "execution_count": null,
   "metadata": {},
   "outputs": [],
   "source": [
    "def countNewMills(board, oldMills, p):\n",
    "    return len(findMills(board, p) - oldMills)"
   ]
  },
  {
   "cell_type": "markdown",
   "metadata": {},
   "source": [
    "Die Funktion `getCellsPoundable` berechnet für ein Spielbrett und einen Spieler, welche Steine des Gegeners dieser schlagen darf. Ein Stein darf geschlagen werden, wenn er sich nicht in einer Mühle befindet. Wenn sich alle Steine in einer Mühle befinden, dürfen alle Steine geschlagen werden. Die Funktion hat 2 Parameter:\n",
    "\n",
    "* `board` ist ein Spielbrett;\n",
    "* `p` $\\in Players$.\n",
    "\n",
    "Der Rückgabewert ist eine Menge von Koordinaten. Die Menge aller Koordinaten der Steine des Gegeners, sowie die Menge aller Koordinaten aller Steine aus den Mühlen des Gegeners werden errechnet und voneinander abgezogen. Falls diese Menge nicht leer ist, dürfen nur an diesen Positionen Steine geschlagen werden, ansonsten dürfen alle Steine des Gegners geschlagen werden."
   ]
  },
  {
   "cell_type": "code",
   "execution_count": null,
   "metadata": {},
   "outputs": [],
   "source": [
    "def getCellsPoundable(board, p):\n",
    "    opponentCells = findCellsOf(board, opponent(p))\n",
    "    \n",
    "    opponentCellsInMills = {\n",
    "        cell\n",
    "        for mill in findMills(board, opponent(p))\n",
    "        for cell in mill\n",
    "    }\n",
    "    \n",
    "    return opponentCells - opponentCellsInMills if len(opponentCells - opponentCellsInMills) > 0 else opponentCells"
   ]
  },
  {
   "cell_type": "markdown",
   "metadata": {},
   "source": [
    "Die Funktion `poundMills` errechnet aus einem Spielbrett, einer Anzahl an zu schlagenden Steinen und einem Spieler alle möglichen Spielbrettkonfigurationen, bei denen der Spieler die gegebene Anzahl an Steinen geschlagen hat. Die Funktion hat 3 Parameter:\n",
    "\n",
    "* `board` ist ein Spielbrett;\n",
    "* `count` $\\in \\{0, 1, 2\\}$;\n",
    "* `p` $\\in Players$.\n",
    "\n",
    "Der Rückgabewert ist eine Menge an Spielbrettern. Die Funktion ist rekursiv implementiert. Wenn kein Stein mehr geschlagen werden muss, wird eine Menge mit dem aktuellen Spielbrett zurück gegeben. Ansonsten wird rekursiv die Menge aller möglichen Spielbrettkonfigurationen mit einem zu schlagenden Stein weniger errechnet. Aus allen diesen Spielbrettern wird ein weiterer Stein entfernt, der geschlagen werden darf."
   ]
  },
  {
   "cell_type": "code",
   "execution_count": null,
   "metadata": {},
   "outputs": [],
   "source": [
    "def poundMills(board, count, p):\n",
    "    if count <= 0:\n",
    "        return { board }\n",
    "\n",
    "    return {\n",
    "        place(b, cell, ' ')\n",
    "        for b in poundMills(board, count-1, p)\n",
    "        for cell in getCellsPoundable(b, p)\n",
    "    }"
   ]
  }
 ],
 "metadata": {
  "kernelspec": {
   "display_name": "Python 3",
   "language": "python",
   "name": "python3"
  },
  "language_info": {
   "codemirror_mode": {
    "name": "ipython",
    "version": 3
   },
   "file_extension": ".py",
   "mimetype": "text/x-python",
   "name": "python",
   "nbconvert_exporter": "python",
   "pygments_lexer": "ipython3",
   "version": "3.8.5"
  }
 },
 "nbformat": 4,
 "nbformat_minor": 4
}
